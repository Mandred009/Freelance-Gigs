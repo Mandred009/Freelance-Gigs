{
  "nbformat": 4,
  "nbformat_minor": 0,
  "metadata": {
    "colab": {
      "name": "Meta Learning Using Genetic Algorithm Freelan",
      "provenance": [],
      "collapsed_sections": [],
      "mount_file_id": "1n1snD0VccefhyBYg8ozk_JEkNlQh-P7W",
      "authorship_tag": "ABX9TyP/1ReAxj1xmIrye72ka8Nz",
      "include_colab_link": true
    },
    "kernelspec": {
      "name": "python3",
      "display_name": "Python 3"
    },
    "language_info": {
      "name": "python"
    },
    "accelerator": "GPU"
  },
  "cells": [
    {
      "cell_type": "markdown",
      "metadata": {
        "id": "view-in-github",
        "colab_type": "text"
      },
      "source": [
        "<a href=\"https://colab.research.google.com/github/Mandred009/Freelance-Gigs/blob/main/Meta_Learning_Using_Genetic_Algorithm_Freelan.ipynb\" target=\"_parent\"><img src=\"https://colab.research.google.com/assets/colab-badge.svg\" alt=\"Open In Colab\"/></a>"
      ]
    },
    {
      "cell_type": "code",
      "source": [
        "import numpy as np"
      ],
      "metadata": {
        "id": "jwK59CmDMdan"
      },
      "execution_count": null,
      "outputs": []
    },
    {
      "cell_type": "code",
      "source": [
        "import os\n",
        "path_train='/content/drive/MyDrive/Freelancing/Pneumo Train'\n",
        "path_test='/content/drive/MyDrive/Freelancing/Pneumo Test'"
      ],
      "metadata": {
        "id": "L13qozIuKDdu"
      },
      "execution_count": null,
      "outputs": []
    },
    {
      "cell_type": "code",
      "source": [
        "import cv2 as cv"
      ],
      "metadata": {
        "id": "PMSyj5rPLZpk"
      },
      "execution_count": null,
      "outputs": []
    },
    {
      "cell_type": "code",
      "source": [
        "# 0 for Normal Lungs\n",
        "# 1 for Bacterial Lungs"
      ],
      "metadata": {
        "id": "Bkb2SZ_KUQ7D"
      },
      "execution_count": null,
      "outputs": []
    },
    {
      "cell_type": "code",
      "source": [
        "y_tr=[]\n",
        "data_train=[]\n",
        "for img in os.listdir(path_train):\n",
        "  img_arr = cv.imread(os.path.join(path_train, img)) #[...,::-1] #convert BGR to RGB format #optional\n",
        "  resized_arr = cv.resize(img_arr, (32,32)) #reshape\n",
        "  im_rgb = cv.cvtColor(resized_arr, cv.COLOR_BGR2RGB)\n",
        "  data_train.append(im_rgb)\n",
        "  if img[0]=='n':\n",
        "    y_tr.append(0)\n",
        "  else:\n",
        "    y_tr.append(1)\n",
        "  "
      ],
      "metadata": {
        "id": "eB4gUT9gLNEE"
      },
      "execution_count": null,
      "outputs": []
    },
    {
      "cell_type": "code",
      "source": [
        "y_t=[]\n",
        "data_test=[]\n",
        "for img in os.listdir(path_test):\n",
        "  img_arr = cv.imread(os.path.join(path_test, img)) #[...,::-1] #convert BGR to RGB format #optional\n",
        "  resized_arr = cv.resize(img_arr, (32,32)) #reshape\n",
        "  im_rgb = cv.cvtColor(resized_arr, cv.COLOR_BGR2RGB)\n",
        "  data_test.append(im_rgb)\n",
        "  if img[0]=='n':\n",
        "    y_t.append(0)\n",
        "  else:\n",
        "    y_t.append(1)"
      ],
      "metadata": {
        "id": "WEpuJOYuNw5U"
      },
      "execution_count": null,
      "outputs": []
    },
    {
      "cell_type": "code",
      "source": [
        "\"\"\"\n",
        "Generic setup of the data sources and the model training. \n",
        "\"\"\"\n",
        "\n",
        "#import keras\n",
        "from keras.models         import Sequential\n",
        "from keras.layers         import Dense, Dropout, Flatten\n",
        "from keras.utils.np_utils import to_categorical\n",
        "from keras.callbacks      import EarlyStopping, Callback\n",
        "from keras.layers         import Conv2D, MaxPooling2D\n",
        "from keras                import backend as K\n",
        "\n",
        "import logging\n",
        "\n",
        "# Helper: Early stopping.\n",
        "early_stopper = EarlyStopping( monitor='val_loss', min_delta=0.1, patience=2, verbose=0, mode='auto' )\n",
        "\n",
        "#patience=5)\n",
        "#monitor='val_loss',patience=2,verbose=0\n",
        "#In your case, you can see that your training loss is not dropping - which means you are learning nothing after each epoch. \n",
        "#It look like there's nothing to learn in this model, aside from some trivial linear-like fit or cutoff value.\n",
        "\n",
        "def get_images():\n",
        "    \"\"\"Retrieve the dataset and process the data.\"\"\"\n",
        "    # Set defaults.\n",
        "    nb_classes  = 2 #dataset dependent \n",
        "    batch_size  = 25\n",
        "    epochs      = 3\n",
        "    input_shape = (32, 32, 3) #because it's RGB\n",
        "\n",
        "    # Get the data.\n",
        "    x_train=np.array(data_train)\n",
        "    x_test=np.array(data_test)\n",
        "    x_train = x_train.astype('float32')\n",
        "    x_test  = x_test.astype('float32')\n",
        "    y_train=np.array(y_tr)\n",
        "    y_test=np.array(y_t)\n",
        "    x_train /= 255\n",
        "    x_test  /= 255\n",
        "\n",
        "    return (nb_classes, batch_size, input_shape, x_train, x_test, y_train, y_test, epochs)\n",
        "\n",
        "def compile_model_cnn(genome, nb_classes, input_shape):\n",
        "    \"\"\"Compile a sequential model.\n",
        "    Args:\n",
        "        genome (dict): the parameters of the genome\n",
        "    Returns:\n",
        "        a compiled network.\n",
        "    \"\"\"\n",
        "    # Get our network parameters.\n",
        "    nb_layers  = genome.geneparam['nb_layers' ]\n",
        "    nb_neurons = genome.nb_neurons()\n",
        "    activation = genome.geneparam['activation']\n",
        "    optimizer  = genome.geneparam['optimizer' ]\n",
        "\n",
        "    logging.info(\"Architecture:%s,%s,%s,%d\" % (str(nb_neurons), activation, optimizer, nb_layers))\n",
        "\n",
        "    model = Sequential()\n",
        "\n",
        "    # Add each layer.\n",
        "    for i in range(0,nb_layers):\n",
        "        # Need input shape for first layer.\n",
        "        if i == 0:\n",
        "            model.add(Conv2D(nb_neurons[i], kernel_size = (3, 3), activation = activation, padding='same', input_shape = input_shape))\n",
        "        else:\n",
        "            model.add(Conv2D(nb_neurons[i], kernel_size = (3, 3), activation = activation))\n",
        "        \n",
        "        if i < 2: #otherwise we hit zero\n",
        "            model.add(MaxPooling2D(pool_size=(2, 2)))\n",
        "        \n",
        "        model.add(Dropout(0.2))\n",
        "\n",
        "    model.add(Flatten())\n",
        "    # always use last nb_neurons value for dense layer\n",
        "    model.add(Dense(nb_neurons[len(nb_neurons) - 1], activation = activation))\n",
        "    model.add(Dropout(0.5))\n",
        "    model.add(Dense(nb_classes, activation = 'softmax'))\n",
        "\n",
        "    #BAYESIAN CONVOLUTIONAL NEURAL NETWORKS WITH BERNOULLI APPROXIMATE VARIATIONAL INFERENCE\n",
        "    #need to read this paper\n",
        "\n",
        "    model.compile(loss='sparse_categorical_crossentropy',\n",
        "              optimizer=optimizer,\n",
        "              metrics=['accuracy'])\n",
        "\n",
        "    return model\n",
        "\n",
        "class LossHistory(Callback):\n",
        "    def on_train_begin(self, logs={}):\n",
        "        self.losses = []\n",
        "\n",
        "    def on_batch_end(self, batch, logs={}):\n",
        "        self.losses.append(logs.get('loss'))\n",
        "\n",
        "def train_and_score(genome, dataset):\n",
        "    \"\"\"Train the model, return test loss.\n",
        "    Args:\n",
        "        network (dict): the parameters of the network\n",
        "        dataset (str): Dataset to use for training/evaluating\n",
        "    \"\"\"\n",
        "    logging.info(\"Getting Keras datasets\")\n",
        "\n",
        "    nb_classes, batch_size, input_shape, x_train, x_test, y_train, y_test, epochs = get_images()\n",
        "\n",
        "    logging.info(\"Compling Keras model\")\n",
        "\n",
        "    model = compile_model_cnn(genome, nb_classes, input_shape)\n",
        "\n",
        "    history = LossHistory()\n",
        "\n",
        "    model.fit(x_train, y_train,\n",
        "              batch_size=batch_size,\n",
        "              epochs=epochs,  \n",
        "              # using early stopping so no real limit - don't want to waste time on horrible architectures\n",
        "              verbose=1,\n",
        "              validation_data=(x_test, y_test),\n",
        "              #callbacks=[history])\n",
        "              callbacks=[early_stopper])\n",
        "\n",
        "    score = model.evaluate(x_test, y_test, verbose=0)\n",
        "\n",
        "    print('Test loss:', score[0])\n",
        "    print('Test accuracy:', score[1])\n",
        "\n",
        "    K.clear_session()\n",
        "    #we do not care about keeping any of this in memory - \n",
        "    #we just need to know the final scores and the architecture\n",
        "    \n",
        "    return score[1]  # 1 is accuracy. 0 is loss."
      ],
      "metadata": {
        "id": "PqwHdGTPFi9W"
      },
      "execution_count": null,
      "outputs": []
    },
    {
      "cell_type": "code",
      "source": [
        "import random\n",
        "import logging\n",
        "import hashlib\n",
        "import copy\n",
        "\n",
        "\n",
        "class Genome():\n",
        "    \"\"\"\n",
        "    Represents one genome and all relevant utility functions (add, mutate, etc.).\n",
        "    \"\"\"\n",
        "\n",
        "    def __init__( self, all_possible_genes = None, geneparam = {}, u_ID = 0, mom_ID = 0, dad_ID = 0, gen = 0 ):\n",
        "        \"\"\"Initialize a genome.\n",
        "        Args:\n",
        "            all_possible_genes (dict): Parameters for the genome, includes:\n",
        "                gene_nb_neurons_i (list): [64, 128, 256]      for (i=1,...,6)\n",
        "                gene_nb_layers (list):  [1, 2, 3, 4]\n",
        "                gene_activation (list): ['relu', 'elu']\n",
        "                gene_optimizer (list):  ['rmsprop', 'adam']\n",
        "        \"\"\"\n",
        "        self.accuracy         = 0.0\n",
        "        self.all_possible_genes = all_possible_genes\n",
        "        self.geneparam        = geneparam #(dict): represents actual genome parameters\n",
        "        self.u_ID             = u_ID\n",
        "        self.parents          = [mom_ID, dad_ID]\n",
        "        self.generation       = gen\n",
        "        \n",
        "        #hash only makes sense when we have specified the genes\n",
        "        if not geneparam:\n",
        "            self.hash = 0\n",
        "        else:\n",
        "            self.update_hash()\n",
        "        \n",
        "    def update_hash(self):\n",
        "        \"\"\"\n",
        "        Refesh each genome's unique hash - needs to run after any genome changes.\n",
        "        \"\"\"\n",
        "        genh = str(self.nb_neurons()) + self.geneparam['activation'] \\\n",
        "                + str(self.geneparam['nb_layers']) + self.geneparam['optimizer']\n",
        "\n",
        "        self.hash = hashlib.md5(genh.encode(\"UTF-8\")).hexdigest()\n",
        "\n",
        "        self.accuracy = 0.0\n",
        "            \n",
        "    def set_genes_random(self):\n",
        "        \"\"\"Create a random genome.\"\"\"\n",
        "        #print(\"set_genes_random\")\n",
        "        self.parents = [0,0] #very sad - no parents :(\n",
        "\n",
        "        for key in self.all_possible_genes:\n",
        "            self.geneparam[key] = random.choice(self.all_possible_genes[key])\n",
        "                \n",
        "        self.update_hash()\n",
        "        \n",
        "    def mutate_one_gene(self):\n",
        "        \"\"\"Randomly mutate one gene in the genome.\n",
        "        Args:\n",
        "            network (dict): The genome parameters to mutate\n",
        "        Returns:\n",
        "            (Genome): A randomly mutated genome object\n",
        "        \"\"\"\n",
        "        # Which gene shall we mutate? Choose one of N possible keys/genes.\n",
        "        gene_to_mutate = random.choice( list(self.all_possible_genes.keys()) )\n",
        "\n",
        "        # And then let's mutate one of the genes.\n",
        "        # Make sure that this actually creates mutation\n",
        "        current_value    = self.geneparam[gene_to_mutate]\n",
        "        possible_choices = copy.deepcopy(self.all_possible_genes[gene_to_mutate])\n",
        "        \n",
        "        possible_choices.remove(current_value)\n",
        "        \n",
        "        self.geneparam[gene_to_mutate] = random.choice( possible_choices )\n",
        "\n",
        "        self.update_hash()\n",
        "    \n",
        "    def set_generation(self, generation):\n",
        "        \"\"\"needed when a genome is passed on from one generation to the next.\n",
        "        the id stays the same, but the generation is increased\"\"\"   \n",
        "\n",
        "        self.generation = generation\n",
        "        #logging.info(\"Setting Generation to %d\" % self.generation)\n",
        "\n",
        "    def set_genes_to(self, geneparam, mom_ID, dad_ID):\n",
        "        \"\"\"Set genome properties.\n",
        "        this is used when breeding kids\n",
        "        Args:\n",
        "            genome (dict): The genome parameters\n",
        "        IMPROVE\n",
        "        \"\"\"\n",
        "        self.parents  = [mom_ID, dad_ID]\n",
        "        \n",
        "        self.geneparam = geneparam\n",
        "\n",
        "        self.update_hash()\n",
        "\n",
        "    def train(self, trainingset):\n",
        "        \"\"\"Train the genome and record the accuracy.\n",
        "        Args:\n",
        "            dataset (str): Name of dataset to use.\n",
        "        \"\"\"\n",
        "        if self.accuracy == 0.0: #don't bother retraining ones we already trained \n",
        "            self.accuracy = train_and_score(self, trainingset)\n",
        "\n",
        "    def print_genome(self):\n",
        "        \"\"\"Print out a genome.\"\"\"\n",
        "        self.print_geneparam()\n",
        "        logging.info(\"Acc: %.2f%%\" % (self.accuracy * 100))\n",
        "        logging.info(\"UniID: %d\" % self.u_ID)\n",
        "        logging.info(\"Mom and Dad: %d %d\" % (self.parents[0], self.parents[1]))\n",
        "        logging.info(\"Gen: %d\" % self.generation)\n",
        "        logging.info(\"Hash: %s\" % self.hash)\n",
        "\n",
        "    def print_genome_ma(self):\n",
        "        \"\"\"Print out a genome.\"\"\"\n",
        "        self.print_geneparam()\n",
        "        logging.info(\"Acc: %.2f%% UniID: %d Mom and Dad: %d %d Gen: %d\" % (self.accuracy * 100, self.u_ID, self.parents[0], self.parents[1], self.generation))\n",
        "        logging.info(\"Hash: %s\" % self.hash)\n",
        "\n",
        "    # print nb_neurons as single list\n",
        "    def print_geneparam(self):\n",
        "        g = self.geneparam.copy()\n",
        "        nb_neurons = self.nb_neurons()\n",
        "        for i in range(1,7):\n",
        "          g.pop('nb_neurons_' + str(i))\n",
        "        # replace individual layer numbers with single list\n",
        "        g['nb_neurons'] = nb_neurons\n",
        "        logging.info(g)\n",
        "    \n",
        "    # convert nb_neurons_i at each layer to a single list\n",
        "    def nb_neurons(self):\n",
        "      nb_neurons = [None] * 6\n",
        "      for i in range(0,6):\n",
        "        nb_neurons[i] = self.geneparam['nb_neurons_' + str(i+1)]\n",
        "\n",
        "      return nb_neurons"
      ],
      "metadata": {
        "id": "zrYtqaSNFaPG"
      },
      "execution_count": null,
      "outputs": []
    },
    {
      "cell_type": "code",
      "source": [
        "\"\"\"Provide unique genome IDs.\"\"\"\n",
        "\n",
        "import logging\n",
        "\n",
        "class IDgen():\n",
        "    \"\"\"Generate unique IDs.\n",
        "    \"\"\"\n",
        "\n",
        "    def __init__(self):\n",
        "        \"\"\"Keep track of IDs.\n",
        "        \"\"\"\n",
        "        self.currentID  = 0\n",
        "        self.currentGen = 1\n",
        "\n",
        "    def get_next_ID(self):\n",
        "\n",
        "        self.currentID += 1\n",
        "\n",
        "        return self.currentID\n",
        "  \n",
        "    def increase_Gen(self):\n",
        "\n",
        "        self.currentGen += 1\n",
        "        \n",
        "    def get_Gen(self):\n",
        "\n",
        "        return self.currentGen\n",
        "        "
      ],
      "metadata": {
        "id": "SuyXj1r5QrSz"
      },
      "execution_count": null,
      "outputs": []
    },
    {
      "cell_type": "code",
      "source": [
        "\"\"\" Class that keeps track of all genomes trained so far, and their scores.\n",
        "    Among other things, ensures that genomes are unique.\n",
        "\"\"\"\n",
        "\n",
        "import random\n",
        "import logging\n",
        "\n",
        "class AllGenomes():\n",
        "    \"\"\"Store all genomes\n",
        "    \"\"\"\n",
        "\n",
        "    def __init__(self, firstgenome):\n",
        "        \"\"\"Initialize\n",
        "        \"\"\"\n",
        "\n",
        "        self.population = []\n",
        "        self.population.append(firstgenome)\n",
        "        \n",
        "    def add_genome(self, genome):\n",
        "        \"\"\"Add the genome to our population.\n",
        "        \"\"\"\n",
        "\n",
        "        for i in range(0,len(self.population)):\n",
        "            if (genome.hash == self.population[i].hash):\n",
        "                logging.info(\"add_genome() ERROR: hash clash - duplicate genome\")\n",
        "                return False\n",
        "\n",
        "        self.population.append(genome)\n",
        "\n",
        "        return True\n",
        "        \n",
        "    def set_accuracy(self, genome):\n",
        "        \"\"\"Add the genome to our population.\n",
        "        \"\"\"\n",
        "        \n",
        "        for i in range(0,len(self.population)):\n",
        "            if (genome.hash == self.population[i].hash):\n",
        "                self.population[i].accuracy = genome.accuracy\n",
        "                return\n",
        "    \n",
        "        logging.info(\"set_accuracy() ERROR: Genome not found\")\n",
        "\n",
        "    def is_duplicate(self, genome):\n",
        "        \"\"\"Add the genome to our population.\n",
        "        \"\"\"\n",
        "\n",
        "        for i in range(0,len(self.population)):\n",
        "            if (genome.hash == self.population[i].hash):\n",
        "                return True\n",
        "    \n",
        "        return False\n",
        "\n",
        "    def print_all_genomes(self):\n",
        "        \"\"\"Print out a genome.\n",
        "        \"\"\"\n",
        "\n",
        "        for genome in self.population:\n",
        "            genome.print_genome_ma()"
      ],
      "metadata": {
        "id": "Hgm8EBkOQujc"
      },
      "execution_count": null,
      "outputs": []
    },
    {
      "cell_type": "code",
      "execution_count": null,
      "metadata": {
        "id": "LhC1XQpKFDjX"
      },
      "outputs": [],
      "source": [
        "\"\"\"\n",
        "Class that holds a genetic algorithm for evolving a network.\n",
        "\"\"\"\n",
        "from __future__ import print_function\n",
        "\n",
        "import random\n",
        "import logging\n",
        "import copy\n",
        "\n",
        "from functools  import reduce\n",
        "\n",
        "\n",
        "class Evolver():\n",
        "    \"\"\"Class that implements genetic algorithm.\"\"\"\n",
        "\n",
        "    def __init__(self, all_possible_genes, retain=0.15, random_select=0.1, mutate_chance=0.3):\n",
        "        \"\"\"Create an optimizer.\n",
        "        Args:\n",
        "            all_possible_genes (dict): Possible genome parameters\n",
        "            retain (float): Percentage of population to retain after\n",
        "                each generation\n",
        "            random_select (float): Probability of a rejected genome\n",
        "                remaining in the population\n",
        "            mutate_chance (float): Probability a genome will be\n",
        "                randomly mutated\n",
        "        \"\"\"\n",
        "\n",
        "        self.all_possible_genes = all_possible_genes\n",
        "        self.retain             = retain\n",
        "        self.random_select      = random_select\n",
        "        self.mutate_chance      = mutate_chance\n",
        "\n",
        "        #set the ID gen\n",
        "        self.ids = IDgen()\n",
        "        \n",
        "    def create_population(self, count):\n",
        "        \"\"\"Create a population of random networks.\n",
        "        Args:\n",
        "            count (int): Number of networks to generate, aka the\n",
        "                size of the population\n",
        "        Returns:\n",
        "            (list): Population of network objects\n",
        "        \"\"\"\n",
        "        pop = []\n",
        "\n",
        "        i = 0\n",
        "\n",
        "        while i < count:\n",
        "            \n",
        "            # Initialize a new genome.\n",
        "            genome = Genome( self.all_possible_genes, {}, self.ids.get_next_ID(), 0, 0, self.ids.get_Gen() )\n",
        "\n",
        "            # Set it to random parameters.\n",
        "            genome.set_genes_random()\n",
        "\n",
        "            if i == 0:\n",
        "                #this is where we will store all genomes\n",
        "                self.master = AllGenomes( genome )\n",
        "            else:\n",
        "                # Make sure it is unique....\n",
        "                while self.master.is_duplicate( genome ):\n",
        "                    genome.mutate_one_gene()\n",
        "\n",
        "            # Add the genome to our population.\n",
        "            pop.append(genome)\n",
        "\n",
        "            # and add to the master list\n",
        "            if i > 0:\n",
        "                self.master.add_genome(genome)\n",
        "\n",
        "            i += 1\n",
        "\n",
        "        #self.master.print_all_genomes()\n",
        "        \n",
        "        #exit()\n",
        "\n",
        "        return pop\n",
        "\n",
        "    @staticmethod\n",
        "    def fitness(genome):\n",
        "        \"\"\"Return the accuracy, which is our fitness function.\"\"\"\n",
        "        return genome.accuracy\n",
        "\n",
        "    def grade(self, pop):\n",
        "        \"\"\"Find average fitness for a population.\n",
        "        Args:\n",
        "            pop (list): The population of networks/genome\n",
        "        Returns:\n",
        "            (float): The average accuracy of the population\n",
        "        \"\"\"\n",
        "        summed = reduce(add, (self.fitness(genome) for genome in pop))\n",
        "        return summed / float((len(pop)))\n",
        "\n",
        "    def breed(self, mom, dad):\n",
        "        \"\"\"Make two children from parental genes.\n",
        "        Args:\n",
        "            mother (dict): genome parameters\n",
        "            father (dict): genome parameters\n",
        "        Returns:\n",
        "            (list): Two network objects\n",
        "        \"\"\"\n",
        "        children = []\n",
        "\n",
        "        #where do we recombine? 0, 1, 2, 3, 4... N?\n",
        "        #with four genes, there are three choices for the recombination\n",
        "        # ___ * ___ * ___ * ___ \n",
        "        #0 -> no recombination, and N == length of dictionary -> no recombination\n",
        "        #0 and 4 just (re)create more copies of the parents\n",
        "        #so the range is always 1 to len(all_possible_genes) - 1\n",
        "        pcl = len(self.all_possible_genes)\n",
        "        \n",
        "        recomb_loc = random.randint(1,pcl - 1) \n",
        "\n",
        "        #for _ in range(2): #make _two_ children - could also make more\n",
        "        child1 = {}\n",
        "        child2 = {}\n",
        "\n",
        "        #enforce defined genome order using list \n",
        "        #keys = ['nb_neurons', 'nb_layers', 'activation', 'optimizer']\n",
        "        keys = list(self.all_possible_genes)\n",
        "        keys = sorted(keys) #paranoia - just to make sure we do not add unintentional randomization\n",
        "\n",
        "        #*** CORE RECOMBINATION CODE ****\n",
        "        for x in range(0, pcl):\n",
        "            if x < recomb_loc:\n",
        "                child1[keys[x]] = mom.geneparam[keys[x]]\n",
        "                child2[keys[x]] = dad.geneparam[keys[x]]\n",
        "            else:\n",
        "                child1[keys[x]] = dad.geneparam[keys[x]]\n",
        "                child2[keys[x]] = mom.geneparam[keys[x]]\n",
        "\n",
        "        # Initialize a new genome\n",
        "        # Set its parameters to those just determined\n",
        "        # they both have the same mom and dad\n",
        "        genome1 = Genome( self.all_possible_genes, child1, self.ids.get_next_ID(), mom.u_ID, dad.u_ID, self.ids.get_Gen() )\n",
        "        genome2 = Genome( self.all_possible_genes, child2, self.ids.get_next_ID(), mom.u_ID, dad.u_ID, self.ids.get_Gen() )\n",
        "\n",
        "        #at this point, there is zero guarantee that the genome is actually unique\n",
        "\n",
        "        # Randomly mutate one gene\n",
        "        if self.mutate_chance > random.random(): \n",
        "        \tgenome1.mutate_one_gene()\n",
        "\n",
        "        if self.mutate_chance > random.random(): \n",
        "        \tgenome2.mutate_one_gene()\n",
        "\n",
        "        #do we have a unique child or are we just retraining one we already have anyway?\n",
        "        while self.master.is_duplicate(genome1):\n",
        "            genome1.mutate_one_gene()\n",
        "\n",
        "        self.master.add_genome(genome1)\n",
        "        \n",
        "        while self.master.is_duplicate(genome2):\n",
        "            genome2.mutate_one_gene()\n",
        "\n",
        "        self.master.add_genome(genome2)\n",
        "        \n",
        "        children.append(genome1)\n",
        "        children.append(genome2)\n",
        "\n",
        "        return children\n",
        "\n",
        "    def evolve(self, pop):\n",
        "        \"\"\"Evolve a population of genomes.\n",
        "        Args:\n",
        "            pop (list): A list of genome parameters\n",
        "        Returns:\n",
        "            (list): The evolved population of networks\n",
        "        \"\"\"\n",
        "        #increase generation \n",
        "        self.ids.increase_Gen()\n",
        "\n",
        "        # Get scores for each genome\n",
        "        graded = [(self.fitness(genome), genome) for genome in pop]\n",
        "\n",
        "        #and use those scores to fill in the master list\n",
        "        for genome in pop:\n",
        "            self.master.set_accuracy(genome)\n",
        "\n",
        "        # Sort on the scores.\n",
        "        graded = [x[1] for x in sorted(graded, key=lambda x: x[0], reverse=True)]\n",
        "\n",
        "        # Get the number we want to keep unchanged for the next cycle.\n",
        "        retain_length = int(len(graded)*self.retain)\n",
        "\n",
        "        # In this first step, we keep the 'top' X percent (as defined in self.retain)\n",
        "        # We will not change them, except we will update the generation\n",
        "        new_generation = graded[:retain_length]\n",
        "\n",
        "        # For the lower scoring ones, randomly keep some anyway.\n",
        "        # This is wasteful, since we _know_ these are bad, so why keep rescoring them without modification?\n",
        "        # At least we should mutate them\n",
        "        for genome in graded[retain_length:]:\n",
        "            if self.random_select > random.random():\n",
        "                gtc = copy.deepcopy(genome)\n",
        "                \n",
        "                while self.master.is_duplicate(gtc):\n",
        "                    gtc.mutate_one_gene()\n",
        "\n",
        "                gtc.set_generation( self.ids.get_Gen() )\n",
        "                new_generation.append(gtc)\n",
        "                self.master.add_genome(gtc)\n",
        "        \n",
        "        # Now find out how many spots we have left to fill.\n",
        "        ng_length      = len(new_generation)\n",
        "\n",
        "        desired_length = len(pop) - ng_length\n",
        "\n",
        "        children       = []\n",
        "\n",
        "        # Add children, which are bred from pairs of remaining (i.e. very high or lower scoring) genomes.\n",
        "        while len(children) < desired_length:\n",
        "\n",
        "            # Get a random mom and dad, but, need to make sure they are distinct\n",
        "            parents  = random.sample(range(ng_length-1), k=2)\n",
        "            \n",
        "            i_male   = parents[0]\n",
        "            i_female = parents[1]\n",
        "\n",
        "            male   = new_generation[i_male]\n",
        "            female = new_generation[i_female]\n",
        "\n",
        "            # Recombine and mutate\n",
        "            babies = self.breed(male, female)\n",
        "            # the babies are guaranteed to be novel\n",
        "\n",
        "            # Add the children one at a time.\n",
        "            for baby in babies:\n",
        "                # Don't grow larger than desired length.\n",
        "                #if len(children) < desired_length:\n",
        "                children.append(baby)\n",
        "\n",
        "        new_generation.extend(children)\n",
        "\n",
        "        return new_generation"
      ]
    },
    {
      "cell_type": "code",
      "source": [
        "\"\"\"Entry point to evolving the neural network. Start here.\"\"\"\n",
        "from __future__ import print_function\n",
        "\n",
        "from tqdm import tqdm\n",
        "\n",
        "import logging\n",
        "\n",
        "import sys\n",
        "\n",
        "# Setup logging.\n",
        "logging.basicConfig(\n",
        "    format='%(asctime)s - %(levelname)s - %(message)s',\n",
        "    datefmt='%m/%d/%Y %I:%M:%S %p',\n",
        "    level=logging.INFO#,\n",
        "    #filename='log.txt'\n",
        ")\n",
        "\n",
        "def train_genomes(genomes, dataset):\n",
        "    \"\"\"Train each genome.\n",
        "    Args:\n",
        "        networks (list): Current population of genomes\n",
        "        dataset (str): Dataset to use for training/evaluating\n",
        "    \"\"\"\n",
        "    logging.info(\"***train_networks(networks, dataset)***\")\n",
        "\n",
        "    pbar = tqdm(total=len(genomes))\n",
        "\n",
        "    for genome in genomes:\n",
        "        genome.train(dataset)\n",
        "        pbar.update(1)\n",
        "    \n",
        "    pbar.close()\n",
        "\n",
        "def get_average_accuracy(genomes):\n",
        "    \"\"\"Get the average accuracy for a group of networks/genomes.\n",
        "    Args:\n",
        "        networks (list): List of networks/genomes\n",
        "    Returns:\n",
        "        float: The average accuracy of a population of networks/genomes.\n",
        "    \"\"\"\n",
        "    total_accuracy = 0\n",
        "\n",
        "    for genome in genomes:\n",
        "        total_accuracy += genome.accuracy\n",
        "\n",
        "    return total_accuracy / len(genomes)\n",
        "\n",
        "def generate(generations, population, all_possible_genes, dataset):\n",
        "    \"\"\"Generate a network with the genetic algorithm.\n",
        "    Args:\n",
        "        generations (int): Number of times to evolve the population\n",
        "        population (int): Number of networks in each generation\n",
        "        all_possible_genes (dict): Parameter choices for networks\n",
        "        dataset (str): Dataset to use for training/evaluating\n",
        "    \"\"\"\n",
        "    logging.info(\"***generate(generations, population, all_possible_genes, dataset)***\")\n",
        "    \n",
        "    evolver = Evolver(all_possible_genes)\n",
        "    \n",
        "    genomes = evolver.create_population(population)\n",
        "\n",
        "    # Evolve the generation.\n",
        "    for i in range( generations ):\n",
        "\n",
        "        logging.info(\"***Now in generation %d of %d***\" % (i + 1, generations))\n",
        "\n",
        "        print_genomes(genomes)\n",
        "        \n",
        "        # Train and get accuracy for networks/genomes.\n",
        "        train_genomes(genomes, dataset)\n",
        "\n",
        "        # Get the average accuracy for this generation.\n",
        "        average_accuracy = get_average_accuracy(genomes)\n",
        "\n",
        "        # Print out the average accuracy each generation.\n",
        "        logging.info(\"Generation average: %.2f%%\" % (average_accuracy * 100))\n",
        "        logging.info('-'*80) #-----------\n",
        "\n",
        "        # Evolve, except on the last iteration.\n",
        "        if i != generations - 1:\n",
        "            # Evolve!\n",
        "            genomes = evolver.evolve(genomes)\n",
        "\n",
        "    # Sort our final population according to performance.\n",
        "    genomes = sorted(genomes, key=lambda x: x.accuracy, reverse=True)\n",
        "\n",
        "    # Print out the top 5 networks/genomes.\n",
        "    print_genomes(genomes[:5])\n",
        "\n",
        "    #save_path = saver.save(sess, '/output/model.ckpt')\n",
        "    #print(\"Model saved in file: %s\" % save_path)\n",
        "\n",
        "def print_genomes(genomes):\n",
        "    \"\"\"Print a list of genomes.\n",
        "    Args:\n",
        "        genomes (list): The population of networks/genomes\n",
        "    \"\"\"\n",
        "    logging.info('-'*80)\n",
        "\n",
        "    for genome in genomes:\n",
        "        genome.print_genome()\n",
        "\n",
        "def main():\n",
        "    \"\"\"Evolve a genome.\"\"\"\n",
        "    population = 30 # Number of networks/genomes in each generation.\n",
        "    #we only need to train the new ones....\n",
        "    generations = 8 # Number of times to evolve the population.\n",
        "    all_possible_genes = {\n",
        "            'nb_neurons': [16, 32, 64, 128],\n",
        "            'nb_layers':  [1, 2, 3, 4 ,5],\n",
        "            'activation': ['relu', 'elu', 'tanh', 'sigmoid', 'hard_sigmoid','softplus','linear'],\n",
        "            'optimizer':  ['rmsprop', 'adam', 'sgd', 'adagrad','adadelta', 'adamax', 'nadam']\n",
        "    }\n",
        "    # replace nb_neurons with 1 unique value for each layer\n",
        "    # 6th value reserved for dense layer\n",
        "    nb_neurons = all_possible_genes['nb_neurons']\n",
        "    for i in range(1,7):\n",
        "      all_possible_genes['nb_neurons_' + str(i)] = nb_neurons\n",
        "    # remove old value from dict\n",
        "    all_possible_genes.pop('nb_neurons')\n",
        "            \n",
        "    print(\"***Evolving for %d generations with population size = %d***\" % (generations, population))\n",
        "\n",
        "    generate(generations, population, all_possible_genes, 'Pneumonia Classifications')\n",
        "\n",
        "if __name__ == '__main__':\n",
        "    main()"
      ],
      "metadata": {
        "colab": {
          "base_uri": "https://localhost:8080/"
        },
        "id": "DDA40ZwGFSuW",
        "outputId": "819d5b67-2780-4064-977e-98749f7a96f1"
      },
      "execution_count": null,
      "outputs": [
        {
          "output_type": "stream",
          "name": "stderr",
          "text": [
            "04/23/2022 07:47:54 AM - INFO - ***generate(generations, population, all_possible_genes, dataset)***\n",
            "04/23/2022 07:47:54 AM - INFO - ***Now in generation 1 of 8***\n",
            "04/23/2022 07:47:54 AM - INFO - --------------------------------------------------------------------------------\n",
            "04/23/2022 07:47:54 AM - INFO - {'nb_layers': 5, 'activation': 'hard_sigmoid', 'optimizer': 'nadam', 'nb_neurons': [128, 32, 32, 64, 32, 128]}\n",
            "04/23/2022 07:47:54 AM - INFO - Acc: 0.00%\n",
            "04/23/2022 07:47:54 AM - INFO - UniID: 1\n",
            "04/23/2022 07:47:54 AM - INFO - Mom and Dad: 0 0\n",
            "04/23/2022 07:47:54 AM - INFO - Gen: 1\n",
            "04/23/2022 07:47:54 AM - INFO - Hash: 96a55146fcf1e126fe89a5688e39f41c\n",
            "04/23/2022 07:47:54 AM - INFO - {'nb_layers': 4, 'activation': 'elu', 'optimizer': 'adadelta', 'nb_neurons': [64, 32, 64, 16, 64, 128]}\n",
            "04/23/2022 07:47:54 AM - INFO - Acc: 0.00%\n",
            "04/23/2022 07:47:54 AM - INFO - UniID: 2\n",
            "04/23/2022 07:47:54 AM - INFO - Mom and Dad: 0 0\n",
            "04/23/2022 07:47:54 AM - INFO - Gen: 1\n",
            "04/23/2022 07:47:54 AM - INFO - Hash: b4746604987d317509dc389278bb01a5\n",
            "04/23/2022 07:47:54 AM - INFO - {'nb_layers': 3, 'activation': 'linear', 'optimizer': 'adadelta', 'nb_neurons': [32, 128, 64, 32, 32, 32]}\n",
            "04/23/2022 07:47:54 AM - INFO - Acc: 0.00%\n",
            "04/23/2022 07:47:54 AM - INFO - UniID: 3\n",
            "04/23/2022 07:47:54 AM - INFO - Mom and Dad: 0 0\n",
            "04/23/2022 07:47:54 AM - INFO - Gen: 1\n",
            "04/23/2022 07:47:54 AM - INFO - Hash: 8c96a959cbb4315a835ee9fbb739dd2e\n",
            "04/23/2022 07:47:54 AM - INFO - {'nb_layers': 1, 'activation': 'relu', 'optimizer': 'adadelta', 'nb_neurons': [64, 128, 128, 32, 64, 32]}\n",
            "04/23/2022 07:47:54 AM - INFO - Acc: 0.00%\n",
            "04/23/2022 07:47:54 AM - INFO - UniID: 4\n",
            "04/23/2022 07:47:54 AM - INFO - Mom and Dad: 0 0\n",
            "04/23/2022 07:47:54 AM - INFO - Gen: 1\n",
            "04/23/2022 07:47:54 AM - INFO - Hash: 28e0eccb38944d24e66eb676a0eff28c\n",
            "04/23/2022 07:47:54 AM - INFO - {'nb_layers': 2, 'activation': 'hard_sigmoid', 'optimizer': 'adagrad', 'nb_neurons': [64, 128, 32, 16, 64, 64]}\n",
            "04/23/2022 07:47:54 AM - INFO - Acc: 0.00%\n",
            "04/23/2022 07:47:54 AM - INFO - UniID: 5\n",
            "04/23/2022 07:47:54 AM - INFO - Mom and Dad: 0 0\n",
            "04/23/2022 07:47:54 AM - INFO - Gen: 1\n",
            "04/23/2022 07:47:54 AM - INFO - Hash: 8e2e875ab027b062a4782c528399d2fb\n",
            "04/23/2022 07:47:54 AM - INFO - {'nb_layers': 4, 'activation': 'elu', 'optimizer': 'adamax', 'nb_neurons': [128, 32, 16, 32, 128, 32]}\n",
            "04/23/2022 07:47:54 AM - INFO - Acc: 0.00%\n",
            "04/23/2022 07:47:54 AM - INFO - UniID: 6\n",
            "04/23/2022 07:47:54 AM - INFO - Mom and Dad: 0 0\n",
            "04/23/2022 07:47:54 AM - INFO - Gen: 1\n",
            "04/23/2022 07:47:54 AM - INFO - Hash: abef2ddabf45f1e9e68f8e955b82a14e\n",
            "04/23/2022 07:47:54 AM - INFO - {'nb_layers': 4, 'activation': 'softplus', 'optimizer': 'adadelta', 'nb_neurons': [32, 128, 64, 16, 32, 32]}\n",
            "04/23/2022 07:47:54 AM - INFO - Acc: 0.00%\n",
            "04/23/2022 07:47:54 AM - INFO - UniID: 7\n",
            "04/23/2022 07:47:54 AM - INFO - Mom and Dad: 0 0\n",
            "04/23/2022 07:47:54 AM - INFO - Gen: 1\n",
            "04/23/2022 07:47:54 AM - INFO - Hash: 259b245ab6fc31da2e13acd2b0061609\n",
            "04/23/2022 07:47:54 AM - INFO - {'nb_layers': 3, 'activation': 'elu', 'optimizer': 'sgd', 'nb_neurons': [16, 128, 128, 64, 32, 16]}\n",
            "04/23/2022 07:47:54 AM - INFO - Acc: 0.00%\n",
            "04/23/2022 07:47:54 AM - INFO - UniID: 8\n",
            "04/23/2022 07:47:54 AM - INFO - Mom and Dad: 0 0\n",
            "04/23/2022 07:47:54 AM - INFO - Gen: 1\n",
            "04/23/2022 07:47:54 AM - INFO - Hash: 943dff57b132d23bbe2c17231ff520ea\n",
            "04/23/2022 07:47:54 AM - INFO - {'nb_layers': 4, 'activation': 'relu', 'optimizer': 'adagrad', 'nb_neurons': [64, 64, 16, 128, 64, 128]}\n",
            "04/23/2022 07:47:54 AM - INFO - Acc: 0.00%\n",
            "04/23/2022 07:47:54 AM - INFO - UniID: 9\n",
            "04/23/2022 07:47:54 AM - INFO - Mom and Dad: 0 0\n",
            "04/23/2022 07:47:54 AM - INFO - Gen: 1\n",
            "04/23/2022 07:47:54 AM - INFO - Hash: 910f8a97e1087ee7e09f372c9a688dfb\n",
            "04/23/2022 07:47:54 AM - INFO - {'nb_layers': 5, 'activation': 'hard_sigmoid', 'optimizer': 'adadelta', 'nb_neurons': [16, 64, 64, 64, 128, 64]}\n",
            "04/23/2022 07:47:54 AM - INFO - Acc: 0.00%\n",
            "04/23/2022 07:47:54 AM - INFO - UniID: 10\n",
            "04/23/2022 07:47:54 AM - INFO - Mom and Dad: 0 0\n",
            "04/23/2022 07:47:54 AM - INFO - Gen: 1\n",
            "04/23/2022 07:47:54 AM - INFO - Hash: 85ecedb57ad942e4bc5afad690c03921\n",
            "04/23/2022 07:47:54 AM - INFO - {'nb_layers': 4, 'activation': 'softplus', 'optimizer': 'adamax', 'nb_neurons': [32, 16, 16, 64, 32, 16]}\n",
            "04/23/2022 07:47:54 AM - INFO - Acc: 0.00%\n",
            "04/23/2022 07:47:54 AM - INFO - UniID: 11\n",
            "04/23/2022 07:47:54 AM - INFO - Mom and Dad: 0 0\n",
            "04/23/2022 07:47:54 AM - INFO - Gen: 1\n",
            "04/23/2022 07:47:54 AM - INFO - Hash: aa8e3fa9aed36562b447b35ee2ebae0b\n",
            "04/23/2022 07:47:54 AM - INFO - {'nb_layers': 1, 'activation': 'sigmoid', 'optimizer': 'adamax', 'nb_neurons': [32, 128, 64, 128, 128, 16]}\n",
            "04/23/2022 07:47:54 AM - INFO - Acc: 0.00%\n",
            "04/23/2022 07:47:54 AM - INFO - UniID: 12\n",
            "04/23/2022 07:47:54 AM - INFO - Mom and Dad: 0 0\n",
            "04/23/2022 07:47:54 AM - INFO - Gen: 1\n",
            "04/23/2022 07:47:54 AM - INFO - Hash: 6c3e6af1ec8d236ef80d41cda53e77c7\n",
            "04/23/2022 07:47:54 AM - INFO - {'nb_layers': 5, 'activation': 'linear', 'optimizer': 'rmsprop', 'nb_neurons': [32, 128, 128, 32, 32, 32]}\n",
            "04/23/2022 07:47:54 AM - INFO - Acc: 0.00%\n",
            "04/23/2022 07:47:54 AM - INFO - UniID: 13\n",
            "04/23/2022 07:47:54 AM - INFO - Mom and Dad: 0 0\n",
            "04/23/2022 07:47:54 AM - INFO - Gen: 1\n",
            "04/23/2022 07:47:54 AM - INFO - Hash: 89d4c9327f8fe5594bda5dd0d8ad8c34\n",
            "04/23/2022 07:47:54 AM - INFO - {'nb_layers': 1, 'activation': 'tanh', 'optimizer': 'adadelta', 'nb_neurons': [32, 16, 16, 32, 128, 64]}\n",
            "04/23/2022 07:47:54 AM - INFO - Acc: 0.00%\n",
            "04/23/2022 07:47:54 AM - INFO - UniID: 14\n",
            "04/23/2022 07:47:54 AM - INFO - Mom and Dad: 0 0\n",
            "04/23/2022 07:47:54 AM - INFO - Gen: 1\n",
            "04/23/2022 07:47:54 AM - INFO - Hash: 3e49133f2b68fad44d9ba5fcdc8fcf7c\n",
            "04/23/2022 07:47:54 AM - INFO - {'nb_layers': 1, 'activation': 'relu', 'optimizer': 'adagrad', 'nb_neurons': [16, 128, 128, 32, 32, 64]}\n",
            "04/23/2022 07:47:54 AM - INFO - Acc: 0.00%\n",
            "04/23/2022 07:47:54 AM - INFO - UniID: 15\n",
            "04/23/2022 07:47:54 AM - INFO - Mom and Dad: 0 0\n",
            "04/23/2022 07:47:54 AM - INFO - Gen: 1\n",
            "04/23/2022 07:47:54 AM - INFO - Hash: 7284255cd14453f55bebc8e6b266ebc7\n",
            "04/23/2022 07:47:54 AM - INFO - {'nb_layers': 3, 'activation': 'relu', 'optimizer': 'adagrad', 'nb_neurons': [64, 64, 64, 16, 64, 32]}\n",
            "04/23/2022 07:47:54 AM - INFO - Acc: 0.00%\n",
            "04/23/2022 07:47:54 AM - INFO - UniID: 16\n",
            "04/23/2022 07:47:54 AM - INFO - Mom and Dad: 0 0\n",
            "04/23/2022 07:47:54 AM - INFO - Gen: 1\n",
            "04/23/2022 07:47:54 AM - INFO - Hash: 90d6376234e325ee203fc6854945518a\n",
            "04/23/2022 07:47:54 AM - INFO - {'nb_layers': 4, 'activation': 'tanh', 'optimizer': 'nadam', 'nb_neurons': [32, 64, 16, 32, 16, 64]}\n",
            "04/23/2022 07:47:54 AM - INFO - Acc: 0.00%\n",
            "04/23/2022 07:47:54 AM - INFO - UniID: 17\n",
            "04/23/2022 07:47:54 AM - INFO - Mom and Dad: 0 0\n",
            "04/23/2022 07:47:54 AM - INFO - Gen: 1\n",
            "04/23/2022 07:47:54 AM - INFO - Hash: 3bf8e2bea755c5798b85ba68ce7f91d5\n",
            "04/23/2022 07:47:54 AM - INFO - {'nb_layers': 1, 'activation': 'tanh', 'optimizer': 'adam', 'nb_neurons': [32, 128, 32, 64, 128, 32]}\n"
          ]
        },
        {
          "output_type": "stream",
          "name": "stdout",
          "text": [
            "***Evolving for 8 generations with population size = 30***\n"
          ]
        },
        {
          "output_type": "stream",
          "name": "stderr",
          "text": [
            "04/23/2022 07:47:54 AM - INFO - Acc: 0.00%\n",
            "04/23/2022 07:47:54 AM - INFO - UniID: 18\n",
            "04/23/2022 07:47:54 AM - INFO - Mom and Dad: 0 0\n",
            "04/23/2022 07:47:54 AM - INFO - Gen: 1\n",
            "04/23/2022 07:47:54 AM - INFO - Hash: 897def486744a94c92c4c42107d8a844\n",
            "04/23/2022 07:47:54 AM - INFO - {'nb_layers': 4, 'activation': 'hard_sigmoid', 'optimizer': 'sgd', 'nb_neurons': [32, 64, 16, 64, 32, 128]}\n",
            "04/23/2022 07:47:54 AM - INFO - Acc: 0.00%\n",
            "04/23/2022 07:47:54 AM - INFO - UniID: 19\n",
            "04/23/2022 07:47:54 AM - INFO - Mom and Dad: 0 0\n",
            "04/23/2022 07:47:54 AM - INFO - Gen: 1\n",
            "04/23/2022 07:47:54 AM - INFO - Hash: 9d7e002877d2a41539e179e91b98315c\n",
            "04/23/2022 07:47:54 AM - INFO - {'nb_layers': 2, 'activation': 'softplus', 'optimizer': 'rmsprop', 'nb_neurons': [64, 128, 64, 16, 128, 32]}\n",
            "04/23/2022 07:47:54 AM - INFO - Acc: 0.00%\n",
            "04/23/2022 07:47:54 AM - INFO - UniID: 20\n",
            "04/23/2022 07:47:54 AM - INFO - Mom and Dad: 0 0\n",
            "04/23/2022 07:47:54 AM - INFO - Gen: 1\n",
            "04/23/2022 07:47:54 AM - INFO - Hash: 3d835e7898baec6a615e910a700bef51\n",
            "04/23/2022 07:47:54 AM - INFO - {'nb_layers': 5, 'activation': 'sigmoid', 'optimizer': 'adadelta', 'nb_neurons': [64, 32, 32, 64, 16, 64]}\n",
            "04/23/2022 07:47:54 AM - INFO - Acc: 0.00%\n",
            "04/23/2022 07:47:54 AM - INFO - UniID: 21\n",
            "04/23/2022 07:47:54 AM - INFO - Mom and Dad: 0 0\n",
            "04/23/2022 07:47:54 AM - INFO - Gen: 1\n",
            "04/23/2022 07:47:54 AM - INFO - Hash: 9866515f1711a6d962dce4f271d3f92a\n",
            "04/23/2022 07:47:54 AM - INFO - {'nb_layers': 5, 'activation': 'elu', 'optimizer': 'adamax', 'nb_neurons': [32, 64, 16, 16, 32, 64]}\n",
            "04/23/2022 07:47:54 AM - INFO - Acc: 0.00%\n",
            "04/23/2022 07:47:54 AM - INFO - UniID: 22\n",
            "04/23/2022 07:47:54 AM - INFO - Mom and Dad: 0 0\n",
            "04/23/2022 07:47:54 AM - INFO - Gen: 1\n",
            "04/23/2022 07:47:54 AM - INFO - Hash: c7f2e8cba3a1311187ad10cf251cb872\n",
            "04/23/2022 07:47:54 AM - INFO - {'nb_layers': 5, 'activation': 'relu', 'optimizer': 'sgd', 'nb_neurons': [32, 32, 32, 128, 64, 32]}\n",
            "04/23/2022 07:47:54 AM - INFO - Acc: 0.00%\n",
            "04/23/2022 07:47:54 AM - INFO - UniID: 23\n",
            "04/23/2022 07:47:54 AM - INFO - Mom and Dad: 0 0\n",
            "04/23/2022 07:47:54 AM - INFO - Gen: 1\n",
            "04/23/2022 07:47:54 AM - INFO - Hash: e6a18e98fbb06d86c10a79c44fb9ab29\n",
            "04/23/2022 07:47:54 AM - INFO - {'nb_layers': 4, 'activation': 'elu', 'optimizer': 'adagrad', 'nb_neurons': [128, 32, 32, 16, 64, 64]}\n",
            "04/23/2022 07:47:54 AM - INFO - Acc: 0.00%\n",
            "04/23/2022 07:47:54 AM - INFO - UniID: 24\n",
            "04/23/2022 07:47:54 AM - INFO - Mom and Dad: 0 0\n",
            "04/23/2022 07:47:54 AM - INFO - Gen: 1\n",
            "04/23/2022 07:47:54 AM - INFO - Hash: 150d0a14802fa175b1be8acb20efc9ef\n",
            "04/23/2022 07:47:54 AM - INFO - {'nb_layers': 2, 'activation': 'softplus', 'optimizer': 'adadelta', 'nb_neurons': [32, 16, 16, 16, 64, 128]}\n",
            "04/23/2022 07:47:54 AM - INFO - Acc: 0.00%\n",
            "04/23/2022 07:47:54 AM - INFO - UniID: 25\n",
            "04/23/2022 07:47:54 AM - INFO - Mom and Dad: 0 0\n",
            "04/23/2022 07:47:54 AM - INFO - Gen: 1\n",
            "04/23/2022 07:47:54 AM - INFO - Hash: 577847316e6ae011978bc98b8a0cb2a7\n",
            "04/23/2022 07:47:54 AM - INFO - {'nb_layers': 3, 'activation': 'sigmoid', 'optimizer': 'nadam', 'nb_neurons': [128, 64, 64, 16, 16, 64]}\n",
            "04/23/2022 07:47:54 AM - INFO - Acc: 0.00%\n",
            "04/23/2022 07:47:54 AM - INFO - UniID: 26\n",
            "04/23/2022 07:47:54 AM - INFO - Mom and Dad: 0 0\n",
            "04/23/2022 07:47:54 AM - INFO - Gen: 1\n",
            "04/23/2022 07:47:54 AM - INFO - Hash: d84f1f55b19023a7a1618c7e22a75a62\n",
            "04/23/2022 07:47:54 AM - INFO - {'nb_layers': 5, 'activation': 'hard_sigmoid', 'optimizer': 'adagrad', 'nb_neurons': [16, 128, 32, 64, 32, 128]}\n",
            "04/23/2022 07:47:54 AM - INFO - Acc: 0.00%\n",
            "04/23/2022 07:47:54 AM - INFO - UniID: 27\n",
            "04/23/2022 07:47:54 AM - INFO - Mom and Dad: 0 0\n",
            "04/23/2022 07:47:54 AM - INFO - Gen: 1\n",
            "04/23/2022 07:47:54 AM - INFO - Hash: 25aa767c87c7110fc97296a298accd70\n",
            "04/23/2022 07:47:54 AM - INFO - {'nb_layers': 4, 'activation': 'tanh', 'optimizer': 'adam', 'nb_neurons': [128, 128, 32, 128, 32, 16]}\n",
            "04/23/2022 07:47:54 AM - INFO - Acc: 0.00%\n",
            "04/23/2022 07:47:54 AM - INFO - UniID: 28\n",
            "04/23/2022 07:47:54 AM - INFO - Mom and Dad: 0 0\n",
            "04/23/2022 07:47:54 AM - INFO - Gen: 1\n",
            "04/23/2022 07:47:54 AM - INFO - Hash: b06789b41b0ae20fe0ab931e2664d057\n",
            "04/23/2022 07:47:54 AM - INFO - {'nb_layers': 2, 'activation': 'tanh', 'optimizer': 'adam', 'nb_neurons': [64, 128, 32, 128, 32, 16]}\n",
            "04/23/2022 07:47:54 AM - INFO - Acc: 0.00%\n",
            "04/23/2022 07:47:54 AM - INFO - UniID: 29\n",
            "04/23/2022 07:47:54 AM - INFO - Mom and Dad: 0 0\n",
            "04/23/2022 07:47:54 AM - INFO - Gen: 1\n",
            "04/23/2022 07:47:54 AM - INFO - Hash: 15c372fe4a4edf2c0464c459105d0f15\n",
            "04/23/2022 07:47:54 AM - INFO - {'nb_layers': 1, 'activation': 'sigmoid', 'optimizer': 'adamax', 'nb_neurons': [128, 128, 32, 64, 16, 16]}\n",
            "04/23/2022 07:47:54 AM - INFO - Acc: 0.00%\n",
            "04/23/2022 07:47:54 AM - INFO - UniID: 30\n",
            "04/23/2022 07:47:54 AM - INFO - Mom and Dad: 0 0\n",
            "04/23/2022 07:47:54 AM - INFO - Gen: 1\n",
            "04/23/2022 07:47:54 AM - INFO - Hash: c347a1961e5dd898cb10361ba7ecf520\n",
            "04/23/2022 07:47:54 AM - INFO - ***train_networks(networks, dataset)***\n",
            "\n",
            "\n",
            "\n",
            "\n",
            "\n",
            "\n",
            "\n",
            "  0%|          | 0/30 [00:00<?, ?it/s]\u001b[A\u001b[A\u001b[A\u001b[A\u001b[A\u001b[A\u001b[A04/23/2022 07:47:54 AM - INFO - Getting Keras datasets\n",
            "04/23/2022 07:47:54 AM - INFO - Compling Keras model\n",
            "04/23/2022 07:47:54 AM - INFO - Architecture:[128, 32, 32, 64, 32, 128],hard_sigmoid,nadam,5\n"
          ]
        },
        {
          "output_type": "stream",
          "name": "stdout",
          "text": [
            "Epoch 1/3\n",
            "2/2 [==============================] - 3s 429ms/step - loss: 0.8221 - accuracy: 0.6000 - val_loss: 0.7439 - val_accuracy: 0.5000\n",
            "Epoch 2/3\n",
            "2/2 [==============================] - 0s 204ms/step - loss: 0.8799 - accuracy: 0.4800 - val_loss: 0.7090 - val_accuracy: 0.5000\n",
            "Epoch 3/3\n",
            "2/2 [==============================] - 0s 189ms/step - loss: 0.8841 - accuracy: 0.4600 - val_loss: 0.6957 - val_accuracy: 0.5000\n"
          ]
        },
        {
          "output_type": "stream",
          "name": "stderr",
          "text": [
            "\n",
            "\n",
            "\n",
            "\n",
            "\n",
            "\n",
            "\n",
            "  3%|▎         | 1/30 [00:03<01:53,  3.92s/it]\u001b[A\u001b[A\u001b[A\u001b[A\u001b[A\u001b[A\u001b[A04/23/2022 07:47:58 AM - INFO - Getting Keras datasets\n",
            "04/23/2022 07:47:58 AM - INFO - Compling Keras model\n",
            "04/23/2022 07:47:58 AM - INFO - Architecture:[64, 32, 64, 16, 64, 128],elu,adadelta,4\n"
          ]
        },
        {
          "output_type": "stream",
          "name": "stdout",
          "text": [
            "Test loss: 0.6957362294197083\n",
            "Test accuracy: 0.5\n",
            "Epoch 1/3\n",
            "2/2 [==============================] - 1s 277ms/step - loss: 0.8226 - accuracy: 0.5200 - val_loss: 0.7609 - val_accuracy: 0.5000\n",
            "Epoch 2/3\n",
            "2/2 [==============================] - 0s 116ms/step - loss: 0.8381 - accuracy: 0.4200 - val_loss: 0.7605 - val_accuracy: 0.5000\n",
            "Epoch 3/3\n",
            "2/2 [==============================] - 0s 118ms/step - loss: 0.8270 - accuracy: 0.4200 - val_loss: 0.7600 - val_accuracy: 0.5000\n"
          ]
        },
        {
          "output_type": "stream",
          "name": "stderr",
          "text": [
            "\n",
            "\n",
            "\n",
            "\n",
            "\n",
            "\n",
            "\n",
            "  7%|▋         | 2/30 [00:05<01:13,  2.63s/it]\u001b[A\u001b[A\u001b[A\u001b[A\u001b[A\u001b[A\u001b[A04/23/2022 07:48:00 AM - INFO - Getting Keras datasets\n",
            "04/23/2022 07:48:00 AM - INFO - Compling Keras model\n",
            "04/23/2022 07:48:00 AM - INFO - Architecture:[32, 128, 64, 32, 32, 32],linear,adadelta,3\n"
          ]
        },
        {
          "output_type": "stream",
          "name": "stdout",
          "text": [
            "Test loss: 0.7600467205047607\n",
            "Test accuracy: 0.5\n",
            "Epoch 1/3\n",
            "2/2 [==============================] - 1s 261ms/step - loss: 0.7629 - accuracy: 0.4600 - val_loss: 0.7342 - val_accuracy: 0.5000\n",
            "Epoch 2/3\n",
            "2/2 [==============================] - 0s 110ms/step - loss: 0.8469 - accuracy: 0.4400 - val_loss: 0.7331 - val_accuracy: 0.5000\n",
            "Epoch 3/3\n",
            "2/2 [==============================] - 0s 116ms/step - loss: 0.8034 - accuracy: 0.5400 - val_loss: 0.7322 - val_accuracy: 0.5000\n",
            "Test loss: 0.7322279214859009\n",
            "Test accuracy: 0.5\n"
          ]
        },
        {
          "output_type": "stream",
          "name": "stderr",
          "text": [
            "\n",
            "\n",
            "\n",
            "\n",
            "\n",
            "\n",
            "\n",
            " 10%|█         | 3/30 [00:07<00:57,  2.13s/it]\u001b[A\u001b[A\u001b[A\u001b[A\u001b[A\u001b[A\u001b[A04/23/2022 07:48:02 AM - INFO - Getting Keras datasets\n",
            "04/23/2022 07:48:02 AM - INFO - Compling Keras model\n",
            "04/23/2022 07:48:02 AM - INFO - Architecture:[64, 128, 128, 32, 64, 32],relu,adadelta,1\n"
          ]
        },
        {
          "output_type": "stream",
          "name": "stdout",
          "text": [
            "Epoch 1/3\n",
            "2/2 [==============================] - 1s 204ms/step - loss: 0.7211 - accuracy: 0.4800 - val_loss: 0.7050 - val_accuracy: 0.5000\n",
            "Epoch 2/3\n",
            "2/2 [==============================] - 0s 71ms/step - loss: 0.7165 - accuracy: 0.4800 - val_loss: 0.7046 - val_accuracy: 0.5000\n",
            "Epoch 3/3\n",
            "2/2 [==============================] - 0s 74ms/step - loss: 0.7173 - accuracy: 0.4800 - val_loss: 0.7041 - val_accuracy: 0.5000\n"
          ]
        },
        {
          "output_type": "stream",
          "name": "stderr",
          "text": [
            "\n",
            "\n",
            "\n",
            "\n",
            "\n",
            "\n",
            "\n",
            " 13%|█▎        | 4/30 [00:08<00:45,  1.76s/it]\u001b[A\u001b[A\u001b[A\u001b[A\u001b[A\u001b[A\u001b[A04/23/2022 07:48:03 AM - INFO - Getting Keras datasets\n",
            "04/23/2022 07:48:03 AM - INFO - Compling Keras model\n"
          ]
        },
        {
          "output_type": "stream",
          "name": "stdout",
          "text": [
            "Test loss: 0.7041378617286682\n",
            "Test accuracy: 0.5\n"
          ]
        },
        {
          "output_type": "stream",
          "name": "stderr",
          "text": [
            "04/23/2022 07:48:03 AM - INFO - Architecture:[64, 128, 32, 16, 64, 64],hard_sigmoid,adagrad,2\n"
          ]
        },
        {
          "output_type": "stream",
          "name": "stdout",
          "text": [
            "Epoch 1/3\n",
            "2/2 [==============================] - 1s 340ms/step - loss: 0.9398 - accuracy: 0.5000 - val_loss: 0.8091 - val_accuracy: 0.5000\n",
            "Epoch 2/3\n",
            "2/2 [==============================] - 0s 182ms/step - loss: 0.8707 - accuracy: 0.5000 - val_loss: 0.7555 - val_accuracy: 0.5000\n",
            "Epoch 3/3\n",
            "2/2 [==============================] - 0s 182ms/step - loss: 0.7352 - accuracy: 0.5400 - val_loss: 0.7335 - val_accuracy: 0.5000\n"
          ]
        },
        {
          "output_type": "stream",
          "name": "stderr",
          "text": [
            "  0%|          | 0/30 [15:33<?, ?it/s]\n",
            "  0%|          | 0/30 [12:31<?, ?it/s]\n",
            "  0%|          | 0/30 [10:25<?, ?it/s]\n",
            "  0%|          | 0/30 [09:03<?, ?it/s]\n",
            "  0%|          | 0/30 [08:28<?, ?it/s]\n",
            "  0%|          | 0/30 [05:21<?, ?it/s]\n",
            "\n",
            "\n",
            "\n",
            "\n",
            "\n",
            "\n",
            "\n",
            " 17%|█▋        | 5/30 [00:10<00:50,  2.04s/it]\u001b[A\u001b[A\u001b[A\u001b[A\u001b[A\u001b[A\u001b[A04/23/2022 07:48:05 AM - INFO - Getting Keras datasets\n",
            "04/23/2022 07:48:05 AM - INFO - Compling Keras model\n",
            "04/23/2022 07:48:05 AM - INFO - Architecture:[128, 32, 16, 32, 128, 32],elu,adamax,4\n"
          ]
        },
        {
          "output_type": "stream",
          "name": "stdout",
          "text": [
            "Test loss: 0.7335101962089539\n",
            "Test accuracy: 0.5\n",
            "Epoch 1/3\n",
            "2/2 [==============================] - 1s 328ms/step - loss: 0.6984 - accuracy: 0.5400 - val_loss: 0.6909 - val_accuracy: 0.5000\n",
            "Epoch 2/3\n",
            "2/2 [==============================] - 0s 213ms/step - loss: 0.6698 - accuracy: 0.5200 - val_loss: 0.6889 - val_accuracy: 0.5000\n",
            "Epoch 3/3\n",
            "2/2 [==============================] - 0s 173ms/step - loss: 0.6658 - accuracy: 0.6400 - val_loss: 0.6710 - val_accuracy: 0.5000\n"
          ]
        },
        {
          "output_type": "stream",
          "name": "stderr",
          "text": [
            "\n",
            "\n",
            "\n",
            "\n",
            "\n",
            "\n",
            "\n",
            " 20%|██        | 6/30 [00:13<00:49,  2.06s/it]\u001b[A\u001b[A\u001b[A\u001b[A\u001b[A\u001b[A\u001b[A04/23/2022 07:48:07 AM - INFO - Getting Keras datasets\n",
            "04/23/2022 07:48:07 AM - INFO - Compling Keras model\n",
            "04/23/2022 07:48:07 AM - INFO - Architecture:[32, 128, 64, 16, 32, 32],softplus,adadelta,4\n"
          ]
        },
        {
          "output_type": "stream",
          "name": "stdout",
          "text": [
            "Test loss: 0.6710264682769775\n",
            "Test accuracy: 0.5\n",
            "Epoch 1/3\n",
            "2/2 [==============================] - 1s 299ms/step - loss: 2.3984 - accuracy: 0.5000 - val_loss: 2.0392 - val_accuracy: 0.5000\n",
            "Epoch 2/3\n",
            "2/2 [==============================] - 0s 139ms/step - loss: 2.3180 - accuracy: 0.5000 - val_loss: 2.0323 - val_accuracy: 0.5000\n",
            "Epoch 3/3\n",
            "2/2 [==============================] - 0s 149ms/step - loss: 2.3933 - accuracy: 0.5200 - val_loss: 2.0259 - val_accuracy: 0.5000\n"
          ]
        },
        {
          "output_type": "stream",
          "name": "stderr",
          "text": [
            "\n",
            "\n",
            "\n",
            "\n",
            "\n",
            "\n",
            "\n",
            " 23%|██▎       | 7/30 [00:14<00:45,  1.98s/it]\u001b[A\u001b[A\u001b[A\u001b[A\u001b[A\u001b[A\u001b[A04/23/2022 07:48:09 AM - INFO - Getting Keras datasets\n",
            "04/23/2022 07:48:09 AM - INFO - Compling Keras model\n",
            "04/23/2022 07:48:09 AM - INFO - Architecture:[16, 128, 128, 64, 32, 16],elu,sgd,3\n"
          ]
        },
        {
          "output_type": "stream",
          "name": "stdout",
          "text": [
            "Test loss: 2.0258901119232178\n",
            "Test accuracy: 0.5\n",
            "Epoch 1/3\n",
            "2/2 [==============================] - 1s 276ms/step - loss: 0.7219 - accuracy: 0.4200 - val_loss: 0.7085 - val_accuracy: 0.5000\n",
            "Epoch 2/3\n",
            "2/2 [==============================] - 0s 112ms/step - loss: 0.8229 - accuracy: 0.4600 - val_loss: 0.7252 - val_accuracy: 0.5000\n",
            "Epoch 3/3\n",
            "2/2 [==============================] - 0s 114ms/step - loss: 0.7341 - accuracy: 0.4400 - val_loss: 0.6898 - val_accuracy: 0.5400\n"
          ]
        },
        {
          "output_type": "stream",
          "name": "stderr",
          "text": [
            "\n",
            "\n",
            "\n",
            "\n",
            "\n",
            "\n",
            "\n",
            " 27%|██▋       | 8/30 [00:16<00:44,  2.00s/it]\u001b[A\u001b[A\u001b[A\u001b[A\u001b[A\u001b[A\u001b[A04/23/2022 07:48:11 AM - INFO - Getting Keras datasets\n",
            "04/23/2022 07:48:11 AM - INFO - Compling Keras model\n",
            "04/23/2022 07:48:11 AM - INFO - Architecture:[64, 64, 16, 128, 64, 128],relu,adagrad,4\n"
          ]
        },
        {
          "output_type": "stream",
          "name": "stdout",
          "text": [
            "Test loss: 0.6897987127304077\n",
            "Test accuracy: 0.5400000214576721\n",
            "Epoch 1/3\n",
            "2/2 [==============================] - 1s 275ms/step - loss: 0.7251 - accuracy: 0.3600 - val_loss: 0.6949 - val_accuracy: 0.5000\n",
            "Epoch 2/3\n",
            "2/2 [==============================] - 0s 124ms/step - loss: 0.6959 - accuracy: 0.5200 - val_loss: 0.6949 - val_accuracy: 0.5000\n",
            "Epoch 3/3\n",
            "2/2 [==============================] - 0s 123ms/step - loss: 0.7332 - accuracy: 0.4400 - val_loss: 0.6945 - val_accuracy: 0.5000\n"
          ]
        },
        {
          "output_type": "stream",
          "name": "stderr",
          "text": [
            "\n",
            "\n",
            "\n",
            "\n",
            "\n",
            "\n",
            "\n",
            " 30%|███       | 9/30 [00:18<00:39,  1.90s/it]\u001b[A\u001b[A\u001b[A\u001b[A\u001b[A\u001b[A\u001b[A04/23/2022 07:48:13 AM - INFO - Getting Keras datasets\n",
            "04/23/2022 07:48:13 AM - INFO - Compling Keras model\n",
            "04/23/2022 07:48:13 AM - INFO - Architecture:[16, 64, 64, 64, 128, 64],hard_sigmoid,adadelta,5\n"
          ]
        },
        {
          "output_type": "stream",
          "name": "stdout",
          "text": [
            "Test loss: 0.6945332884788513\n",
            "Test accuracy: 0.5\n",
            "Epoch 1/3\n",
            "2/2 [==============================] - 1s 299ms/step - loss: 0.8699 - accuracy: 0.4800 - val_loss: 0.6988 - val_accuracy: 0.5000\n",
            "Epoch 2/3\n",
            "2/2 [==============================] - 0s 89ms/step - loss: 0.7800 - accuracy: 0.5800 - val_loss: 0.6988 - val_accuracy: 0.5000\n",
            "Epoch 3/3\n",
            "2/2 [==============================] - 0s 81ms/step - loss: 0.8024 - accuracy: 0.5800 - val_loss: 0.6988 - val_accuracy: 0.5000\n"
          ]
        },
        {
          "output_type": "stream",
          "name": "stderr",
          "text": [
            "\n",
            "\n",
            "\n",
            "\n",
            "\n",
            "\n",
            "\n",
            " 33%|███▎      | 10/30 [00:20<00:37,  1.88s/it]\u001b[A\u001b[A\u001b[A\u001b[A\u001b[A\u001b[A\u001b[A04/23/2022 07:48:15 AM - INFO - Getting Keras datasets\n",
            "04/23/2022 07:48:15 AM - INFO - Compling Keras model\n",
            "04/23/2022 07:48:15 AM - INFO - Architecture:[32, 16, 16, 64, 32, 16],softplus,adamax,4\n"
          ]
        },
        {
          "output_type": "stream",
          "name": "stdout",
          "text": [
            "Test loss: 0.6987558007240295\n",
            "Test accuracy: 0.5\n",
            "Epoch 1/3\n",
            "2/2 [==============================] - 1s 233ms/step - loss: 2.3825 - accuracy: 0.5000 - val_loss: 0.9891 - val_accuracy: 0.5000\n",
            "Epoch 2/3\n",
            "2/2 [==============================] - 0s 82ms/step - loss: 1.1053 - accuracy: 0.5400 - val_loss: 0.6949 - val_accuracy: 0.5000\n",
            "Epoch 3/3\n",
            "2/2 [==============================] - 0s 98ms/step - loss: 0.9567 - accuracy: 0.3200 - val_loss: 0.7250 - val_accuracy: 0.5000\n"
          ]
        },
        {
          "output_type": "stream",
          "name": "stderr",
          "text": [
            "\n",
            "\n",
            "\n",
            "\n",
            "\n",
            "\n",
            "\n",
            " 37%|███▋      | 11/30 [00:22<00:34,  1.80s/it]\u001b[A\u001b[A\u001b[A\u001b[A\u001b[A\u001b[A\u001b[A04/23/2022 07:48:16 AM - INFO - Getting Keras datasets\n",
            "04/23/2022 07:48:16 AM - INFO - Compling Keras model\n",
            "04/23/2022 07:48:16 AM - INFO - Architecture:[32, 128, 64, 128, 128, 16],sigmoid,adamax,1\n"
          ]
        },
        {
          "output_type": "stream",
          "name": "stdout",
          "text": [
            "Test loss: 0.7250108122825623\n",
            "Test accuracy: 0.5\n",
            "Epoch 1/3\n",
            "2/2 [==============================] - 1s 192ms/step - loss: 1.2791 - accuracy: 0.4600 - val_loss: 1.4485 - val_accuracy: 0.5000\n",
            "Epoch 2/3\n",
            "2/2 [==============================] - 0s 54ms/step - loss: 1.4310 - accuracy: 0.5000 - val_loss: 1.2804 - val_accuracy: 0.5000\n",
            "Epoch 3/3\n",
            "2/2 [==============================] - 0s 65ms/step - loss: 1.2398 - accuracy: 0.4800 - val_loss: 1.1822 - val_accuracy: 0.5000\n",
            "Test loss: 1.1821881532669067\n",
            "Test accuracy: 0.5\n"
          ]
        },
        {
          "output_type": "stream",
          "name": "stderr",
          "text": [
            "\n",
            "\n",
            "\n",
            "\n",
            "\n",
            "\n",
            "\n",
            " 40%|████      | 12/30 [00:23<00:28,  1.60s/it]\u001b[A\u001b[A\u001b[A\u001b[A\u001b[A\u001b[A\u001b[A04/23/2022 07:48:17 AM - INFO - Getting Keras datasets\n",
            "04/23/2022 07:48:17 AM - INFO - Compling Keras model\n",
            "04/23/2022 07:48:17 AM - INFO - Architecture:[32, 128, 128, 32, 32, 32],linear,rmsprop,5\n"
          ]
        },
        {
          "output_type": "stream",
          "name": "stdout",
          "text": [
            "Epoch 1/3\n",
            "2/2 [==============================] - 2s 313ms/step - loss: 2.2206 - accuracy: 0.4600 - val_loss: 2.9859 - val_accuracy: 0.5000\n",
            "Epoch 2/3\n",
            "2/2 [==============================] - 0s 127ms/step - loss: 2.7667 - accuracy: 0.4600 - val_loss: 0.6856 - val_accuracy: 0.5000\n",
            "Epoch 3/3\n",
            "2/2 [==============================] - 0s 131ms/step - loss: 0.7048 - accuracy: 0.6400 - val_loss: 0.6409 - val_accuracy: 0.7600\n"
          ]
        },
        {
          "output_type": "stream",
          "name": "stderr",
          "text": [
            "\n",
            "\n",
            "\n",
            "\n",
            "\n",
            "\n",
            "\n",
            " 43%|████▎     | 13/30 [00:26<00:34,  2.01s/it]\u001b[A\u001b[A\u001b[A\u001b[A\u001b[A\u001b[A\u001b[A04/23/2022 07:48:20 AM - INFO - Getting Keras datasets\n",
            "04/23/2022 07:48:20 AM - INFO - Compling Keras model\n",
            "04/23/2022 07:48:20 AM - INFO - Architecture:[32, 16, 16, 32, 128, 64],tanh,adadelta,1\n"
          ]
        },
        {
          "output_type": "stream",
          "name": "stdout",
          "text": [
            "Test loss: 0.6409032940864563\n",
            "Test accuracy: 0.7599999904632568\n",
            "Epoch 1/3\n",
            "2/2 [==============================] - 1s 204ms/step - loss: 0.7387 - accuracy: 0.4800 - val_loss: 0.7020 - val_accuracy: 0.5200\n",
            "Epoch 2/3\n",
            "2/2 [==============================] - 0s 61ms/step - loss: 0.8429 - accuracy: 0.4000 - val_loss: 0.7015 - val_accuracy: 0.5200\n",
            "Epoch 3/3\n",
            "2/2 [==============================] - 0s 66ms/step - loss: 0.7718 - accuracy: 0.4600 - val_loss: 0.7007 - val_accuracy: 0.5200\n"
          ]
        },
        {
          "output_type": "stream",
          "name": "stderr",
          "text": [
            "\n",
            "\n",
            "\n",
            "\n",
            "\n",
            "\n",
            "\n",
            " 47%|████▋     | 14/30 [00:27<00:27,  1.75s/it]\u001b[A\u001b[A\u001b[A\u001b[A\u001b[A\u001b[A\u001b[A04/23/2022 07:48:22 AM - INFO - Getting Keras datasets\n"
          ]
        },
        {
          "output_type": "stream",
          "name": "stdout",
          "text": [
            "Test loss: 0.7006977796554565\n",
            "Test accuracy: 0.5199999809265137\n"
          ]
        },
        {
          "output_type": "stream",
          "name": "stderr",
          "text": [
            "04/23/2022 07:48:22 AM - INFO - Compling Keras model\n",
            "04/23/2022 07:48:22 AM - INFO - Architecture:[16, 128, 128, 32, 32, 64],relu,adagrad,1\n"
          ]
        },
        {
          "output_type": "stream",
          "name": "stdout",
          "text": [
            "Epoch 1/3\n",
            "2/2 [==============================] - 1s 183ms/step - loss: 0.7184 - accuracy: 0.5600 - val_loss: 0.7060 - val_accuracy: 0.5000\n",
            "Epoch 2/3\n",
            "2/2 [==============================] - 0s 49ms/step - loss: 0.7211 - accuracy: 0.4400 - val_loss: 0.6993 - val_accuracy: 0.4200\n",
            "Epoch 3/3\n",
            "2/2 [==============================] - 0s 50ms/step - loss: 0.6970 - accuracy: 0.5400 - val_loss: 0.6965 - val_accuracy: 0.4200\n"
          ]
        },
        {
          "output_type": "stream",
          "name": "stderr",
          "text": [
            "\n",
            "\n",
            "\n",
            "\n",
            "\n",
            "\n",
            "\n",
            " 50%|█████     | 15/30 [00:28<00:22,  1.52s/it]\u001b[A\u001b[A\u001b[A\u001b[A\u001b[A\u001b[A\u001b[A04/23/2022 07:48:23 AM - INFO - Getting Keras datasets\n",
            "04/23/2022 07:48:23 AM - INFO - Compling Keras model\n",
            "04/23/2022 07:48:23 AM - INFO - Architecture:[64, 64, 64, 16, 64, 32],relu,adagrad,3\n"
          ]
        },
        {
          "output_type": "stream",
          "name": "stdout",
          "text": [
            "Test loss: 0.6964932084083557\n",
            "Test accuracy: 0.41999998688697815\n",
            "Epoch 1/3\n",
            "2/2 [==============================] - 1s 278ms/step - loss: 0.7949 - accuracy: 0.5400 - val_loss: 0.7004 - val_accuracy: 0.5000\n",
            "Epoch 2/3\n",
            "2/2 [==============================] - 0s 128ms/step - loss: 0.7793 - accuracy: 0.5000 - val_loss: 0.6953 - val_accuracy: 0.5000\n",
            "Epoch 3/3\n",
            "2/2 [==============================] - 0s 132ms/step - loss: 0.7585 - accuracy: 0.4400 - val_loss: 0.6945 - val_accuracy: 0.5000\n"
          ]
        },
        {
          "output_type": "stream",
          "name": "stderr",
          "text": [
            "\n",
            "\n",
            "\n",
            "\n",
            "\n",
            "\n",
            "\n",
            " 53%|█████▎    | 16/30 [00:29<00:21,  1.56s/it]\u001b[A\u001b[A\u001b[A\u001b[A\u001b[A\u001b[A\u001b[A04/23/2022 07:48:24 AM - INFO - Getting Keras datasets\n",
            "04/23/2022 07:48:24 AM - INFO - Compling Keras model\n",
            "04/23/2022 07:48:24 AM - INFO - Architecture:[32, 64, 16, 32, 16, 64],tanh,nadam,4\n"
          ]
        },
        {
          "output_type": "stream",
          "name": "stdout",
          "text": [
            "Test loss: 0.6945371031761169\n",
            "Test accuracy: 0.5\n",
            "Epoch 1/3\n",
            "2/2 [==============================] - 2s 242ms/step - loss: 0.7353 - accuracy: 0.5800 - val_loss: 0.6717 - val_accuracy: 0.8000\n",
            "Epoch 2/3\n",
            "2/2 [==============================] - 0s 95ms/step - loss: 0.8564 - accuracy: 0.4000 - val_loss: 0.6666 - val_accuracy: 0.7000\n",
            "Epoch 3/3\n",
            "2/2 [==============================] - 0s 94ms/step - loss: 0.7705 - accuracy: 0.5400 - val_loss: 0.6607 - val_accuracy: 0.5000\n"
          ]
        },
        {
          "output_type": "stream",
          "name": "stderr",
          "text": [
            "\n",
            "\n",
            "\n",
            "\n",
            "\n",
            "\n",
            "\n",
            " 57%|█████▋    | 17/30 [00:32<00:22,  1.77s/it]\u001b[A\u001b[A\u001b[A\u001b[A\u001b[A\u001b[A\u001b[A04/23/2022 07:48:26 AM - INFO - Getting Keras datasets\n",
            "04/23/2022 07:48:26 AM - INFO - Compling Keras model\n",
            "04/23/2022 07:48:26 AM - INFO - Architecture:[32, 128, 32, 64, 128, 32],tanh,adam,1\n"
          ]
        },
        {
          "output_type": "stream",
          "name": "stdout",
          "text": [
            "Test loss: 0.6606526970863342\n",
            "Test accuracy: 0.5\n",
            "Epoch 1/3\n",
            "2/2 [==============================] - 1s 181ms/step - loss: 1.8046 - accuracy: 0.3800 - val_loss: 1.2067 - val_accuracy: 0.5000\n",
            "Epoch 2/3\n",
            "2/2 [==============================] - 0s 57ms/step - loss: 0.8866 - accuracy: 0.4800 - val_loss: 1.1755 - val_accuracy: 0.5000\n",
            "Epoch 3/3\n",
            "2/2 [==============================] - 0s 57ms/step - loss: 1.2647 - accuracy: 0.5000 - val_loss: 0.9450 - val_accuracy: 0.5000\n"
          ]
        },
        {
          "output_type": "stream",
          "name": "stderr",
          "text": [
            "\n",
            "\n",
            "\n",
            "\n",
            "\n",
            "\n",
            "\n",
            " 60%|██████    | 18/30 [00:33<00:18,  1.57s/it]\u001b[A\u001b[A\u001b[A\u001b[A\u001b[A\u001b[A\u001b[A04/23/2022 07:48:28 AM - INFO - Getting Keras datasets\n",
            "04/23/2022 07:48:28 AM - INFO - Compling Keras model\n",
            "04/23/2022 07:48:28 AM - INFO - Architecture:[32, 64, 16, 64, 32, 128],hard_sigmoid,sgd,4\n"
          ]
        },
        {
          "output_type": "stream",
          "name": "stdout",
          "text": [
            "Test loss: 0.9449729919433594\n",
            "Test accuracy: 0.5\n",
            "Epoch 1/3\n",
            "2/2 [==============================] - 1s 281ms/step - loss: 0.8432 - accuracy: 0.5000 - val_loss: 0.7215 - val_accuracy: 0.5000\n",
            "Epoch 2/3\n",
            "2/2 [==============================] - 0s 104ms/step - loss: 0.8820 - accuracy: 0.4400 - val_loss: 0.7095 - val_accuracy: 0.5000\n",
            "Epoch 3/3\n",
            "2/2 [==============================] - 0s 108ms/step - loss: 0.8587 - accuracy: 0.5200 - val_loss: 0.7032 - val_accuracy: 0.5000\n"
          ]
        },
        {
          "output_type": "stream",
          "name": "stderr",
          "text": [
            "\n",
            "\n",
            "\n",
            "\n",
            "\n",
            "\n",
            "\n",
            " 63%|██████▎   | 19/30 [00:35<00:19,  1.80s/it]\u001b[A\u001b[A\u001b[A\u001b[A\u001b[A\u001b[A\u001b[A04/23/2022 07:48:30 AM - INFO - Getting Keras datasets\n",
            "04/23/2022 07:48:30 AM - INFO - Compling Keras model\n",
            "04/23/2022 07:48:30 AM - INFO - Architecture:[64, 128, 64, 16, 128, 32],softplus,rmsprop,2\n"
          ]
        },
        {
          "output_type": "stream",
          "name": "stdout",
          "text": [
            "Test loss: 0.7032032012939453\n",
            "Test accuracy: 0.5\n",
            "Epoch 1/3\n",
            "2/2 [==============================] - 1s 317ms/step - loss: 25.7459 - accuracy: 0.4400 - val_loss: 1.5569 - val_accuracy: 0.5000\n",
            "Epoch 2/3\n",
            "2/2 [==============================] - 0s 195ms/step - loss: 1.3384 - accuracy: 0.5000 - val_loss: 0.7385 - val_accuracy: 0.5000\n",
            "Epoch 3/3\n",
            "2/2 [==============================] - 0s 190ms/step - loss: 0.7368 - accuracy: 0.5000 - val_loss: 0.7172 - val_accuracy: 0.5000\n"
          ]
        },
        {
          "output_type": "stream",
          "name": "stderr",
          "text": [
            "\n",
            "\n",
            "\n",
            "\n",
            "\n",
            "\n",
            "\n",
            " 67%|██████▋   | 20/30 [00:38<00:20,  2.05s/it]\u001b[A\u001b[A\u001b[A\u001b[A\u001b[A\u001b[A\u001b[A04/23/2022 07:48:33 AM - INFO - Getting Keras datasets\n",
            "04/23/2022 07:48:33 AM - INFO - Compling Keras model\n",
            "04/23/2022 07:48:33 AM - INFO - Architecture:[64, 32, 32, 64, 16, 64],sigmoid,adadelta,5\n"
          ]
        },
        {
          "output_type": "stream",
          "name": "stdout",
          "text": [
            "Test loss: 0.7171992659568787\n",
            "Test accuracy: 0.5\n",
            "Epoch 1/3\n",
            "2/2 [==============================] - 1s 270ms/step - loss: 1.0592 - accuracy: 0.5200 - val_loss: 0.9567 - val_accuracy: 0.5000\n",
            "Epoch 2/3\n",
            "2/2 [==============================] - 0s 118ms/step - loss: 0.9958 - accuracy: 0.5600 - val_loss: 0.9566 - val_accuracy: 0.5000\n",
            "Epoch 3/3\n",
            "2/2 [==============================] - 0s 112ms/step - loss: 0.9904 - accuracy: 0.5200 - val_loss: 0.9565 - val_accuracy: 0.5000\n"
          ]
        },
        {
          "output_type": "stream",
          "name": "stderr",
          "text": [
            "\n",
            "\n",
            "\n",
            "\n",
            "\n",
            "\n",
            "\n",
            " 70%|███████   | 21/30 [00:39<00:17,  1.96s/it]\u001b[A\u001b[A\u001b[A\u001b[A\u001b[A\u001b[A\u001b[A04/23/2022 07:48:34 AM - INFO - Getting Keras datasets\n",
            "04/23/2022 07:48:34 AM - INFO - Compling Keras model\n",
            "04/23/2022 07:48:34 AM - INFO - Architecture:[32, 64, 16, 16, 32, 64],elu,adamax,5\n"
          ]
        },
        {
          "output_type": "stream",
          "name": "stdout",
          "text": [
            "Test loss: 0.9565321207046509\n",
            "Test accuracy: 0.5\n",
            "Epoch 1/3\n",
            "2/2 [==============================] - 1s 263ms/step - loss: 0.7194 - accuracy: 0.4600 - val_loss: 0.6842 - val_accuracy: 0.5000\n",
            "Epoch 2/3\n",
            "2/2 [==============================] - 0s 96ms/step - loss: 0.7105 - accuracy: 0.5200 - val_loss: 0.6798 - val_accuracy: 0.5000\n",
            "Epoch 3/3\n",
            "2/2 [==============================] - 0s 89ms/step - loss: 0.7193 - accuracy: 0.4600 - val_loss: 0.6782 - val_accuracy: 0.7600\n"
          ]
        },
        {
          "output_type": "stream",
          "name": "stderr",
          "text": [
            "\n",
            "\n",
            "\n",
            "\n",
            "\n",
            "\n",
            "\n",
            " 73%|███████▎  | 22/30 [00:41<00:15,  1.88s/it]\u001b[A\u001b[A\u001b[A\u001b[A\u001b[A\u001b[A\u001b[A04/23/2022 07:48:36 AM - INFO - Getting Keras datasets\n",
            "04/23/2022 07:48:36 AM - INFO - Compling Keras model\n",
            "04/23/2022 07:48:36 AM - INFO - Architecture:[32, 32, 32, 128, 64, 32],relu,sgd,5\n"
          ]
        },
        {
          "output_type": "stream",
          "name": "stdout",
          "text": [
            "Test loss: 0.6781827807426453\n",
            "Test accuracy: 0.7599999904632568\n",
            "Epoch 1/3\n",
            "2/2 [==============================] - 1s 252ms/step - loss: 0.7023 - accuracy: 0.4000 - val_loss: 0.6918 - val_accuracy: 0.5000\n",
            "Epoch 2/3\n",
            "2/2 [==============================] - 0s 77ms/step - loss: 0.6942 - accuracy: 0.5000 - val_loss: 0.6919 - val_accuracy: 0.5000\n",
            "Epoch 3/3\n",
            "2/2 [==============================] - 0s 75ms/step - loss: 0.6873 - accuracy: 0.5600 - val_loss: 0.6916 - val_accuracy: 0.5000\n"
          ]
        },
        {
          "output_type": "stream",
          "name": "stderr",
          "text": [
            "\n",
            "\n",
            "\n",
            "\n",
            "\n",
            "\n",
            "\n",
            " 77%|███████▋  | 23/30 [00:43<00:12,  1.79s/it]\u001b[A\u001b[A\u001b[A\u001b[A\u001b[A\u001b[A\u001b[A04/23/2022 07:48:38 AM - INFO - Getting Keras datasets\n",
            "04/23/2022 07:48:38 AM - INFO - Compling Keras model\n",
            "04/23/2022 07:48:38 AM - INFO - Architecture:[128, 32, 32, 16, 64, 64],elu,adagrad,4\n"
          ]
        },
        {
          "output_type": "stream",
          "name": "stdout",
          "text": [
            "Test loss: 0.6915798783302307\n",
            "Test accuracy: 0.5\n",
            "Epoch 1/3\n",
            "2/2 [==============================] - 1s 340ms/step - loss: 0.7494 - accuracy: 0.4200 - val_loss: 0.7051 - val_accuracy: 0.5000\n",
            "Epoch 2/3\n",
            "2/2 [==============================] - 0s 183ms/step - loss: 0.7255 - accuracy: 0.5400 - val_loss: 0.7060 - val_accuracy: 0.5000\n",
            "Epoch 3/3\n",
            "2/2 [==============================] - 0s 179ms/step - loss: 0.8918 - accuracy: 0.4000 - val_loss: 0.7040 - val_accuracy: 0.4800\n"
          ]
        },
        {
          "output_type": "stream",
          "name": "stderr",
          "text": [
            "\n",
            "\n",
            "\n",
            "\n",
            "\n",
            "\n",
            "\n",
            " 80%|████████  | 24/30 [00:45<00:11,  1.90s/it]\u001b[A\u001b[A\u001b[A\u001b[A\u001b[A\u001b[A\u001b[A04/23/2022 07:48:40 AM - INFO - Getting Keras datasets\n",
            "04/23/2022 07:48:40 AM - INFO - Compling Keras model\n",
            "04/23/2022 07:48:40 AM - INFO - Architecture:[32, 16, 16, 16, 64, 128],softplus,adadelta,2\n"
          ]
        },
        {
          "output_type": "stream",
          "name": "stdout",
          "text": [
            "Test loss: 0.7040053009986877\n",
            "Test accuracy: 0.47999998927116394\n",
            "Epoch 1/3\n",
            "2/2 [==============================] - 1s 222ms/step - loss: 1.4754 - accuracy: 0.4400 - val_loss: 0.8185 - val_accuracy: 0.5000\n",
            "Epoch 2/3\n",
            "2/2 [==============================] - 0s 76ms/step - loss: 1.4396 - accuracy: 0.4200 - val_loss: 0.8161 - val_accuracy: 0.5000\n",
            "Epoch 3/3\n",
            "2/2 [==============================] - 0s 78ms/step - loss: 1.1436 - accuracy: 0.5800 - val_loss: 0.8127 - val_accuracy: 0.5000\n"
          ]
        },
        {
          "output_type": "stream",
          "name": "stderr",
          "text": [
            "\n",
            "\n",
            "\n",
            "\n",
            "\n",
            "\n",
            "\n",
            " 83%|████████▎ | 25/30 [00:46<00:08,  1.73s/it]"
          ]
        },
        {
          "output_type": "stream",
          "name": "stdout",
          "text": [
            "Test loss: 0.8127337694168091\n",
            "Test accuracy: 0.5\n"
          ]
        },
        {
          "output_type": "stream",
          "name": "stderr",
          "text": [
            "\u001b[A\u001b[A\u001b[A\u001b[A\u001b[A\u001b[A\u001b[A04/23/2022 07:48:41 AM - INFO - Getting Keras datasets\n",
            "04/23/2022 07:48:41 AM - INFO - Compling Keras model\n",
            "04/23/2022 07:48:41 AM - INFO - Architecture:[128, 64, 64, 16, 16, 64],sigmoid,nadam,3\n"
          ]
        },
        {
          "output_type": "stream",
          "name": "stdout",
          "text": [
            "Epoch 1/3\n",
            "2/2 [==============================] - 2s 368ms/step - loss: 0.9778 - accuracy: 0.5000 - val_loss: 0.7129 - val_accuracy: 0.5000\n",
            "Epoch 2/3\n",
            "2/2 [==============================] - 0s 200ms/step - loss: 0.7424 - accuracy: 0.5200 - val_loss: 0.6944 - val_accuracy: 0.5000\n",
            "Epoch 3/3\n",
            "2/2 [==============================] - 0s 203ms/step - loss: 0.7720 - accuracy: 0.4400 - val_loss: 0.6942 - val_accuracy: 0.5000\n"
          ]
        },
        {
          "output_type": "stream",
          "name": "stderr",
          "text": [
            "\n",
            "\n",
            "\n",
            "\n",
            "\n",
            "\n",
            "\n",
            " 87%|████████▋ | 26/30 [00:49<00:08,  2.05s/it]\u001b[A\u001b[A\u001b[A\u001b[A\u001b[A\u001b[A\u001b[A04/23/2022 07:48:44 AM - INFO - Getting Keras datasets\n",
            "04/23/2022 07:48:44 AM - INFO - Compling Keras model\n",
            "04/23/2022 07:48:44 AM - INFO - Architecture:[16, 128, 32, 64, 32, 128],hard_sigmoid,adagrad,5\n"
          ]
        },
        {
          "output_type": "stream",
          "name": "stdout",
          "text": [
            "Test loss: 0.6942286491394043\n",
            "Test accuracy: 0.5\n",
            "Epoch 1/3\n",
            "2/2 [==============================] - 1s 312ms/step - loss: 0.9051 - accuracy: 0.4600 - val_loss: 0.8534 - val_accuracy: 0.5000\n",
            "Epoch 2/3\n",
            "2/2 [==============================] - 0s 110ms/step - loss: 1.0553 - accuracy: 0.4800 - val_loss: 0.8329 - val_accuracy: 0.5000\n",
            "Epoch 3/3\n",
            "2/2 [==============================] - 0s 101ms/step - loss: 0.8614 - accuracy: 0.5800 - val_loss: 0.8176 - val_accuracy: 0.5000\n"
          ]
        },
        {
          "output_type": "stream",
          "name": "stderr",
          "text": [
            "\n",
            "\n",
            "\n",
            "\n",
            "\n",
            "\n",
            "\n",
            " 90%|█████████ | 27/30 [00:51<00:06,  2.13s/it]\u001b[A\u001b[A\u001b[A\u001b[A\u001b[A\u001b[A\u001b[A04/23/2022 07:48:46 AM - INFO - Getting Keras datasets\n",
            "04/23/2022 07:48:46 AM - INFO - Compling Keras model\n",
            "04/23/2022 07:48:46 AM - INFO - Architecture:[128, 128, 32, 128, 32, 16],tanh,adam,4\n"
          ]
        },
        {
          "output_type": "stream",
          "name": "stdout",
          "text": [
            "Test loss: 0.8175984025001526\n",
            "Test accuracy: 0.5\n",
            "Epoch 1/3\n",
            "2/2 [==============================] - 1s 425ms/step - loss: 0.7334 - accuracy: 0.4200 - val_loss: 0.6574 - val_accuracy: 0.8400\n",
            "Epoch 2/3\n",
            "2/2 [==============================] - 0s 274ms/step - loss: 0.7806 - accuracy: 0.5200 - val_loss: 0.6756 - val_accuracy: 0.5000\n",
            "Epoch 3/3\n",
            "2/2 [==============================] - 0s 270ms/step - loss: 0.7708 - accuracy: 0.5000 - val_loss: 0.6457 - val_accuracy: 0.7600\n"
          ]
        },
        {
          "output_type": "stream",
          "name": "stderr",
          "text": [
            "\n",
            "\n",
            "\n",
            "\n",
            "\n",
            "\n",
            "\n",
            " 93%|█████████▎| 28/30 [00:54<00:04,  2.26s/it]\u001b[A\u001b[A\u001b[A\u001b[A\u001b[A\u001b[A\u001b[A04/23/2022 07:48:49 AM - INFO - Getting Keras datasets\n",
            "04/23/2022 07:48:49 AM - INFO - Compling Keras model\n",
            "04/23/2022 07:48:49 AM - INFO - Architecture:[64, 128, 32, 128, 32, 16],tanh,adam,2\n"
          ]
        },
        {
          "output_type": "stream",
          "name": "stdout",
          "text": [
            "Test loss: 0.6457270979881287\n",
            "Test accuracy: 0.7599999904632568\n",
            "Epoch 1/3\n",
            "2/2 [==============================] - 1s 311ms/step - loss: 0.9032 - accuracy: 0.4600 - val_loss: 0.7720 - val_accuracy: 0.5000\n",
            "Epoch 2/3\n",
            "2/2 [==============================] - 0s 159ms/step - loss: 0.9887 - accuracy: 0.5000 - val_loss: 0.6737 - val_accuracy: 0.5000\n",
            "Epoch 3/3\n",
            "2/2 [==============================] - 0s 156ms/step - loss: 0.8485 - accuracy: 0.6000 - val_loss: 0.7692 - val_accuracy: 0.5000\n"
          ]
        },
        {
          "output_type": "stream",
          "name": "stderr",
          "text": [
            "\n",
            "\n",
            "\n",
            "\n",
            "\n",
            "\n",
            "\n",
            " 97%|█████████▋| 29/30 [00:56<00:02,  2.21s/it]\u001b[A\u001b[A\u001b[A\u001b[A\u001b[A\u001b[A\u001b[A04/23/2022 07:48:51 AM - INFO - Getting Keras datasets\n",
            "04/23/2022 07:48:51 AM - INFO - Compling Keras model\n",
            "04/23/2022 07:48:51 AM - INFO - Architecture:[128, 128, 32, 64, 16, 16],sigmoid,adamax,1\n"
          ]
        },
        {
          "output_type": "stream",
          "name": "stdout",
          "text": [
            "Test loss: 0.7692134976387024\n",
            "Test accuracy: 0.5\n",
            "Epoch 1/3\n",
            "2/2 [==============================] - 1s 245ms/step - loss: 1.3659 - accuracy: 0.4400 - val_loss: 1.2885 - val_accuracy: 0.5000\n",
            "Epoch 2/3\n",
            "2/2 [==============================] - 0s 121ms/step - loss: 1.1765 - accuracy: 0.5200 - val_loss: 1.0160 - val_accuracy: 0.5000\n",
            "Epoch 3/3\n",
            "2/2 [==============================] - 0s 113ms/step - loss: 1.2472 - accuracy: 0.4800 - val_loss: 1.0076 - val_accuracy: 0.5000\n"
          ]
        },
        {
          "output_type": "stream",
          "name": "stderr",
          "text": [
            "\n",
            "\n",
            "\n",
            "\n",
            "\n",
            "\n",
            "\n",
            "100%|██████████| 30/30 [00:57<00:00,  1.96s/it]\u001b[A\u001b[A\u001b[A\u001b[A\u001b[A\u001b[A\u001b[A"
          ]
        },
        {
          "output_type": "stream",
          "name": "stdout",
          "text": [
            "Test loss: 1.0076096057891846\n",
            "Test accuracy: 0.5\n"
          ]
        },
        {
          "output_type": "stream",
          "name": "stderr",
          "text": [
            "\r100%|██████████| 30/30 [00:57<00:00,  1.93s/it]\n",
            "04/23/2022 07:48:52 AM - INFO - Generation average: 52.47%\n",
            "04/23/2022 07:48:52 AM - INFO - --------------------------------------------------------------------------------\n",
            "04/23/2022 07:48:52 AM - INFO - ***Now in generation 2 of 8***\n",
            "04/23/2022 07:48:52 AM - INFO - --------------------------------------------------------------------------------\n",
            "04/23/2022 07:48:52 AM - INFO - {'nb_layers': 5, 'activation': 'linear', 'optimizer': 'rmsprop', 'nb_neurons': [32, 128, 128, 32, 32, 32]}\n",
            "04/23/2022 07:48:52 AM - INFO - Acc: 76.00%\n",
            "04/23/2022 07:48:52 AM - INFO - UniID: 13\n",
            "04/23/2022 07:48:52 AM - INFO - Mom and Dad: 0 0\n",
            "04/23/2022 07:48:52 AM - INFO - Gen: 1\n",
            "04/23/2022 07:48:52 AM - INFO - Hash: 89d4c9327f8fe5594bda5dd0d8ad8c34\n",
            "04/23/2022 07:48:52 AM - INFO - {'nb_layers': 5, 'activation': 'elu', 'optimizer': 'adamax', 'nb_neurons': [32, 64, 16, 16, 32, 64]}\n",
            "04/23/2022 07:48:52 AM - INFO - Acc: 76.00%\n",
            "04/23/2022 07:48:52 AM - INFO - UniID: 22\n",
            "04/23/2022 07:48:52 AM - INFO - Mom and Dad: 0 0\n",
            "04/23/2022 07:48:52 AM - INFO - Gen: 1\n",
            "04/23/2022 07:48:52 AM - INFO - Hash: c7f2e8cba3a1311187ad10cf251cb872\n",
            "04/23/2022 07:48:52 AM - INFO - {'nb_layers': 4, 'activation': 'tanh', 'optimizer': 'adam', 'nb_neurons': [128, 128, 32, 128, 32, 16]}\n",
            "04/23/2022 07:48:52 AM - INFO - Acc: 76.00%\n",
            "04/23/2022 07:48:52 AM - INFO - UniID: 28\n",
            "04/23/2022 07:48:52 AM - INFO - Mom and Dad: 0 0\n",
            "04/23/2022 07:48:52 AM - INFO - Gen: 1\n",
            "04/23/2022 07:48:52 AM - INFO - Hash: b06789b41b0ae20fe0ab931e2664d057\n",
            "04/23/2022 07:48:52 AM - INFO - {'nb_layers': 3, 'activation': 'elu', 'optimizer': 'sgd', 'nb_neurons': [16, 128, 128, 64, 32, 16]}\n",
            "04/23/2022 07:48:52 AM - INFO - Acc: 54.00%\n",
            "04/23/2022 07:48:52 AM - INFO - UniID: 8\n",
            "04/23/2022 07:48:52 AM - INFO - Mom and Dad: 0 0\n",
            "04/23/2022 07:48:52 AM - INFO - Gen: 1\n",
            "04/23/2022 07:48:52 AM - INFO - Hash: 943dff57b132d23bbe2c17231ff520ea\n",
            "04/23/2022 07:48:52 AM - INFO - {'nb_layers': 1, 'activation': 'softplus', 'optimizer': 'adam', 'nb_neurons': [32, 128, 32, 64, 128, 32]}\n",
            "04/23/2022 07:48:52 AM - INFO - Acc: 0.00%\n",
            "04/23/2022 07:48:52 AM - INFO - UniID: 18\n",
            "04/23/2022 07:48:52 AM - INFO - Mom and Dad: 0 0\n",
            "04/23/2022 07:48:52 AM - INFO - Gen: 2\n",
            "04/23/2022 07:48:52 AM - INFO - Hash: 1a38807c83cbc5dd82ab807cedefc401\n",
            "04/23/2022 07:48:52 AM - INFO - {'nb_layers': 5, 'activation': 'hard_sigmoid', 'optimizer': 'adagrad', 'nb_neurons': [16, 128, 32, 64, 16, 128]}\n",
            "04/23/2022 07:48:52 AM - INFO - Acc: 0.00%\n",
            "04/23/2022 07:48:52 AM - INFO - UniID: 27\n",
            "04/23/2022 07:48:52 AM - INFO - Mom and Dad: 0 0\n",
            "04/23/2022 07:48:52 AM - INFO - Gen: 2\n",
            "04/23/2022 07:48:52 AM - INFO - Hash: 36d05d7832963390b07f30b4803cf196\n",
            "04/23/2022 07:48:52 AM - INFO - {'activation': 'elu', 'nb_layers': 5, 'optimizer': 'adam', 'nb_neurons': [32, 64, 32, 128, 32, 16]}\n",
            "04/23/2022 07:48:52 AM - INFO - Acc: 0.00%\n",
            "04/23/2022 07:48:52 AM - INFO - UniID: 31\n",
            "04/23/2022 07:48:52 AM - INFO - Mom and Dad: 22 28\n",
            "04/23/2022 07:48:52 AM - INFO - Gen: 2\n",
            "04/23/2022 07:48:52 AM - INFO - Hash: dbfee368331436d065f7378e73aa97a0\n",
            "04/23/2022 07:48:52 AM - INFO - {'activation': 'tanh', 'nb_layers': 4, 'optimizer': 'adamax', 'nb_neurons': [128, 128, 16, 16, 32, 64]}\n",
            "04/23/2022 07:48:52 AM - INFO - Acc: 0.00%\n",
            "04/23/2022 07:48:52 AM - INFO - UniID: 32\n",
            "04/23/2022 07:48:52 AM - INFO - Mom and Dad: 22 28\n",
            "04/23/2022 07:48:52 AM - INFO - Gen: 2\n",
            "04/23/2022 07:48:52 AM - INFO - Hash: 78cc8d18c10fbd49a03b5c35aad9b0bc\n",
            "04/23/2022 07:48:52 AM - INFO - {'activation': 'elu', 'nb_layers': 3, 'optimizer': 'adamax', 'nb_neurons': [16, 64, 16, 16, 32, 64]}\n",
            "04/23/2022 07:48:52 AM - INFO - Acc: 0.00%\n",
            "04/23/2022 07:48:52 AM - INFO - UniID: 33\n",
            "04/23/2022 07:48:52 AM - INFO - Mom and Dad: 8 22\n",
            "04/23/2022 07:48:52 AM - INFO - Gen: 2\n",
            "04/23/2022 07:48:52 AM - INFO - Hash: 8e1d7591139b475b8a8b0f4b079b6f3a\n",
            "04/23/2022 07:48:52 AM - INFO - {'activation': 'elu', 'nb_layers': 5, 'optimizer': 'rmsprop', 'nb_neurons': [32, 128, 128, 64, 32, 16]}\n",
            "04/23/2022 07:48:52 AM - INFO - Acc: 0.00%\n",
            "04/23/2022 07:48:52 AM - INFO - UniID: 34\n",
            "04/23/2022 07:48:52 AM - INFO - Mom and Dad: 8 22\n",
            "04/23/2022 07:48:52 AM - INFO - Gen: 2\n",
            "04/23/2022 07:48:52 AM - INFO - Hash: 1048522d27d4ee88b3c8a176f358953d\n",
            "04/23/2022 07:48:52 AM - INFO - {'activation': 'tanh', 'nb_layers': 4, 'optimizer': 'adamax', 'nb_neurons': [128, 128, 16, 128, 32, 64]}\n",
            "04/23/2022 07:48:52 AM - INFO - Acc: 0.00%\n",
            "04/23/2022 07:48:52 AM - INFO - UniID: 35\n",
            "04/23/2022 07:48:52 AM - INFO - Mom and Dad: 28 22\n",
            "04/23/2022 07:48:52 AM - INFO - Gen: 2\n",
            "04/23/2022 07:48:52 AM - INFO - Hash: f2eb11689ffd08ea8c75262a972de556\n",
            "04/23/2022 07:48:52 AM - INFO - {'activation': 'elu', 'nb_layers': 2, 'optimizer': 'adam', 'nb_neurons': [32, 64, 32, 128, 32, 16]}\n",
            "04/23/2022 07:48:52 AM - INFO - Acc: 0.00%\n",
            "04/23/2022 07:48:52 AM - INFO - UniID: 36\n",
            "04/23/2022 07:48:52 AM - INFO - Mom and Dad: 28 22\n",
            "04/23/2022 07:48:52 AM - INFO - Gen: 2\n",
            "04/23/2022 07:48:52 AM - INFO - Hash: 458c324c642398c89af2911239396529\n",
            "04/23/2022 07:48:52 AM - INFO - {'activation': 'softplus', 'nb_layers': 5, 'optimizer': 'adamax', 'nb_neurons': [32, 64, 16, 16, 32, 64]}\n",
            "04/23/2022 07:48:52 AM - INFO - Acc: 0.00%\n",
            "04/23/2022 07:48:52 AM - INFO - UniID: 37\n",
            "04/23/2022 07:48:52 AM - INFO - Mom and Dad: 18 22\n",
            "04/23/2022 07:48:52 AM - INFO - Gen: 2\n",
            "04/23/2022 07:48:52 AM - INFO - Hash: 53c089f8c40983c976c90ff5b2df0dd8\n",
            "04/23/2022 07:48:52 AM - INFO - {'activation': 'elu', 'nb_layers': 1, 'optimizer': 'adam', 'nb_neurons': [32, 128, 32, 64, 128, 32]}\n",
            "04/23/2022 07:48:52 AM - INFO - Acc: 0.00%\n",
            "04/23/2022 07:48:52 AM - INFO - UniID: 38\n",
            "04/23/2022 07:48:52 AM - INFO - Mom and Dad: 18 22\n",
            "04/23/2022 07:48:52 AM - INFO - Gen: 2\n",
            "04/23/2022 07:48:52 AM - INFO - Hash: 6c5193d4c9d6794f8708f6c20f6c65fc\n",
            "04/23/2022 07:48:52 AM - INFO - {'activation': 'elu', 'nb_layers': 3, 'optimizer': 'adamax', 'nb_neurons': [16, 64, 16, 16, 64, 64]}\n",
            "04/23/2022 07:48:52 AM - INFO - Acc: 0.00%\n",
            "04/23/2022 07:48:52 AM - INFO - UniID: 39\n",
            "04/23/2022 07:48:52 AM - INFO - Mom and Dad: 8 22\n",
            "04/23/2022 07:48:52 AM - INFO - Gen: 2\n",
            "04/23/2022 07:48:52 AM - INFO - Hash: 1d119f2827a7bdb118ad7764b15a074a\n",
            "04/23/2022 07:48:52 AM - INFO - {'activation': 'elu', 'nb_layers': 5, 'optimizer': 'sgd', 'nb_neurons': [32, 128, 128, 64, 32, 16]}\n",
            "04/23/2022 07:48:52 AM - INFO - Acc: 0.00%\n",
            "04/23/2022 07:48:52 AM - INFO - UniID: 40\n",
            "04/23/2022 07:48:52 AM - INFO - Mom and Dad: 8 22\n",
            "04/23/2022 07:48:52 AM - INFO - Gen: 2\n",
            "04/23/2022 07:48:52 AM - INFO - Hash: 833508724a0c9997cba345019e523dd0\n",
            "04/23/2022 07:48:52 AM - INFO - {'activation': 'tanh', 'nb_layers': 5, 'optimizer': 'rmsprop', 'nb_neurons': [32, 128, 128, 32, 32, 32]}\n",
            "04/23/2022 07:48:52 AM - INFO - Acc: 0.00%\n",
            "04/23/2022 07:48:52 AM - INFO - UniID: 41\n",
            "04/23/2022 07:48:52 AM - INFO - Mom and Dad: 28 13\n",
            "04/23/2022 07:48:52 AM - INFO - Gen: 2\n",
            "04/23/2022 07:48:52 AM - INFO - Hash: a9d036835efe11575152e9d84291c66e\n",
            "04/23/2022 07:48:52 AM - INFO - {'activation': 'linear', 'nb_layers': 4, 'optimizer': 'adam', 'nb_neurons': [128, 128, 32, 128, 32, 16]}\n",
            "04/23/2022 07:48:52 AM - INFO - Acc: 0.00%\n",
            "04/23/2022 07:48:52 AM - INFO - UniID: 42\n",
            "04/23/2022 07:48:52 AM - INFO - Mom and Dad: 28 13\n",
            "04/23/2022 07:48:52 AM - INFO - Gen: 2\n",
            "04/23/2022 07:48:52 AM - INFO - Hash: 3107c9c1a605ae71de29749cc389eb61\n",
            "04/23/2022 07:48:52 AM - INFO - {'activation': 'elu', 'nb_layers': 5, 'optimizer': 'adam', 'nb_neurons': [32, 64, 16, 16, 128, 32]}\n",
            "04/23/2022 07:48:52 AM - INFO - Acc: 0.00%\n",
            "04/23/2022 07:48:52 AM - INFO - UniID: 43\n",
            "04/23/2022 07:48:52 AM - INFO - Mom and Dad: 22 18\n",
            "04/23/2022 07:48:52 AM - INFO - Gen: 2\n",
            "04/23/2022 07:48:52 AM - INFO - Hash: 586ef6dac4f56600210fb0d833a33043\n",
            "04/23/2022 07:48:52 AM - INFO - {'activation': 'softplus', 'nb_layers': 1, 'optimizer': 'adamax', 'nb_neurons': [32, 128, 32, 64, 32, 64]}\n",
            "04/23/2022 07:48:52 AM - INFO - Acc: 0.00%\n",
            "04/23/2022 07:48:52 AM - INFO - UniID: 44\n",
            "04/23/2022 07:48:52 AM - INFO - Mom and Dad: 22 18\n",
            "04/23/2022 07:48:52 AM - INFO - Gen: 2\n",
            "04/23/2022 07:48:52 AM - INFO - Hash: e71c560bfcb393c7802abc607712edf4\n",
            "04/23/2022 07:48:52 AM - INFO - {'activation': 'elu', 'nb_layers': 3, 'optimizer': 'adam', 'nb_neurons': [16, 128, 128, 64, 32, 16]}\n",
            "04/23/2022 07:48:52 AM - INFO - Acc: 0.00%\n",
            "04/23/2022 07:48:52 AM - INFO - UniID: 45\n",
            "04/23/2022 07:48:52 AM - INFO - Mom and Dad: 8 28\n",
            "04/23/2022 07:48:52 AM - INFO - Gen: 2\n",
            "04/23/2022 07:48:52 AM - INFO - Hash: e97a341a4589ffb7ff789f4868514400\n",
            "04/23/2022 07:48:52 AM - INFO - {'activation': 'tanh', 'nb_layers': 4, 'optimizer': 'sgd', 'nb_neurons': [128, 128, 32, 128, 32, 16]}\n",
            "04/23/2022 07:48:52 AM - INFO - Acc: 0.00%\n",
            "04/23/2022 07:48:52 AM - INFO - UniID: 46\n",
            "04/23/2022 07:48:52 AM - INFO - Mom and Dad: 8 28\n",
            "04/23/2022 07:48:52 AM - INFO - Gen: 2\n",
            "04/23/2022 07:48:52 AM - INFO - Hash: 6cbae433d513eadc32e030082ec9b0d4\n",
            "04/23/2022 07:48:52 AM - INFO - {'activation': 'tanh', 'nb_layers': 5, 'optimizer': 'adamax', 'nb_neurons': [32, 64, 16, 16, 32, 64]}\n",
            "04/23/2022 07:48:52 AM - INFO - Acc: 0.00%\n",
            "04/23/2022 07:48:52 AM - INFO - UniID: 47\n",
            "04/23/2022 07:48:52 AM - INFO - Mom and Dad: 28 22\n",
            "04/23/2022 07:48:52 AM - INFO - Gen: 2\n",
            "04/23/2022 07:48:52 AM - INFO - Hash: 6bfc5002b586f2fe20555d62f582bb65\n",
            "04/23/2022 07:48:52 AM - INFO - {'activation': 'elu', 'nb_layers': 4, 'optimizer': 'adam', 'nb_neurons': [128, 128, 32, 128, 64, 16]}\n",
            "04/23/2022 07:48:52 AM - INFO - Acc: 0.00%\n",
            "04/23/2022 07:48:52 AM - INFO - UniID: 48\n",
            "04/23/2022 07:48:52 AM - INFO - Mom and Dad: 28 22\n",
            "04/23/2022 07:48:52 AM - INFO - Gen: 2\n",
            "04/23/2022 07:48:52 AM - INFO - Hash: 72313208794d93a877fdce131b98910b\n",
            "04/23/2022 07:48:52 AM - INFO - {'activation': 'linear', 'nb_layers': 5, 'optimizer': 'adam', 'nb_neurons': [32, 128, 128, 32, 32, 32]}\n",
            "04/23/2022 07:48:52 AM - INFO - Acc: 0.00%\n",
            "04/23/2022 07:48:53 AM - INFO - UniID: 49\n",
            "04/23/2022 07:48:53 AM - INFO - Mom and Dad: 13 18\n",
            "04/23/2022 07:48:53 AM - INFO - Gen: 2\n",
            "04/23/2022 07:48:53 AM - INFO - Hash: da991cef803d38deeda57f418cdf74a8\n",
            "04/23/2022 07:48:53 AM - INFO - {'activation': 'softplus', 'nb_layers': 1, 'optimizer': 'rmsprop', 'nb_neurons': [32, 128, 32, 64, 128, 32]}\n",
            "04/23/2022 07:48:53 AM - INFO - Acc: 0.00%\n",
            "04/23/2022 07:48:53 AM - INFO - UniID: 50\n",
            "04/23/2022 07:48:53 AM - INFO - Mom and Dad: 13 18\n",
            "04/23/2022 07:48:53 AM - INFO - Gen: 2\n",
            "04/23/2022 07:48:53 AM - INFO - Hash: 75419c358f3f89c7b94c7ef85ea3726a\n",
            "04/23/2022 07:48:53 AM - INFO - {'activation': 'elu', 'nb_layers': 5, 'optimizer': 'adam', 'nb_neurons': [32, 32, 32, 128, 32, 16]}\n",
            "04/23/2022 07:48:53 AM - INFO - Acc: 0.00%\n",
            "04/23/2022 07:48:53 AM - INFO - UniID: 51\n",
            "04/23/2022 07:48:53 AM - INFO - Mom and Dad: 22 28\n",
            "04/23/2022 07:48:53 AM - INFO - Gen: 2\n",
            "04/23/2022 07:48:53 AM - INFO - Hash: 13ec8d8b560925432d94e768fe91ac34\n",
            "04/23/2022 07:48:53 AM - INFO - {'activation': 'tanh', 'nb_layers': 4, 'optimizer': 'adam', 'nb_neurons': [128, 128, 16, 16, 32, 64]}\n",
            "04/23/2022 07:48:53 AM - INFO - Acc: 0.00%\n",
            "04/23/2022 07:48:53 AM - INFO - UniID: 52\n",
            "04/23/2022 07:48:53 AM - INFO - Mom and Dad: 22 28\n",
            "04/23/2022 07:48:53 AM - INFO - Gen: 2\n",
            "04/23/2022 07:48:53 AM - INFO - Hash: 6dadcdee8aed99d722d335b31898e5a6\n",
            "04/23/2022 07:48:53 AM - INFO - {'activation': 'tanh', 'nb_layers': 4, 'optimizer': 'sgd', 'nb_neurons': [128, 128, 128, 64, 32, 16]}\n",
            "04/23/2022 07:48:53 AM - INFO - Acc: 0.00%\n",
            "04/23/2022 07:48:53 AM - INFO - UniID: 53\n",
            "04/23/2022 07:48:53 AM - INFO - Mom and Dad: 28 8\n",
            "04/23/2022 07:48:53 AM - INFO - Gen: 2\n",
            "04/23/2022 07:48:53 AM - INFO - Hash: a208b0ab37a40f715a5e2dce377cf9e6\n",
            "04/23/2022 07:48:53 AM - INFO - {'activation': 'elu', 'nb_layers': 3, 'optimizer': 'adam', 'nb_neurons': [16, 128, 32, 128, 32, 16]}\n",
            "04/23/2022 07:48:53 AM - INFO - Acc: 0.00%\n",
            "04/23/2022 07:48:53 AM - INFO - UniID: 54\n",
            "04/23/2022 07:48:53 AM - INFO - Mom and Dad: 28 8\n",
            "04/23/2022 07:48:53 AM - INFO - Gen: 2\n",
            "04/23/2022 07:48:53 AM - INFO - Hash: 5ecd376af84c2d1c306acf2403f63f12\n",
            "04/23/2022 07:48:53 AM - INFO - ***train_networks(networks, dataset)***\n",
            "  0%|          | 0/30 [00:00<?, ?it/s]04/23/2022 07:48:53 AM - INFO - Getting Keras datasets\n",
            "04/23/2022 07:48:53 AM - INFO - Compling Keras model\n",
            "04/23/2022 07:48:53 AM - INFO - Architecture:[32, 128, 32, 64, 128, 32],softplus,adam,1\n"
          ]
        },
        {
          "output_type": "stream",
          "name": "stdout",
          "text": [
            "Epoch 1/3\n",
            "2/2 [==============================] - 1s 195ms/step - loss: 7.1461 - accuracy: 0.3600 - val_loss: 3.0105 - val_accuracy: 0.5000\n",
            "Epoch 2/3\n",
            "2/2 [==============================] - 0s 67ms/step - loss: 3.1420 - accuracy: 0.5200 - val_loss: 1.9361 - val_accuracy: 0.5000\n",
            "Epoch 3/3\n",
            "2/2 [==============================] - 0s 79ms/step - loss: 2.1277 - accuracy: 0.4400 - val_loss: 0.6985 - val_accuracy: 0.5000\n"
          ]
        },
        {
          "output_type": "stream",
          "name": "stderr",
          "text": [
            "\r 17%|█▋        | 5/30 [00:01<00:08,  3.01it/s]04/23/2022 07:48:54 AM - INFO - Getting Keras datasets\n",
            "04/23/2022 07:48:54 AM - INFO - Compling Keras model\n",
            "04/23/2022 07:48:54 AM - INFO - Architecture:[16, 128, 32, 64, 16, 128],hard_sigmoid,adagrad,5\n"
          ]
        },
        {
          "output_type": "stream",
          "name": "stdout",
          "text": [
            "Test loss: 0.698459804058075\n",
            "Test accuracy: 0.5\n",
            "Epoch 1/3\n",
            "2/2 [==============================] - 1s 302ms/step - loss: 0.9288 - accuracy: 0.3800 - val_loss: 0.7172 - val_accuracy: 0.5000\n",
            "Epoch 2/3\n",
            "2/2 [==============================] - 0s 104ms/step - loss: 0.9290 - accuracy: 0.4400 - val_loss: 0.7113 - val_accuracy: 0.5000\n",
            "Epoch 3/3\n",
            "2/2 [==============================] - 0s 107ms/step - loss: 0.8848 - accuracy: 0.4800 - val_loss: 0.7072 - val_accuracy: 0.5000\n"
          ]
        },
        {
          "output_type": "stream",
          "name": "stderr",
          "text": [
            "\r 20%|██        | 6/30 [00:04<00:19,  1.25it/s]04/23/2022 07:48:57 AM - INFO - Getting Keras datasets\n",
            "04/23/2022 07:48:57 AM - INFO - Compling Keras model\n",
            "04/23/2022 07:48:57 AM - INFO - Architecture:[32, 64, 32, 128, 32, 16],elu,adam,5\n"
          ]
        },
        {
          "output_type": "stream",
          "name": "stdout",
          "text": [
            "Test loss: 0.7071506977081299\n",
            "Test accuracy: 0.5\n",
            "Epoch 1/3\n",
            "2/2 [==============================] - 1s 256ms/step - loss: 0.8103 - accuracy: 0.5400 - val_loss: 0.6786 - val_accuracy: 0.5200\n",
            "Epoch 2/3\n",
            "2/2 [==============================] - 0s 112ms/step - loss: 0.7004 - accuracy: 0.5600 - val_loss: 0.6751 - val_accuracy: 0.5000\n",
            "Epoch 3/3\n",
            "2/2 [==============================] - 0s 108ms/step - loss: 0.7279 - accuracy: 0.4600 - val_loss: 0.6451 - val_accuracy: 0.7400\n"
          ]
        },
        {
          "output_type": "stream",
          "name": "stderr",
          "text": [
            "\r 23%|██▎       | 7/30 [00:05<00:23,  1.02s/it]04/23/2022 07:48:58 AM - INFO - Getting Keras datasets\n",
            "04/23/2022 07:48:58 AM - INFO - Compling Keras model\n",
            "04/23/2022 07:48:58 AM - INFO - Architecture:[128, 128, 16, 16, 32, 64],tanh,adamax,4\n"
          ]
        },
        {
          "output_type": "stream",
          "name": "stdout",
          "text": [
            "Test loss: 0.6451358199119568\n",
            "Test accuracy: 0.7400000095367432\n",
            "Epoch 1/3\n",
            "2/2 [==============================] - 1s 420ms/step - loss: 0.8128 - accuracy: 0.4800 - val_loss: 0.6869 - val_accuracy: 0.5000\n",
            "Epoch 2/3\n",
            "2/2 [==============================] - 0s 273ms/step - loss: 0.8406 - accuracy: 0.4600 - val_loss: 0.7180 - val_accuracy: 0.5000\n",
            "Epoch 3/3\n",
            "2/2 [==============================] - 0s 264ms/step - loss: 0.9030 - accuracy: 0.5000 - val_loss: 0.6540 - val_accuracy: 0.5800\n"
          ]
        },
        {
          "output_type": "stream",
          "name": "stderr",
          "text": [
            "\r 27%|██▋       | 8/30 [00:08<00:30,  1.40s/it]04/23/2022 07:49:01 AM - INFO - Getting Keras datasets\n",
            "04/23/2022 07:49:01 AM - INFO - Compling Keras model\n",
            "04/23/2022 07:49:01 AM - INFO - Architecture:[16, 64, 16, 16, 32, 64],elu,adamax,3\n"
          ]
        },
        {
          "output_type": "stream",
          "name": "stdout",
          "text": [
            "Test loss: 0.6540340185165405\n",
            "Test accuracy: 0.5799999833106995\n",
            "Epoch 1/3\n",
            "2/2 [==============================] - 1s 230ms/step - loss: 0.8245 - accuracy: 0.4400 - val_loss: 0.7297 - val_accuracy: 0.5000\n",
            "Epoch 2/3\n",
            "2/2 [==============================] - 0s 71ms/step - loss: 0.8350 - accuracy: 0.5600 - val_loss: 0.6868 - val_accuracy: 0.6400\n",
            "Epoch 3/3\n",
            "2/2 [==============================] - 0s 75ms/step - loss: 0.7122 - accuracy: 0.5000 - val_loss: 0.6833 - val_accuracy: 0.5000\n",
            "Test loss: 0.6832866072654724\n",
            "Test accuracy: 0.5\n"
          ]
        },
        {
          "output_type": "stream",
          "name": "stderr",
          "text": [
            "\r 30%|███       | 9/30 [00:10<00:31,  1.49s/it]04/23/2022 07:49:03 AM - INFO - Getting Keras datasets\n",
            "04/23/2022 07:49:03 AM - INFO - Compling Keras model\n",
            "04/23/2022 07:49:03 AM - INFO - Architecture:[32, 128, 128, 64, 32, 16],elu,rmsprop,5\n"
          ]
        },
        {
          "output_type": "stream",
          "name": "stdout",
          "text": [
            "Epoch 1/3\n",
            "2/2 [==============================] - 1s 311ms/step - loss: 2.0027 - accuracy: 0.6000 - val_loss: 2.0439 - val_accuracy: 0.5000\n",
            "Epoch 2/3\n",
            "2/2 [==============================] - 0s 147ms/step - loss: 1.3959 - accuracy: 0.4800 - val_loss: 0.7523 - val_accuracy: 0.5000\n",
            "Epoch 3/3\n",
            "2/2 [==============================] - 0s 144ms/step - loss: 1.0160 - accuracy: 0.5400 - val_loss: 0.6868 - val_accuracy: 0.5400\n"
          ]
        },
        {
          "output_type": "stream",
          "name": "stderr",
          "text": [
            "\r 33%|███▎      | 10/30 [00:12<00:36,  1.83s/it]04/23/2022 07:49:05 AM - INFO - Getting Keras datasets\n",
            "04/23/2022 07:49:05 AM - INFO - Compling Keras model\n",
            "04/23/2022 07:49:05 AM - INFO - Architecture:[128, 128, 16, 128, 32, 64],tanh,adamax,4\n"
          ]
        },
        {
          "output_type": "stream",
          "name": "stdout",
          "text": [
            "Test loss: 0.686811089515686\n",
            "Test accuracy: 0.5400000214576721\n",
            "Epoch 1/3\n",
            "2/2 [==============================] - 1s 421ms/step - loss: 0.7247 - accuracy: 0.5400 - val_loss: 0.7461 - val_accuracy: 0.5000\n",
            "Epoch 2/3\n",
            "2/2 [==============================] - 0s 270ms/step - loss: 0.8524 - accuracy: 0.5000 - val_loss: 0.6954 - val_accuracy: 0.5000\n",
            "Epoch 3/3\n",
            "2/2 [==============================] - 0s 267ms/step - loss: 0.7994 - accuracy: 0.4600 - val_loss: 0.6925 - val_accuracy: 0.5000\n"
          ]
        },
        {
          "output_type": "stream",
          "name": "stderr",
          "text": [
            "\r 37%|███▋      | 11/30 [00:16<00:44,  2.33s/it]04/23/2022 07:49:09 AM - INFO - Getting Keras datasets\n",
            "04/23/2022 07:49:09 AM - INFO - Compling Keras model\n",
            "04/23/2022 07:49:09 AM - INFO - Architecture:[32, 64, 32, 128, 32, 16],elu,adam,2\n"
          ]
        },
        {
          "output_type": "stream",
          "name": "stdout",
          "text": [
            "Test loss: 0.6925476789474487\n",
            "Test accuracy: 0.5\n",
            "Epoch 1/3\n",
            "2/2 [==============================] - 1s 231ms/step - loss: 0.9565 - accuracy: 0.4800 - val_loss: 0.6699 - val_accuracy: 0.5400\n",
            "Epoch 2/3\n",
            "2/2 [==============================] - 0s 84ms/step - loss: 0.7285 - accuracy: 0.5600 - val_loss: 0.6507 - val_accuracy: 0.7000\n",
            "Epoch 3/3\n",
            "2/2 [==============================] - 0s 101ms/step - loss: 0.7068 - accuracy: 0.6000 - val_loss: 0.6597 - val_accuracy: 0.5200\n"
          ]
        },
        {
          "output_type": "stream",
          "name": "stderr",
          "text": [
            "\r 40%|████      | 12/30 [00:17<00:37,  2.07s/it]04/23/2022 07:49:10 AM - INFO - Getting Keras datasets\n",
            "04/23/2022 07:49:10 AM - INFO - Compling Keras model\n",
            "04/23/2022 07:49:10 AM - INFO - Architecture:[32, 64, 16, 16, 32, 64],softplus,adamax,5\n"
          ]
        },
        {
          "output_type": "stream",
          "name": "stdout",
          "text": [
            "Test loss: 0.6596653461456299\n",
            "Test accuracy: 0.5199999809265137\n",
            "Epoch 1/3\n",
            "2/2 [==============================] - 1s 278ms/step - loss: 0.9747 - accuracy: 0.5000 - val_loss: 0.7561 - val_accuracy: 0.5000\n",
            "Epoch 2/3\n",
            "2/2 [==============================] - 0s 108ms/step - loss: 1.0991 - accuracy: 0.4000 - val_loss: 0.7122 - val_accuracy: 0.5000\n",
            "Epoch 3/3\n",
            "2/2 [==============================] - 0s 104ms/step - loss: 0.7452 - accuracy: 0.6400 - val_loss: 0.6959 - val_accuracy: 0.5000\n"
          ]
        },
        {
          "output_type": "stream",
          "name": "stderr",
          "text": [
            "\r 43%|████▎     | 13/30 [00:19<00:33,  1.98s/it]04/23/2022 07:49:12 AM - INFO - Getting Keras datasets\n",
            "04/23/2022 07:49:12 AM - INFO - Compling Keras model\n",
            "04/23/2022 07:49:12 AM - INFO - Architecture:[32, 128, 32, 64, 128, 32],elu,adam,1\n"
          ]
        },
        {
          "output_type": "stream",
          "name": "stdout",
          "text": [
            "Test loss: 0.6959240436553955\n",
            "Test accuracy: 0.5\n",
            "Epoch 1/3\n",
            "2/2 [==============================] - 1s 192ms/step - loss: 2.0938 - accuracy: 0.4400 - val_loss: 2.2913 - val_accuracy: 0.5000\n",
            "Epoch 2/3\n",
            "2/2 [==============================] - 0s 62ms/step - loss: 1.9464 - accuracy: 0.4200 - val_loss: 0.8022 - val_accuracy: 0.5000\n",
            "Epoch 3/3\n",
            "2/2 [==============================] - 0s 63ms/step - loss: 1.0532 - accuracy: 0.4600 - val_loss: 1.1915 - val_accuracy: 0.5000\n"
          ]
        },
        {
          "output_type": "stream",
          "name": "stderr",
          "text": [
            "\r 47%|████▋     | 14/30 [00:20<00:28,  1.80s/it]04/23/2022 07:49:13 AM - INFO - Getting Keras datasets\n",
            "04/23/2022 07:49:13 AM - INFO - Compling Keras model\n",
            "04/23/2022 07:49:13 AM - INFO - Architecture:[16, 64, 16, 16, 64, 64],elu,adamax,3\n"
          ]
        },
        {
          "output_type": "stream",
          "name": "stdout",
          "text": [
            "Test loss: 1.1914669275283813\n",
            "Test accuracy: 0.5\n",
            "Epoch 1/3\n",
            "2/2 [==============================] - 1s 230ms/step - loss: 0.9426 - accuracy: 0.4000 - val_loss: 0.7225 - val_accuracy: 0.5000\n",
            "Epoch 2/3\n",
            "2/2 [==============================] - 0s 73ms/step - loss: 0.7748 - accuracy: 0.5600 - val_loss: 0.6792 - val_accuracy: 0.5400\n",
            "Epoch 3/3\n",
            "2/2 [==============================] - 0s 72ms/step - loss: 0.6861 - accuracy: 0.5000 - val_loss: 0.6975 - val_accuracy: 0.5000\n"
          ]
        },
        {
          "output_type": "stream",
          "name": "stderr",
          "text": [
            "\r 50%|█████     | 15/30 [00:22<00:25,  1.71s/it]04/23/2022 07:49:15 AM - INFO - Getting Keras datasets\n",
            "04/23/2022 07:49:15 AM - INFO - Compling Keras model\n",
            "04/23/2022 07:49:15 AM - INFO - Architecture:[32, 128, 128, 64, 32, 16],elu,sgd,5\n"
          ]
        },
        {
          "output_type": "stream",
          "name": "stdout",
          "text": [
            "Test loss: 0.6975364089012146\n",
            "Test accuracy: 0.5\n",
            "Epoch 1/3\n",
            "2/2 [==============================] - 1s 308ms/step - loss: 0.7735 - accuracy: 0.4000 - val_loss: 0.6766 - val_accuracy: 0.6800\n",
            "Epoch 2/3\n",
            "2/2 [==============================] - 0s 147ms/step - loss: 0.7902 - accuracy: 0.5000 - val_loss: 0.6745 - val_accuracy: 0.6000\n",
            "Epoch 3/3\n",
            "2/2 [==============================] - 0s 145ms/step - loss: 0.7195 - accuracy: 0.5200 - val_loss: 0.6746 - val_accuracy: 0.5200\n"
          ]
        },
        {
          "output_type": "stream",
          "name": "stderr",
          "text": [
            "\r 53%|█████▎    | 16/30 [00:24<00:26,  1.86s/it]04/23/2022 07:49:17 AM - INFO - Getting Keras datasets\n",
            "04/23/2022 07:49:17 AM - INFO - Compling Keras model\n",
            "04/23/2022 07:49:17 AM - INFO - Architecture:[32, 128, 128, 32, 32, 32],tanh,rmsprop,5\n"
          ]
        },
        {
          "output_type": "stream",
          "name": "stdout",
          "text": [
            "Test loss: 0.6745741367340088\n",
            "Test accuracy: 0.5199999809265137\n",
            "Epoch 1/3\n",
            "2/2 [==============================] - 1s 328ms/step - loss: 0.8686 - accuracy: 0.4000 - val_loss: 0.6838 - val_accuracy: 0.5000\n",
            "Epoch 2/3\n",
            "2/2 [==============================] - 0s 155ms/step - loss: 0.9686 - accuracy: 0.4800 - val_loss: 0.7086 - val_accuracy: 0.5000\n",
            "Epoch 3/3\n",
            "2/2 [==============================] - 0s 141ms/step - loss: 0.7432 - accuracy: 0.6000 - val_loss: 0.8000 - val_accuracy: 0.5000\n"
          ]
        },
        {
          "output_type": "stream",
          "name": "stderr",
          "text": [
            "\r 57%|█████▋    | 17/30 [00:27<00:27,  2.11s/it]04/23/2022 07:49:20 AM - INFO - Getting Keras datasets\n",
            "04/23/2022 07:49:20 AM - INFO - Compling Keras model\n",
            "04/23/2022 07:49:20 AM - INFO - Architecture:[128, 128, 32, 128, 32, 16],linear,adam,4\n"
          ]
        },
        {
          "output_type": "stream",
          "name": "stdout",
          "text": [
            "Test loss: 0.8000149726867676\n",
            "Test accuracy: 0.5\n",
            "Epoch 1/3\n",
            "2/2 [==============================] - 1s 415ms/step - loss: 0.7725 - accuracy: 0.5400 - val_loss: 0.7177 - val_accuracy: 0.5000\n",
            "Epoch 2/3\n",
            "2/2 [==============================] - 0s 270ms/step - loss: 0.8447 - accuracy: 0.5400 - val_loss: 0.6792 - val_accuracy: 0.5000\n",
            "Epoch 3/3\n",
            "2/2 [==============================] - 0s 259ms/step - loss: 0.6968 - accuracy: 0.5600 - val_loss: 0.7023 - val_accuracy: 0.5000\n"
          ]
        },
        {
          "output_type": "stream",
          "name": "stderr",
          "text": [
            "\r 60%|██████    | 18/30 [00:29<00:26,  2.22s/it]04/23/2022 07:49:22 AM - INFO - Getting Keras datasets\n",
            "04/23/2022 07:49:22 AM - INFO - Compling Keras model\n",
            "04/23/2022 07:49:22 AM - INFO - Architecture:[32, 64, 16, 16, 128, 32],elu,adam,5\n"
          ]
        },
        {
          "output_type": "stream",
          "name": "stdout",
          "text": [
            "Test loss: 0.7023098468780518\n",
            "Test accuracy: 0.5\n",
            "Epoch 1/3\n",
            "2/2 [==============================] - 1s 271ms/step - loss: 0.7516 - accuracy: 0.4200 - val_loss: 0.6869 - val_accuracy: 0.5000\n",
            "Epoch 2/3\n",
            "2/2 [==============================] - 0s 93ms/step - loss: 0.6922 - accuracy: 0.5400 - val_loss: 0.6936 - val_accuracy: 0.5000\n",
            "Epoch 3/3\n",
            "2/2 [==============================] - 0s 96ms/step - loss: 0.6820 - accuracy: 0.5200 - val_loss: 0.6869 - val_accuracy: 0.5000\n"
          ]
        },
        {
          "output_type": "stream",
          "name": "stderr",
          "text": [
            "\r 63%|██████▎   | 19/30 [00:31<00:22,  2.07s/it]04/23/2022 07:49:24 AM - INFO - Getting Keras datasets\n",
            "04/23/2022 07:49:24 AM - INFO - Compling Keras model\n",
            "04/23/2022 07:49:24 AM - INFO - Architecture:[32, 128, 32, 64, 32, 64],softplus,adamax,1\n"
          ]
        },
        {
          "output_type": "stream",
          "name": "stdout",
          "text": [
            "Test loss: 0.6869267225265503\n",
            "Test accuracy: 0.5\n",
            "Epoch 1/3\n",
            "2/2 [==============================] - 1s 200ms/step - loss: 5.6473 - accuracy: 0.6000 - val_loss: 5.9572 - val_accuracy: 0.5000\n",
            "Epoch 2/3\n",
            "2/2 [==============================] - 0s 72ms/step - loss: 4.2229 - accuracy: 0.4800 - val_loss: 0.9047 - val_accuracy: 0.5000\n",
            "Epoch 3/3\n",
            "2/2 [==============================] - 0s 74ms/step - loss: 1.2260 - accuracy: 0.5000 - val_loss: 1.0618 - val_accuracy: 0.5000\n"
          ]
        },
        {
          "output_type": "stream",
          "name": "stderr",
          "text": [
            "\r 67%|██████▋   | 20/30 [00:32<00:18,  1.86s/it]04/23/2022 07:49:25 AM - INFO - Getting Keras datasets\n",
            "04/23/2022 07:49:25 AM - INFO - Compling Keras model\n",
            "04/23/2022 07:49:25 AM - INFO - Architecture:[16, 128, 128, 64, 32, 16],elu,adam,3\n"
          ]
        },
        {
          "output_type": "stream",
          "name": "stdout",
          "text": [
            "Test loss: 1.0618103742599487\n",
            "Test accuracy: 0.5\n",
            "Epoch 1/3\n",
            "2/2 [==============================] - 1s 259ms/step - loss: 0.6495 - accuracy: 0.5200 - val_loss: 0.7201 - val_accuracy: 0.5000\n",
            "Epoch 2/3\n",
            "2/2 [==============================] - 0s 124ms/step - loss: 0.7914 - accuracy: 0.5200 - val_loss: 0.6463 - val_accuracy: 0.8000\n",
            "Epoch 3/3\n",
            "2/2 [==============================] - 0s 121ms/step - loss: 0.8207 - accuracy: 0.4600 - val_loss: 0.6263 - val_accuracy: 0.7600\n"
          ]
        },
        {
          "output_type": "stream",
          "name": "stderr",
          "text": [
            "\r 70%|███████   | 21/30 [00:34<00:16,  1.79s/it]04/23/2022 07:49:27 AM - INFO - Getting Keras datasets\n",
            "04/23/2022 07:49:27 AM - INFO - Compling Keras model\n",
            "04/23/2022 07:49:27 AM - INFO - Architecture:[128, 128, 32, 128, 32, 16],tanh,sgd,4\n"
          ]
        },
        {
          "output_type": "stream",
          "name": "stdout",
          "text": [
            "Test loss: 0.6262595653533936\n",
            "Test accuracy: 0.7599999904632568\n",
            "Epoch 1/3\n",
            "2/2 [==============================] - 1s 419ms/step - loss: 0.7866 - accuracy: 0.3800 - val_loss: 0.6832 - val_accuracy: 0.6200\n",
            "Epoch 2/3\n",
            "2/2 [==============================] - 0s 279ms/step - loss: 0.8018 - accuracy: 0.4600 - val_loss: 0.6822 - val_accuracy: 0.5000\n",
            "Epoch 3/3\n",
            "2/2 [==============================] - 0s 271ms/step - loss: 0.6655 - accuracy: 0.6600 - val_loss: 0.6784 - val_accuracy: 0.5200\n"
          ]
        },
        {
          "output_type": "stream",
          "name": "stderr",
          "text": [
            "\r 73%|███████▎  | 22/30 [00:37<00:18,  2.29s/it]04/23/2022 07:49:31 AM - INFO - Getting Keras datasets\n",
            "04/23/2022 07:49:31 AM - INFO - Compling Keras model\n",
            "04/23/2022 07:49:31 AM - INFO - Architecture:[32, 64, 16, 16, 32, 64],tanh,adamax,5\n"
          ]
        },
        {
          "output_type": "stream",
          "name": "stdout",
          "text": [
            "Test loss: 0.6783747673034668\n",
            "Test accuracy: 0.5199999809265137\n",
            "Epoch 1/3\n",
            "2/2 [==============================] - 1s 239ms/step - loss: 0.8022 - accuracy: 0.5200 - val_loss: 0.6959 - val_accuracy: 0.5000\n",
            "Epoch 2/3\n",
            "2/2 [==============================] - 0s 101ms/step - loss: 0.7286 - accuracy: 0.5400 - val_loss: 0.6892 - val_accuracy: 0.5000\n",
            "Epoch 3/3\n",
            "2/2 [==============================] - 0s 86ms/step - loss: 0.6561 - accuracy: 0.5400 - val_loss: 0.6827 - val_accuracy: 0.5000\n"
          ]
        },
        {
          "output_type": "stream",
          "name": "stderr",
          "text": [
            "\r 77%|███████▋  | 23/30 [00:39<00:14,  2.10s/it]04/23/2022 07:49:32 AM - INFO - Getting Keras datasets\n",
            "04/23/2022 07:49:32 AM - INFO - Compling Keras model\n",
            "04/23/2022 07:49:32 AM - INFO - Architecture:[128, 128, 32, 128, 64, 16],elu,adam,4\n"
          ]
        },
        {
          "output_type": "stream",
          "name": "stdout",
          "text": [
            "Test loss: 0.6826930046081543\n",
            "Test accuracy: 0.5\n",
            "Epoch 1/3\n",
            "2/2 [==============================] - 2s 438ms/step - loss: 1.4396 - accuracy: 0.5600 - val_loss: 0.6991 - val_accuracy: 0.5000\n",
            "Epoch 2/3\n",
            "2/2 [==============================] - 0s 279ms/step - loss: 0.9891 - accuracy: 0.3800 - val_loss: 0.6898 - val_accuracy: 0.5000\n",
            "Epoch 3/3\n",
            "2/2 [==============================] - 0s 287ms/step - loss: 0.7688 - accuracy: 0.5400 - val_loss: 0.7679 - val_accuracy: 0.5000\n"
          ]
        },
        {
          "output_type": "stream",
          "name": "stderr",
          "text": [
            "\r 80%|████████  | 24/30 [00:43<00:15,  2.66s/it]04/23/2022 07:49:36 AM - INFO - Getting Keras datasets\n",
            "04/23/2022 07:49:36 AM - INFO - Compling Keras model\n",
            "04/23/2022 07:49:36 AM - INFO - Architecture:[32, 128, 128, 32, 32, 32],linear,adam,5\n"
          ]
        },
        {
          "output_type": "stream",
          "name": "stdout",
          "text": [
            "Test loss: 0.767899751663208\n",
            "Test accuracy: 0.5\n",
            "Epoch 1/3\n",
            "2/2 [==============================] - 1s 293ms/step - loss: 1.5309 - accuracy: 0.4800 - val_loss: 0.8371 - val_accuracy: 0.5000\n",
            "Epoch 2/3\n",
            "2/2 [==============================] - 0s 133ms/step - loss: 0.9268 - accuracy: 0.6000 - val_loss: 0.6266 - val_accuracy: 0.6000\n",
            "Epoch 3/3\n",
            "2/2 [==============================] - 0s 133ms/step - loss: 0.7599 - accuracy: 0.6400 - val_loss: 0.6791 - val_accuracy: 0.5000\n"
          ]
        },
        {
          "output_type": "stream",
          "name": "stderr",
          "text": [
            "\r 83%|████████▎ | 25/30 [00:45<00:12,  2.42s/it]04/23/2022 07:49:38 AM - INFO - Getting Keras datasets\n",
            "04/23/2022 07:49:38 AM - INFO - Compling Keras model\n",
            "04/23/2022 07:49:38 AM - INFO - Architecture:[32, 128, 32, 64, 128, 32],softplus,rmsprop,1\n"
          ]
        },
        {
          "output_type": "stream",
          "name": "stdout",
          "text": [
            "Test loss: 0.6790801286697388\n",
            "Test accuracy: 0.5\n",
            "Epoch 1/3\n",
            "2/2 [==============================] - 1s 205ms/step - loss: 11.1528 - accuracy: 0.5400 - val_loss: 1.5592 - val_accuracy: 0.5000\n",
            "Epoch 2/3\n",
            "2/2 [==============================] - 0s 68ms/step - loss: 2.0236 - accuracy: 0.5800 - val_loss: 3.6867 - val_accuracy: 0.5000\n",
            "Epoch 3/3\n",
            "2/2 [==============================] - 0s 70ms/step - loss: 1.9569 - accuracy: 0.5200 - val_loss: 0.7076 - val_accuracy: 0.5000\n"
          ]
        },
        {
          "output_type": "stream",
          "name": "stderr",
          "text": [
            "\r 87%|████████▋ | 26/30 [00:46<00:08,  2.08s/it]04/23/2022 07:49:39 AM - INFO - Getting Keras datasets\n"
          ]
        },
        {
          "output_type": "stream",
          "name": "stdout",
          "text": [
            "Test loss: 0.7076307535171509\n",
            "Test accuracy: 0.5\n"
          ]
        },
        {
          "output_type": "stream",
          "name": "stderr",
          "text": [
            "04/23/2022 07:49:39 AM - INFO - Compling Keras model\n",
            "04/23/2022 07:49:39 AM - INFO - Architecture:[32, 32, 32, 128, 32, 16],elu,adam,5\n"
          ]
        },
        {
          "output_type": "stream",
          "name": "stdout",
          "text": [
            "Epoch 1/3\n",
            "2/2 [==============================] - 1s 252ms/step - loss: 0.8048 - accuracy: 0.4600 - val_loss: 0.7066 - val_accuracy: 0.5000\n",
            "Epoch 2/3\n",
            "2/2 [==============================] - 0s 82ms/step - loss: 0.8929 - accuracy: 0.4600 - val_loss: 0.6900 - val_accuracy: 0.5000\n",
            "Epoch 3/3\n",
            "2/2 [==============================] - 0s 83ms/step - loss: 0.7511 - accuracy: 0.4200 - val_loss: 0.6811 - val_accuracy: 0.5000\n"
          ]
        },
        {
          "output_type": "stream",
          "name": "stderr",
          "text": [
            "\r 90%|█████████ | 27/30 [00:48<00:05,  1.95s/it]04/23/2022 07:49:41 AM - INFO - Getting Keras datasets\n",
            "04/23/2022 07:49:41 AM - INFO - Compling Keras model\n",
            "04/23/2022 07:49:41 AM - INFO - Architecture:[128, 128, 16, 16, 32, 64],tanh,adam,4\n"
          ]
        },
        {
          "output_type": "stream",
          "name": "stdout",
          "text": [
            "Test loss: 0.6810761094093323\n",
            "Test accuracy: 0.5\n",
            "Epoch 1/3\n",
            "2/2 [==============================] - 1s 432ms/step - loss: 0.8700 - accuracy: 0.5200 - val_loss: 0.7193 - val_accuracy: 0.5000\n",
            "Epoch 2/3\n",
            "2/2 [==============================] - 0s 266ms/step - loss: 0.7004 - accuracy: 0.6000 - val_loss: 0.7017 - val_accuracy: 0.5000\n",
            "Epoch 3/3\n",
            "2/2 [==============================] - 0s 281ms/step - loss: 0.8350 - accuracy: 0.5000 - val_loss: 0.6753 - val_accuracy: 0.5400\n"
          ]
        },
        {
          "output_type": "stream",
          "name": "stderr",
          "text": [
            "\r 93%|█████████▎| 28/30 [00:51<00:04,  2.43s/it]04/23/2022 07:49:45 AM - INFO - Getting Keras datasets\n",
            "04/23/2022 07:49:45 AM - INFO - Compling Keras model\n",
            "04/23/2022 07:49:45 AM - INFO - Architecture:[128, 128, 128, 64, 32, 16],tanh,sgd,4\n"
          ]
        },
        {
          "output_type": "stream",
          "name": "stdout",
          "text": [
            "Test loss: 0.6752869486808777\n",
            "Test accuracy: 0.5400000214576721\n",
            "Epoch 1/3\n",
            "2/2 [==============================] - 1s 438ms/step - loss: 0.7285 - accuracy: 0.5400 - val_loss: 0.7078 - val_accuracy: 0.5000\n",
            "Epoch 2/3\n",
            "2/2 [==============================] - 0s 303ms/step - loss: 0.7866 - accuracy: 0.5200 - val_loss: 0.7128 - val_accuracy: 0.5000\n",
            "Epoch 3/3\n",
            "2/2 [==============================] - 0s 291ms/step - loss: 0.7992 - accuracy: 0.4800 - val_loss: 0.7239 - val_accuracy: 0.5000\n"
          ]
        },
        {
          "output_type": "stream",
          "name": "stderr",
          "text": [
            "\r 97%|█████████▋| 29/30 [00:55<00:02,  2.75s/it]04/23/2022 07:49:48 AM - INFO - Getting Keras datasets\n",
            "04/23/2022 07:49:48 AM - INFO - Compling Keras model\n",
            "04/23/2022 07:49:48 AM - INFO - Architecture:[16, 128, 32, 128, 32, 16],elu,adam,3\n"
          ]
        },
        {
          "output_type": "stream",
          "name": "stdout",
          "text": [
            "Test loss: 0.7239338755607605\n",
            "Test accuracy: 0.5\n",
            "Epoch 1/3\n",
            "2/2 [==============================] - 1s 230ms/step - loss: 0.8646 - accuracy: 0.3800 - val_loss: 0.6763 - val_accuracy: 0.5000\n",
            "Epoch 2/3\n",
            "2/2 [==============================] - 0s 104ms/step - loss: 0.7985 - accuracy: 0.5200 - val_loss: 0.7292 - val_accuracy: 0.5000\n",
            "Epoch 3/3\n",
            "2/2 [==============================] - 0s 88ms/step - loss: 0.6650 - accuracy: 0.6600 - val_loss: 0.6494 - val_accuracy: 0.5200\n"
          ]
        },
        {
          "output_type": "stream",
          "name": "stderr",
          "text": [
            "100%|██████████| 30/30 [00:56<00:00,  1.90s/it]\n",
            "04/23/2022 07:49:50 AM - INFO - Generation average: 55.20%\n",
            "04/23/2022 07:49:50 AM - INFO - --------------------------------------------------------------------------------\n",
            "04/23/2022 07:49:50 AM - INFO - ***Now in generation 3 of 8***\n",
            "04/23/2022 07:49:50 AM - INFO - --------------------------------------------------------------------------------\n",
            "04/23/2022 07:49:50 AM - INFO - {'nb_layers': 5, 'activation': 'linear', 'optimizer': 'rmsprop', 'nb_neurons': [32, 128, 128, 32, 32, 32]}\n",
            "04/23/2022 07:49:50 AM - INFO - Acc: 76.00%\n",
            "04/23/2022 07:49:50 AM - INFO - UniID: 13\n",
            "04/23/2022 07:49:50 AM - INFO - Mom and Dad: 0 0\n",
            "04/23/2022 07:49:50 AM - INFO - Gen: 1\n",
            "04/23/2022 07:49:50 AM - INFO - Hash: 89d4c9327f8fe5594bda5dd0d8ad8c34\n",
            "04/23/2022 07:49:50 AM - INFO - {'nb_layers': 5, 'activation': 'elu', 'optimizer': 'adamax', 'nb_neurons': [32, 64, 16, 16, 32, 64]}\n",
            "04/23/2022 07:49:50 AM - INFO - Acc: 76.00%\n",
            "04/23/2022 07:49:50 AM - INFO - UniID: 22\n",
            "04/23/2022 07:49:50 AM - INFO - Mom and Dad: 0 0\n",
            "04/23/2022 07:49:50 AM - INFO - Gen: 1\n",
            "04/23/2022 07:49:50 AM - INFO - Hash: c7f2e8cba3a1311187ad10cf251cb872\n",
            "04/23/2022 07:49:50 AM - INFO - {'nb_layers': 4, 'activation': 'tanh', 'optimizer': 'adam', 'nb_neurons': [128, 128, 32, 128, 32, 16]}\n",
            "04/23/2022 07:49:50 AM - INFO - Acc: 76.00%\n",
            "04/23/2022 07:49:50 AM - INFO - UniID: 28\n",
            "04/23/2022 07:49:50 AM - INFO - Mom and Dad: 0 0\n",
            "04/23/2022 07:49:50 AM - INFO - Gen: 1\n",
            "04/23/2022 07:49:50 AM - INFO - Hash: b06789b41b0ae20fe0ab931e2664d057\n",
            "04/23/2022 07:49:50 AM - INFO - {'activation': 'elu', 'nb_layers': 3, 'optimizer': 'adam', 'nb_neurons': [16, 128, 128, 64, 32, 16]}\n",
            "04/23/2022 07:49:50 AM - INFO - Acc: 76.00%\n",
            "04/23/2022 07:49:50 AM - INFO - UniID: 45\n",
            "04/23/2022 07:49:50 AM - INFO - Mom and Dad: 8 28\n",
            "04/23/2022 07:49:50 AM - INFO - Gen: 2\n",
            "04/23/2022 07:49:50 AM - INFO - Hash: e97a341a4589ffb7ff789f4868514400\n",
            "04/23/2022 07:49:50 AM - INFO - {'activation': 'linear', 'nb_layers': 1, 'optimizer': 'adam', 'nb_neurons': [32, 128, 32, 64, 128, 32]}\n",
            "04/23/2022 07:49:50 AM - INFO - Acc: 0.00%\n",
            "04/23/2022 07:49:50 AM - INFO - UniID: 38\n",
            "04/23/2022 07:49:50 AM - INFO - Mom and Dad: 18 22\n",
            "04/23/2022 07:49:50 AM - INFO - Gen: 3\n",
            "04/23/2022 07:49:50 AM - INFO - Hash: d4a0ef317b5f2c910549010a8b4e29c2\n",
            "04/23/2022 07:49:50 AM - INFO - {'activation': 'elu', 'nb_layers': 5, 'optimizer': 'rmsprop', 'nb_neurons': [32, 64, 16, 16, 32, 64]}\n",
            "04/23/2022 07:49:50 AM - INFO - Acc: 0.00%\n",
            "04/23/2022 07:49:50 AM - INFO - UniID: 55\n",
            "04/23/2022 07:49:50 AM - INFO - Mom and Dad: 22 13\n",
            "04/23/2022 07:49:50 AM - INFO - Gen: 3\n",
            "04/23/2022 07:49:50 AM - INFO - Hash: 4af208f09dbf0b085c944e9dc0221722\n",
            "04/23/2022 07:49:50 AM - INFO - {'activation': 'linear', 'nb_layers': 5, 'optimizer': 'adamax', 'nb_neurons': [32, 128, 128, 32, 32, 32]}\n",
            "04/23/2022 07:49:50 AM - INFO - Acc: 0.00%\n",
            "04/23/2022 07:49:50 AM - INFO - UniID: 56\n",
            "04/23/2022 07:49:50 AM - INFO - Mom and Dad: 22 13\n",
            "04/23/2022 07:49:50 AM - INFO - Gen: 3\n",
            "04/23/2022 07:49:50 AM - INFO - Hash: 1cb1dc731c07d291ca91a1990dd759c4\n",
            "04/23/2022 07:49:50 AM - INFO - {'activation': 'tanh', 'nb_layers': 4, 'optimizer': 'adamax', 'nb_neurons': [32, 64, 16, 128, 32, 64]}\n",
            "04/23/2022 07:49:50 AM - INFO - Acc: 0.00%\n",
            "04/23/2022 07:49:50 AM - INFO - UniID: 57\n",
            "04/23/2022 07:49:50 AM - INFO - Mom and Dad: 28 22\n",
            "04/23/2022 07:49:50 AM - INFO - Gen: 3\n",
            "04/23/2022 07:49:50 AM - INFO - Hash: 0965a2c32b2476fe3befcbd6a4fd1702\n",
            "04/23/2022 07:49:50 AM - INFO - {'activation': 'elu', 'nb_layers': 5, 'optimizer': 'adam', 'nb_neurons': [128, 128, 32, 128, 32, 16]}\n",
            "04/23/2022 07:49:50 AM - INFO - Acc: 0.00%\n",
            "04/23/2022 07:49:50 AM - INFO - UniID: 58\n",
            "04/23/2022 07:49:50 AM - INFO - Mom and Dad: 28 22\n",
            "04/23/2022 07:49:50 AM - INFO - Gen: 3\n",
            "04/23/2022 07:49:50 AM - INFO - Hash: af24f003732646a95747c0204b0e2370\n",
            "04/23/2022 07:49:50 AM - INFO - {'activation': 'elu', 'nb_layers': 5, 'optimizer': 'rmsprop', 'nb_neurons': [32, 64, 16, 32, 32, 32]}\n",
            "04/23/2022 07:49:50 AM - INFO - Acc: 0.00%\n",
            "04/23/2022 07:49:50 AM - INFO - UniID: 59\n",
            "04/23/2022 07:49:50 AM - INFO - Mom and Dad: 22 13\n",
            "04/23/2022 07:49:50 AM - INFO - Gen: 3\n",
            "04/23/2022 07:49:50 AM - INFO - Hash: 6260ea15df9937e485a79032f5119a24\n",
            "04/23/2022 07:49:50 AM - INFO - {'activation': 'linear', 'nb_layers': 5, 'optimizer': 'adamax', 'nb_neurons': [32, 128, 128, 16, 32, 64]}\n",
            "04/23/2022 07:49:50 AM - INFO - Acc: 0.00%\n",
            "04/23/2022 07:49:50 AM - INFO - UniID: 60\n",
            "04/23/2022 07:49:50 AM - INFO - Mom and Dad: 22 13\n",
            "04/23/2022 07:49:50 AM - INFO - Gen: 3\n",
            "04/23/2022 07:49:50 AM - INFO - Hash: c76ea380d156903f625fb400c2f8a5f6\n",
            "04/23/2022 07:49:50 AM - INFO - {'activation': 'linear', 'nb_layers': 5, 'optimizer': 'adamax', 'nb_neurons': [32, 16, 128, 32, 32, 64]}\n",
            "04/23/2022 07:49:50 AM - INFO - Acc: 0.00%\n",
            "04/23/2022 07:49:50 AM - INFO - UniID: 61\n",
            "04/23/2022 07:49:50 AM - INFO - Mom and Dad: 13 22\n",
            "04/23/2022 07:49:50 AM - INFO - Gen: 3\n",
            "04/23/2022 07:49:50 AM - INFO - Hash: 5dfa6941027140c77b30484396607800\n",
            "04/23/2022 07:49:50 AM - INFO - {'activation': 'elu', 'nb_layers': 5, 'optimizer': 'rmsprop', 'nb_neurons': [32, 64, 64, 16, 32, 32]}\n",
            "04/23/2022 07:49:50 AM - INFO - Acc: 0.00%\n",
            "04/23/2022 07:49:50 AM - INFO - UniID: 62\n",
            "04/23/2022 07:49:50 AM - INFO - Mom and Dad: 13 22\n",
            "04/23/2022 07:49:50 AM - INFO - Gen: 3\n",
            "04/23/2022 07:49:50 AM - INFO - Hash: eab0db012e761eb1b7c455f0b06fd2d1\n",
            "04/23/2022 07:49:50 AM - INFO - {'activation': 'elu', 'nb_layers': 3, 'optimizer': 'adamax', 'nb_neurons': [16, 128, 128, 64, 32, 64]}\n",
            "04/23/2022 07:49:50 AM - INFO - Acc: 0.00%\n",
            "04/23/2022 07:49:50 AM - INFO - UniID: 63\n",
            "04/23/2022 07:49:50 AM - INFO - Mom and Dad: 45 22\n",
            "04/23/2022 07:49:50 AM - INFO - Gen: 3\n",
            "04/23/2022 07:49:50 AM - INFO - Hash: 77b9400a0152578cdcdd74f6b229918b\n",
            "04/23/2022 07:49:50 AM - INFO - {'activation': 'elu', 'nb_layers': 5, 'optimizer': 'adam', 'nb_neurons': [32, 64, 16, 16, 32, 16]}\n",
            "04/23/2022 07:49:50 AM - INFO - Acc: 0.00%\n",
            "04/23/2022 07:49:50 AM - INFO - UniID: 64\n",
            "04/23/2022 07:49:50 AM - INFO - Mom and Dad: 45 22\n",
            "04/23/2022 07:49:50 AM - INFO - Gen: 3\n",
            "04/23/2022 07:49:50 AM - INFO - Hash: 9dc2f0ad048a0b92f7576b9467e75b88\n",
            "04/23/2022 07:49:50 AM - INFO - {'activation': 'elu', 'nb_layers': 5, 'optimizer': 'adam', 'nb_neurons': [32, 64, 16, 16, 32, 128]}\n",
            "04/23/2022 07:49:50 AM - INFO - Acc: 0.00%\n",
            "04/23/2022 07:49:50 AM - INFO - UniID: 65\n",
            "04/23/2022 07:49:50 AM - INFO - Mom and Dad: 22 45\n",
            "04/23/2022 07:49:50 AM - INFO - Gen: 3\n",
            "04/23/2022 07:49:50 AM - INFO - Hash: d8b6a3d8150cbb6f27afe8a3d952d088\n",
            "04/23/2022 07:49:50 AM - INFO - {'activation': 'elu', 'nb_layers': 4, 'optimizer': 'adamax', 'nb_neurons': [16, 128, 128, 64, 32, 64]}\n",
            "04/23/2022 07:49:50 AM - INFO - Acc: 0.00%\n",
            "04/23/2022 07:49:50 AM - INFO - UniID: 66\n",
            "04/23/2022 07:49:50 AM - INFO - Mom and Dad: 22 45\n",
            "04/23/2022 07:49:50 AM - INFO - Gen: 3\n",
            "04/23/2022 07:49:50 AM - INFO - Hash: 748f44bc045fce92138cf7215cfcb62e\n",
            "04/23/2022 07:49:50 AM - INFO - {'activation': 'tanh', 'nb_layers': 4, 'optimizer': 'adam', 'nb_neurons': [128, 128, 32, 128, 32, 128]}\n",
            "04/23/2022 07:49:50 AM - INFO - Acc: 0.00%\n",
            "04/23/2022 07:49:50 AM - INFO - UniID: 67\n",
            "04/23/2022 07:49:50 AM - INFO - Mom and Dad: 28 45\n",
            "04/23/2022 07:49:50 AM - INFO - Gen: 3\n",
            "04/23/2022 07:49:50 AM - INFO - Hash: 2c79745e9896e4d769338c2e58e45033\n",
            "04/23/2022 07:49:50 AM - INFO - {'activation': 'elu', 'nb_layers': 2, 'optimizer': 'adam', 'nb_neurons': [16, 128, 128, 64, 32, 16]}\n",
            "04/23/2022 07:49:50 AM - INFO - Acc: 0.00%\n",
            "04/23/2022 07:49:50 AM - INFO - UniID: 68\n",
            "04/23/2022 07:49:50 AM - INFO - Mom and Dad: 28 45\n",
            "04/23/2022 07:49:50 AM - INFO - Gen: 3\n",
            "04/23/2022 07:49:50 AM - INFO - Hash: f96b7fc5efa17a1e7df04d82bc23f2ff\n",
            "04/23/2022 07:49:50 AM - INFO - {'activation': 'elu', 'nb_layers': 5, 'optimizer': 'adam', 'nb_neurons': [32, 32, 128, 64, 32, 16]}\n",
            "04/23/2022 07:49:50 AM - INFO - Acc: 0.00%\n",
            "04/23/2022 07:49:50 AM - INFO - UniID: 69\n",
            "04/23/2022 07:49:50 AM - INFO - Mom and Dad: 22 45\n",
            "04/23/2022 07:49:50 AM - INFO - Gen: 3\n",
            "04/23/2022 07:49:50 AM - INFO - Hash: 1ffe17a4ef0b349607b08a8a8e804008\n",
            "04/23/2022 07:49:50 AM - INFO - {'activation': 'elu', 'nb_layers': 3, 'optimizer': 'adamax', 'nb_neurons': [16, 128, 32, 16, 32, 64]}\n",
            "04/23/2022 07:49:50 AM - INFO - Acc: 0.00%\n",
            "04/23/2022 07:49:50 AM - INFO - UniID: 70\n",
            "04/23/2022 07:49:50 AM - INFO - Mom and Dad: 22 45\n",
            "04/23/2022 07:49:50 AM - INFO - Gen: 3\n",
            "04/23/2022 07:49:50 AM - INFO - Hash: 9f073b18f6ee9ff976e01995bffabb6c\n"
          ]
        },
        {
          "output_type": "stream",
          "name": "stdout",
          "text": [
            "Test loss: 0.6493542194366455\n",
            "Test accuracy: 0.5199999809265137\n"
          ]
        },
        {
          "output_type": "stream",
          "name": "stderr",
          "text": [
            "04/23/2022 07:49:50 AM - INFO - {'activation': 'linear', 'nb_layers': 5, 'optimizer': 'nadam', 'nb_neurons': [128, 128, 32, 128, 32, 16]}\n",
            "04/23/2022 07:49:50 AM - INFO - Acc: 0.00%\n",
            "04/23/2022 07:49:50 AM - INFO - UniID: 71\n",
            "04/23/2022 07:49:50 AM - INFO - Mom and Dad: 13 28\n",
            "04/23/2022 07:49:50 AM - INFO - Gen: 3\n",
            "04/23/2022 07:49:50 AM - INFO - Hash: 83193a2a492f47f2f82cc7f4457b7460\n",
            "04/23/2022 07:49:50 AM - INFO - {'activation': 'tanh', 'nb_layers': 4, 'optimizer': 'rmsprop', 'nb_neurons': [32, 128, 128, 32, 32, 32]}\n",
            "04/23/2022 07:49:50 AM - INFO - Acc: 0.00%\n",
            "04/23/2022 07:49:50 AM - INFO - UniID: 72\n",
            "04/23/2022 07:49:50 AM - INFO - Mom and Dad: 13 28\n",
            "04/23/2022 07:49:50 AM - INFO - Gen: 3\n",
            "04/23/2022 07:49:50 AM - INFO - Hash: a7caae8f2c0e6ba68b47edda3caa5947\n",
            "04/23/2022 07:49:50 AM - INFO - {'activation': 'tanh', 'nb_layers': 4, 'optimizer': 'adamax', 'nb_neurons': [128, 128, 32, 128, 32, 64]}\n",
            "04/23/2022 07:49:50 AM - INFO - Acc: 0.00%\n",
            "04/23/2022 07:49:50 AM - INFO - UniID: 73\n",
            "04/23/2022 07:49:50 AM - INFO - Mom and Dad: 28 22\n",
            "04/23/2022 07:49:50 AM - INFO - Gen: 3\n",
            "04/23/2022 07:49:50 AM - INFO - Hash: 9f7c855620f346878b212cb84fc32100\n",
            "04/23/2022 07:49:50 AM - INFO - {'activation': 'elu', 'nb_layers': 5, 'optimizer': 'adam', 'nb_neurons': [32, 64, 16, 16, 16, 16]}\n",
            "04/23/2022 07:49:50 AM - INFO - Acc: 0.00%\n",
            "04/23/2022 07:49:50 AM - INFO - UniID: 74\n",
            "04/23/2022 07:49:50 AM - INFO - Mom and Dad: 28 22\n",
            "04/23/2022 07:49:50 AM - INFO - Gen: 3\n",
            "04/23/2022 07:49:50 AM - INFO - Hash: 7e777a75dde7b9b88c896ebd92ea3f34\n",
            "04/23/2022 07:49:50 AM - INFO - {'activation': 'elu', 'nb_layers': 5, 'optimizer': 'adam', 'nb_neurons': [32, 64, 16, 16, 16, 64]}\n",
            "04/23/2022 07:49:50 AM - INFO - Acc: 0.00%\n",
            "04/23/2022 07:49:50 AM - INFO - UniID: 75\n",
            "04/23/2022 07:49:50 AM - INFO - Mom and Dad: 22 45\n",
            "04/23/2022 07:49:50 AM - INFO - Gen: 3\n",
            "04/23/2022 07:49:50 AM - INFO - Hash: 59f8b0696c73a4de813715f176a3adf8\n",
            "04/23/2022 07:49:50 AM - INFO - {'activation': 'elu', 'nb_layers': 3, 'optimizer': 'adamax', 'nb_neurons': [16, 128, 128, 64, 32, 32]}\n",
            "04/23/2022 07:49:50 AM - INFO - Acc: 0.00%\n",
            "04/23/2022 07:49:50 AM - INFO - UniID: 76\n",
            "04/23/2022 07:49:50 AM - INFO - Mom and Dad: 22 45\n",
            "04/23/2022 07:49:50 AM - INFO - Gen: 3\n",
            "04/23/2022 07:49:50 AM - INFO - Hash: 1d2f04d9a4cfcbf73847374fe007f0f4\n",
            "04/23/2022 07:49:50 AM - INFO - {'activation': 'elu', 'nb_layers': 4, 'optimizer': 'adam', 'nb_neurons': [128, 128, 32, 128, 32, 16]}\n",
            "04/23/2022 07:49:50 AM - INFO - Acc: 0.00%\n",
            "04/23/2022 07:49:50 AM - INFO - UniID: 77\n",
            "04/23/2022 07:49:50 AM - INFO - Mom and Dad: 28 45\n",
            "04/23/2022 07:49:50 AM - INFO - Gen: 3\n",
            "04/23/2022 07:49:50 AM - INFO - Hash: d0df2b0f9ea3a4c3533b0b35a9234b78\n",
            "04/23/2022 07:49:50 AM - INFO - {'activation': 'elu', 'nb_layers': 3, 'optimizer': 'adam', 'nb_neurons': [16, 128, 128, 128, 32, 16]}\n",
            "04/23/2022 07:49:50 AM - INFO - Acc: 0.00%\n",
            "04/23/2022 07:49:50 AM - INFO - UniID: 78\n",
            "04/23/2022 07:49:50 AM - INFO - Mom and Dad: 28 45\n",
            "04/23/2022 07:49:50 AM - INFO - Gen: 3\n",
            "04/23/2022 07:49:50 AM - INFO - Hash: d5679829ffe2a440e73b41f02278b28f\n",
            "04/23/2022 07:49:50 AM - INFO - {'activation': 'elu', 'nb_layers': 3, 'optimizer': 'adam', 'nb_neurons': [16, 128, 128, 64, 128, 16]}\n",
            "04/23/2022 07:49:50 AM - INFO - Acc: 0.00%\n",
            "04/23/2022 07:49:50 AM - INFO - UniID: 79\n",
            "04/23/2022 07:49:50 AM - INFO - Mom and Dad: 22 45\n",
            "04/23/2022 07:49:50 AM - INFO - Gen: 3\n",
            "04/23/2022 07:49:50 AM - INFO - Hash: 84796b7e4ed5a7af31da2a04b0f2884f\n",
            "04/23/2022 07:49:50 AM - INFO - {'activation': 'elu', 'nb_layers': 5, 'optimizer': 'adamax', 'nb_neurons': [32, 64, 128, 16, 32, 64]}\n",
            "04/23/2022 07:49:50 AM - INFO - Acc: 0.00%\n",
            "04/23/2022 07:49:50 AM - INFO - UniID: 80\n",
            "04/23/2022 07:49:50 AM - INFO - Mom and Dad: 22 45\n",
            "04/23/2022 07:49:50 AM - INFO - Gen: 3\n",
            "04/23/2022 07:49:50 AM - INFO - Hash: ca10a3822fd5da58ec93274770e9bb46\n",
            "04/23/2022 07:49:50 AM - INFO - ***train_networks(networks, dataset)***\n",
            "  0%|          | 0/31 [00:00<?, ?it/s]04/23/2022 07:49:50 AM - INFO - Getting Keras datasets\n",
            "04/23/2022 07:49:50 AM - INFO - Compling Keras model\n",
            "04/23/2022 07:49:50 AM - INFO - Architecture:[32, 128, 32, 64, 128, 32],linear,adam,1\n"
          ]
        },
        {
          "output_type": "stream",
          "name": "stdout",
          "text": [
            "Epoch 1/3\n",
            "2/2 [==============================] - 1s 201ms/step - loss: 3.3010 - accuracy: 0.5200 - val_loss: 2.9825 - val_accuracy: 0.5000\n",
            "Epoch 2/3\n",
            "2/2 [==============================] - 0s 59ms/step - loss: 1.5184 - accuracy: 0.5400 - val_loss: 2.4221 - val_accuracy: 0.5000\n",
            "Epoch 3/3\n",
            "2/2 [==============================] - 0s 67ms/step - loss: 2.5896 - accuracy: 0.5000 - val_loss: 2.4240 - val_accuracy: 0.5000\n"
          ]
        },
        {
          "output_type": "stream",
          "name": "stderr",
          "text": [
            "\r 16%|█▌        | 5/31 [00:01<00:08,  3.12it/s]04/23/2022 07:49:51 AM - INFO - Getting Keras datasets\n",
            "04/23/2022 07:49:51 AM - INFO - Compling Keras model\n",
            "04/23/2022 07:49:51 AM - INFO - Architecture:[32, 64, 16, 16, 32, 64],elu,rmsprop,5\n"
          ]
        },
        {
          "output_type": "stream",
          "name": "stdout",
          "text": [
            "Test loss: 2.423959255218506\n",
            "Test accuracy: 0.5\n",
            "Epoch 1/3\n",
            "2/2 [==============================] - 1s 276ms/step - loss: 0.8730 - accuracy: 0.5000 - val_loss: 0.9107 - val_accuracy: 0.5000\n",
            "Epoch 2/3\n",
            "2/2 [==============================] - 0s 100ms/step - loss: 0.9401 - accuracy: 0.5200 - val_loss: 0.6820 - val_accuracy: 0.5000\n",
            "Epoch 3/3\n",
            "2/2 [==============================] - 0s 98ms/step - loss: 0.6871 - accuracy: 0.6000 - val_loss: 0.6758 - val_accuracy: 0.7200\n"
          ]
        },
        {
          "output_type": "stream",
          "name": "stderr",
          "text": [
            "\r 19%|█▉        | 6/31 [00:04<00:23,  1.08it/s]04/23/2022 07:49:54 AM - INFO - Getting Keras datasets\n",
            "04/23/2022 07:49:54 AM - INFO - Compling Keras model\n",
            "04/23/2022 07:49:54 AM - INFO - Architecture:[32, 128, 128, 32, 32, 32],linear,adamax,5\n"
          ]
        },
        {
          "output_type": "stream",
          "name": "stdout",
          "text": [
            "Test loss: 0.6758392453193665\n",
            "Test accuracy: 0.7200000286102295\n",
            "Epoch 1/3\n",
            "2/2 [==============================] - 1s 303ms/step - loss: 1.6313 - accuracy: 0.5000 - val_loss: 0.7070 - val_accuracy: 0.5000\n",
            "Epoch 2/3\n",
            "2/2 [==============================] - 0s 134ms/step - loss: 0.9912 - accuracy: 0.5000 - val_loss: 0.8199 - val_accuracy: 0.5000\n",
            "Epoch 3/3\n",
            "2/2 [==============================] - 0s 141ms/step - loss: 0.9074 - accuracy: 0.5800 - val_loss: 0.6727 - val_accuracy: 0.5000\n"
          ]
        },
        {
          "output_type": "stream",
          "name": "stderr",
          "text": [
            "\r 23%|██▎       | 7/31 [00:06<00:30,  1.26s/it]04/23/2022 07:49:57 AM - INFO - Getting Keras datasets\n",
            "04/23/2022 07:49:57 AM - INFO - Compling Keras model\n",
            "04/23/2022 07:49:57 AM - INFO - Architecture:[32, 64, 16, 128, 32, 64],tanh,adamax,4\n"
          ]
        },
        {
          "output_type": "stream",
          "name": "stdout",
          "text": [
            "Test loss: 0.6726892590522766\n",
            "Test accuracy: 0.5\n",
            "Epoch 1/3\n",
            "2/2 [==============================] - 1s 238ms/step - loss: 0.7980 - accuracy: 0.5400 - val_loss: 0.6702 - val_accuracy: 0.6800\n",
            "Epoch 2/3\n",
            "2/2 [==============================] - 0s 100ms/step - loss: 0.8394 - accuracy: 0.4200 - val_loss: 0.6870 - val_accuracy: 0.5000\n",
            "Epoch 3/3\n",
            "2/2 [==============================] - 0s 87ms/step - loss: 0.7209 - accuracy: 0.6000 - val_loss: 0.6786 - val_accuracy: 0.5000\n"
          ]
        },
        {
          "output_type": "stream",
          "name": "stderr",
          "text": [
            "\r 26%|██▌       | 8/31 [00:08<00:30,  1.34s/it]04/23/2022 07:49:58 AM - INFO - Getting Keras datasets\n",
            "04/23/2022 07:49:58 AM - INFO - Compling Keras model\n",
            "04/23/2022 07:49:58 AM - INFO - Architecture:[128, 128, 32, 128, 32, 16],elu,adam,5\n"
          ]
        },
        {
          "output_type": "stream",
          "name": "stdout",
          "text": [
            "Test loss: 0.6785959005355835\n",
            "Test accuracy: 0.5\n",
            "Epoch 1/3\n",
            "2/2 [==============================] - 1s 458ms/step - loss: 0.7098 - accuracy: 0.5400 - val_loss: 0.6943 - val_accuracy: 0.5000\n",
            "Epoch 2/3\n",
            "2/2 [==============================] - 0s 283ms/step - loss: 0.7846 - accuracy: 0.5200 - val_loss: 0.6817 - val_accuracy: 0.5000\n",
            "Epoch 3/3\n",
            "2/2 [==============================] - 0s 286ms/step - loss: 0.9078 - accuracy: 0.4600 - val_loss: 0.7040 - val_accuracy: 0.5000\n"
          ]
        },
        {
          "output_type": "stream",
          "name": "stderr",
          "text": [
            "\r 29%|██▉       | 9/31 [00:11<00:37,  1.70s/it]04/23/2022 07:50:01 AM - INFO - Getting Keras datasets\n",
            "04/23/2022 07:50:01 AM - INFO - Compling Keras model\n",
            "04/23/2022 07:50:01 AM - INFO - Architecture:[32, 64, 16, 32, 32, 32],elu,rmsprop,5\n"
          ]
        },
        {
          "output_type": "stream",
          "name": "stdout",
          "text": [
            "Test loss: 0.7040196061134338\n",
            "Test accuracy: 0.5\n",
            "Epoch 1/3\n",
            "2/2 [==============================] - 1s 267ms/step - loss: 0.8705 - accuracy: 0.5000 - val_loss: 0.9121 - val_accuracy: 0.5000\n",
            "Epoch 2/3\n",
            "2/2 [==============================] - 0s 107ms/step - loss: 0.7341 - accuracy: 0.6000 - val_loss: 0.7098 - val_accuracy: 0.5000\n",
            "Epoch 3/3\n",
            "2/2 [==============================] - 0s 96ms/step - loss: 0.8091 - accuracy: 0.5000 - val_loss: 0.7046 - val_accuracy: 0.5000\n"
          ]
        },
        {
          "output_type": "stream",
          "name": "stderr",
          "text": [
            "\r 32%|███▏      | 10/31 [00:13<00:41,  1.96s/it]04/23/2022 07:50:04 AM - INFO - Getting Keras datasets\n",
            "04/23/2022 07:50:04 AM - INFO - Compling Keras model\n",
            "04/23/2022 07:50:04 AM - INFO - Architecture:[32, 128, 128, 16, 32, 64],linear,adamax,5\n"
          ]
        },
        {
          "output_type": "stream",
          "name": "stdout",
          "text": [
            "Test loss: 0.7046360969543457\n",
            "Test accuracy: 0.5\n",
            "Epoch 1/3\n",
            "2/2 [==============================] - 1s 288ms/step - loss: 0.8648 - accuracy: 0.4400 - val_loss: 0.6915 - val_accuracy: 0.5000\n",
            "Epoch 2/3\n",
            "2/2 [==============================] - 0s 132ms/step - loss: 0.9711 - accuracy: 0.5000 - val_loss: 0.6588 - val_accuracy: 0.7600\n",
            "Epoch 3/3\n",
            "2/2 [==============================] - 0s 134ms/step - loss: 0.7970 - accuracy: 0.5000 - val_loss: 0.6526 - val_accuracy: 0.6000\n"
          ]
        },
        {
          "output_type": "stream",
          "name": "stderr",
          "text": [
            "\r 35%|███▌      | 11/31 [00:16<00:41,  2.06s/it]04/23/2022 07:50:06 AM - INFO - Getting Keras datasets\n",
            "04/23/2022 07:50:06 AM - INFO - Compling Keras model\n",
            "04/23/2022 07:50:06 AM - INFO - Architecture:[32, 16, 128, 32, 32, 64],linear,adamax,5\n"
          ]
        },
        {
          "output_type": "stream",
          "name": "stdout",
          "text": [
            "Test loss: 0.6526017189025879\n",
            "Test accuracy: 0.6000000238418579\n",
            "Epoch 1/3\n",
            "2/2 [==============================] - 1s 244ms/step - loss: 0.7437 - accuracy: 0.4600 - val_loss: 0.6874 - val_accuracy: 0.5000\n",
            "Epoch 2/3\n",
            "2/2 [==============================] - 0s 81ms/step - loss: 0.7016 - accuracy: 0.5200 - val_loss: 0.6877 - val_accuracy: 0.5000\n",
            "Epoch 3/3\n",
            "2/2 [==============================] - 0s 74ms/step - loss: 0.6900 - accuracy: 0.6000 - val_loss: 0.6910 - val_accuracy: 0.5000\n"
          ]
        },
        {
          "output_type": "stream",
          "name": "stderr",
          "text": [
            "\r 39%|███▊      | 12/31 [00:18<00:38,  2.04s/it]04/23/2022 07:50:08 AM - INFO - Getting Keras datasets\n",
            "04/23/2022 07:50:08 AM - INFO - Compling Keras model\n",
            "04/23/2022 07:50:08 AM - INFO - Architecture:[32, 64, 64, 16, 32, 32],elu,rmsprop,5\n"
          ]
        },
        {
          "output_type": "stream",
          "name": "stdout",
          "text": [
            "Test loss: 0.6909899711608887\n",
            "Test accuracy: 0.5\n",
            "Epoch 1/3\n",
            "2/2 [==============================] - 1s 272ms/step - loss: 0.7887 - accuracy: 0.4000 - val_loss: 0.8233 - val_accuracy: 0.5000\n",
            "Epoch 2/3\n",
            "2/2 [==============================] - 0s 111ms/step - loss: 0.7895 - accuracy: 0.5200 - val_loss: 0.6779 - val_accuracy: 0.5000\n",
            "Epoch 3/3\n",
            "2/2 [==============================] - 0s 105ms/step - loss: 0.6967 - accuracy: 0.6000 - val_loss: 0.6709 - val_accuracy: 0.7400\n"
          ]
        },
        {
          "output_type": "stream",
          "name": "stderr",
          "text": [
            "\r 42%|████▏     | 13/31 [00:20<00:37,  2.06s/it]04/23/2022 07:50:10 AM - INFO - Getting Keras datasets\n",
            "04/23/2022 07:50:10 AM - INFO - Compling Keras model\n",
            "04/23/2022 07:50:10 AM - INFO - Architecture:[16, 128, 128, 64, 32, 64],elu,adamax,3\n"
          ]
        },
        {
          "output_type": "stream",
          "name": "stdout",
          "text": [
            "Test loss: 0.6709144115447998\n",
            "Test accuracy: 0.7400000095367432\n",
            "Epoch 1/3\n",
            "2/2 [==============================] - 1s 272ms/step - loss: 0.8300 - accuracy: 0.5400 - val_loss: 1.2361 - val_accuracy: 0.5000\n",
            "Epoch 2/3\n",
            "2/2 [==============================] - 0s 113ms/step - loss: 1.1944 - accuracy: 0.5200 - val_loss: 0.6683 - val_accuracy: 0.5200\n",
            "Epoch 3/3\n",
            "2/2 [==============================] - 0s 112ms/step - loss: 0.8613 - accuracy: 0.5000 - val_loss: 0.8157 - val_accuracy: 0.5000\n"
          ]
        },
        {
          "output_type": "stream",
          "name": "stderr",
          "text": [
            "\r 45%|████▌     | 14/31 [00:22<00:35,  2.10s/it]04/23/2022 07:50:12 AM - INFO - Getting Keras datasets\n",
            "04/23/2022 07:50:12 AM - INFO - Compling Keras model\n",
            "04/23/2022 07:50:12 AM - INFO - Architecture:[32, 64, 16, 16, 32, 16],elu,adam,5\n"
          ]
        },
        {
          "output_type": "stream",
          "name": "stdout",
          "text": [
            "Test loss: 0.815707802772522\n",
            "Test accuracy: 0.5\n",
            "Epoch 1/3\n",
            "2/2 [==============================] - 1s 263ms/step - loss: 0.7059 - accuracy: 0.5800 - val_loss: 0.7855 - val_accuracy: 0.5000\n",
            "Epoch 2/3\n",
            "2/2 [==============================] - 0s 97ms/step - loss: 0.7521 - accuracy: 0.6400 - val_loss: 0.6812 - val_accuracy: 0.7400\n",
            "Epoch 3/3\n",
            "2/2 [==============================] - 0s 109ms/step - loss: 0.7376 - accuracy: 0.5800 - val_loss: 0.7023 - val_accuracy: 0.5000\n"
          ]
        },
        {
          "output_type": "stream",
          "name": "stderr",
          "text": [
            "\r 48%|████▊     | 15/31 [00:24<00:34,  2.17s/it]04/23/2022 07:50:15 AM - INFO - Getting Keras datasets\n",
            "04/23/2022 07:50:15 AM - INFO - Compling Keras model\n",
            "04/23/2022 07:50:15 AM - INFO - Architecture:[32, 64, 16, 16, 32, 128],elu,adam,5\n"
          ]
        },
        {
          "output_type": "stream",
          "name": "stdout",
          "text": [
            "Test loss: 0.7023381590843201\n",
            "Test accuracy: 0.5\n",
            "Epoch 1/3\n",
            "2/2 [==============================] - 1s 280ms/step - loss: 0.7127 - accuracy: 0.5000 - val_loss: 0.6902 - val_accuracy: 0.5000\n",
            "Epoch 2/3\n",
            "2/2 [==============================] - 0s 89ms/step - loss: 0.6659 - accuracy: 0.5400 - val_loss: 0.6867 - val_accuracy: 0.5000\n",
            "Epoch 3/3\n",
            "2/2 [==============================] - 0s 93ms/step - loss: 0.7108 - accuracy: 0.4800 - val_loss: 0.6852 - val_accuracy: 0.5000\n"
          ]
        },
        {
          "output_type": "stream",
          "name": "stderr",
          "text": [
            "\r 52%|█████▏    | 16/31 [00:27<00:33,  2.21s/it]04/23/2022 07:50:17 AM - INFO - Getting Keras datasets\n",
            "04/23/2022 07:50:17 AM - INFO - Compling Keras model\n",
            "04/23/2022 07:50:17 AM - INFO - Architecture:[16, 128, 128, 64, 32, 64],elu,adamax,4\n"
          ]
        },
        {
          "output_type": "stream",
          "name": "stdout",
          "text": [
            "Test loss: 0.6852025389671326\n",
            "Test accuracy: 0.5\n",
            "Epoch 1/3\n",
            "2/2 [==============================] - 1s 283ms/step - loss: 0.8698 - accuracy: 0.4800 - val_loss: 0.7387 - val_accuracy: 0.5000\n",
            "Epoch 2/3\n",
            "2/2 [==============================] - 0s 123ms/step - loss: 0.9372 - accuracy: 0.6000 - val_loss: 0.7490 - val_accuracy: 0.5000\n",
            "Epoch 3/3\n",
            "2/2 [==============================] - 0s 119ms/step - loss: 0.7554 - accuracy: 0.5400 - val_loss: 0.6711 - val_accuracy: 0.5000\n"
          ]
        },
        {
          "output_type": "stream",
          "name": "stderr",
          "text": [
            "\r 55%|█████▍    | 17/31 [00:28<00:28,  2.07s/it]04/23/2022 07:50:19 AM - INFO - Getting Keras datasets\n",
            "04/23/2022 07:50:19 AM - INFO - Compling Keras model\n",
            "04/23/2022 07:50:19 AM - INFO - Architecture:[128, 128, 32, 128, 32, 128],tanh,adam,4\n"
          ]
        },
        {
          "output_type": "stream",
          "name": "stdout",
          "text": [
            "Test loss: 0.671110987663269\n",
            "Test accuracy: 0.5\n",
            "Epoch 1/3\n",
            "2/2 [==============================] - 1s 429ms/step - loss: 1.0905 - accuracy: 0.4200 - val_loss: 0.9337 - val_accuracy: 0.5000\n",
            "Epoch 2/3\n",
            "2/2 [==============================] - 0s 268ms/step - loss: 0.8256 - accuracy: 0.5000 - val_loss: 0.7395 - val_accuracy: 0.5000\n",
            "Epoch 3/3\n",
            "2/2 [==============================] - 0s 281ms/step - loss: 0.7928 - accuracy: 0.5800 - val_loss: 0.6654 - val_accuracy: 0.5200\n"
          ]
        },
        {
          "output_type": "stream",
          "name": "stderr",
          "text": [
            "\r 58%|█████▊    | 18/31 [00:31<00:28,  2.21s/it]04/23/2022 07:50:21 AM - INFO - Getting Keras datasets\n",
            "04/23/2022 07:50:21 AM - INFO - Compling Keras model\n",
            "04/23/2022 07:50:21 AM - INFO - Architecture:[16, 128, 128, 64, 32, 16],elu,adam,2\n"
          ]
        },
        {
          "output_type": "stream",
          "name": "stdout",
          "text": [
            "Test loss: 0.6653700470924377\n",
            "Test accuracy: 0.5199999809265137\n",
            "Epoch 1/3\n",
            "2/2 [==============================] - 1s 599ms/step - loss: 1.0354 - accuracy: 0.5200 - val_loss: 0.7434 - val_accuracy: 0.5000\n",
            "Epoch 2/3\n",
            "2/2 [==============================] - 0s 85ms/step - loss: 0.8434 - accuracy: 0.4600 - val_loss: 0.7004 - val_accuracy: 0.5000\n",
            "Epoch 3/3\n",
            "2/2 [==============================] - 0s 82ms/step - loss: 0.7752 - accuracy: 0.5800 - val_loss: 0.6429 - val_accuracy: 0.5200\n"
          ]
        },
        {
          "output_type": "stream",
          "name": "stderr",
          "text": [
            "\r 61%|██████▏   | 19/31 [00:33<00:24,  2.07s/it]04/23/2022 07:50:23 AM - INFO - Getting Keras datasets\n",
            "04/23/2022 07:50:23 AM - INFO - Compling Keras model\n",
            "04/23/2022 07:50:23 AM - INFO - Architecture:[32, 32, 128, 64, 32, 16],elu,adam,5\n"
          ]
        },
        {
          "output_type": "stream",
          "name": "stdout",
          "text": [
            "Test loss: 0.642932116985321\n",
            "Test accuracy: 0.5199999809265137\n",
            "Epoch 1/3\n",
            "2/2 [==============================] - 1s 278ms/step - loss: 0.7567 - accuracy: 0.5000 - val_loss: 0.6784 - val_accuracy: 0.6200\n",
            "Epoch 2/3\n",
            "2/2 [==============================] - 0s 99ms/step - loss: 0.9681 - accuracy: 0.4200 - val_loss: 0.6618 - val_accuracy: 0.5400\n",
            "Epoch 3/3\n",
            "2/2 [==============================] - 0s 100ms/step - loss: 0.7815 - accuracy: 0.5200 - val_loss: 0.7640 - val_accuracy: 0.5000\n"
          ]
        },
        {
          "output_type": "stream",
          "name": "stderr",
          "text": [
            "\r 65%|██████▍   | 20/31 [00:34<00:21,  1.97s/it]04/23/2022 07:50:25 AM - INFO - Getting Keras datasets\n",
            "04/23/2022 07:50:25 AM - INFO - Compling Keras model\n",
            "04/23/2022 07:50:25 AM - INFO - Architecture:[16, 128, 32, 16, 32, 64],elu,adamax,3\n"
          ]
        },
        {
          "output_type": "stream",
          "name": "stdout",
          "text": [
            "Test loss: 0.7639753222465515\n",
            "Test accuracy: 0.5\n",
            "Epoch 1/3\n",
            "2/2 [==============================] - 1s 239ms/step - loss: 0.8708 - accuracy: 0.4800 - val_loss: 0.6555 - val_accuracy: 0.7200\n",
            "Epoch 2/3\n",
            "2/2 [==============================] - 0s 93ms/step - loss: 0.7405 - accuracy: 0.4400 - val_loss: 0.6743 - val_accuracy: 0.5000\n",
            "Epoch 3/3\n",
            "2/2 [==============================] - 0s 91ms/step - loss: 0.7171 - accuracy: 0.4800 - val_loss: 0.6422 - val_accuracy: 0.5200\n"
          ]
        },
        {
          "output_type": "stream",
          "name": "stderr",
          "text": [
            "\r 68%|██████▊   | 21/31 [00:36<00:18,  1.84s/it]04/23/2022 07:50:26 AM - INFO - Getting Keras datasets\n",
            "04/23/2022 07:50:26 AM - INFO - Compling Keras model\n",
            "04/23/2022 07:50:26 AM - INFO - Architecture:[128, 128, 32, 128, 32, 16],linear,nadam,5\n"
          ]
        },
        {
          "output_type": "stream",
          "name": "stdout",
          "text": [
            "Test loss: 0.6421685814857483\n",
            "Test accuracy: 0.5199999809265137\n",
            "Epoch 1/3\n",
            "2/2 [==============================] - 2s 429ms/step - loss: 1.3588 - accuracy: 0.5400 - val_loss: 1.1084 - val_accuracy: 0.5000\n",
            "Epoch 2/3\n",
            "2/2 [==============================] - 0s 255ms/step - loss: 1.0820 - accuracy: 0.5400 - val_loss: 0.6777 - val_accuracy: 0.5200\n",
            "Epoch 3/3\n",
            "2/2 [==============================] - 0s 273ms/step - loss: 0.7390 - accuracy: 0.5000 - val_loss: 0.6823 - val_accuracy: 0.5000\n"
          ]
        },
        {
          "output_type": "stream",
          "name": "stderr",
          "text": [
            "\r 71%|███████   | 22/31 [00:40<00:23,  2.62s/it]04/23/2022 07:50:31 AM - INFO - Getting Keras datasets\n",
            "04/23/2022 07:50:31 AM - INFO - Compling Keras model\n",
            "04/23/2022 07:50:31 AM - INFO - Architecture:[32, 128, 128, 32, 32, 32],tanh,rmsprop,4\n"
          ]
        },
        {
          "output_type": "stream",
          "name": "stdout",
          "text": [
            "Test loss: 0.6823093891143799\n",
            "Test accuracy: 0.5\n",
            "Epoch 1/3\n",
            "2/2 [==============================] - 1s 300ms/step - loss: 0.9488 - accuracy: 0.4800 - val_loss: 1.7277 - val_accuracy: 0.5000\n",
            "Epoch 2/3\n",
            "2/2 [==============================] - 0s 139ms/step - loss: 1.0694 - accuracy: 0.6000 - val_loss: 0.7222 - val_accuracy: 0.5000\n",
            "Epoch 3/3\n",
            "2/2 [==============================] - 0s 143ms/step - loss: 1.1192 - accuracy: 0.5000 - val_loss: 0.6853 - val_accuracy: 0.5000\n"
          ]
        },
        {
          "output_type": "stream",
          "name": "stderr",
          "text": [
            "\r 74%|███████▍  | 23/31 [00:42<00:19,  2.47s/it]04/23/2022 07:50:33 AM - INFO - Getting Keras datasets\n",
            "04/23/2022 07:50:33 AM - INFO - Compling Keras model\n",
            "04/23/2022 07:50:33 AM - INFO - Architecture:[128, 128, 32, 128, 32, 64],tanh,adamax,4\n"
          ]
        },
        {
          "output_type": "stream",
          "name": "stdout",
          "text": [
            "Test loss: 0.6852575540542603\n",
            "Test accuracy: 0.5\n",
            "Epoch 1/3\n",
            "2/2 [==============================] - 1s 430ms/step - loss: 0.7856 - accuracy: 0.5600 - val_loss: 0.7327 - val_accuracy: 0.5000\n",
            "Epoch 2/3\n",
            "2/2 [==============================] - 0s 270ms/step - loss: 0.8253 - accuracy: 0.4400 - val_loss: 0.6709 - val_accuracy: 0.5000\n",
            "Epoch 3/3\n",
            "2/2 [==============================] - 0s 272ms/step - loss: 0.8198 - accuracy: 0.5800 - val_loss: 0.6895 - val_accuracy: 0.5000\n"
          ]
        },
        {
          "output_type": "stream",
          "name": "stderr",
          "text": [
            "\r 77%|███████▋  | 24/31 [00:45<00:17,  2.50s/it]04/23/2022 07:50:35 AM - INFO - Getting Keras datasets\n",
            "04/23/2022 07:50:35 AM - INFO - Compling Keras model\n",
            "04/23/2022 07:50:35 AM - INFO - Architecture:[32, 64, 16, 16, 16, 16],elu,adam,5\n"
          ]
        },
        {
          "output_type": "stream",
          "name": "stdout",
          "text": [
            "Test loss: 0.6895021200180054\n",
            "Test accuracy: 0.5\n",
            "Epoch 1/3\n",
            "2/2 [==============================] - 1s 262ms/step - loss: 0.7382 - accuracy: 0.5200 - val_loss: 0.6844 - val_accuracy: 0.5000\n",
            "Epoch 2/3\n",
            "2/2 [==============================] - 0s 97ms/step - loss: 0.7349 - accuracy: 0.5000 - val_loss: 0.6816 - val_accuracy: 0.5000\n",
            "Epoch 3/3\n",
            "2/2 [==============================] - 0s 107ms/step - loss: 0.6842 - accuracy: 0.6000 - val_loss: 0.6816 - val_accuracy: 0.5000\n"
          ]
        },
        {
          "output_type": "stream",
          "name": "stderr",
          "text": [
            "\r 81%|████████  | 25/31 [00:47<00:14,  2.44s/it]04/23/2022 07:50:38 AM - INFO - Getting Keras datasets\n",
            "04/23/2022 07:50:38 AM - INFO - Compling Keras model\n",
            "04/23/2022 07:50:38 AM - INFO - Architecture:[32, 64, 16, 16, 16, 64],elu,adam,5\n"
          ]
        },
        {
          "output_type": "stream",
          "name": "stdout",
          "text": [
            "Test loss: 0.6816229820251465\n",
            "Test accuracy: 0.5\n",
            "Epoch 1/3\n",
            "2/2 [==============================] - 1s 271ms/step - loss: 0.7049 - accuracy: 0.4800 - val_loss: 0.6970 - val_accuracy: 0.5000\n",
            "Epoch 2/3\n",
            "2/2 [==============================] - 0s 119ms/step - loss: 0.7091 - accuracy: 0.5800 - val_loss: 0.6856 - val_accuracy: 0.5000\n",
            "Epoch 3/3\n",
            "2/2 [==============================] - 0s 105ms/step - loss: 0.6629 - accuracy: 0.6000 - val_loss: 0.6819 - val_accuracy: 0.7400\n"
          ]
        },
        {
          "output_type": "stream",
          "name": "stderr",
          "text": [
            "\r 84%|████████▍ | 26/31 [00:49<00:11,  2.35s/it]04/23/2022 07:50:40 AM - INFO - Getting Keras datasets\n",
            "04/23/2022 07:50:40 AM - INFO - Compling Keras model\n",
            "04/23/2022 07:50:40 AM - INFO - Architecture:[16, 128, 128, 64, 32, 32],elu,adamax,3\n"
          ]
        },
        {
          "output_type": "stream",
          "name": "stdout",
          "text": [
            "Test loss: 0.681865394115448\n",
            "Test accuracy: 0.7400000095367432\n",
            "Epoch 1/3\n",
            "2/2 [==============================] - 1s 266ms/step - loss: 1.1215 - accuracy: 0.4000 - val_loss: 0.7125 - val_accuracy: 0.5000\n",
            "Epoch 2/3\n",
            "2/2 [==============================] - 0s 115ms/step - loss: 1.0035 - accuracy: 0.5200 - val_loss: 0.6379 - val_accuracy: 0.7400\n",
            "Epoch 3/3\n",
            "2/2 [==============================] - 0s 119ms/step - loss: 0.7265 - accuracy: 0.5400 - val_loss: 0.6892 - val_accuracy: 0.5000\n"
          ]
        },
        {
          "output_type": "stream",
          "name": "stderr",
          "text": [
            "\r 87%|████████▋ | 27/31 [00:52<00:09,  2.29s/it]04/23/2022 07:50:42 AM - INFO - Getting Keras datasets\n",
            "04/23/2022 07:50:42 AM - INFO - Compling Keras model\n",
            "04/23/2022 07:50:42 AM - INFO - Architecture:[128, 128, 32, 128, 32, 16],elu,adam,4\n"
          ]
        },
        {
          "output_type": "stream",
          "name": "stdout",
          "text": [
            "Test loss: 0.6891847848892212\n",
            "Test accuracy: 0.5\n",
            "Epoch 1/3\n",
            "2/2 [==============================] - 1s 443ms/step - loss: 0.8200 - accuracy: 0.4800 - val_loss: 1.1014 - val_accuracy: 0.5000\n",
            "Epoch 2/3\n",
            "2/2 [==============================] - 0s 284ms/step - loss: 1.0271 - accuracy: 0.4800 - val_loss: 0.8247 - val_accuracy: 0.5000\n",
            "Epoch 3/3\n",
            "2/2 [==============================] - 0s 282ms/step - loss: 0.8714 - accuracy: 0.5000 - val_loss: 0.6631 - val_accuracy: 0.5400\n"
          ]
        },
        {
          "output_type": "stream",
          "name": "stderr",
          "text": [
            "\r 90%|█████████ | 28/31 [00:55<00:08,  2.69s/it]04/23/2022 07:50:46 AM - INFO - Getting Keras datasets\n",
            "04/23/2022 07:50:46 AM - INFO - Compling Keras model\n",
            "04/23/2022 07:50:46 AM - INFO - Architecture:[16, 128, 128, 128, 32, 16],elu,adam,3\n"
          ]
        },
        {
          "output_type": "stream",
          "name": "stdout",
          "text": [
            "Test loss: 0.6630915999412537\n",
            "Test accuracy: 0.5400000214576721\n",
            "Epoch 1/3\n",
            "2/2 [==============================] - 1s 264ms/step - loss: 0.8299 - accuracy: 0.4400 - val_loss: 0.6957 - val_accuracy: 0.5000\n",
            "Epoch 2/3\n",
            "2/2 [==============================] - 0s 121ms/step - loss: 0.7970 - accuracy: 0.4600 - val_loss: 0.6397 - val_accuracy: 0.7200\n",
            "Epoch 3/3\n",
            "2/2 [==============================] - 0s 116ms/step - loss: 0.6283 - accuracy: 0.6000 - val_loss: 0.6166 - val_accuracy: 0.7400\n"
          ]
        },
        {
          "output_type": "stream",
          "name": "stderr",
          "text": [
            "\r 94%|█████████▎| 29/31 [00:57<00:05,  2.53s/it]04/23/2022 07:50:48 AM - INFO - Getting Keras datasets\n",
            "04/23/2022 07:50:48 AM - INFO - Compling Keras model\n",
            "04/23/2022 07:50:48 AM - INFO - Architecture:[16, 128, 128, 64, 128, 16],elu,adam,3\n"
          ]
        },
        {
          "output_type": "stream",
          "name": "stdout",
          "text": [
            "Test loss: 0.6166166067123413\n",
            "Test accuracy: 0.7400000095367432\n",
            "Epoch 1/3\n",
            "2/2 [==============================] - 1s 263ms/step - loss: 0.9381 - accuracy: 0.5400 - val_loss: 0.7354 - val_accuracy: 0.5000\n",
            "Epoch 2/3\n",
            "2/2 [==============================] - 0s 111ms/step - loss: 0.8028 - accuracy: 0.5200 - val_loss: 0.8031 - val_accuracy: 0.5000\n",
            "Epoch 3/3\n",
            "2/2 [==============================] - 0s 115ms/step - loss: 0.8300 - accuracy: 0.4600 - val_loss: 0.6958 - val_accuracy: 0.5000\n"
          ]
        },
        {
          "output_type": "stream",
          "name": "stderr",
          "text": [
            "\r 97%|█████████▋| 30/31 [01:00<00:02,  2.42s/it]04/23/2022 07:50:50 AM - INFO - Getting Keras datasets\n",
            "04/23/2022 07:50:50 AM - INFO - Compling Keras model\n",
            "04/23/2022 07:50:50 AM - INFO - Architecture:[32, 64, 128, 16, 32, 64],elu,adamax,5\n"
          ]
        },
        {
          "output_type": "stream",
          "name": "stdout",
          "text": [
            "Test loss: 0.6957607865333557\n",
            "Test accuracy: 0.5\n",
            "Epoch 1/3\n",
            "2/2 [==============================] - 1s 269ms/step - loss: 0.7466 - accuracy: 0.4800 - val_loss: 0.6925 - val_accuracy: 0.5000\n",
            "Epoch 2/3\n",
            "2/2 [==============================] - 0s 111ms/step - loss: 0.7709 - accuracy: 0.4200 - val_loss: 0.6788 - val_accuracy: 0.5000\n",
            "Epoch 3/3\n",
            "2/2 [==============================] - 0s 109ms/step - loss: 0.7251 - accuracy: 0.5800 - val_loss: 0.6614 - val_accuracy: 0.7400\n"
          ]
        },
        {
          "output_type": "stream",
          "name": "stderr",
          "text": [
            "100%|██████████| 31/31 [01:01<00:00,  2.00s/it]\n",
            "04/23/2022 07:50:52 AM - INFO - Generation average: 57.81%\n",
            "04/23/2022 07:50:52 AM - INFO - --------------------------------------------------------------------------------\n",
            "04/23/2022 07:50:52 AM - INFO - ***Now in generation 4 of 8***\n",
            "04/23/2022 07:50:52 AM - INFO - --------------------------------------------------------------------------------\n",
            "04/23/2022 07:50:52 AM - INFO - {'nb_layers': 5, 'activation': 'linear', 'optimizer': 'rmsprop', 'nb_neurons': [32, 128, 128, 32, 32, 32]}\n",
            "04/23/2022 07:50:52 AM - INFO - Acc: 76.00%\n",
            "04/23/2022 07:50:52 AM - INFO - UniID: 13\n",
            "04/23/2022 07:50:52 AM - INFO - Mom and Dad: 0 0\n",
            "04/23/2022 07:50:52 AM - INFO - Gen: 1\n",
            "04/23/2022 07:50:52 AM - INFO - Hash: 89d4c9327f8fe5594bda5dd0d8ad8c34\n",
            "04/23/2022 07:50:52 AM - INFO - {'nb_layers': 5, 'activation': 'elu', 'optimizer': 'adamax', 'nb_neurons': [32, 64, 16, 16, 32, 64]}\n",
            "04/23/2022 07:50:52 AM - INFO - Acc: 76.00%\n",
            "04/23/2022 07:50:52 AM - INFO - UniID: 22\n",
            "04/23/2022 07:50:52 AM - INFO - Mom and Dad: 0 0\n",
            "04/23/2022 07:50:52 AM - INFO - Gen: 1\n",
            "04/23/2022 07:50:52 AM - INFO - Hash: c7f2e8cba3a1311187ad10cf251cb872\n",
            "04/23/2022 07:50:52 AM - INFO - {'nb_layers': 4, 'activation': 'tanh', 'optimizer': 'adam', 'nb_neurons': [128, 128, 32, 128, 32, 16]}\n",
            "04/23/2022 07:50:52 AM - INFO - Acc: 76.00%\n",
            "04/23/2022 07:50:52 AM - INFO - UniID: 28\n",
            "04/23/2022 07:50:52 AM - INFO - Mom and Dad: 0 0\n",
            "04/23/2022 07:50:52 AM - INFO - Gen: 1\n",
            "04/23/2022 07:50:52 AM - INFO - Hash: b06789b41b0ae20fe0ab931e2664d057\n",
            "04/23/2022 07:50:52 AM - INFO - {'activation': 'elu', 'nb_layers': 3, 'optimizer': 'adam', 'nb_neurons': [16, 128, 128, 64, 32, 16]}\n",
            "04/23/2022 07:50:52 AM - INFO - Acc: 76.00%\n",
            "04/23/2022 07:50:52 AM - INFO - UniID: 45\n",
            "04/23/2022 07:50:52 AM - INFO - Mom and Dad: 8 28\n",
            "04/23/2022 07:50:52 AM - INFO - Gen: 2\n",
            "04/23/2022 07:50:52 AM - INFO - Hash: e97a341a4589ffb7ff789f4868514400\n",
            "04/23/2022 07:50:52 AM - INFO - {'activation': 'elu', 'nb_layers': 2, 'optimizer': 'adam', 'nb_neurons': [16, 128, 16, 64, 32, 16]}\n",
            "04/23/2022 07:50:52 AM - INFO - Acc: 0.00%\n",
            "04/23/2022 07:50:52 AM - INFO - UniID: 68\n",
            "04/23/2022 07:50:52 AM - INFO - Mom and Dad: 28 45\n",
            "04/23/2022 07:50:52 AM - INFO - Gen: 4\n",
            "04/23/2022 07:50:52 AM - INFO - Hash: c5e94118a58bf45155233664102ffa3e\n",
            "04/23/2022 07:50:52 AM - INFO - {'activation': 'elu', 'nb_layers': 3, 'optimizer': 'rmsprop', 'nb_neurons': [16, 128, 128, 32, 32, 32]}\n",
            "04/23/2022 07:50:52 AM - INFO - Acc: 0.00%\n",
            "04/23/2022 07:50:52 AM - INFO - UniID: 81\n",
            "04/23/2022 07:50:52 AM - INFO - Mom and Dad: 45 13\n",
            "04/23/2022 07:50:52 AM - INFO - Gen: 4\n",
            "04/23/2022 07:50:52 AM - INFO - Hash: 0b2723877ebebb0c4a4f3b960e291cc9\n",
            "04/23/2022 07:50:52 AM - INFO - {'activation': 'linear', 'nb_layers': 5, 'optimizer': 'adam', 'nb_neurons': [32, 128, 64, 64, 32, 16]}\n",
            "04/23/2022 07:50:52 AM - INFO - Acc: 0.00%\n",
            "04/23/2022 07:50:52 AM - INFO - UniID: 82\n",
            "04/23/2022 07:50:52 AM - INFO - Mom and Dad: 45 13\n",
            "04/23/2022 07:50:52 AM - INFO - Gen: 4\n",
            "04/23/2022 07:50:52 AM - INFO - Hash: f509a23a023dccfe06e228c9c2ddf9a9\n",
            "04/23/2022 07:50:52 AM - INFO - {'activation': 'elu', 'nb_layers': 3, 'optimizer': 'rmsprop', 'nb_neurons': [16, 128, 128, 64, 32, 32]}\n",
            "04/23/2022 07:50:52 AM - INFO - Acc: 0.00%\n",
            "04/23/2022 07:50:52 AM - INFO - UniID: 83\n",
            "04/23/2022 07:50:52 AM - INFO - Mom and Dad: 45 13\n",
            "04/23/2022 07:50:52 AM - INFO - Gen: 4\n",
            "04/23/2022 07:50:52 AM - INFO - Hash: 8c33857fc48e5a2a2b9e6b15db688a83\n",
            "04/23/2022 07:50:52 AM - INFO - {'activation': 'linear', 'nb_layers': 5, 'optimizer': 'adam', 'nb_neurons': [32, 128, 128, 32, 32, 16]}\n",
            "04/23/2022 07:50:52 AM - INFO - Acc: 0.00%\n",
            "04/23/2022 07:50:52 AM - INFO - UniID: 84\n",
            "04/23/2022 07:50:52 AM - INFO - Mom and Dad: 45 13\n",
            "04/23/2022 07:50:52 AM - INFO - Gen: 4\n",
            "04/23/2022 07:50:52 AM - INFO - Hash: 204894195e4849cfbb51a7a5186812a2\n",
            "04/23/2022 07:50:52 AM - INFO - {'activation': 'elu', 'nb_layers': 3, 'optimizer': 'rmsprop', 'nb_neurons': [32, 128, 128, 32, 32, 32]}\n",
            "04/23/2022 07:50:52 AM - INFO - Acc: 0.00%\n",
            "04/23/2022 07:50:52 AM - INFO - UniID: 85\n",
            "04/23/2022 07:50:52 AM - INFO - Mom and Dad: 45 13\n",
            "04/23/2022 07:50:52 AM - INFO - Gen: 4\n",
            "04/23/2022 07:50:52 AM - INFO - Hash: a85b6ae18657e875fea1bae705de7e72\n",
            "04/23/2022 07:50:52 AM - INFO - {'activation': 'linear', 'nb_layers': 5, 'optimizer': 'adam', 'nb_neurons': [16, 128, 128, 64, 32, 32]}\n",
            "04/23/2022 07:50:52 AM - INFO - Acc: 0.00%\n",
            "04/23/2022 07:50:52 AM - INFO - UniID: 86\n",
            "04/23/2022 07:50:52 AM - INFO - Mom and Dad: 45 13\n",
            "04/23/2022 07:50:52 AM - INFO - Gen: 4\n",
            "04/23/2022 07:50:52 AM - INFO - Hash: 5e35b93f3003c33b5c38092c32c3f15e\n",
            "04/23/2022 07:50:52 AM - INFO - {'activation': 'linear', 'nb_layers': 5, 'optimizer': 'adam', 'nb_neurons': [32, 128, 128, 64, 32, 16]}\n",
            "04/23/2022 07:50:52 AM - INFO - Acc: 0.00%\n",
            "04/23/2022 07:50:52 AM - INFO - UniID: 87\n",
            "04/23/2022 07:50:52 AM - INFO - Mom and Dad: 13 45\n",
            "04/23/2022 07:50:52 AM - INFO - Gen: 4\n",
            "04/23/2022 07:50:52 AM - INFO - Hash: ba3c6cf507be4b44e18d0dc5d9157471\n",
            "04/23/2022 07:50:52 AM - INFO - {'activation': 'elu', 'nb_layers': 3, 'optimizer': 'rmsprop', 'nb_neurons': [16, 128, 128, 128, 32, 32]}\n",
            "04/23/2022 07:50:52 AM - INFO - Acc: 0.00%\n",
            "04/23/2022 07:50:52 AM - INFO - UniID: 88\n",
            "04/23/2022 07:50:52 AM - INFO - Mom and Dad: 13 45\n",
            "04/23/2022 07:50:52 AM - INFO - Gen: 4\n",
            "04/23/2022 07:50:52 AM - INFO - Hash: c627de4f905f59973e1f678895f96a32\n",
            "04/23/2022 07:50:52 AM - INFO - {'activation': 'elu', 'nb_layers': 5, 'optimizer': 'rmsprop', 'nb_neurons': [32, 64, 128, 32, 32, 32]}\n",
            "04/23/2022 07:50:52 AM - INFO - Acc: 0.00%\n",
            "04/23/2022 07:50:52 AM - INFO - UniID: 89\n",
            "04/23/2022 07:50:52 AM - INFO - Mom and Dad: 22 13\n",
            "04/23/2022 07:50:52 AM - INFO - Gen: 4\n",
            "04/23/2022 07:50:52 AM - INFO - Hash: 83b98bdeb690ea52664b13854f788fa9\n",
            "04/23/2022 07:50:52 AM - INFO - {'activation': 'linear', 'nb_layers': 5, 'optimizer': 'adamax', 'nb_neurons': [32, 128, 16, 16, 32, 64]}\n",
            "04/23/2022 07:50:52 AM - INFO - Acc: 0.00%\n",
            "04/23/2022 07:50:52 AM - INFO - UniID: 90\n",
            "04/23/2022 07:50:52 AM - INFO - Mom and Dad: 22 13\n",
            "04/23/2022 07:50:52 AM - INFO - Gen: 4\n",
            "04/23/2022 07:50:52 AM - INFO - Hash: aefb5cd90cd2434fefbd2b085e497941\n",
            "04/23/2022 07:50:52 AM - INFO - {'activation': 'tanh', 'nb_layers': 4, 'optimizer': 'rmsprop', 'nb_neurons': [128, 128, 128, 32, 32, 32]}\n",
            "04/23/2022 07:50:52 AM - INFO - Acc: 0.00%\n",
            "04/23/2022 07:50:52 AM - INFO - UniID: 91\n",
            "04/23/2022 07:50:52 AM - INFO - Mom and Dad: 28 13\n",
            "04/23/2022 07:50:52 AM - INFO - Gen: 4\n",
            "04/23/2022 07:50:52 AM - INFO - Hash: 7907c688136148b1b5109d3a20adb202\n",
            "04/23/2022 07:50:52 AM - INFO - {'activation': 'linear', 'nb_layers': 5, 'optimizer': 'adam', 'nb_neurons': [32, 128, 32, 128, 32, 16]}\n",
            "04/23/2022 07:50:52 AM - INFO - Acc: 0.00%\n",
            "04/23/2022 07:50:52 AM - INFO - UniID: 92\n",
            "04/23/2022 07:50:52 AM - INFO - Mom and Dad: 28 13\n",
            "04/23/2022 07:50:52 AM - INFO - Gen: 4\n",
            "04/23/2022 07:50:52 AM - INFO - Hash: f423e8db8d50f3b02c4ac59177605930\n",
            "04/23/2022 07:50:52 AM - INFO - {'activation': 'tanh', 'nb_layers': 4, 'optimizer': 'adamax', 'nb_neurons': [32, 64, 16, 16, 32, 64]}\n",
            "04/23/2022 07:50:52 AM - INFO - Acc: 0.00%\n",
            "04/23/2022 07:50:52 AM - INFO - UniID: 93\n",
            "04/23/2022 07:50:52 AM - INFO - Mom and Dad: 28 22\n",
            "04/23/2022 07:50:52 AM - INFO - Gen: 4\n",
            "04/23/2022 07:50:52 AM - INFO - Hash: faf481dab172c60dace885d6051e7220\n",
            "04/23/2022 07:50:52 AM - INFO - {'activation': 'elu', 'nb_layers': 5, 'optimizer': 'adam', 'nb_neurons': [32, 128, 32, 128, 32, 16]}\n",
            "04/23/2022 07:50:52 AM - INFO - Acc: 0.00%\n",
            "04/23/2022 07:50:52 AM - INFO - UniID: 94\n",
            "04/23/2022 07:50:52 AM - INFO - Mom and Dad: 28 22\n",
            "04/23/2022 07:50:52 AM - INFO - Gen: 4\n",
            "04/23/2022 07:50:52 AM - INFO - Hash: 58fc1149d3ce71818343659c6ad3abe9\n",
            "04/23/2022 07:50:52 AM - INFO - {'activation': 'sigmoid', 'nb_layers': 5, 'optimizer': 'rmsprop', 'nb_neurons': [32, 64, 16, 16, 32, 32]}\n",
            "04/23/2022 07:50:52 AM - INFO - Acc: 0.00%\n",
            "04/23/2022 07:50:52 AM - INFO - UniID: 95\n",
            "04/23/2022 07:50:52 AM - INFO - Mom and Dad: 22 13\n",
            "04/23/2022 07:50:52 AM - INFO - Gen: 4\n",
            "04/23/2022 07:50:52 AM - INFO - Hash: cb9a1e66e768fba523d23e5ecd262bb9\n",
            "04/23/2022 07:50:52 AM - INFO - {'activation': 'linear', 'nb_layers': 5, 'optimizer': 'adamax', 'nb_neurons': [32, 128, 128, 32, 32, 64]}\n",
            "04/23/2022 07:50:52 AM - INFO - Acc: 0.00%\n",
            "04/23/2022 07:50:52 AM - INFO - UniID: 96\n",
            "04/23/2022 07:50:52 AM - INFO - Mom and Dad: 22 13\n",
            "04/23/2022 07:50:52 AM - INFO - Gen: 4\n",
            "04/23/2022 07:50:52 AM - INFO - Hash: e81522ad9629735fd436c82879881b64\n",
            "04/23/2022 07:50:52 AM - INFO - {'activation': 'tanh', 'nb_layers': 4, 'optimizer': 'adadelta', 'nb_neurons': [128, 128, 32, 16, 32, 64]}\n",
            "04/23/2022 07:50:52 AM - INFO - Acc: 0.00%\n",
            "04/23/2022 07:50:52 AM - INFO - UniID: 97\n",
            "04/23/2022 07:50:52 AM - INFO - Mom and Dad: 28 22\n",
            "04/23/2022 07:50:52 AM - INFO - Gen: 4\n",
            "04/23/2022 07:50:52 AM - INFO - Hash: bc682d79a588f70eb0c75bd5038ab692\n",
            "04/23/2022 07:50:52 AM - INFO - {'activation': 'elu', 'nb_layers': 5, 'optimizer': 'adam', 'nb_neurons': [32, 64, 16, 128, 32, 16]}\n",
            "04/23/2022 07:50:52 AM - INFO - Acc: 0.00%\n",
            "04/23/2022 07:50:52 AM - INFO - UniID: 98\n",
            "04/23/2022 07:50:52 AM - INFO - Mom and Dad: 28 22\n",
            "04/23/2022 07:50:52 AM - INFO - Gen: 4\n",
            "04/23/2022 07:50:52 AM - INFO - Hash: 53173eb577f6321702119b84dfc9311e\n",
            "04/23/2022 07:50:52 AM - INFO - {'activation': 'linear', 'nb_layers': 5, 'optimizer': 'adamax', 'nb_neurons': [32, 64, 16, 16, 32, 64]}\n",
            "04/23/2022 07:50:52 AM - INFO - Acc: 0.00%\n",
            "04/23/2022 07:50:52 AM - INFO - UniID: 99\n",
            "04/23/2022 07:50:52 AM - INFO - Mom and Dad: 13 22\n",
            "04/23/2022 07:50:52 AM - INFO - Gen: 4\n",
            "04/23/2022 07:50:52 AM - INFO - Hash: 7cc33d9cb1cd93cbc97c0604e982eeb5\n",
            "04/23/2022 07:50:52 AM - INFO - {'activation': 'sigmoid', 'nb_layers': 5, 'optimizer': 'rmsprop', 'nb_neurons': [32, 128, 128, 32, 32, 32]}\n",
            "04/23/2022 07:50:52 AM - INFO - Acc: 0.00%\n",
            "04/23/2022 07:50:52 AM - INFO - UniID: 100\n",
            "04/23/2022 07:50:52 AM - INFO - Mom and Dad: 13 22\n",
            "04/23/2022 07:50:52 AM - INFO - Gen: 4\n",
            "04/23/2022 07:50:52 AM - INFO - Hash: c352b21c2ecc8233e829c3c19909c418\n",
            "04/23/2022 07:50:52 AM - INFO - {'activation': 'elu', 'nb_layers': 5, 'optimizer': 'adam', 'nb_neurons': [32, 64, 16, 64, 32, 16]}\n",
            "04/23/2022 07:50:52 AM - INFO - Acc: 0.00%\n",
            "04/23/2022 07:50:52 AM - INFO - UniID: 101\n",
            "04/23/2022 07:50:52 AM - INFO - Mom and Dad: 22 45\n",
            "04/23/2022 07:50:52 AM - INFO - Gen: 4\n",
            "04/23/2022 07:50:52 AM - INFO - Hash: 68b32f42405d955d743ab53de7a772a0\n",
            "04/23/2022 07:50:52 AM - INFO - {'activation': 'elu', 'nb_layers': 3, 'optimizer': 'adamax', 'nb_neurons': [16, 128, 128, 16, 32, 64]}\n",
            "04/23/2022 07:50:52 AM - INFO - Acc: 0.00%\n",
            "04/23/2022 07:50:52 AM - INFO - UniID: 102\n",
            "04/23/2022 07:50:52 AM - INFO - Mom and Dad: 22 45\n",
            "04/23/2022 07:50:52 AM - INFO - Gen: 4\n",
            "04/23/2022 07:50:52 AM - INFO - Hash: 62d75adcf87934c48ecd44aadf700d64\n",
            "04/23/2022 07:50:52 AM - INFO - {'activation': 'elu', 'nb_layers': 5, 'optimizer': 'adam', 'nb_neurons': [32, 128, 128, 64, 32, 16]}\n",
            "04/23/2022 07:50:52 AM - INFO - Acc: 0.00%\n",
            "04/23/2022 07:50:52 AM - INFO - UniID: 103\n"
          ]
        },
        {
          "output_type": "stream",
          "name": "stdout",
          "text": [
            "Test loss: 0.6613574028015137\n",
            "Test accuracy: 0.7400000095367432\n"
          ]
        },
        {
          "output_type": "stream",
          "name": "stderr",
          "text": [
            "04/23/2022 07:50:52 AM - INFO - Mom and Dad: 13 45\n",
            "04/23/2022 07:50:52 AM - INFO - Gen: 4\n",
            "04/23/2022 07:50:52 AM - INFO - Hash: 4e7e7b08d413effed579b6f0f2c5ae8a\n",
            "04/23/2022 07:50:52 AM - INFO - {'activation': 'elu', 'nb_layers': 3, 'optimizer': 'rmsprop', 'nb_neurons': [16, 16, 128, 32, 32, 32]}\n",
            "04/23/2022 07:50:52 AM - INFO - Acc: 0.00%\n",
            "04/23/2022 07:50:52 AM - INFO - UniID: 104\n",
            "04/23/2022 07:50:52 AM - INFO - Mom and Dad: 13 45\n",
            "04/23/2022 07:50:52 AM - INFO - Gen: 4\n",
            "04/23/2022 07:50:52 AM - INFO - Hash: 951d0d2573d78cd286cd651bebf4a8c1\n",
            "04/23/2022 07:50:52 AM - INFO - {'activation': 'elu', 'nb_layers': 3, 'optimizer': 'adamax', 'nb_neurons': [16, 128, 128, 64, 32, 16]}\n",
            "04/23/2022 07:50:52 AM - INFO - Acc: 0.00%\n",
            "04/23/2022 07:50:52 AM - INFO - UniID: 105\n",
            "04/23/2022 07:50:52 AM - INFO - Mom and Dad: 45 22\n",
            "04/23/2022 07:50:52 AM - INFO - Gen: 4\n",
            "04/23/2022 07:50:52 AM - INFO - Hash: 9ff10a636ad0ec673c6a0de54ecb6719\n",
            "04/23/2022 07:50:52 AM - INFO - {'activation': 'elu', 'nb_layers': 5, 'optimizer': 'adam', 'nb_neurons': [32, 64, 16, 16, 32, 64]}\n",
            "04/23/2022 07:50:52 AM - INFO - Acc: 0.00%\n",
            "04/23/2022 07:50:52 AM - INFO - UniID: 106\n",
            "04/23/2022 07:50:52 AM - INFO - Mom and Dad: 45 22\n",
            "04/23/2022 07:50:52 AM - INFO - Gen: 4\n",
            "04/23/2022 07:50:52 AM - INFO - Hash: 6d0974d9eb6b1ad6ac1fbd5da055281d\n",
            "04/23/2022 07:50:52 AM - INFO - ***train_networks(networks, dataset)***\n",
            "  0%|          | 0/31 [00:00<?, ?it/s]04/23/2022 07:50:52 AM - INFO - Getting Keras datasets\n",
            "04/23/2022 07:50:52 AM - INFO - Compling Keras model\n",
            "04/23/2022 07:50:52 AM - INFO - Architecture:[16, 128, 16, 64, 32, 16],elu,adam,2\n"
          ]
        },
        {
          "output_type": "stream",
          "name": "stdout",
          "text": [
            "Epoch 1/3\n",
            "2/2 [==============================] - 1s 229ms/step - loss: 0.8423 - accuracy: 0.4600 - val_loss: 0.7279 - val_accuracy: 0.5000\n",
            "Epoch 2/3\n",
            "2/2 [==============================] - 0s 80ms/step - loss: 0.8358 - accuracy: 0.5600 - val_loss: 0.6531 - val_accuracy: 0.5200\n",
            "Epoch 3/3\n",
            "2/2 [==============================] - 0s 81ms/step - loss: 0.7180 - accuracy: 0.6000 - val_loss: 0.6620 - val_accuracy: 0.5000\n"
          ]
        },
        {
          "output_type": "stream",
          "name": "stderr",
          "text": [
            "\r 16%|█▌        | 5/31 [00:02<00:10,  2.47it/s]04/23/2022 07:50:54 AM - INFO - Getting Keras datasets\n",
            "04/23/2022 07:50:54 AM - INFO - Compling Keras model\n",
            "04/23/2022 07:50:54 AM - INFO - Architecture:[16, 128, 128, 32, 32, 32],elu,rmsprop,3\n"
          ]
        },
        {
          "output_type": "stream",
          "name": "stdout",
          "text": [
            "Test loss: 0.6619990468025208\n",
            "Test accuracy: 0.5\n",
            "Epoch 1/3\n",
            "2/2 [==============================] - 1s 625ms/step - loss: 1.5438 - accuracy: 0.3600 - val_loss: 3.5804 - val_accuracy: 0.5000\n",
            "Epoch 2/3\n",
            "2/2 [==============================] - 0s 133ms/step - loss: 3.1484 - accuracy: 0.4800 - val_loss: 1.3131 - val_accuracy: 0.5000\n",
            "Epoch 3/3\n",
            "2/2 [==============================] - 0s 118ms/step - loss: 0.8749 - accuracy: 0.5800 - val_loss: 0.6561 - val_accuracy: 0.7400\n"
          ]
        },
        {
          "output_type": "stream",
          "name": "stderr",
          "text": [
            "\r 19%|█▉        | 6/31 [00:04<00:21,  1.17it/s]04/23/2022 07:50:56 AM - INFO - Getting Keras datasets\n",
            "04/23/2022 07:50:56 AM - INFO - Compling Keras model\n",
            "04/23/2022 07:50:56 AM - INFO - Architecture:[32, 128, 64, 64, 32, 16],linear,adam,5\n"
          ]
        },
        {
          "output_type": "stream",
          "name": "stdout",
          "text": [
            "Test loss: 0.6560693383216858\n",
            "Test accuracy: 0.7400000095367432\n",
            "Epoch 1/3\n",
            "2/2 [==============================] - 1s 283ms/step - loss: 0.8420 - accuracy: 0.5200 - val_loss: 0.6498 - val_accuracy: 0.5800\n",
            "Epoch 2/3\n",
            "2/2 [==============================] - 0s 126ms/step - loss: 1.0509 - accuracy: 0.6600 - val_loss: 0.6724 - val_accuracy: 0.5000\n",
            "Epoch 3/3\n",
            "2/2 [==============================] - 0s 115ms/step - loss: 1.0796 - accuracy: 0.5000 - val_loss: 0.7194 - val_accuracy: 0.5000\n"
          ]
        },
        {
          "output_type": "stream",
          "name": "stderr",
          "text": [
            "\r 23%|██▎       | 7/31 [00:06<00:29,  1.21s/it]04/23/2022 07:50:59 AM - INFO - Getting Keras datasets\n",
            "04/23/2022 07:50:59 AM - INFO - Compling Keras model\n",
            "04/23/2022 07:50:59 AM - INFO - Architecture:[16, 128, 128, 64, 32, 32],elu,rmsprop,3\n"
          ]
        },
        {
          "output_type": "stream",
          "name": "stdout",
          "text": [
            "Test loss: 0.719353199005127\n",
            "Test accuracy: 0.5\n",
            "Epoch 1/3\n",
            "2/2 [==============================] - 1s 271ms/step - loss: 1.5920 - accuracy: 0.4600 - val_loss: 2.9009 - val_accuracy: 0.5000\n",
            "Epoch 2/3\n",
            "2/2 [==============================] - 0s 119ms/step - loss: 4.0272 - accuracy: 0.4800 - val_loss: 1.2663 - val_accuracy: 0.5000\n",
            "Epoch 3/3\n",
            "2/2 [==============================] - 0s 122ms/step - loss: 0.6786 - accuracy: 0.7200 - val_loss: 0.6859 - val_accuracy: 0.5000\n"
          ]
        },
        {
          "output_type": "stream",
          "name": "stderr",
          "text": [
            "\r 26%|██▌       | 8/31 [00:08<00:31,  1.38s/it]04/23/2022 07:51:00 AM - INFO - Getting Keras datasets\n",
            "04/23/2022 07:51:01 AM - INFO - Compling Keras model\n",
            "04/23/2022 07:51:01 AM - INFO - Architecture:[32, 128, 128, 32, 32, 16],linear,adam,5\n"
          ]
        },
        {
          "output_type": "stream",
          "name": "stdout",
          "text": [
            "Test loss: 0.6859007477760315\n",
            "Test accuracy: 0.5\n",
            "Epoch 1/3\n",
            "2/2 [==============================] - 1s 288ms/step - loss: 0.9108 - accuracy: 0.5000 - val_loss: 0.7180 - val_accuracy: 0.5000\n",
            "Epoch 2/3\n",
            "2/2 [==============================] - 0s 139ms/step - loss: 0.9332 - accuracy: 0.5200 - val_loss: 0.6562 - val_accuracy: 0.5200\n",
            "Epoch 3/3\n",
            "2/2 [==============================] - 0s 137ms/step - loss: 0.7088 - accuracy: 0.5600 - val_loss: 0.6414 - val_accuracy: 0.5400\n"
          ]
        },
        {
          "output_type": "stream",
          "name": "stderr",
          "text": [
            "\r 29%|██▉       | 9/31 [00:11<00:36,  1.64s/it]04/23/2022 07:51:03 AM - INFO - Getting Keras datasets\n",
            "04/23/2022 07:51:03 AM - INFO - Compling Keras model\n",
            "04/23/2022 07:51:03 AM - INFO - Architecture:[32, 128, 128, 32, 32, 32],elu,rmsprop,3\n"
          ]
        },
        {
          "output_type": "stream",
          "name": "stdout",
          "text": [
            "Test loss: 0.641375720500946\n",
            "Test accuracy: 0.5400000214576721\n",
            "Epoch 1/3\n",
            "2/2 [==============================] - 1s 297ms/step - loss: 1.2516 - accuracy: 0.4600 - val_loss: 3.4376 - val_accuracy: 0.5000\n",
            "Epoch 2/3\n",
            "2/2 [==============================] - 0s 148ms/step - loss: 3.7387 - accuracy: 0.4800 - val_loss: 1.0159 - val_accuracy: 0.5000\n",
            "Epoch 3/3\n",
            "2/2 [==============================] - 0s 151ms/step - loss: 0.8120 - accuracy: 0.5800 - val_loss: 0.6322 - val_accuracy: 0.6400\n"
          ]
        },
        {
          "output_type": "stream",
          "name": "stderr",
          "text": [
            "\r 32%|███▏      | 10/31 [00:13<00:38,  1.85s/it]04/23/2022 07:51:05 AM - INFO - Getting Keras datasets\n",
            "04/23/2022 07:51:05 AM - INFO - Compling Keras model\n",
            "04/23/2022 07:51:05 AM - INFO - Architecture:[16, 128, 128, 64, 32, 32],linear,adam,5\n"
          ]
        },
        {
          "output_type": "stream",
          "name": "stdout",
          "text": [
            "Test loss: 0.6322119235992432\n",
            "Test accuracy: 0.6399999856948853\n",
            "Epoch 1/3\n",
            "2/2 [==============================] - 1s 280ms/step - loss: 2.3088 - accuracy: 0.5400 - val_loss: 0.7201 - val_accuracy: 0.5000\n",
            "Epoch 2/3\n",
            "2/2 [==============================] - 0s 117ms/step - loss: 0.8365 - accuracy: 0.5200 - val_loss: 0.7856 - val_accuracy: 0.5000\n",
            "Epoch 3/3\n",
            "2/2 [==============================] - 0s 118ms/step - loss: 0.7621 - accuracy: 0.5800 - val_loss: 0.6824 - val_accuracy: 0.5000\n"
          ]
        },
        {
          "output_type": "stream",
          "name": "stderr",
          "text": [
            "\r 35%|███▌      | 11/31 [00:15<00:39,  1.99s/it]04/23/2022 07:51:08 AM - INFO - Getting Keras datasets\n",
            "04/23/2022 07:51:08 AM - INFO - Compling Keras model\n",
            "04/23/2022 07:51:08 AM - INFO - Architecture:[32, 128, 128, 64, 32, 16],linear,adam,5\n"
          ]
        },
        {
          "output_type": "stream",
          "name": "stdout",
          "text": [
            "Test loss: 0.6823620796203613\n",
            "Test accuracy: 0.5\n",
            "Epoch 1/3\n",
            "2/2 [==============================] - 1s 298ms/step - loss: 1.2727 - accuracy: 0.3600 - val_loss: 0.6803 - val_accuracy: 0.5000\n",
            "Epoch 2/3\n",
            "2/2 [==============================] - 0s 157ms/step - loss: 0.8452 - accuracy: 0.4800 - val_loss: 0.6715 - val_accuracy: 0.5000\n",
            "Epoch 3/3\n",
            "2/2 [==============================] - 0s 143ms/step - loss: 0.6944 - accuracy: 0.5400 - val_loss: 0.6993 - val_accuracy: 0.5000\n"
          ]
        },
        {
          "output_type": "stream",
          "name": "stderr",
          "text": [
            "\r 39%|███▊      | 12/31 [00:18<00:39,  2.09s/it]04/23/2022 07:51:10 AM - INFO - Getting Keras datasets\n",
            "04/23/2022 07:51:10 AM - INFO - Compling Keras model\n",
            "04/23/2022 07:51:10 AM - INFO - Architecture:[16, 128, 128, 128, 32, 32],elu,rmsprop,3\n"
          ]
        },
        {
          "output_type": "stream",
          "name": "stdout",
          "text": [
            "Test loss: 0.6993067860603333\n",
            "Test accuracy: 0.5\n",
            "Epoch 1/3\n",
            "2/2 [==============================] - 1s 268ms/step - loss: 1.2200 - accuracy: 0.4600 - val_loss: 2.9879 - val_accuracy: 0.5000\n",
            "Epoch 2/3\n",
            "2/2 [==============================] - 0s 123ms/step - loss: 2.9553 - accuracy: 0.4800 - val_loss: 1.0521 - val_accuracy: 0.5000\n",
            "Epoch 3/3\n",
            "2/2 [==============================] - 0s 115ms/step - loss: 0.8938 - accuracy: 0.4800 - val_loss: 0.6030 - val_accuracy: 0.8000\n"
          ]
        },
        {
          "output_type": "stream",
          "name": "stderr",
          "text": [
            "\r 42%|████▏     | 13/31 [00:20<00:38,  2.14s/it]04/23/2022 07:51:12 AM - INFO - Getting Keras datasets\n",
            "04/23/2022 07:51:12 AM - INFO - Compling Keras model\n",
            "04/23/2022 07:51:12 AM - INFO - Architecture:[32, 64, 128, 32, 32, 32],elu,rmsprop,5\n"
          ]
        },
        {
          "output_type": "stream",
          "name": "stdout",
          "text": [
            "Test loss: 0.6030274033546448\n",
            "Test accuracy: 0.800000011920929\n",
            "Epoch 1/3\n",
            "2/2 [==============================] - 1s 282ms/step - loss: 1.9184 - accuracy: 0.4200 - val_loss: 0.9026 - val_accuracy: 0.5000\n",
            "Epoch 2/3\n",
            "2/2 [==============================] - 0s 120ms/step - loss: 0.7943 - accuracy: 0.5800 - val_loss: 0.6845 - val_accuracy: 0.5000\n",
            "Epoch 3/3\n",
            "2/2 [==============================] - 0s 122ms/step - loss: 0.9602 - accuracy: 0.4600 - val_loss: 0.6822 - val_accuracy: 0.5000\n"
          ]
        },
        {
          "output_type": "stream",
          "name": "stderr",
          "text": [
            "\r 45%|████▌     | 14/31 [00:23<00:39,  2.30s/it]04/23/2022 07:51:15 AM - INFO - Getting Keras datasets\n",
            "04/23/2022 07:51:15 AM - INFO - Compling Keras model\n",
            "04/23/2022 07:51:15 AM - INFO - Architecture:[32, 128, 16, 16, 32, 64],linear,adamax,5\n"
          ]
        },
        {
          "output_type": "stream",
          "name": "stdout",
          "text": [
            "Test loss: 0.6822010278701782\n",
            "Test accuracy: 0.5\n",
            "Epoch 1/3\n",
            "2/2 [==============================] - 1s 288ms/step - loss: 0.8180 - accuracy: 0.6600 - val_loss: 0.7107 - val_accuracy: 0.5000\n",
            "Epoch 2/3\n",
            "2/2 [==============================] - 0s 117ms/step - loss: 0.8765 - accuracy: 0.4600 - val_loss: 0.7118 - val_accuracy: 0.5000\n",
            "Epoch 3/3\n",
            "2/2 [==============================] - 0s 122ms/step - loss: 0.6964 - accuracy: 0.5000 - val_loss: 0.6735 - val_accuracy: 0.6400\n"
          ]
        },
        {
          "output_type": "stream",
          "name": "stderr",
          "text": [
            "\r 48%|████▊     | 15/31 [00:25<00:36,  2.31s/it]04/23/2022 07:51:17 AM - INFO - Getting Keras datasets\n",
            "04/23/2022 07:51:17 AM - INFO - Compling Keras model\n",
            "04/23/2022 07:51:17 AM - INFO - Architecture:[128, 128, 128, 32, 32, 32],tanh,rmsprop,4\n"
          ]
        },
        {
          "output_type": "stream",
          "name": "stdout",
          "text": [
            "Test loss: 0.6734641790390015\n",
            "Test accuracy: 0.6399999856948853\n",
            "Epoch 1/3\n",
            "2/2 [==============================] - 2s 447ms/step - loss: 1.0769 - accuracy: 0.4600 - val_loss: 1.9703 - val_accuracy: 0.5000\n",
            "Epoch 2/3\n",
            "2/2 [==============================] - 0s 311ms/step - loss: 1.3121 - accuracy: 0.5800 - val_loss: 0.8278 - val_accuracy: 0.5000\n",
            "Epoch 3/3\n",
            "2/2 [==============================] - 0s 295ms/step - loss: 0.7684 - accuracy: 0.6000 - val_loss: 0.6937 - val_accuracy: 0.5000\n"
          ]
        },
        {
          "output_type": "stream",
          "name": "stderr",
          "text": [
            "\r 52%|█████▏    | 16/31 [00:28<00:37,  2.51s/it]04/23/2022 07:51:20 AM - INFO - Getting Keras datasets\n",
            "04/23/2022 07:51:20 AM - INFO - Compling Keras model\n",
            "04/23/2022 07:51:20 AM - INFO - Architecture:[32, 128, 32, 128, 32, 16],linear,adam,5\n"
          ]
        },
        {
          "output_type": "stream",
          "name": "stdout",
          "text": [
            "Test loss: 0.6936981081962585\n",
            "Test accuracy: 0.5\n",
            "Epoch 1/3\n",
            "2/2 [==============================] - 1s 290ms/step - loss: 0.9306 - accuracy: 0.5400 - val_loss: 0.6852 - val_accuracy: 0.5000\n",
            "Epoch 2/3\n",
            "2/2 [==============================] - 0s 125ms/step - loss: 0.6429 - accuracy: 0.6600 - val_loss: 0.7191 - val_accuracy: 0.5000\n",
            "Epoch 3/3\n",
            "2/2 [==============================] - 0s 115ms/step - loss: 0.6958 - accuracy: 0.7000 - val_loss: 0.6620 - val_accuracy: 0.5000\n"
          ]
        },
        {
          "output_type": "stream",
          "name": "stderr",
          "text": [
            "\r 55%|█████▍    | 17/31 [00:30<00:32,  2.29s/it]04/23/2022 07:51:22 AM - INFO - Getting Keras datasets\n",
            "04/23/2022 07:51:22 AM - INFO - Compling Keras model\n",
            "04/23/2022 07:51:22 AM - INFO - Architecture:[32, 64, 16, 16, 32, 64],tanh,adamax,4\n"
          ]
        },
        {
          "output_type": "stream",
          "name": "stdout",
          "text": [
            "Test loss: 0.6620379686355591\n",
            "Test accuracy: 0.5\n",
            "Epoch 1/3\n",
            "2/2 [==============================] - 1s 263ms/step - loss: 0.7818 - accuracy: 0.5400 - val_loss: 0.7058 - val_accuracy: 0.5000\n",
            "Epoch 2/3\n",
            "2/2 [==============================] - 0s 103ms/step - loss: 0.7702 - accuracy: 0.5200 - val_loss: 0.7044 - val_accuracy: 0.5000\n",
            "Epoch 3/3\n",
            "2/2 [==============================] - 0s 120ms/step - loss: 0.8436 - accuracy: 0.4600 - val_loss: 0.6789 - val_accuracy: 0.6000\n"
          ]
        },
        {
          "output_type": "stream",
          "name": "stderr",
          "text": [
            "\r 58%|█████▊    | 18/31 [00:32<00:29,  2.28s/it]04/23/2022 07:51:24 AM - INFO - Getting Keras datasets\n",
            "04/23/2022 07:51:24 AM - INFO - Compling Keras model\n",
            "04/23/2022 07:51:24 AM - INFO - Architecture:[32, 128, 32, 128, 32, 16],elu,adam,5\n"
          ]
        },
        {
          "output_type": "stream",
          "name": "stdout",
          "text": [
            "Test loss: 0.6789498925209045\n",
            "Test accuracy: 0.6000000238418579\n",
            "Epoch 1/3\n",
            "2/2 [==============================] - 1s 301ms/step - loss: 0.7671 - accuracy: 0.4400 - val_loss: 0.6896 - val_accuracy: 0.5000\n",
            "Epoch 2/3\n",
            "2/2 [==============================] - 0s 133ms/step - loss: 0.8464 - accuracy: 0.4400 - val_loss: 0.6854 - val_accuracy: 0.5000\n",
            "Epoch 3/3\n",
            "2/2 [==============================] - 0s 129ms/step - loss: 0.7695 - accuracy: 0.4200 - val_loss: 0.6797 - val_accuracy: 0.5000\n"
          ]
        },
        {
          "output_type": "stream",
          "name": "stderr",
          "text": [
            "\r 61%|██████▏   | 19/31 [00:34<00:27,  2.30s/it]04/23/2022 07:51:27 AM - INFO - Getting Keras datasets\n",
            "04/23/2022 07:51:27 AM - INFO - Compling Keras model\n",
            "04/23/2022 07:51:27 AM - INFO - Architecture:[32, 64, 16, 16, 32, 32],sigmoid,rmsprop,5\n"
          ]
        },
        {
          "output_type": "stream",
          "name": "stdout",
          "text": [
            "Test loss: 0.6797415018081665\n",
            "Test accuracy: 0.5\n",
            "Epoch 1/3\n",
            "2/2 [==============================] - 2s 276ms/step - loss: 0.9312 - accuracy: 0.5000 - val_loss: 0.7563 - val_accuracy: 0.5000\n",
            "Epoch 2/3\n",
            "2/2 [==============================] - 0s 88ms/step - loss: 0.8270 - accuracy: 0.5000 - val_loss: 0.7266 - val_accuracy: 0.5000\n",
            "Epoch 3/3\n",
            "2/2 [==============================] - 0s 86ms/step - loss: 0.8169 - accuracy: 0.4800 - val_loss: 0.7169 - val_accuracy: 0.5000\n"
          ]
        },
        {
          "output_type": "stream",
          "name": "stderr",
          "text": [
            "\r 65%|██████▍   | 20/31 [00:37<00:25,  2.32s/it]04/23/2022 07:51:29 AM - INFO - Getting Keras datasets\n",
            "04/23/2022 07:51:29 AM - INFO - Compling Keras model\n",
            "04/23/2022 07:51:29 AM - INFO - Architecture:[32, 128, 128, 32, 32, 64],linear,adamax,5\n"
          ]
        },
        {
          "output_type": "stream",
          "name": "stdout",
          "text": [
            "Test loss: 0.7169262766838074\n",
            "Test accuracy: 0.5\n",
            "Epoch 1/3\n",
            "2/2 [==============================] - 1s 291ms/step - loss: 1.5436 - accuracy: 0.4600 - val_loss: 0.6864 - val_accuracy: 0.5000\n",
            "Epoch 2/3\n",
            "2/2 [==============================] - 0s 140ms/step - loss: 0.9831 - accuracy: 0.4600 - val_loss: 0.8607 - val_accuracy: 0.5000\n",
            "Epoch 3/3\n",
            "2/2 [==============================] - 0s 139ms/step - loss: 0.9278 - accuracy: 0.5000 - val_loss: 0.6809 - val_accuracy: 0.5000\n"
          ]
        },
        {
          "output_type": "stream",
          "name": "stderr",
          "text": [
            "\r 68%|██████▊   | 21/31 [00:39<00:23,  2.32s/it]04/23/2022 07:51:31 AM - INFO - Getting Keras datasets\n",
            "04/23/2022 07:51:31 AM - INFO - Compling Keras model\n",
            "04/23/2022 07:51:31 AM - INFO - Architecture:[128, 128, 32, 16, 32, 64],tanh,adadelta,4\n"
          ]
        },
        {
          "output_type": "stream",
          "name": "stdout",
          "text": [
            "Test loss: 0.6808593273162842\n",
            "Test accuracy: 0.5\n",
            "Epoch 1/3\n",
            "2/2 [==============================] - 1s 438ms/step - loss: 0.7751 - accuracy: 0.4400 - val_loss: 0.6892 - val_accuracy: 0.5200\n",
            "Epoch 2/3\n",
            "2/2 [==============================] - 0s 270ms/step - loss: 0.6871 - accuracy: 0.5400 - val_loss: 0.6892 - val_accuracy: 0.5200\n",
            "Epoch 3/3\n",
            "2/2 [==============================] - 0s 267ms/step - loss: 0.7651 - accuracy: 0.4200 - val_loss: 0.6891 - val_accuracy: 0.5200\n"
          ]
        },
        {
          "output_type": "stream",
          "name": "stderr",
          "text": [
            "\r 71%|███████   | 22/31 [00:42<00:24,  2.69s/it]04/23/2022 07:51:35 AM - INFO - Getting Keras datasets\n",
            "04/23/2022 07:51:35 AM - INFO - Compling Keras model\n",
            "04/23/2022 07:51:35 AM - INFO - Architecture:[32, 64, 16, 128, 32, 16],elu,adam,5\n"
          ]
        },
        {
          "output_type": "stream",
          "name": "stdout",
          "text": [
            "Test loss: 0.689137876033783\n",
            "Test accuracy: 0.5199999809265137\n",
            "Epoch 1/3\n",
            "2/2 [==============================] - 1s 261ms/step - loss: 0.8819 - accuracy: 0.5200 - val_loss: 0.8965 - val_accuracy: 0.5000\n",
            "Epoch 2/3\n",
            "2/2 [==============================] - 0s 103ms/step - loss: 0.8850 - accuracy: 0.4800 - val_loss: 0.6858 - val_accuracy: 0.7400\n",
            "Epoch 3/3\n",
            "2/2 [==============================] - 0s 99ms/step - loss: 0.7055 - accuracy: 0.5800 - val_loss: 0.6857 - val_accuracy: 0.5000\n"
          ]
        },
        {
          "output_type": "stream",
          "name": "stderr",
          "text": [
            "\r 74%|███████▍  | 23/31 [00:44<00:19,  2.39s/it]04/23/2022 07:51:36 AM - INFO - Getting Keras datasets\n",
            "04/23/2022 07:51:36 AM - INFO - Compling Keras model\n",
            "04/23/2022 07:51:36 AM - INFO - Architecture:[32, 64, 16, 16, 32, 64],linear,adamax,5\n"
          ]
        },
        {
          "output_type": "stream",
          "name": "stdout",
          "text": [
            "Test loss: 0.6857284307479858\n",
            "Test accuracy: 0.5\n",
            "Epoch 1/3\n",
            "2/2 [==============================] - 1s 245ms/step - loss: 0.7813 - accuracy: 0.4800 - val_loss: 0.7346 - val_accuracy: 0.5000\n",
            "Epoch 2/3\n",
            "2/2 [==============================] - 0s 87ms/step - loss: 0.8046 - accuracy: 0.5400 - val_loss: 0.6934 - val_accuracy: 0.4600\n",
            "Epoch 3/3\n",
            "2/2 [==============================] - 0s 86ms/step - loss: 0.7241 - accuracy: 0.5600 - val_loss: 0.6927 - val_accuracy: 0.5000\n"
          ]
        },
        {
          "output_type": "stream",
          "name": "stderr",
          "text": [
            "\r 77%|███████▋  | 24/31 [00:46<00:15,  2.17s/it]04/23/2022 07:51:38 AM - INFO - Getting Keras datasets\n",
            "04/23/2022 07:51:38 AM - INFO - Compling Keras model\n",
            "04/23/2022 07:51:38 AM - INFO - Architecture:[32, 128, 128, 32, 32, 32],sigmoid,rmsprop,5\n"
          ]
        },
        {
          "output_type": "stream",
          "name": "stdout",
          "text": [
            "Test loss: 0.6926831007003784\n",
            "Test accuracy: 0.5\n",
            "Epoch 1/3\n",
            "2/2 [==============================] - 1s 320ms/step - loss: 0.8832 - accuracy: 0.4800 - val_loss: 0.7171 - val_accuracy: 0.5000\n",
            "Epoch 2/3\n",
            "2/2 [==============================] - 0s 140ms/step - loss: 0.7169 - accuracy: 0.4800 - val_loss: 0.6992 - val_accuracy: 0.5000\n",
            "Epoch 3/3\n",
            "2/2 [==============================] - 0s 156ms/step - loss: 0.7569 - accuracy: 0.5400 - val_loss: 0.6978 - val_accuracy: 0.5000\n"
          ]
        },
        {
          "output_type": "stream",
          "name": "stderr",
          "text": [
            "\r 81%|████████  | 25/31 [00:48<00:13,  2.21s/it]04/23/2022 07:51:40 AM - INFO - Getting Keras datasets\n",
            "04/23/2022 07:51:40 AM - INFO - Compling Keras model\n",
            "04/23/2022 07:51:40 AM - INFO - Architecture:[32, 64, 16, 64, 32, 16],elu,adam,5\n"
          ]
        },
        {
          "output_type": "stream",
          "name": "stdout",
          "text": [
            "Test loss: 0.6977830529212952\n",
            "Test accuracy: 0.5\n",
            "Epoch 1/3\n",
            "2/2 [==============================] - 1s 266ms/step - loss: 0.8490 - accuracy: 0.5000 - val_loss: 0.7130 - val_accuracy: 0.5000\n",
            "Epoch 2/3\n",
            "2/2 [==============================] - 0s 106ms/step - loss: 0.7530 - accuracy: 0.5200 - val_loss: 0.6887 - val_accuracy: 0.5000\n",
            "Epoch 3/3\n",
            "2/2 [==============================] - 0s 106ms/step - loss: 0.8924 - accuracy: 0.4200 - val_loss: 0.7001 - val_accuracy: 0.5000\n"
          ]
        },
        {
          "output_type": "stream",
          "name": "stderr",
          "text": [
            "\r 84%|████████▍ | 26/31 [00:51<00:11,  2.35s/it]04/23/2022 07:51:43 AM - INFO - Getting Keras datasets\n",
            "04/23/2022 07:51:43 AM - INFO - Compling Keras model\n",
            "04/23/2022 07:51:43 AM - INFO - Architecture:[16, 128, 128, 16, 32, 64],elu,adamax,3\n"
          ]
        },
        {
          "output_type": "stream",
          "name": "stdout",
          "text": [
            "Test loss: 0.7001498341560364\n",
            "Test accuracy: 0.5\n",
            "Epoch 1/3\n",
            "2/2 [==============================] - 1s 272ms/step - loss: 1.0866 - accuracy: 0.4200 - val_loss: 0.6844 - val_accuracy: 0.5000\n",
            "Epoch 2/3\n",
            "2/2 [==============================] - 0s 124ms/step - loss: 0.7582 - accuracy: 0.5400 - val_loss: 0.7337 - val_accuracy: 0.5000\n",
            "Epoch 3/3\n",
            "2/2 [==============================] - 0s 117ms/step - loss: 0.6630 - accuracy: 0.5600 - val_loss: 0.6375 - val_accuracy: 0.5600\n"
          ]
        },
        {
          "output_type": "stream",
          "name": "stderr",
          "text": [
            "\r 87%|████████▋ | 27/31 [00:52<00:08,  2.15s/it]04/23/2022 07:51:45 AM - INFO - Getting Keras datasets\n",
            "04/23/2022 07:51:45 AM - INFO - Compling Keras model\n",
            "04/23/2022 07:51:45 AM - INFO - Architecture:[32, 128, 128, 64, 32, 16],elu,adam,5\n"
          ]
        },
        {
          "output_type": "stream",
          "name": "stdout",
          "text": [
            "Test loss: 0.6375206708908081\n",
            "Test accuracy: 0.5600000023841858\n",
            "Epoch 1/3\n",
            "2/2 [==============================] - 1s 321ms/step - loss: 1.3581 - accuracy: 0.4000 - val_loss: 0.6730 - val_accuracy: 0.5000\n",
            "Epoch 2/3\n",
            "2/2 [==============================] - 0s 145ms/step - loss: 0.8079 - accuracy: 0.6000 - val_loss: 0.7219 - val_accuracy: 0.5000\n",
            "Epoch 3/3\n",
            "2/2 [==============================] - 0s 155ms/step - loss: 0.8582 - accuracy: 0.3800 - val_loss: 0.6695 - val_accuracy: 0.8000\n"
          ]
        },
        {
          "output_type": "stream",
          "name": "stderr",
          "text": [
            "\r 90%|█████████ | 28/31 [00:55<00:06,  2.21s/it]04/23/2022 07:51:47 AM - INFO - Getting Keras datasets\n",
            "04/23/2022 07:51:47 AM - INFO - Compling Keras model\n",
            "04/23/2022 07:51:47 AM - INFO - Architecture:[16, 16, 128, 32, 32, 32],elu,rmsprop,3\n"
          ]
        },
        {
          "output_type": "stream",
          "name": "stdout",
          "text": [
            "Test loss: 0.6694927215576172\n",
            "Test accuracy: 0.800000011920929\n",
            "Epoch 1/3\n",
            "2/2 [==============================] - 1s 215ms/step - loss: 1.4737 - accuracy: 0.4200 - val_loss: 1.3610 - val_accuracy: 0.5000\n",
            "Epoch 2/3\n",
            "2/2 [==============================] - 0s 66ms/step - loss: 1.1047 - accuracy: 0.5600 - val_loss: 0.6713 - val_accuracy: 0.7200\n",
            "Epoch 3/3\n",
            "2/2 [==============================] - 0s 70ms/step - loss: 0.7196 - accuracy: 0.5400 - val_loss: 0.6528 - val_accuracy: 0.5800\n"
          ]
        },
        {
          "output_type": "stream",
          "name": "stderr",
          "text": [
            "\r 94%|█████████▎| 29/31 [00:56<00:04,  2.03s/it]"
          ]
        },
        {
          "output_type": "stream",
          "name": "stdout",
          "text": [
            "Test loss: 0.6527981758117676\n",
            "Test accuracy: 0.5799999833106995\n"
          ]
        },
        {
          "output_type": "stream",
          "name": "stderr",
          "text": [
            "04/23/2022 07:51:49 AM - INFO - Getting Keras datasets\n",
            "04/23/2022 07:51:49 AM - INFO - Compling Keras model\n",
            "04/23/2022 07:51:49 AM - INFO - Architecture:[16, 128, 128, 64, 32, 16],elu,adamax,3\n"
          ]
        },
        {
          "output_type": "stream",
          "name": "stdout",
          "text": [
            "Epoch 1/3\n",
            "2/2 [==============================] - 1s 270ms/step - loss: 1.2597 - accuracy: 0.5000 - val_loss: 1.0571 - val_accuracy: 0.5000\n",
            "Epoch 2/3\n",
            "2/2 [==============================] - 0s 118ms/step - loss: 0.9189 - accuracy: 0.5000 - val_loss: 0.6907 - val_accuracy: 0.5000\n",
            "Epoch 3/3\n",
            "2/2 [==============================] - 0s 125ms/step - loss: 0.8634 - accuracy: 0.5800 - val_loss: 0.7306 - val_accuracy: 0.5000\n"
          ]
        },
        {
          "output_type": "stream",
          "name": "stderr",
          "text": [
            "\r 97%|█████████▋| 30/31 [00:58<00:01,  1.92s/it]04/23/2022 07:51:50 AM - INFO - Getting Keras datasets\n",
            "04/23/2022 07:51:50 AM - INFO - Compling Keras model\n",
            "04/23/2022 07:51:50 AM - INFO - Architecture:[32, 64, 16, 16, 32, 64],elu,adam,5\n"
          ]
        },
        {
          "output_type": "stream",
          "name": "stdout",
          "text": [
            "Test loss: 0.7305545210838318\n",
            "Test accuracy: 0.5\n",
            "Epoch 1/3\n",
            "2/2 [==============================] - 1s 268ms/step - loss: 0.7099 - accuracy: 0.4800 - val_loss: 0.6958 - val_accuracy: 0.5000\n",
            "Epoch 2/3\n",
            "2/2 [==============================] - 0s 102ms/step - loss: 0.7235 - accuracy: 0.5200 - val_loss: 0.6883 - val_accuracy: 0.5000\n",
            "Epoch 3/3\n",
            "2/2 [==============================] - 0s 118ms/step - loss: 0.7526 - accuracy: 0.5200 - val_loss: 0.6827 - val_accuracy: 0.5000\n"
          ]
        },
        {
          "output_type": "stream",
          "name": "stderr",
          "text": [
            "100%|██████████| 31/31 [01:00<00:00,  1.95s/it]\n",
            "04/23/2022 07:51:52 AM - INFO - Generation average: 57.94%\n",
            "04/23/2022 07:51:52 AM - INFO - --------------------------------------------------------------------------------\n",
            "04/23/2022 07:51:52 AM - INFO - ***Now in generation 5 of 8***\n",
            "04/23/2022 07:51:52 AM - INFO - --------------------------------------------------------------------------------\n",
            "04/23/2022 07:51:52 AM - INFO - {'activation': 'elu', 'nb_layers': 3, 'optimizer': 'rmsprop', 'nb_neurons': [16, 128, 128, 128, 32, 32]}\n",
            "04/23/2022 07:51:52 AM - INFO - Acc: 80.00%\n",
            "04/23/2022 07:51:52 AM - INFO - UniID: 88\n",
            "04/23/2022 07:51:52 AM - INFO - Mom and Dad: 13 45\n",
            "04/23/2022 07:51:52 AM - INFO - Gen: 4\n",
            "04/23/2022 07:51:52 AM - INFO - Hash: c627de4f905f59973e1f678895f96a32\n",
            "04/23/2022 07:51:52 AM - INFO - {'activation': 'elu', 'nb_layers': 5, 'optimizer': 'adam', 'nb_neurons': [32, 128, 128, 64, 32, 16]}\n",
            "04/23/2022 07:51:52 AM - INFO - Acc: 80.00%\n",
            "04/23/2022 07:51:52 AM - INFO - UniID: 103\n",
            "04/23/2022 07:51:52 AM - INFO - Mom and Dad: 13 45\n",
            "04/23/2022 07:51:52 AM - INFO - Gen: 4\n",
            "04/23/2022 07:51:52 AM - INFO - Hash: 4e7e7b08d413effed579b6f0f2c5ae8a\n",
            "04/23/2022 07:51:52 AM - INFO - {'nb_layers': 5, 'activation': 'linear', 'optimizer': 'rmsprop', 'nb_neurons': [32, 128, 128, 32, 32, 32]}\n",
            "04/23/2022 07:51:52 AM - INFO - Acc: 76.00%\n",
            "04/23/2022 07:51:52 AM - INFO - UniID: 13\n",
            "04/23/2022 07:51:52 AM - INFO - Mom and Dad: 0 0\n",
            "04/23/2022 07:51:52 AM - INFO - Gen: 1\n",
            "04/23/2022 07:51:52 AM - INFO - Hash: 89d4c9327f8fe5594bda5dd0d8ad8c34\n",
            "04/23/2022 07:51:52 AM - INFO - {'nb_layers': 5, 'activation': 'elu', 'optimizer': 'adamax', 'nb_neurons': [32, 64, 16, 16, 32, 64]}\n",
            "04/23/2022 07:51:52 AM - INFO - Acc: 76.00%\n",
            "04/23/2022 07:51:52 AM - INFO - UniID: 22\n",
            "04/23/2022 07:51:52 AM - INFO - Mom and Dad: 0 0\n",
            "04/23/2022 07:51:52 AM - INFO - Gen: 1\n",
            "04/23/2022 07:51:52 AM - INFO - Hash: c7f2e8cba3a1311187ad10cf251cb872\n",
            "04/23/2022 07:51:52 AM - INFO - {'activation': 'hard_sigmoid', 'nb_layers': 3, 'optimizer': 'adam', 'nb_neurons': [16, 128, 128, 128, 32, 16]}\n",
            "04/23/2022 07:51:52 AM - INFO - Acc: 0.00%\n",
            "04/23/2022 07:51:52 AM - INFO - UniID: 107\n",
            "04/23/2022 07:51:52 AM - INFO - Mom and Dad: 88 103\n",
            "04/23/2022 07:51:52 AM - INFO - Gen: 5\n",
            "04/23/2022 07:51:52 AM - INFO - Hash: 165a5e6dea5bae954d2a58c42cf55790\n",
            "04/23/2022 07:51:52 AM - INFO - {'activation': 'elu', 'nb_layers': 5, 'optimizer': 'rmsprop', 'nb_neurons': [32, 128, 128, 128, 32, 32]}\n",
            "04/23/2022 07:51:52 AM - INFO - Acc: 0.00%\n",
            "04/23/2022 07:51:52 AM - INFO - UniID: 108\n",
            "04/23/2022 07:51:52 AM - INFO - Mom and Dad: 88 103\n",
            "04/23/2022 07:51:52 AM - INFO - Gen: 5\n",
            "04/23/2022 07:51:52 AM - INFO - Hash: c187be58aec81eb45c7a333063585105\n",
            "04/23/2022 07:51:52 AM - INFO - {'activation': 'elu', 'nb_layers': 3, 'optimizer': 'adam', 'nb_neurons': [16, 128, 128, 16, 32, 32]}\n",
            "04/23/2022 07:51:52 AM - INFO - Acc: 0.00%\n",
            "04/23/2022 07:51:52 AM - INFO - UniID: 109\n",
            "04/23/2022 07:51:52 AM - INFO - Mom and Dad: 88 103\n",
            "04/23/2022 07:51:52 AM - INFO - Gen: 5\n",
            "04/23/2022 07:51:52 AM - INFO - Hash: 34da56a24f5575b4c615a3d5a1882cc6\n",
            "04/23/2022 07:51:52 AM - INFO - {'activation': 'elu', 'nb_layers': 5, 'optimizer': 'adam', 'nb_neurons': [32, 128, 128, 64, 32, 64]}\n",
            "04/23/2022 07:51:52 AM - INFO - Acc: 0.00%\n",
            "04/23/2022 07:51:52 AM - INFO - UniID: 110\n",
            "04/23/2022 07:51:52 AM - INFO - Mom and Dad: 88 103\n",
            "04/23/2022 07:51:52 AM - INFO - Gen: 5\n",
            "04/23/2022 07:51:52 AM - INFO - Hash: c1cecc0ad146169464d559ae668adebb\n",
            "04/23/2022 07:51:52 AM - INFO - {'activation': 'linear', 'nb_layers': 5, 'optimizer': 'adam', 'nb_neurons': [32, 128, 128, 32, 32, 128]}\n",
            "04/23/2022 07:51:52 AM - INFO - Acc: 0.00%\n",
            "04/23/2022 07:51:52 AM - INFO - UniID: 111\n",
            "04/23/2022 07:51:52 AM - INFO - Mom and Dad: 13 103\n",
            "04/23/2022 07:51:52 AM - INFO - Gen: 5\n",
            "04/23/2022 07:51:52 AM - INFO - Hash: 43545e4254e0dafc0e32db4d7b1b3d5a\n",
            "04/23/2022 07:51:52 AM - INFO - {'activation': 'elu', 'nb_layers': 5, 'optimizer': 'rmsprop', 'nb_neurons': [32, 128, 32, 64, 32, 16]}\n",
            "04/23/2022 07:51:52 AM - INFO - Acc: 0.00%\n",
            "04/23/2022 07:51:52 AM - INFO - UniID: 112\n",
            "04/23/2022 07:51:52 AM - INFO - Mom and Dad: 13 103\n",
            "04/23/2022 07:51:52 AM - INFO - Gen: 5\n",
            "04/23/2022 07:51:52 AM - INFO - Hash: 1c99f718d00674e6fa10638f016b1198\n",
            "04/23/2022 07:51:52 AM - INFO - {'activation': 'elu', 'nb_layers': 5, 'optimizer': 'rmsprop', 'nb_neurons': [32, 128, 128, 64, 16, 32]}\n",
            "04/23/2022 07:51:52 AM - INFO - Acc: 0.00%\n",
            "04/23/2022 07:51:52 AM - INFO - UniID: 113\n",
            "04/23/2022 07:51:52 AM - INFO - Mom and Dad: 103 13\n",
            "04/23/2022 07:51:52 AM - INFO - Gen: 5\n",
            "04/23/2022 07:51:52 AM - INFO - Hash: 5f19f3c90cc42f01261704fd546f3cae\n",
            "04/23/2022 07:51:52 AM - INFO - {'activation': 'linear', 'nb_layers': 5, 'optimizer': 'adam', 'nb_neurons': [32, 128, 128, 128, 32, 16]}\n",
            "04/23/2022 07:51:52 AM - INFO - Acc: 0.00%\n",
            "04/23/2022 07:51:52 AM - INFO - UniID: 114\n",
            "04/23/2022 07:51:52 AM - INFO - Mom and Dad: 103 13\n",
            "04/23/2022 07:51:52 AM - INFO - Gen: 5\n",
            "04/23/2022 07:51:52 AM - INFO - Hash: 7cce8dfdeb86da8cf93fca7cb4eb8bc5\n",
            "04/23/2022 07:51:52 AM - INFO - {'activation': 'linear', 'nb_layers': 3, 'optimizer': 'rmsprop', 'nb_neurons': [16, 128, 128, 128, 32, 32]}\n",
            "04/23/2022 07:51:52 AM - INFO - Acc: 0.00%\n",
            "04/23/2022 07:51:52 AM - INFO - UniID: 115\n",
            "04/23/2022 07:51:52 AM - INFO - Mom and Dad: 13 88\n",
            "04/23/2022 07:51:52 AM - INFO - Gen: 5\n",
            "04/23/2022 07:51:52 AM - INFO - Hash: 32c7e822caaee652c013631e44411639\n",
            "04/23/2022 07:51:52 AM - INFO - {'activation': 'elu', 'nb_layers': 5, 'optimizer': 'rmsprop', 'nb_neurons': [32, 128, 128, 32, 32, 32]}\n",
            "04/23/2022 07:51:52 AM - INFO - Acc: 0.00%\n",
            "04/23/2022 07:51:52 AM - INFO - UniID: 116\n",
            "04/23/2022 07:51:52 AM - INFO - Mom and Dad: 13 88\n",
            "04/23/2022 07:51:52 AM - INFO - Gen: 5\n",
            "04/23/2022 07:51:52 AM - INFO - Hash: 53bd4e0d6372c0d0eda8cd53c9f91965\n",
            "04/23/2022 07:51:52 AM - INFO - {'activation': 'elu', 'nb_layers': 3, 'optimizer': 'adam', 'nb_neurons': [16, 128, 128, 128, 64, 16]}\n",
            "04/23/2022 07:51:52 AM - INFO - Acc: 0.00%\n",
            "04/23/2022 07:51:52 AM - INFO - UniID: 117\n",
            "04/23/2022 07:51:52 AM - INFO - Mom and Dad: 88 103\n",
            "04/23/2022 07:51:52 AM - INFO - Gen: 5\n",
            "04/23/2022 07:51:52 AM - INFO - Hash: 6356ce96e067770bc0b6a791b1ee6999\n",
            "04/23/2022 07:51:52 AM - INFO - {'activation': 'elu', 'nb_layers': 5, 'optimizer': 'rmsprop', 'nb_neurons': [32, 64, 128, 64, 32, 32]}\n",
            "04/23/2022 07:51:52 AM - INFO - Acc: 0.00%\n",
            "04/23/2022 07:51:52 AM - INFO - UniID: 118\n",
            "04/23/2022 07:51:52 AM - INFO - Mom and Dad: 88 103\n",
            "04/23/2022 07:51:52 AM - INFO - Gen: 5\n",
            "04/23/2022 07:51:52 AM - INFO - Hash: b2d88ba37646bf9acd76e9af5b4ded88\n",
            "04/23/2022 07:51:52 AM - INFO - {'activation': 'elu', 'nb_layers': 3, 'optimizer': 'adam', 'nb_neurons': [16, 128, 128, 128, 32, 128]}\n",
            "04/23/2022 07:51:52 AM - INFO - Acc: 0.00%\n",
            "04/23/2022 07:51:52 AM - INFO - UniID: 119\n",
            "04/23/2022 07:51:52 AM - INFO - Mom and Dad: 88 103\n",
            "04/23/2022 07:51:52 AM - INFO - Gen: 5\n",
            "04/23/2022 07:51:52 AM - INFO - Hash: 0f227e165d67099654f5bfda023edf05\n",
            "04/23/2022 07:51:52 AM - INFO - {'activation': 'elu', 'nb_layers': 5, 'optimizer': 'rmsprop', 'nb_neurons': [32, 128, 128, 64, 32, 32]}\n",
            "04/23/2022 07:51:52 AM - INFO - Acc: 0.00%\n",
            "04/23/2022 07:51:52 AM - INFO - UniID: 120\n",
            "04/23/2022 07:51:52 AM - INFO - Mom and Dad: 88 103\n",
            "04/23/2022 07:51:52 AM - INFO - Gen: 5\n",
            "04/23/2022 07:51:52 AM - INFO - Hash: d699d464d516c656c54d9ab2fe240e97\n",
            "04/23/2022 07:51:52 AM - INFO - {'activation': 'linear', 'nb_layers': 5, 'optimizer': 'adam', 'nb_neurons': [32, 128, 32, 32, 32, 32]}\n",
            "04/23/2022 07:51:52 AM - INFO - Acc: 0.00%\n",
            "04/23/2022 07:51:52 AM - INFO - UniID: 121\n",
            "04/23/2022 07:51:52 AM - INFO - Mom and Dad: 13 103\n",
            "04/23/2022 07:51:52 AM - INFO - Gen: 5\n",
            "04/23/2022 07:51:52 AM - INFO - Hash: 7c6973b46fa118a1bd357058d95b4d81\n",
            "04/23/2022 07:51:52 AM - INFO - {'activation': 'elu', 'nb_layers': 5, 'optimizer': 'rmsprop', 'nb_neurons': [32, 128, 128, 64, 128, 16]}\n",
            "04/23/2022 07:51:52 AM - INFO - Acc: 0.00%\n",
            "04/23/2022 07:51:52 AM - INFO - UniID: 122\n",
            "04/23/2022 07:51:52 AM - INFO - Mom and Dad: 13 103\n",
            "04/23/2022 07:51:52 AM - INFO - Gen: 5\n",
            "04/23/2022 07:51:52 AM - INFO - Hash: 438259aa6711883fb62a4951ff4715d6\n",
            "04/23/2022 07:51:52 AM - INFO - {'activation': 'elu', 'nb_layers': 3, 'optimizer': 'adam', 'nb_neurons': [16, 128, 128, 16, 32, 16]}\n",
            "04/23/2022 07:51:52 AM - INFO - Acc: 0.00%\n",
            "04/23/2022 07:51:52 AM - INFO - UniID: 123\n",
            "04/23/2022 07:51:52 AM - INFO - Mom and Dad: 88 103\n",
            "04/23/2022 07:51:52 AM - INFO - Gen: 5\n",
            "04/23/2022 07:51:52 AM - INFO - Hash: c21fbe8f6b23b513a68a89ec5583ef5d\n",
            "04/23/2022 07:51:52 AM - INFO - {'activation': 'elu', 'nb_layers': 5, 'optimizer': 'rmsprop', 'nb_neurons': [32, 128, 32, 128, 32, 32]}\n",
            "04/23/2022 07:51:52 AM - INFO - Acc: 0.00%\n",
            "04/23/2022 07:51:52 AM - INFO - UniID: 124\n",
            "04/23/2022 07:51:52 AM - INFO - Mom and Dad: 88 103\n",
            "04/23/2022 07:51:52 AM - INFO - Gen: 5\n"
          ]
        },
        {
          "output_type": "stream",
          "name": "stdout",
          "text": [
            "Test loss: 0.6826707720756531\n",
            "Test accuracy: 0.5\n"
          ]
        },
        {
          "output_type": "stream",
          "name": "stderr",
          "text": [
            "04/23/2022 07:51:52 AM - INFO - Hash: 39deaf2ccc4ddb5a1732b78750b59741\n",
            "04/23/2022 07:51:52 AM - INFO - {'activation': 'linear', 'nb_layers': 5, 'optimizer': 'adam', 'nb_neurons': [32, 128, 128, 64, 32, 32]}\n",
            "04/23/2022 07:51:52 AM - INFO - Acc: 0.00%\n",
            "04/23/2022 07:51:52 AM - INFO - UniID: 125\n",
            "04/23/2022 07:51:52 AM - INFO - Mom and Dad: 13 103\n",
            "04/23/2022 07:51:52 AM - INFO - Gen: 5\n",
            "04/23/2022 07:51:52 AM - INFO - Hash: e144980ea591de68c45d309544008bf6\n",
            "04/23/2022 07:51:52 AM - INFO - {'activation': 'elu', 'nb_layers': 5, 'optimizer': 'rmsprop', 'nb_neurons': [32, 128, 128, 32, 32, 16]}\n",
            "04/23/2022 07:51:52 AM - INFO - Acc: 0.00%\n",
            "04/23/2022 07:51:52 AM - INFO - UniID: 126\n",
            "04/23/2022 07:51:52 AM - INFO - Mom and Dad: 13 103\n",
            "04/23/2022 07:51:52 AM - INFO - Gen: 5\n",
            "04/23/2022 07:51:52 AM - INFO - Hash: eaf74674716c65f6b58a527f61302a09\n",
            "04/23/2022 07:51:52 AM - INFO - {'activation': 'elu', 'nb_layers': 3, 'optimizer': 'rmsprop', 'nb_neurons': [16, 128, 64, 128, 32, 32]}\n",
            "04/23/2022 07:51:52 AM - INFO - Acc: 0.00%\n",
            "04/23/2022 07:51:52 AM - INFO - UniID: 127\n",
            "04/23/2022 07:51:52 AM - INFO - Mom and Dad: 88 13\n",
            "04/23/2022 07:51:52 AM - INFO - Gen: 5\n",
            "04/23/2022 07:51:52 AM - INFO - Hash: c6dafe672332f3e6393b92a51c600b8e\n",
            "04/23/2022 07:51:52 AM - INFO - {'activation': 'linear', 'nb_layers': 5, 'optimizer': 'rmsprop', 'nb_neurons': [32, 32, 128, 32, 32, 32]}\n",
            "04/23/2022 07:51:52 AM - INFO - Acc: 0.00%\n",
            "04/23/2022 07:51:52 AM - INFO - UniID: 128\n",
            "04/23/2022 07:51:52 AM - INFO - Mom and Dad: 88 13\n",
            "04/23/2022 07:51:52 AM - INFO - Gen: 5\n",
            "04/23/2022 07:51:52 AM - INFO - Hash: d612a80101fad7c28bf672f698598f3a\n",
            "04/23/2022 07:51:52 AM - INFO - {'activation': 'elu', 'nb_layers': 5, 'optimizer': 'rmsprop', 'nb_neurons': [32, 128, 128, 64, 64, 16]}\n",
            "04/23/2022 07:51:52 AM - INFO - Acc: 0.00%\n",
            "04/23/2022 07:51:52 AM - INFO - UniID: 129\n",
            "04/23/2022 07:51:52 AM - INFO - Mom and Dad: 103 13\n",
            "04/23/2022 07:51:52 AM - INFO - Gen: 5\n",
            "04/23/2022 07:51:52 AM - INFO - Hash: ae616fafaef7e9bf12d20219ba30e69a\n",
            "04/23/2022 07:51:52 AM - INFO - {'activation': 'linear', 'nb_layers': 5, 'optimizer': 'adam', 'nb_neurons': [32, 128, 64, 32, 32, 32]}\n",
            "04/23/2022 07:51:52 AM - INFO - Acc: 0.00%\n",
            "04/23/2022 07:51:52 AM - INFO - UniID: 130\n",
            "04/23/2022 07:51:52 AM - INFO - Mom and Dad: 103 13\n",
            "04/23/2022 07:51:52 AM - INFO - Gen: 5\n",
            "04/23/2022 07:51:52 AM - INFO - Hash: ffb3139529d5e44fc9cad198721f5932\n",
            "04/23/2022 07:51:52 AM - INFO - {'activation': 'elu', 'nb_layers': 3, 'optimizer': 'adam', 'nb_neurons': [16, 128, 128, 32, 32, 16]}\n",
            "04/23/2022 07:51:52 AM - INFO - Acc: 0.00%\n",
            "04/23/2022 07:51:52 AM - INFO - UniID: 131\n",
            "04/23/2022 07:51:52 AM - INFO - Mom and Dad: 88 103\n",
            "04/23/2022 07:51:52 AM - INFO - Gen: 5\n",
            "04/23/2022 07:51:52 AM - INFO - Hash: 49499a9942373b63d297a993cb4e8c00\n",
            "04/23/2022 07:51:52 AM - INFO - {'activation': 'elu', 'nb_layers': 5, 'optimizer': 'rmsprop', 'nb_neurons': [32, 16, 128, 32, 32, 32]}\n",
            "04/23/2022 07:51:52 AM - INFO - Acc: 0.00%\n",
            "04/23/2022 07:51:52 AM - INFO - UniID: 132\n",
            "04/23/2022 07:51:52 AM - INFO - Mom and Dad: 88 103\n",
            "04/23/2022 07:51:52 AM - INFO - Gen: 5\n",
            "04/23/2022 07:51:52 AM - INFO - Hash: ec9bf281e88d4aef7c2c133de31fb7fb\n",
            "04/23/2022 07:51:52 AM - INFO - {'activation': 'elu', 'nb_layers': 1, 'optimizer': 'adam', 'nb_neurons': [16, 128, 128, 64, 32, 16]}\n",
            "04/23/2022 07:51:52 AM - INFO - Acc: 0.00%\n",
            "04/23/2022 07:51:52 AM - INFO - UniID: 133\n",
            "04/23/2022 07:51:52 AM - INFO - Mom and Dad: 88 103\n",
            "04/23/2022 07:51:52 AM - INFO - Gen: 5\n",
            "04/23/2022 07:51:52 AM - INFO - Hash: 90984271ba5ee8fba1d7d335345c8d6b\n",
            "04/23/2022 07:51:52 AM - INFO - {'activation': 'elu', 'nb_layers': 5, 'optimizer': 'rmsprop', 'nb_neurons': [32, 128, 128, 16, 32, 32]}\n",
            "04/23/2022 07:51:52 AM - INFO - Acc: 0.00%\n",
            "04/23/2022 07:51:52 AM - INFO - UniID: 134\n",
            "04/23/2022 07:51:52 AM - INFO - Mom and Dad: 88 103\n",
            "04/23/2022 07:51:52 AM - INFO - Gen: 5\n",
            "04/23/2022 07:51:52 AM - INFO - Hash: 63abd936573b90275f344ec18e7b6528\n",
            "04/23/2022 07:51:52 AM - INFO - ***train_networks(networks, dataset)***\n",
            "  0%|          | 0/32 [00:00<?, ?it/s]04/23/2022 07:51:52 AM - INFO - Getting Keras datasets\n",
            "04/23/2022 07:51:52 AM - INFO - Compling Keras model\n",
            "04/23/2022 07:51:52 AM - INFO - Architecture:[16, 128, 128, 128, 32, 16],hard_sigmoid,adam,3\n"
          ]
        },
        {
          "output_type": "stream",
          "name": "stdout",
          "text": [
            "Epoch 1/3\n",
            "2/2 [==============================] - 1s 341ms/step - loss: 1.0041 - accuracy: 0.5000 - val_loss: 0.9120 - val_accuracy: 0.5000\n",
            "Epoch 2/3\n",
            "2/2 [==============================] - 0s 134ms/step - loss: 0.9269 - accuracy: 0.5800 - val_loss: 0.6932 - val_accuracy: 0.5000\n",
            "Epoch 3/3\n",
            "2/2 [==============================] - 0s 133ms/step - loss: 0.7879 - accuracy: 0.6000 - val_loss: 0.7342 - val_accuracy: 0.5000\n"
          ]
        },
        {
          "output_type": "stream",
          "name": "stderr",
          "text": [
            "\r 16%|█▌        | 5/32 [00:02<00:13,  1.99it/s]04/23/2022 07:51:55 AM - INFO - Getting Keras datasets\n",
            "04/23/2022 07:51:55 AM - INFO - Compling Keras model\n",
            "04/23/2022 07:51:55 AM - INFO - Architecture:[32, 128, 128, 128, 32, 32],elu,rmsprop,5\n"
          ]
        },
        {
          "output_type": "stream",
          "name": "stdout",
          "text": [
            "Test loss: 0.734200119972229\n",
            "Test accuracy: 0.5\n",
            "Epoch 1/3\n",
            "2/2 [==============================] - 2s 695ms/step - loss: 0.6804 - accuracy: 0.6000 - val_loss: 3.9333 - val_accuracy: 0.5000\n",
            "Epoch 2/3\n",
            "2/2 [==============================] - 0s 167ms/step - loss: 2.1528 - accuracy: 0.5400 - val_loss: 1.6269 - val_accuracy: 0.5000\n",
            "Epoch 3/3\n",
            "2/2 [==============================] - 0s 165ms/step - loss: 1.2897 - accuracy: 0.5400 - val_loss: 0.7435 - val_accuracy: 0.5000\n"
          ]
        },
        {
          "output_type": "stream",
          "name": "stderr",
          "text": [
            "\r 19%|█▉        | 6/32 [00:06<00:32,  1.26s/it]04/23/2022 07:51:59 AM - INFO - Getting Keras datasets\n",
            "04/23/2022 07:51:59 AM - INFO - Compling Keras model\n",
            "04/23/2022 07:51:59 AM - INFO - Architecture:[16, 128, 128, 16, 32, 32],elu,adam,3\n"
          ]
        },
        {
          "output_type": "stream",
          "name": "stdout",
          "text": [
            "Test loss: 0.7434937953948975\n",
            "Test accuracy: 0.5\n",
            "Epoch 1/3\n",
            "2/2 [==============================] - 1s 268ms/step - loss: 0.8004 - accuracy: 0.4400 - val_loss: 1.0048 - val_accuracy: 0.5000\n",
            "Epoch 2/3\n",
            "2/2 [==============================] - 0s 122ms/step - loss: 0.9770 - accuracy: 0.4600 - val_loss: 0.6697 - val_accuracy: 0.5000\n",
            "Epoch 3/3\n",
            "2/2 [==============================] - 0s 121ms/step - loss: 0.7192 - accuracy: 0.5600 - val_loss: 0.6099 - val_accuracy: 0.8200\n"
          ]
        },
        {
          "output_type": "stream",
          "name": "stderr",
          "text": [
            "\r 22%|██▏       | 7/32 [00:08<00:33,  1.36s/it]04/23/2022 07:52:00 AM - INFO - Getting Keras datasets\n",
            "04/23/2022 07:52:01 AM - INFO - Compling Keras model\n",
            "04/23/2022 07:52:01 AM - INFO - Architecture:[32, 128, 128, 64, 32, 64],elu,adam,5\n"
          ]
        },
        {
          "output_type": "stream",
          "name": "stdout",
          "text": [
            "Test loss: 0.6098573803901672\n",
            "Test accuracy: 0.8199999928474426\n",
            "Epoch 1/3\n",
            "2/2 [==============================] - 1s 317ms/step - loss: 0.7415 - accuracy: 0.4400 - val_loss: 0.6852 - val_accuracy: 0.5000\n",
            "Epoch 2/3\n",
            "2/2 [==============================] - 0s 150ms/step - loss: 0.7046 - accuracy: 0.5600 - val_loss: 0.6899 - val_accuracy: 0.5000\n",
            "Epoch 3/3\n",
            "2/2 [==============================] - 0s 159ms/step - loss: 0.9105 - accuracy: 0.5000 - val_loss: 0.7305 - val_accuracy: 0.5000\n"
          ]
        },
        {
          "output_type": "stream",
          "name": "stderr",
          "text": [
            "\r 25%|██▌       | 8/32 [00:10<00:38,  1.61s/it]04/23/2022 07:52:03 AM - INFO - Getting Keras datasets\n",
            "04/23/2022 07:52:03 AM - INFO - Compling Keras model\n",
            "04/23/2022 07:52:03 AM - INFO - Architecture:[32, 128, 128, 32, 32, 128],linear,adam,5\n"
          ]
        },
        {
          "output_type": "stream",
          "name": "stdout",
          "text": [
            "Test loss: 0.730506420135498\n",
            "Test accuracy: 0.5\n",
            "Epoch 1/3\n",
            "2/2 [==============================] - 1s 290ms/step - loss: 0.7579 - accuracy: 0.5000 - val_loss: 0.8848 - val_accuracy: 0.5000\n",
            "Epoch 2/3\n",
            "2/2 [==============================] - 0s 155ms/step - loss: 0.9153 - accuracy: 0.4200 - val_loss: 0.6868 - val_accuracy: 0.5000\n",
            "Epoch 3/3\n",
            "2/2 [==============================] - 0s 138ms/step - loss: 0.7252 - accuracy: 0.5800 - val_loss: 0.6580 - val_accuracy: 0.5000\n"
          ]
        },
        {
          "output_type": "stream",
          "name": "stderr",
          "text": [
            "\r 28%|██▊       | 9/32 [00:12<00:41,  1.80s/it]04/23/2022 07:52:05 AM - INFO - Getting Keras datasets\n",
            "04/23/2022 07:52:05 AM - INFO - Compling Keras model\n",
            "04/23/2022 07:52:05 AM - INFO - Architecture:[32, 128, 32, 64, 32, 16],elu,rmsprop,5\n"
          ]
        },
        {
          "output_type": "stream",
          "name": "stdout",
          "text": [
            "Test loss: 0.6580406427383423\n",
            "Test accuracy: 0.5\n",
            "Epoch 1/3\n",
            "2/2 [==============================] - 1s 285ms/step - loss: 0.8670 - accuracy: 0.6000 - val_loss: 0.7395 - val_accuracy: 0.5000\n",
            "Epoch 2/3\n",
            "2/2 [==============================] - 0s 130ms/step - loss: 0.7881 - accuracy: 0.5400 - val_loss: 0.6878 - val_accuracy: 0.5000\n",
            "Epoch 3/3\n",
            "2/2 [==============================] - 0s 125ms/step - loss: 0.7495 - accuracy: 0.5400 - val_loss: 0.6845 - val_accuracy: 0.5000\n"
          ]
        },
        {
          "output_type": "stream",
          "name": "stderr",
          "text": [
            "\r 31%|███▏      | 10/32 [00:14<00:42,  1.91s/it]04/23/2022 07:52:07 AM - INFO - Getting Keras datasets\n",
            "04/23/2022 07:52:07 AM - INFO - Compling Keras model\n",
            "04/23/2022 07:52:07 AM - INFO - Architecture:[32, 128, 128, 64, 16, 32],elu,rmsprop,5\n"
          ]
        },
        {
          "output_type": "stream",
          "name": "stdout",
          "text": [
            "Test loss: 0.6844737529754639\n",
            "Test accuracy: 0.5\n",
            "Epoch 1/3\n",
            "2/2 [==============================] - 1s 312ms/step - loss: 0.9588 - accuracy: 0.4600 - val_loss: 0.8207 - val_accuracy: 0.5000\n",
            "Epoch 2/3\n",
            "2/2 [==============================] - 0s 144ms/step - loss: 0.8747 - accuracy: 0.5600 - val_loss: 0.7260 - val_accuracy: 0.5000\n",
            "Epoch 3/3\n",
            "2/2 [==============================] - 0s 172ms/step - loss: 1.0571 - accuracy: 0.4200 - val_loss: 0.6960 - val_accuracy: 0.5000\n"
          ]
        },
        {
          "output_type": "stream",
          "name": "stderr",
          "text": [
            "\r 34%|███▍      | 11/32 [00:17<00:44,  2.14s/it]04/23/2022 07:52:10 AM - INFO - Getting Keras datasets\n",
            "04/23/2022 07:52:10 AM - INFO - Compling Keras model\n",
            "04/23/2022 07:52:10 AM - INFO - Architecture:[32, 128, 128, 128, 32, 16],linear,adam,5\n"
          ]
        },
        {
          "output_type": "stream",
          "name": "stdout",
          "text": [
            "Test loss: 0.6959751844406128\n",
            "Test accuracy: 0.5\n",
            "Epoch 1/3\n",
            "2/2 [==============================] - 1s 311ms/step - loss: 1.9740 - accuracy: 0.4800 - val_loss: 1.3259 - val_accuracy: 0.5000\n",
            "Epoch 2/3\n",
            "2/2 [==============================] - 0s 158ms/step - loss: 1.7283 - accuracy: 0.5000 - val_loss: 0.6152 - val_accuracy: 0.8000\n",
            "Epoch 3/3\n",
            "2/2 [==============================] - 0s 152ms/step - loss: 0.8679 - accuracy: 0.6000 - val_loss: 0.6555 - val_accuracy: 0.5000\n"
          ]
        },
        {
          "output_type": "stream",
          "name": "stderr",
          "text": [
            "\r 38%|███▊      | 12/32 [00:20<00:44,  2.20s/it]04/23/2022 07:52:12 AM - INFO - Getting Keras datasets\n",
            "04/23/2022 07:52:12 AM - INFO - Compling Keras model\n",
            "04/23/2022 07:52:12 AM - INFO - Architecture:[16, 128, 128, 128, 32, 32],linear,rmsprop,3\n"
          ]
        },
        {
          "output_type": "stream",
          "name": "stdout",
          "text": [
            "Test loss: 0.655510663986206\n",
            "Test accuracy: 0.5\n",
            "Epoch 1/3\n",
            "2/2 [==============================] - 1s 262ms/step - loss: 0.8013 - accuracy: 0.6400 - val_loss: 7.7245 - val_accuracy: 0.5000\n",
            "Epoch 2/3\n",
            "2/2 [==============================] - 0s 120ms/step - loss: 6.0130 - accuracy: 0.4800 - val_loss: 1.6872 - val_accuracy: 0.5000\n",
            "Epoch 3/3\n",
            "2/2 [==============================] - 0s 113ms/step - loss: 2.1219 - accuracy: 0.3600 - val_loss: 0.5848 - val_accuracy: 0.7600\n"
          ]
        },
        {
          "output_type": "stream",
          "name": "stderr",
          "text": [
            "\r 41%|████      | 13/32 [00:22<00:41,  2.20s/it]04/23/2022 07:52:15 AM - INFO - Getting Keras datasets\n",
            "04/23/2022 07:52:15 AM - INFO - Compling Keras model\n",
            "04/23/2022 07:52:15 AM - INFO - Architecture:[32, 128, 128, 32, 32, 32],elu,rmsprop,5\n"
          ]
        },
        {
          "output_type": "stream",
          "name": "stdout",
          "text": [
            "Test loss: 0.5848190188407898\n",
            "Test accuracy: 0.7599999904632568\n",
            "Epoch 1/3\n",
            "2/2 [==============================] - 1s 311ms/step - loss: 0.8195 - accuracy: 0.6000 - val_loss: 1.1417 - val_accuracy: 0.5000\n",
            "Epoch 2/3\n",
            "2/2 [==============================] - 0s 146ms/step - loss: 0.9177 - accuracy: 0.6200 - val_loss: 0.6906 - val_accuracy: 0.5000\n",
            "Epoch 3/3\n",
            "2/2 [==============================] - 0s 150ms/step - loss: 0.7887 - accuracy: 0.5600 - val_loss: 0.7236 - val_accuracy: 0.5000\n"
          ]
        },
        {
          "output_type": "stream",
          "name": "stderr",
          "text": [
            "\r 44%|████▍     | 14/32 [00:24<00:42,  2.34s/it]04/23/2022 07:52:17 AM - INFO - Getting Keras datasets\n",
            "04/23/2022 07:52:17 AM - INFO - Compling Keras model\n",
            "04/23/2022 07:52:17 AM - INFO - Architecture:[16, 128, 128, 128, 64, 16],elu,adam,3\n"
          ]
        },
        {
          "output_type": "stream",
          "name": "stdout",
          "text": [
            "Test loss: 0.7236329913139343\n",
            "Test accuracy: 0.5\n",
            "Epoch 1/3\n",
            "2/2 [==============================] - 1s 272ms/step - loss: 1.7668 - accuracy: 0.5200 - val_loss: 0.7272 - val_accuracy: 0.5000\n",
            "Epoch 2/3\n",
            "2/2 [==============================] - 0s 126ms/step - loss: 0.9188 - accuracy: 0.4400 - val_loss: 0.7468 - val_accuracy: 0.5000\n",
            "Epoch 3/3\n",
            "2/2 [==============================] - 0s 115ms/step - loss: 0.7097 - accuracy: 0.6400 - val_loss: 0.6994 - val_accuracy: 0.5000\n"
          ]
        },
        {
          "output_type": "stream",
          "name": "stderr",
          "text": [
            "\r 47%|████▋     | 15/32 [00:26<00:36,  2.14s/it]04/23/2022 07:52:19 AM - INFO - Getting Keras datasets\n",
            "04/23/2022 07:52:19 AM - INFO - Compling Keras model\n",
            "04/23/2022 07:52:19 AM - INFO - Architecture:[32, 64, 128, 64, 32, 32],elu,rmsprop,5\n"
          ]
        },
        {
          "output_type": "stream",
          "name": "stdout",
          "text": [
            "Test loss: 0.6993665099143982\n",
            "Test accuracy: 0.5\n",
            "Epoch 1/3\n",
            "2/2 [==============================] - 1s 283ms/step - loss: 1.2224 - accuracy: 0.4600 - val_loss: 0.9348 - val_accuracy: 0.5000\n",
            "Epoch 2/3\n",
            "2/2 [==============================] - 0s 125ms/step - loss: 1.1762 - accuracy: 0.5200 - val_loss: 0.6782 - val_accuracy: 0.5000\n",
            "Epoch 3/3\n",
            "2/2 [==============================] - 0s 116ms/step - loss: 0.8056 - accuracy: 0.5200 - val_loss: 0.7541 - val_accuracy: 0.5000\n"
          ]
        },
        {
          "output_type": "stream",
          "name": "stderr",
          "text": [
            "\r 50%|█████     | 16/32 [00:29<00:36,  2.30s/it]04/23/2022 07:52:22 AM - INFO - Getting Keras datasets\n",
            "04/23/2022 07:52:22 AM - INFO - Compling Keras model\n",
            "04/23/2022 07:52:22 AM - INFO - Architecture:[16, 128, 128, 128, 32, 128],elu,adam,3\n"
          ]
        },
        {
          "output_type": "stream",
          "name": "stdout",
          "text": [
            "Test loss: 0.754086434841156\n",
            "Test accuracy: 0.5\n",
            "Epoch 1/3\n",
            "2/2 [==============================] - 1s 293ms/step - loss: 1.2876 - accuracy: 0.3800 - val_loss: 1.1543 - val_accuracy: 0.5000\n",
            "Epoch 2/3\n",
            "2/2 [==============================] - 0s 124ms/step - loss: 0.9907 - accuracy: 0.5200 - val_loss: 0.7776 - val_accuracy: 0.5000\n",
            "Epoch 3/3\n",
            "2/2 [==============================] - 0s 117ms/step - loss: 0.9401 - accuracy: 0.5000 - val_loss: 0.6171 - val_accuracy: 0.7200\n"
          ]
        },
        {
          "output_type": "stream",
          "name": "stderr",
          "text": [
            "\r 53%|█████▎    | 17/32 [00:31<00:34,  2.27s/it]04/23/2022 07:52:24 AM - INFO - Getting Keras datasets\n",
            "04/23/2022 07:52:24 AM - INFO - Compling Keras model\n",
            "04/23/2022 07:52:24 AM - INFO - Architecture:[32, 128, 128, 64, 32, 32],elu,rmsprop,5\n"
          ]
        },
        {
          "output_type": "stream",
          "name": "stdout",
          "text": [
            "Test loss: 0.6171068549156189\n",
            "Test accuracy: 0.7200000286102295\n",
            "Epoch 1/3\n",
            "2/2 [==============================] - 1s 316ms/step - loss: 0.9897 - accuracy: 0.5600 - val_loss: 1.2491 - val_accuracy: 0.5000\n",
            "Epoch 2/3\n",
            "2/2 [==============================] - 0s 151ms/step - loss: 1.3202 - accuracy: 0.5000 - val_loss: 0.6813 - val_accuracy: 0.5000\n",
            "Epoch 3/3\n",
            "2/2 [==============================] - 0s 154ms/step - loss: 0.9594 - accuracy: 0.4800 - val_loss: 0.7501 - val_accuracy: 0.5000\n"
          ]
        },
        {
          "output_type": "stream",
          "name": "stderr",
          "text": [
            "\r 56%|█████▋    | 18/32 [00:34<00:33,  2.39s/it]04/23/2022 07:52:27 AM - INFO - Getting Keras datasets\n",
            "04/23/2022 07:52:27 AM - INFO - Compling Keras model\n",
            "04/23/2022 07:52:27 AM - INFO - Architecture:[32, 128, 32, 32, 32, 32],linear,adam,5\n"
          ]
        },
        {
          "output_type": "stream",
          "name": "stdout",
          "text": [
            "Test loss: 0.7501116394996643\n",
            "Test accuracy: 0.5\n",
            "Epoch 1/3\n",
            "2/2 [==============================] - 1s 274ms/step - loss: 0.8633 - accuracy: 0.4600 - val_loss: 0.6681 - val_accuracy: 0.5000\n",
            "Epoch 2/3\n",
            "2/2 [==============================] - 0s 126ms/step - loss: 1.0660 - accuracy: 0.4600 - val_loss: 0.7400 - val_accuracy: 0.5000\n",
            "Epoch 3/3\n",
            "2/2 [==============================] - 0s 120ms/step - loss: 0.7717 - accuracy: 0.6000 - val_loss: 0.6450 - val_accuracy: 0.8000\n"
          ]
        },
        {
          "output_type": "stream",
          "name": "stderr",
          "text": [
            "\r 59%|█████▉    | 19/32 [00:36<00:30,  2.31s/it]04/23/2022 07:52:29 AM - INFO - Getting Keras datasets\n",
            "04/23/2022 07:52:29 AM - INFO - Compling Keras model\n",
            "04/23/2022 07:52:29 AM - INFO - Architecture:[32, 128, 128, 64, 128, 16],elu,rmsprop,5\n"
          ]
        },
        {
          "output_type": "stream",
          "name": "stdout",
          "text": [
            "Test loss: 0.644968569278717\n",
            "Test accuracy: 0.800000011920929\n",
            "Epoch 1/3\n",
            "2/2 [==============================] - 1s 327ms/step - loss: 0.7728 - accuracy: 0.5400 - val_loss: 0.6779 - val_accuracy: 0.5000\n",
            "Epoch 2/3\n",
            "2/2 [==============================] - 0s 148ms/step - loss: 2.0544 - accuracy: 0.5000 - val_loss: 1.0132 - val_accuracy: 0.5000\n",
            "Epoch 3/3\n",
            "2/2 [==============================] - 0s 162ms/step - loss: 1.4877 - accuracy: 0.5200 - val_loss: 2.2485 - val_accuracy: 0.5000\n"
          ]
        },
        {
          "output_type": "stream",
          "name": "stderr",
          "text": [
            "\r 62%|██████▎   | 20/32 [00:38<00:29,  2.42s/it]04/23/2022 07:52:31 AM - INFO - Getting Keras datasets\n",
            "04/23/2022 07:52:31 AM - INFO - Compling Keras model\n",
            "04/23/2022 07:52:31 AM - INFO - Architecture:[16, 128, 128, 16, 32, 16],elu,adam,3\n"
          ]
        },
        {
          "output_type": "stream",
          "name": "stdout",
          "text": [
            "Test loss: 2.248546838760376\n",
            "Test accuracy: 0.5\n",
            "Epoch 1/3\n",
            "2/2 [==============================] - 1s 265ms/step - loss: 0.9181 - accuracy: 0.5200 - val_loss: 0.7220 - val_accuracy: 0.5000\n",
            "Epoch 2/3\n",
            "2/2 [==============================] - 0s 120ms/step - loss: 0.9314 - accuracy: 0.4800 - val_loss: 0.6688 - val_accuracy: 0.5000\n",
            "Epoch 3/3\n",
            "2/2 [==============================] - 0s 117ms/step - loss: 0.7048 - accuracy: 0.5600 - val_loss: 0.6786 - val_accuracy: 0.5000\n"
          ]
        },
        {
          "output_type": "stream",
          "name": "stderr",
          "text": [
            "\r 66%|██████▌   | 21/32 [00:41<00:25,  2.35s/it]04/23/2022 07:52:34 AM - INFO - Getting Keras datasets\n",
            "04/23/2022 07:52:34 AM - INFO - Compling Keras model\n",
            "04/23/2022 07:52:34 AM - INFO - Architecture:[32, 128, 32, 128, 32, 32],elu,rmsprop,5\n"
          ]
        },
        {
          "output_type": "stream",
          "name": "stdout",
          "text": [
            "Test loss: 0.6785656809806824\n",
            "Test accuracy: 0.5\n",
            "Epoch 1/3\n",
            "2/2 [==============================] - 1s 300ms/step - loss: 0.8298 - accuracy: 0.5200 - val_loss: 2.1337 - val_accuracy: 0.5000\n",
            "Epoch 2/3\n",
            "2/2 [==============================] - 0s 133ms/step - loss: 1.6293 - accuracy: 0.4600 - val_loss: 0.9410 - val_accuracy: 0.5000\n",
            "Epoch 3/3\n",
            "2/2 [==============================] - 0s 132ms/step - loss: 1.0092 - accuracy: 0.4800 - val_loss: 0.6601 - val_accuracy: 0.8000\n"
          ]
        },
        {
          "output_type": "stream",
          "name": "stderr",
          "text": [
            "\r 69%|██████▉   | 22/32 [00:43<00:24,  2.45s/it]04/23/2022 07:52:36 AM - INFO - Getting Keras datasets\n",
            "04/23/2022 07:52:36 AM - INFO - Compling Keras model\n",
            "04/23/2022 07:52:36 AM - INFO - Architecture:[32, 128, 128, 64, 32, 32],linear,adam,5\n"
          ]
        },
        {
          "output_type": "stream",
          "name": "stdout",
          "text": [
            "Test loss: 0.6600720286369324\n",
            "Test accuracy: 0.800000011920929\n",
            "Epoch 1/3\n",
            "2/2 [==============================] - 1s 302ms/step - loss: 2.8535 - accuracy: 0.3000 - val_loss: 0.8688 - val_accuracy: 0.5000\n",
            "Epoch 2/3\n",
            "2/2 [==============================] - 0s 147ms/step - loss: 1.2338 - accuracy: 0.4600 - val_loss: 0.9740 - val_accuracy: 0.5000\n",
            "Epoch 3/3\n",
            "2/2 [==============================] - 0s 145ms/step - loss: 1.1944 - accuracy: 0.4600 - val_loss: 0.6364 - val_accuracy: 0.6200\n"
          ]
        },
        {
          "output_type": "stream",
          "name": "stderr",
          "text": [
            "\r 72%|███████▏  | 23/32 [00:45<00:20,  2.29s/it]04/23/2022 07:52:38 AM - INFO - Getting Keras datasets\n",
            "04/23/2022 07:52:38 AM - INFO - Compling Keras model\n",
            "04/23/2022 07:52:38 AM - INFO - Architecture:[32, 128, 128, 32, 32, 16],elu,rmsprop,5\n"
          ]
        },
        {
          "output_type": "stream",
          "name": "stdout",
          "text": [
            "Test loss: 0.6363725662231445\n",
            "Test accuracy: 0.6200000047683716\n",
            "Epoch 1/3\n",
            "2/2 [==============================] - 1s 313ms/step - loss: 1.9674 - accuracy: 0.5000 - val_loss: 1.2365 - val_accuracy: 0.5000\n",
            "Epoch 2/3\n",
            "2/2 [==============================] - 0s 152ms/step - loss: 1.4005 - accuracy: 0.3600 - val_loss: 0.8460 - val_accuracy: 0.5000\n",
            "Epoch 3/3\n",
            "2/2 [==============================] - 0s 154ms/step - loss: 0.8319 - accuracy: 0.5400 - val_loss: 0.7506 - val_accuracy: 0.5000\n"
          ]
        },
        {
          "output_type": "stream",
          "name": "stderr",
          "text": [
            "\r 75%|███████▌  | 24/32 [00:48<00:19,  2.41s/it]04/23/2022 07:52:41 AM - INFO - Getting Keras datasets\n",
            "04/23/2022 07:52:41 AM - INFO - Compling Keras model\n",
            "04/23/2022 07:52:41 AM - INFO - Architecture:[16, 128, 64, 128, 32, 32],elu,rmsprop,3\n"
          ]
        },
        {
          "output_type": "stream",
          "name": "stdout",
          "text": [
            "Test loss: 0.7505806088447571\n",
            "Test accuracy: 0.5\n",
            "Epoch 1/3\n",
            "2/2 [==============================] - 1s 245ms/step - loss: 1.3558 - accuracy: 0.4400 - val_loss: 2.6685 - val_accuracy: 0.5000\n",
            "Epoch 2/3\n",
            "2/2 [==============================] - 0s 106ms/step - loss: 2.7853 - accuracy: 0.4400 - val_loss: 0.8904 - val_accuracy: 0.5000\n",
            "Epoch 3/3\n",
            "2/2 [==============================] - 0s 103ms/step - loss: 0.7986 - accuracy: 0.5400 - val_loss: 0.6268 - val_accuracy: 0.5400\n"
          ]
        },
        {
          "output_type": "stream",
          "name": "stderr",
          "text": [
            "\r 78%|███████▊  | 25/32 [00:50<00:16,  2.41s/it]04/23/2022 07:52:43 AM - INFO - Getting Keras datasets\n",
            "04/23/2022 07:52:43 AM - INFO - Compling Keras model\n",
            "04/23/2022 07:52:43 AM - INFO - Architecture:[32, 32, 128, 32, 32, 32],linear,rmsprop,5\n"
          ]
        },
        {
          "output_type": "stream",
          "name": "stdout",
          "text": [
            "Test loss: 0.6267820596694946\n",
            "Test accuracy: 0.5400000214576721\n",
            "Epoch 1/3\n",
            "2/2 [==============================] - 2s 243ms/step - loss: 1.5007 - accuracy: 0.4000 - val_loss: 0.8676 - val_accuracy: 0.5000\n",
            "Epoch 2/3\n",
            "2/2 [==============================] - 0s 105ms/step - loss: 0.8869 - accuracy: 0.5800 - val_loss: 0.6619 - val_accuracy: 0.6000\n",
            "Epoch 3/3\n",
            "2/2 [==============================] - 0s 85ms/step - loss: 0.6916 - accuracy: 0.5600 - val_loss: 0.6566 - val_accuracy: 0.5200\n"
          ]
        },
        {
          "output_type": "stream",
          "name": "stderr",
          "text": [
            "\r 81%|████████▏ | 26/32 [00:53<00:14,  2.42s/it]04/23/2022 07:52:46 AM - INFO - Getting Keras datasets\n",
            "04/23/2022 07:52:46 AM - INFO - Compling Keras model\n",
            "04/23/2022 07:52:46 AM - INFO - Architecture:[32, 128, 128, 64, 64, 16],elu,rmsprop,5\n"
          ]
        },
        {
          "output_type": "stream",
          "name": "stdout",
          "text": [
            "Test loss: 0.6566360592842102\n",
            "Test accuracy: 0.5199999809265137\n",
            "Epoch 1/3\n",
            "2/2 [==============================] - 1s 324ms/step - loss: 0.7703 - accuracy: 0.5800 - val_loss: 0.7549 - val_accuracy: 0.5000\n",
            "Epoch 2/3\n",
            "2/2 [==============================] - 0s 157ms/step - loss: 2.4634 - accuracy: 0.4400 - val_loss: 1.2181 - val_accuracy: 0.5000\n",
            "Epoch 3/3\n",
            "2/2 [==============================] - 0s 160ms/step - loss: 1.0904 - accuracy: 0.4800 - val_loss: 0.6889 - val_accuracy: 0.5000\n"
          ]
        },
        {
          "output_type": "stream",
          "name": "stderr",
          "text": [
            "\r 84%|████████▍ | 27/32 [00:55<00:12,  2.40s/it]04/23/2022 07:52:48 AM - INFO - Getting Keras datasets\n",
            "04/23/2022 07:52:48 AM - INFO - Compling Keras model\n",
            "04/23/2022 07:52:48 AM - INFO - Architecture:[32, 128, 64, 32, 32, 32],linear,adam,5\n"
          ]
        },
        {
          "output_type": "stream",
          "name": "stdout",
          "text": [
            "Test loss: 0.6889322400093079\n",
            "Test accuracy: 0.5\n",
            "Epoch 1/3\n",
            "2/2 [==============================] - 1s 285ms/step - loss: 0.7997 - accuracy: 0.5400 - val_loss: 0.8746 - val_accuracy: 0.5000\n",
            "Epoch 2/3\n",
            "2/2 [==============================] - 0s 125ms/step - loss: 0.9125 - accuracy: 0.5400 - val_loss: 0.6741 - val_accuracy: 0.5000\n",
            "Epoch 3/3\n",
            "2/2 [==============================] - 0s 124ms/step - loss: 0.7444 - accuracy: 0.5200 - val_loss: 0.6211 - val_accuracy: 0.7000\n"
          ]
        },
        {
          "output_type": "stream",
          "name": "stderr",
          "text": [
            "\r 88%|████████▊ | 28/32 [00:57<00:08,  2.23s/it]04/23/2022 07:52:50 AM - INFO - Getting Keras datasets\n",
            "04/23/2022 07:52:50 AM - INFO - Compling Keras model\n",
            "04/23/2022 07:52:50 AM - INFO - Architecture:[16, 128, 128, 32, 32, 16],elu,adam,3\n"
          ]
        },
        {
          "output_type": "stream",
          "name": "stdout",
          "text": [
            "Test loss: 0.6210630536079407\n",
            "Test accuracy: 0.699999988079071\n",
            "Epoch 1/3\n",
            "2/2 [==============================] - 1s 262ms/step - loss: 0.7546 - accuracy: 0.5200 - val_loss: 0.6954 - val_accuracy: 0.5000\n",
            "Epoch 2/3\n",
            "2/2 [==============================] - 0s 128ms/step - loss: 0.7330 - accuracy: 0.5600 - val_loss: 0.6429 - val_accuracy: 0.8000\n",
            "Epoch 3/3\n",
            "2/2 [==============================] - 0s 116ms/step - loss: 0.7117 - accuracy: 0.5400 - val_loss: 0.6407 - val_accuracy: 0.5400\n"
          ]
        },
        {
          "output_type": "stream",
          "name": "stderr",
          "text": [
            "\r 91%|█████████ | 29/32 [00:59<00:06,  2.22s/it]04/23/2022 07:52:52 AM - INFO - Getting Keras datasets\n",
            "04/23/2022 07:52:52 AM - INFO - Compling Keras model\n",
            "04/23/2022 07:52:52 AM - INFO - Architecture:[32, 16, 128, 32, 32, 32],elu,rmsprop,5\n"
          ]
        },
        {
          "output_type": "stream",
          "name": "stdout",
          "text": [
            "Test loss: 0.6407298445701599\n",
            "Test accuracy: 0.5400000214576721\n",
            "Epoch 1/3\n",
            "2/2 [==============================] - 1s 273ms/step - loss: 1.5509 - accuracy: 0.5000 - val_loss: 0.7264 - val_accuracy: 0.5000\n",
            "Epoch 2/3\n",
            "2/2 [==============================] - 0s 84ms/step - loss: 0.7582 - accuracy: 0.5200 - val_loss: 0.6787 - val_accuracy: 0.5000\n",
            "Epoch 3/3\n",
            "2/2 [==============================] - 0s 85ms/step - loss: 0.7114 - accuracy: 0.5600 - val_loss: 0.6824 - val_accuracy: 0.5000\n"
          ]
        },
        {
          "output_type": "stream",
          "name": "stderr",
          "text": [
            "\r 94%|█████████▍| 30/32 [01:01<00:04,  2.15s/it]04/23/2022 07:52:54 AM - INFO - Getting Keras datasets\n",
            "04/23/2022 07:52:54 AM - INFO - Compling Keras model\n",
            "04/23/2022 07:52:54 AM - INFO - Architecture:[16, 128, 128, 64, 32, 16],elu,adam,1\n"
          ]
        },
        {
          "output_type": "stream",
          "name": "stdout",
          "text": [
            "Test loss: 0.6823534965515137\n",
            "Test accuracy: 0.5\n",
            "Epoch 1/3\n",
            "2/2 [==============================] - 1s 193ms/step - loss: 1.0467 - accuracy: 0.4600 - val_loss: 0.9443 - val_accuracy: 0.5000\n",
            "Epoch 2/3\n",
            "2/2 [==============================] - 0s 54ms/step - loss: 0.9914 - accuracy: 0.5600 - val_loss: 0.6597 - val_accuracy: 0.5800\n",
            "Epoch 3/3\n",
            "2/2 [==============================] - 0s 52ms/step - loss: 0.8273 - accuracy: 0.6400 - val_loss: 0.8359 - val_accuracy: 0.5000\n"
          ]
        },
        {
          "output_type": "stream",
          "name": "stderr",
          "text": [
            "\r 97%|█████████▋| 31/32 [01:02<00:01,  1.91s/it]04/23/2022 07:52:55 AM - INFO - Getting Keras datasets\n",
            "04/23/2022 07:52:55 AM - INFO - Compling Keras model\n",
            "04/23/2022 07:52:55 AM - INFO - Architecture:[32, 128, 128, 16, 32, 32],elu,rmsprop,5\n"
          ]
        },
        {
          "output_type": "stream",
          "name": "stdout",
          "text": [
            "Test loss: 0.8359254598617554\n",
            "Test accuracy: 0.5\n",
            "Epoch 1/3\n",
            "2/2 [==============================] - 2s 648ms/step - loss: 0.6512 - accuracy: 0.5800 - val_loss: 0.7039 - val_accuracy: 0.5000\n",
            "Epoch 2/3\n",
            "2/2 [==============================] - 0s 161ms/step - loss: 1.0849 - accuracy: 0.4800 - val_loss: 1.0263 - val_accuracy: 0.5000\n",
            "Epoch 3/3\n",
            "2/2 [==============================] - 0s 151ms/step - loss: 0.8362 - accuracy: 0.5600 - val_loss: 0.6875 - val_accuracy: 0.5000\n"
          ]
        },
        {
          "output_type": "stream",
          "name": "stderr",
          "text": [
            "100%|██████████| 32/32 [01:05<00:00,  2.05s/it]\n",
            "04/23/2022 07:52:58 AM - INFO - Generation average: 59.19%\n",
            "04/23/2022 07:52:58 AM - INFO - --------------------------------------------------------------------------------\n",
            "04/23/2022 07:52:58 AM - INFO - ***Now in generation 6 of 8***\n",
            "04/23/2022 07:52:58 AM - INFO - --------------------------------------------------------------------------------\n",
            "04/23/2022 07:52:58 AM - INFO - {'activation': 'elu', 'nb_layers': 3, 'optimizer': 'adam', 'nb_neurons': [16, 128, 128, 16, 32, 32]}\n",
            "04/23/2022 07:52:58 AM - INFO - Acc: 82.00%\n",
            "04/23/2022 07:52:58 AM - INFO - UniID: 109\n",
            "04/23/2022 07:52:58 AM - INFO - Mom and Dad: 88 103\n",
            "04/23/2022 07:52:58 AM - INFO - Gen: 5\n",
            "04/23/2022 07:52:58 AM - INFO - Hash: 34da56a24f5575b4c615a3d5a1882cc6\n",
            "04/23/2022 07:52:58 AM - INFO - {'activation': 'elu', 'nb_layers': 3, 'optimizer': 'rmsprop', 'nb_neurons': [16, 128, 128, 128, 32, 32]}\n",
            "04/23/2022 07:52:58 AM - INFO - Acc: 80.00%\n",
            "04/23/2022 07:52:58 AM - INFO - UniID: 88\n",
            "04/23/2022 07:52:58 AM - INFO - Mom and Dad: 13 45\n",
            "04/23/2022 07:52:58 AM - INFO - Gen: 4\n",
            "04/23/2022 07:52:58 AM - INFO - Hash: c627de4f905f59973e1f678895f96a32\n",
            "04/23/2022 07:52:58 AM - INFO - {'activation': 'elu', 'nb_layers': 5, 'optimizer': 'adam', 'nb_neurons': [32, 128, 128, 64, 32, 16]}\n",
            "04/23/2022 07:52:58 AM - INFO - Acc: 80.00%\n",
            "04/23/2022 07:52:58 AM - INFO - UniID: 103\n",
            "04/23/2022 07:52:58 AM - INFO - Mom and Dad: 13 45\n",
            "04/23/2022 07:52:58 AM - INFO - Gen: 4\n",
            "04/23/2022 07:52:58 AM - INFO - Hash: 4e7e7b08d413effed579b6f0f2c5ae8a\n",
            "04/23/2022 07:52:58 AM - INFO - {'activation': 'linear', 'nb_layers': 5, 'optimizer': 'adam', 'nb_neurons': [32, 128, 32, 32, 32, 32]}\n",
            "04/23/2022 07:52:58 AM - INFO - Acc: 80.00%\n",
            "04/23/2022 07:52:58 AM - INFO - UniID: 121\n",
            "04/23/2022 07:52:58 AM - INFO - Mom and Dad: 13 103\n",
            "04/23/2022 07:52:58 AM - INFO - Gen: 5\n",
            "04/23/2022 07:52:58 AM - INFO - Hash: 7c6973b46fa118a1bd357058d95b4d81\n",
            "04/23/2022 07:52:58 AM - INFO - {'activation': 'elu', 'nb_layers': 3, 'optimizer': 'rmsprop', 'nb_neurons': [64, 128, 64, 128, 32, 32]}\n",
            "04/23/2022 07:52:58 AM - INFO - Acc: 0.00%\n",
            "04/23/2022 07:52:58 AM - INFO - UniID: 127\n",
            "04/23/2022 07:52:58 AM - INFO - Mom and Dad: 88 13\n",
            "04/23/2022 07:52:58 AM - INFO - Gen: 6\n",
            "04/23/2022 07:52:58 AM - INFO - Hash: 43742946ab631110a3ff5ed6ebbcc712\n",
            "04/23/2022 07:52:58 AM - INFO - {'activation': 'elu', 'nb_layers': 1, 'optimizer': 'adam', 'nb_neurons': [128, 128, 128, 64, 32, 16]}\n",
            "04/23/2022 07:52:58 AM - INFO - Acc: 0.00%\n",
            "04/23/2022 07:52:58 AM - INFO - UniID: 133\n",
            "04/23/2022 07:52:58 AM - INFO - Mom and Dad: 88 103\n",
            "04/23/2022 07:52:58 AM - INFO - Gen: 6\n",
            "04/23/2022 07:52:58 AM - INFO - Hash: f54eda96a4cef51ff3c20e1383bef42b\n",
            "04/23/2022 07:52:58 AM - INFO - {'activation': 'elu', 'nb_layers': 3, 'optimizer': 'adam', 'nb_neurons': [16, 128, 32, 32, 32, 32]}\n",
            "04/23/2022 07:52:58 AM - INFO - Acc: 0.00%\n",
            "04/23/2022 07:52:58 AM - INFO - UniID: 135\n",
            "04/23/2022 07:52:58 AM - INFO - Mom and Dad: 109 121\n",
            "04/23/2022 07:52:58 AM - INFO - Gen: 6\n",
            "04/23/2022 07:52:58 AM - INFO - Hash: 2a1650ab0d58bdd3c3d682f988987df9\n",
            "04/23/2022 07:52:58 AM - INFO - {'activation': 'linear', 'nb_layers': 5, 'optimizer': 'adam', 'nb_neurons': [32, 128, 128, 16, 32, 32]}\n",
            "04/23/2022 07:52:58 AM - INFO - Acc: 0.00%\n",
            "04/23/2022 07:52:58 AM - INFO - UniID: 136\n",
            "04/23/2022 07:52:58 AM - INFO - Mom and Dad: 109 121\n",
            "04/23/2022 07:52:58 AM - INFO - Gen: 6\n",
            "04/23/2022 07:52:58 AM - INFO - Hash: 4bee152d43d8e524c05c66fa8db4b25a\n",
            "04/23/2022 07:52:58 AM - INFO - {'activation': 'elu', 'nb_layers': 5, 'optimizer': 'adam', 'nb_neurons': [32, 128, 32, 32, 32, 32]}\n",
            "04/23/2022 07:52:58 AM - INFO - Acc: 0.00%\n",
            "04/23/2022 07:52:58 AM - INFO - UniID: 137\n",
            "04/23/2022 07:52:58 AM - INFO - Mom and Dad: 103 121\n",
            "04/23/2022 07:52:58 AM - INFO - Gen: 6\n",
            "04/23/2022 07:52:58 AM - INFO - Hash: 960010fee1c7d02f1162d1681e4db6c3\n",
            "04/23/2022 07:52:58 AM - INFO - {'activation': 'linear', 'nb_layers': 5, 'optimizer': 'adam', 'nb_neurons': [32, 128, 16, 64, 32, 16]}\n",
            "04/23/2022 07:52:58 AM - INFO - Acc: 0.00%\n",
            "04/23/2022 07:52:58 AM - INFO - UniID: 138\n",
            "04/23/2022 07:52:58 AM - INFO - Mom and Dad: 103 121\n",
            "04/23/2022 07:52:58 AM - INFO - Gen: 6\n",
            "04/23/2022 07:52:58 AM - INFO - Hash: 6f7442831292c9716e33308ee882f964\n",
            "04/23/2022 07:52:58 AM - INFO - {'activation': 'linear', 'nb_layers': 5, 'optimizer': 'rmsprop', 'nb_neurons': [32, 64, 32, 32, 32, 32]}\n",
            "04/23/2022 07:52:58 AM - INFO - Acc: 0.00%\n",
            "04/23/2022 07:52:58 AM - INFO - UniID: 139\n",
            "04/23/2022 07:52:58 AM - INFO - Mom and Dad: 121 88\n",
            "04/23/2022 07:52:58 AM - INFO - Gen: 6\n",
            "04/23/2022 07:52:58 AM - INFO - Hash: b087e72c041578db65de5d72ce85bac3\n",
            "04/23/2022 07:52:58 AM - INFO - {'activation': 'elu', 'nb_layers': 3, 'optimizer': 'adam', 'nb_neurons': [16, 128, 128, 128, 32, 32]}\n",
            "04/23/2022 07:52:58 AM - INFO - Acc: 0.00%\n",
            "04/23/2022 07:52:58 AM - INFO - UniID: 140\n",
            "04/23/2022 07:52:58 AM - INFO - Mom and Dad: 121 88\n",
            "04/23/2022 07:52:58 AM - INFO - Gen: 6\n",
            "04/23/2022 07:52:58 AM - INFO - Hash: 21e144247be88a8a3b42d2f92d8781bc\n",
            "04/23/2022 07:52:58 AM - INFO - {'activation': 'linear', 'nb_layers': 5, 'optimizer': 'rmsprop', 'nb_neurons': [32, 128, 32, 32, 32, 32]}\n",
            "04/23/2022 07:52:58 AM - INFO - Acc: 0.00%\n",
            "04/23/2022 07:52:58 AM - INFO - UniID: 141\n",
            "04/23/2022 07:52:58 AM - INFO - Mom and Dad: 121 127\n",
            "04/23/2022 07:52:58 AM - INFO - Gen: 6\n",
            "04/23/2022 07:52:58 AM - INFO - Hash: 8bdc2483e0a0dd09ffcb83824c3f19ef\n",
            "04/23/2022 07:52:58 AM - INFO - {'activation': 'elu', 'nb_layers': 3, 'optimizer': 'adam', 'nb_neurons': [64, 128, 64, 128, 32, 32]}\n",
            "04/23/2022 07:52:58 AM - INFO - Acc: 0.00%\n",
            "04/23/2022 07:52:58 AM - INFO - UniID: 142\n",
            "04/23/2022 07:52:58 AM - INFO - Mom and Dad: 121 127\n",
            "04/23/2022 07:52:58 AM - INFO - Gen: 6\n",
            "04/23/2022 07:52:58 AM - INFO - Hash: 31d0909c64e3188f82df6a4cf099e0b3\n",
            "04/23/2022 07:52:58 AM - INFO - {'activation': 'linear', 'nb_layers': 5, 'optimizer': 'adam', 'nb_neurons': [16, 128, 128, 16, 32, 32]}\n",
            "04/23/2022 07:52:58 AM - INFO - Acc: 0.00%\n",
            "04/23/2022 07:52:58 AM - INFO - UniID: 143\n",
            "04/23/2022 07:52:58 AM - INFO - Mom and Dad: 121 109\n",
            "04/23/2022 07:52:58 AM - INFO - Gen: 6\n",
            "04/23/2022 07:52:58 AM - INFO - Hash: 9eb6e12f45c77504eb9769eeda8eba32\n",
            "04/23/2022 07:52:58 AM - INFO - {'activation': 'tanh', 'nb_layers': 3, 'optimizer': 'adam', 'nb_neurons': [32, 128, 32, 32, 32, 32]}\n",
            "04/23/2022 07:52:58 AM - INFO - Acc: 0.00%\n",
            "04/23/2022 07:52:58 AM - INFO - UniID: 144\n",
            "04/23/2022 07:52:58 AM - INFO - Mom and Dad: 121 109\n",
            "04/23/2022 07:52:58 AM - INFO - Gen: 6\n",
            "04/23/2022 07:52:58 AM - INFO - Hash: 4cd1a0b4ec77590b5a87038d2c59fbcc\n",
            "04/23/2022 07:52:58 AM - INFO - {'activation': 'elu', 'nb_layers': 3, 'optimizer': 'rmsprop', 'nb_neurons': [16, 64, 128, 128, 32, 32]}\n",
            "04/23/2022 07:52:58 AM - INFO - Acc: 0.00%\n",
            "04/23/2022 07:52:58 AM - INFO - UniID: 145\n",
            "04/23/2022 07:52:58 AM - INFO - Mom and Dad: 88 127\n",
            "04/23/2022 07:52:58 AM - INFO - Gen: 6\n",
            "04/23/2022 07:52:58 AM - INFO - Hash: 7e4d5aeec5388417d512647c71317403\n"
          ]
        },
        {
          "output_type": "stream",
          "name": "stdout",
          "text": [
            "Test loss: 0.6875275373458862\n",
            "Test accuracy: 0.5\n"
          ]
        },
        {
          "output_type": "stream",
          "name": "stderr",
          "text": [
            "04/23/2022 07:52:58 AM - INFO - {'activation': 'elu', 'nb_layers': 3, 'optimizer': 'rmsprop', 'nb_neurons': [64, 128, 128, 128, 32, 32]}\n",
            "04/23/2022 07:52:58 AM - INFO - Acc: 0.00%\n",
            "04/23/2022 07:52:58 AM - INFO - UniID: 146\n",
            "04/23/2022 07:52:58 AM - INFO - Mom and Dad: 88 127\n",
            "04/23/2022 07:52:58 AM - INFO - Gen: 6\n",
            "04/23/2022 07:52:58 AM - INFO - Hash: 0c55d4a1faa6a3f83769feb409af7ad0\n",
            "04/23/2022 07:52:58 AM - INFO - {'activation': 'elu', 'nb_layers': 3, 'optimizer': 'adam', 'nb_neurons': [16, 128, 64, 16, 32, 16]}\n",
            "04/23/2022 07:52:58 AM - INFO - Acc: 0.00%\n",
            "04/23/2022 07:52:58 AM - INFO - UniID: 147\n",
            "04/23/2022 07:52:58 AM - INFO - Mom and Dad: 109 103\n",
            "04/23/2022 07:52:58 AM - INFO - Gen: 6\n",
            "04/23/2022 07:52:58 AM - INFO - Hash: ef47442336d08fd6c49d55ccfd0e89dd\n",
            "04/23/2022 07:52:58 AM - INFO - {'activation': 'elu', 'nb_layers': 5, 'optimizer': 'adam', 'nb_neurons': [32, 64, 128, 64, 32, 16]}\n",
            "04/23/2022 07:52:58 AM - INFO - Acc: 0.00%\n",
            "04/23/2022 07:52:58 AM - INFO - UniID: 148\n",
            "04/23/2022 07:52:58 AM - INFO - Mom and Dad: 109 103\n",
            "04/23/2022 07:52:58 AM - INFO - Gen: 6\n",
            "04/23/2022 07:52:58 AM - INFO - Hash: 6c1cda7ccc7f1b28092bbedd6c0a7b07\n",
            "04/23/2022 07:52:58 AM - INFO - {'activation': 'elu', 'nb_layers': 3, 'optimizer': 'adam', 'nb_neurons': [64, 128, 128, 16, 32, 32]}\n",
            "04/23/2022 07:52:58 AM - INFO - Acc: 0.00%\n",
            "04/23/2022 07:52:58 AM - INFO - UniID: 149\n",
            "04/23/2022 07:52:58 AM - INFO - Mom and Dad: 88 121\n",
            "04/23/2022 07:52:58 AM - INFO - Gen: 6\n",
            "04/23/2022 07:52:58 AM - INFO - Hash: 7823822e8c0183ca1bdb5f7bfb71bbed\n",
            "04/23/2022 07:52:58 AM - INFO - {'activation': 'hard_sigmoid', 'nb_layers': 5, 'optimizer': 'rmsprop', 'nb_neurons': [32, 128, 32, 32, 32, 32]}\n",
            "04/23/2022 07:52:58 AM - INFO - Acc: 0.00%\n",
            "04/23/2022 07:52:58 AM - INFO - UniID: 150\n",
            "04/23/2022 07:52:58 AM - INFO - Mom and Dad: 88 121\n",
            "04/23/2022 07:52:58 AM - INFO - Gen: 6\n",
            "04/23/2022 07:52:58 AM - INFO - Hash: f57f7563cf66341fddd35a39b9d1d986\n",
            "04/23/2022 07:52:58 AM - INFO - {'activation': 'elu', 'nb_layers': 3, 'optimizer': 'adam', 'nb_neurons': [64, 128, 128, 64, 32, 16]}\n",
            "04/23/2022 07:52:58 AM - INFO - Acc: 0.00%\n",
            "04/23/2022 07:52:58 AM - INFO - UniID: 151\n",
            "04/23/2022 07:52:58 AM - INFO - Mom and Dad: 127 103\n",
            "04/23/2022 07:52:58 AM - INFO - Gen: 6\n",
            "04/23/2022 07:52:58 AM - INFO - Hash: 51934428107cb8a7b32b2052cbd09ee2\n",
            "04/23/2022 07:52:58 AM - INFO - {'activation': 'elu', 'nb_layers': 5, 'optimizer': 'rmsprop', 'nb_neurons': [32, 128, 64, 128, 32, 32]}\n",
            "04/23/2022 07:52:58 AM - INFO - Acc: 0.00%\n",
            "04/23/2022 07:52:58 AM - INFO - UniID: 152\n",
            "04/23/2022 07:52:58 AM - INFO - Mom and Dad: 127 103\n",
            "04/23/2022 07:52:58 AM - INFO - Gen: 6\n",
            "04/23/2022 07:52:58 AM - INFO - Hash: 80ac6673fa69c5e4d36af6fe863c5b00\n",
            "04/23/2022 07:52:58 AM - INFO - {'activation': 'elu', 'nb_layers': 3, 'optimizer': 'adam', 'nb_neurons': [64, 128, 32, 64, 32, 16]}\n",
            "04/23/2022 07:52:58 AM - INFO - Acc: 0.00%\n",
            "04/23/2022 07:52:58 AM - INFO - UniID: 153\n",
            "04/23/2022 07:52:58 AM - INFO - Mom and Dad: 127 103\n",
            "04/23/2022 07:52:58 AM - INFO - Gen: 6\n",
            "04/23/2022 07:52:58 AM - INFO - Hash: 7893f813b99d12706d26ebcfce693e65\n",
            "04/23/2022 07:52:58 AM - INFO - {'activation': 'linear', 'nb_layers': 5, 'optimizer': 'rmsprop', 'nb_neurons': [32, 128, 64, 128, 32, 32]}\n",
            "04/23/2022 07:52:58 AM - INFO - Acc: 0.00%\n",
            "04/23/2022 07:52:58 AM - INFO - UniID: 154\n",
            "04/23/2022 07:52:58 AM - INFO - Mom and Dad: 127 103\n",
            "04/23/2022 07:52:58 AM - INFO - Gen: 6\n",
            "04/23/2022 07:52:58 AM - INFO - Hash: b0ddcabc290dafc614d1c60e05c422a8\n",
            "04/23/2022 07:52:58 AM - INFO - {'activation': 'tanh', 'nb_layers': 5, 'optimizer': 'adam', 'nb_neurons': [32, 128, 128, 64, 32, 16]}\n",
            "04/23/2022 07:52:58 AM - INFO - Acc: 0.00%\n",
            "04/23/2022 07:52:58 AM - INFO - UniID: 155\n",
            "04/23/2022 07:52:58 AM - INFO - Mom and Dad: 127 103\n",
            "04/23/2022 07:52:58 AM - INFO - Gen: 6\n",
            "04/23/2022 07:52:58 AM - INFO - Hash: 8732f7cd8dc59d800616f123ecea454a\n",
            "04/23/2022 07:52:58 AM - INFO - {'activation': 'elu', 'nb_layers': 3, 'optimizer': 'rmsprop', 'nb_neurons': [64, 128, 64, 64, 32, 32]}\n",
            "04/23/2022 07:52:58 AM - INFO - Acc: 0.00%\n",
            "04/23/2022 07:52:58 AM - INFO - UniID: 156\n",
            "04/23/2022 07:52:58 AM - INFO - Mom and Dad: 127 103\n",
            "04/23/2022 07:52:58 AM - INFO - Gen: 6\n",
            "04/23/2022 07:52:58 AM - INFO - Hash: 6c1440eb33936cfc3d0440dc82e7b95c\n",
            "04/23/2022 07:52:58 AM - INFO - {'activation': 'elu', 'nb_layers': 3, 'optimizer': 'adam', 'nb_neurons': [16, 128, 128, 128, 16, 32]}\n",
            "04/23/2022 07:52:58 AM - INFO - Acc: 0.00%\n",
            "04/23/2022 07:52:58 AM - INFO - UniID: 157\n",
            "04/23/2022 07:52:58 AM - INFO - Mom and Dad: 88 103\n",
            "04/23/2022 07:52:58 AM - INFO - Gen: 6\n",
            "04/23/2022 07:52:58 AM - INFO - Hash: 3820294c8944ac3e217e11e327beb047\n",
            "04/23/2022 07:52:58 AM - INFO - {'activation': 'elu', 'nb_layers': 5, 'optimizer': 'adam', 'nb_neurons': [32, 128, 128, 64, 32, 32]}\n",
            "04/23/2022 07:52:58 AM - INFO - Acc: 0.00%\n",
            "04/23/2022 07:52:58 AM - INFO - UniID: 158\n",
            "04/23/2022 07:52:58 AM - INFO - Mom and Dad: 88 103\n",
            "04/23/2022 07:52:58 AM - INFO - Gen: 6\n",
            "04/23/2022 07:52:58 AM - INFO - Hash: c4a3544ac1562e47f9716a2ef194affa\n",
            "04/23/2022 07:52:58 AM - INFO - {'activation': 'elu', 'nb_layers': 5, 'optimizer': 'adagrad', 'nb_neurons': [32, 128, 128, 64, 32, 16]}\n",
            "04/23/2022 07:52:58 AM - INFO - Acc: 0.00%\n",
            "04/23/2022 07:52:58 AM - INFO - UniID: 159\n",
            "04/23/2022 07:52:58 AM - INFO - Mom and Dad: 103 109\n",
            "04/23/2022 07:52:58 AM - INFO - Gen: 6\n",
            "04/23/2022 07:52:58 AM - INFO - Hash: dd64ef9f8609cd134c999454865f2c9c\n",
            "04/23/2022 07:52:58 AM - INFO - {'activation': 'tanh', 'nb_layers': 3, 'optimizer': 'adam', 'nb_neurons': [16, 128, 128, 16, 32, 32]}\n",
            "04/23/2022 07:52:58 AM - INFO - Acc: 0.00%\n",
            "04/23/2022 07:52:58 AM - INFO - UniID: 160\n",
            "04/23/2022 07:52:58 AM - INFO - Mom and Dad: 103 109\n",
            "04/23/2022 07:52:58 AM - INFO - Gen: 6\n",
            "04/23/2022 07:52:58 AM - INFO - Hash: 43434590bef521273b15d2edfa4baaab\n",
            "04/23/2022 07:52:58 AM - INFO - ***train_networks(networks, dataset)***\n",
            "  0%|          | 0/32 [00:00<?, ?it/s]04/23/2022 07:52:58 AM - INFO - Getting Keras datasets\n",
            "04/23/2022 07:52:58 AM - INFO - Compling Keras model\n",
            "04/23/2022 07:52:58 AM - INFO - Architecture:[64, 128, 64, 128, 32, 32],elu,rmsprop,3\n"
          ]
        },
        {
          "output_type": "stream",
          "name": "stdout",
          "text": [
            "Epoch 1/3\n",
            "2/2 [==============================] - 2s 337ms/step - loss: 1.7634 - accuracy: 0.6200 - val_loss: 2.3990 - val_accuracy: 0.5000\n",
            "Epoch 2/3\n",
            "2/2 [==============================] - 0s 186ms/step - loss: 7.1069 - accuracy: 0.4400 - val_loss: 0.9293 - val_accuracy: 0.5000\n",
            "Epoch 3/3\n",
            "2/2 [==============================] - 0s 184ms/step - loss: 1.3411 - accuracy: 0.4800 - val_loss: 0.6850 - val_accuracy: 0.5000\n"
          ]
        },
        {
          "output_type": "stream",
          "name": "stderr",
          "text": [
            "\r 16%|█▌        | 5/32 [00:02<00:16,  1.67it/s]04/23/2022 07:53:01 AM - INFO - Getting Keras datasets\n",
            "04/23/2022 07:53:01 AM - INFO - Compling Keras model\n",
            "04/23/2022 07:53:01 AM - INFO - Architecture:[128, 128, 128, 64, 32, 16],elu,adam,1\n"
          ]
        },
        {
          "output_type": "stream",
          "name": "stdout",
          "text": [
            "Test loss: 0.6849595904350281\n",
            "Test accuracy: 0.5\n",
            "Epoch 1/3\n",
            "2/2 [==============================] - 1s 259ms/step - loss: 1.1806 - accuracy: 0.4800 - val_loss: 0.5938 - val_accuracy: 0.8600\n",
            "Epoch 2/3\n",
            "2/2 [==============================] - 0s 135ms/step - loss: 0.7558 - accuracy: 0.6600 - val_loss: 0.5747 - val_accuracy: 0.6600\n",
            "Epoch 3/3\n",
            "2/2 [==============================] - 0s 142ms/step - loss: 0.8653 - accuracy: 0.5200 - val_loss: 0.5877 - val_accuracy: 0.6000\n"
          ]
        },
        {
          "output_type": "stream",
          "name": "stderr",
          "text": [
            "\r 19%|█▉        | 6/32 [00:04<00:23,  1.10it/s]04/23/2022 07:53:03 AM - INFO - Getting Keras datasets\n",
            "04/23/2022 07:53:03 AM - INFO - Compling Keras model\n",
            "04/23/2022 07:53:03 AM - INFO - Architecture:[16, 128, 32, 32, 32, 32],elu,adam,3\n"
          ]
        },
        {
          "output_type": "stream",
          "name": "stdout",
          "text": [
            "Test loss: 0.5876806378364563\n",
            "Test accuracy: 0.6000000238418579\n",
            "Epoch 1/3\n",
            "2/2 [==============================] - 1s 246ms/step - loss: 1.1212 - accuracy: 0.4800 - val_loss: 0.7405 - val_accuracy: 0.5000\n",
            "Epoch 2/3\n",
            "2/2 [==============================] - 0s 100ms/step - loss: 0.7654 - accuracy: 0.6200 - val_loss: 0.9323 - val_accuracy: 0.5000\n",
            "Epoch 3/3\n",
            "2/2 [==============================] - 0s 104ms/step - loss: 0.8699 - accuracy: 0.5800 - val_loss: 0.6595 - val_accuracy: 0.5600\n"
          ]
        },
        {
          "output_type": "stream",
          "name": "stderr",
          "text": [
            "\r 22%|██▏       | 7/32 [00:07<00:30,  1.22s/it]04/23/2022 07:53:06 AM - INFO - Getting Keras datasets\n",
            "04/23/2022 07:53:06 AM - INFO - Compling Keras model\n",
            "04/23/2022 07:53:06 AM - INFO - Architecture:[32, 128, 128, 16, 32, 32],linear,adam,5\n"
          ]
        },
        {
          "output_type": "stream",
          "name": "stdout",
          "text": [
            "Test loss: 0.6595230102539062\n",
            "Test accuracy: 0.5600000023841858\n",
            "Epoch 1/3\n",
            "2/2 [==============================] - 1s 307ms/step - loss: 0.8571 - accuracy: 0.5400 - val_loss: 0.6545 - val_accuracy: 0.5000\n",
            "Epoch 2/3\n",
            "2/2 [==============================] - 0s 135ms/step - loss: 0.7852 - accuracy: 0.5400 - val_loss: 0.6021 - val_accuracy: 0.7000\n",
            "Epoch 3/3\n",
            "2/2 [==============================] - 0s 140ms/step - loss: 0.7144 - accuracy: 0.6000 - val_loss: 0.5609 - val_accuracy: 0.7800\n"
          ]
        },
        {
          "output_type": "stream",
          "name": "stderr",
          "text": [
            "\r 25%|██▌       | 8/32 [00:09<00:33,  1.40s/it]04/23/2022 07:53:07 AM - INFO - Getting Keras datasets\n",
            "04/23/2022 07:53:07 AM - INFO - Compling Keras model\n",
            "04/23/2022 07:53:07 AM - INFO - Architecture:[32, 128, 32, 32, 32, 32],elu,adam,5\n"
          ]
        },
        {
          "output_type": "stream",
          "name": "stdout",
          "text": [
            "Test loss: 0.5609322786331177\n",
            "Test accuracy: 0.7799999713897705\n",
            "Epoch 1/3\n",
            "2/2 [==============================] - 1s 285ms/step - loss: 0.8029 - accuracy: 0.4800 - val_loss: 0.6891 - val_accuracy: 0.5000\n",
            "Epoch 2/3\n",
            "2/2 [==============================] - 0s 125ms/step - loss: 0.8495 - accuracy: 0.5600 - val_loss: 0.6981 - val_accuracy: 0.5000\n",
            "Epoch 3/3\n",
            "2/2 [==============================] - 0s 130ms/step - loss: 0.6631 - accuracy: 0.6000 - val_loss: 0.6654 - val_accuracy: 0.5600\n"
          ]
        },
        {
          "output_type": "stream",
          "name": "stderr",
          "text": [
            "\r 28%|██▊       | 9/32 [00:10<00:35,  1.53s/it]04/23/2022 07:53:09 AM - INFO - Getting Keras datasets\n",
            "04/23/2022 07:53:09 AM - INFO - Compling Keras model\n",
            "04/23/2022 07:53:09 AM - INFO - Architecture:[32, 128, 16, 64, 32, 16],linear,adam,5\n"
          ]
        },
        {
          "output_type": "stream",
          "name": "stdout",
          "text": [
            "Test loss: 0.6654371619224548\n",
            "Test accuracy: 0.5600000023841858\n",
            "Epoch 1/3\n",
            "2/2 [==============================] - 1s 273ms/step - loss: 0.8709 - accuracy: 0.5400 - val_loss: 0.7004 - val_accuracy: 0.5000\n",
            "Epoch 2/3\n",
            "2/2 [==============================] - 0s 113ms/step - loss: 0.8849 - accuracy: 0.4600 - val_loss: 0.6986 - val_accuracy: 0.5000\n",
            "Epoch 3/3\n",
            "2/2 [==============================] - 0s 122ms/step - loss: 0.7413 - accuracy: 0.5200 - val_loss: 0.6723 - val_accuracy: 0.5800\n"
          ]
        },
        {
          "output_type": "stream",
          "name": "stderr",
          "text": [
            "\r 31%|███▏      | 10/32 [00:13<00:38,  1.75s/it]04/23/2022 07:53:12 AM - INFO - Getting Keras datasets\n",
            "04/23/2022 07:53:12 AM - INFO - Compling Keras model\n",
            "04/23/2022 07:53:12 AM - INFO - Architecture:[32, 64, 32, 32, 32, 32],linear,rmsprop,5\n"
          ]
        },
        {
          "output_type": "stream",
          "name": "stdout",
          "text": [
            "Test loss: 0.6723103523254395\n",
            "Test accuracy: 0.5799999833106995\n",
            "Epoch 1/3\n",
            "2/2 [==============================] - 1s 238ms/step - loss: 1.4935 - accuracy: 0.5800 - val_loss: 1.0569 - val_accuracy: 0.5000\n",
            "Epoch 2/3\n",
            "2/2 [==============================] - 0s 88ms/step - loss: 0.8902 - accuracy: 0.5800 - val_loss: 0.7031 - val_accuracy: 0.5000\n",
            "Epoch 3/3\n",
            "2/2 [==============================] - 0s 99ms/step - loss: 0.7662 - accuracy: 0.5600 - val_loss: 0.6417 - val_accuracy: 0.7400\n"
          ]
        },
        {
          "output_type": "stream",
          "name": "stderr",
          "text": [
            "\r 34%|███▍      | 11/32 [00:15<00:40,  1.92s/it]04/23/2022 07:53:14 AM - INFO - Getting Keras datasets\n",
            "04/23/2022 07:53:14 AM - INFO - Compling Keras model\n",
            "04/23/2022 07:53:14 AM - INFO - Architecture:[16, 128, 128, 128, 32, 32],elu,adam,3\n"
          ]
        },
        {
          "output_type": "stream",
          "name": "stdout",
          "text": [
            "Test loss: 0.6416505575180054\n",
            "Test accuracy: 0.7400000095367432\n",
            "Epoch 1/3\n",
            "2/2 [==============================] - 1s 275ms/step - loss: 0.7385 - accuracy: 0.4400 - val_loss: 0.7883 - val_accuracy: 0.5000\n",
            "Epoch 2/3\n",
            "2/2 [==============================] - 0s 121ms/step - loss: 0.8978 - accuracy: 0.5800 - val_loss: 0.6865 - val_accuracy: 0.5000\n",
            "Epoch 3/3\n",
            "2/2 [==============================] - 0s 120ms/step - loss: 0.7097 - accuracy: 0.4800 - val_loss: 0.6522 - val_accuracy: 0.5000\n"
          ]
        },
        {
          "output_type": "stream",
          "name": "stderr",
          "text": [
            "\r 38%|███▊      | 12/32 [00:17<00:39,  1.99s/it]04/23/2022 07:53:16 AM - INFO - Getting Keras datasets\n",
            "04/23/2022 07:53:16 AM - INFO - Compling Keras model\n",
            "04/23/2022 07:53:16 AM - INFO - Architecture:[32, 128, 32, 32, 32, 32],linear,rmsprop,5\n"
          ]
        },
        {
          "output_type": "stream",
          "name": "stdout",
          "text": [
            "Test loss: 0.6521592736244202\n",
            "Test accuracy: 0.5\n",
            "Epoch 1/3\n",
            "2/2 [==============================] - 1s 275ms/step - loss: 1.1819 - accuracy: 0.3800 - val_loss: 1.0699 - val_accuracy: 0.5000\n",
            "Epoch 2/3\n",
            "2/2 [==============================] - 0s 119ms/step - loss: 1.5512 - accuracy: 0.5200 - val_loss: 0.6848 - val_accuracy: 0.5000\n",
            "Epoch 3/3\n",
            "2/2 [==============================] - 0s 120ms/step - loss: 0.6970 - accuracy: 0.5000 - val_loss: 0.6592 - val_accuracy: 0.5200\n"
          ]
        },
        {
          "output_type": "stream",
          "name": "stderr",
          "text": [
            "\r 41%|████      | 13/32 [00:20<00:41,  2.18s/it]04/23/2022 07:53:19 AM - INFO - Getting Keras datasets\n",
            "04/23/2022 07:53:19 AM - INFO - Compling Keras model\n",
            "04/23/2022 07:53:19 AM - INFO - Architecture:[64, 128, 64, 128, 32, 32],elu,adam,3\n"
          ]
        },
        {
          "output_type": "stream",
          "name": "stdout",
          "text": [
            "Test loss: 0.6591581106185913\n",
            "Test accuracy: 0.5199999809265137\n",
            "Epoch 1/3\n",
            "2/2 [==============================] - 1s 334ms/step - loss: 1.0347 - accuracy: 0.4800 - val_loss: 0.6769 - val_accuracy: 0.5200\n",
            "Epoch 2/3\n",
            "2/2 [==============================] - 0s 178ms/step - loss: 0.7599 - accuracy: 0.5600 - val_loss: 0.7511 - val_accuracy: 0.5000\n",
            "Epoch 3/3\n",
            "2/2 [==============================] - 0s 180ms/step - loss: 0.6850 - accuracy: 0.5600 - val_loss: 0.7134 - val_accuracy: 0.5000\n"
          ]
        },
        {
          "output_type": "stream",
          "name": "stderr",
          "text": [
            "\r 44%|████▍     | 14/32 [00:22<00:38,  2.13s/it]04/23/2022 07:53:21 AM - INFO - Getting Keras datasets\n",
            "04/23/2022 07:53:21 AM - INFO - Compling Keras model\n",
            "04/23/2022 07:53:21 AM - INFO - Architecture:[16, 128, 128, 16, 32, 32],linear,adam,5\n"
          ]
        },
        {
          "output_type": "stream",
          "name": "stdout",
          "text": [
            "Test loss: 0.7133805751800537\n",
            "Test accuracy: 0.5\n",
            "Epoch 1/3\n",
            "2/2 [==============================] - 1s 274ms/step - loss: 0.9811 - accuracy: 0.5200 - val_loss: 0.7279 - val_accuracy: 0.5000\n",
            "Epoch 2/3\n",
            "2/2 [==============================] - 0s 118ms/step - loss: 0.8371 - accuracy: 0.4600 - val_loss: 0.6651 - val_accuracy: 0.5000\n",
            "Epoch 3/3\n",
            "2/2 [==============================] - 0s 120ms/step - loss: 0.6779 - accuracy: 0.6200 - val_loss: 0.6239 - val_accuracy: 0.7800\n"
          ]
        },
        {
          "output_type": "stream",
          "name": "stderr",
          "text": [
            "\r 47%|████▋     | 15/32 [00:24<00:37,  2.20s/it]04/23/2022 07:53:23 AM - INFO - Getting Keras datasets\n",
            "04/23/2022 07:53:23 AM - INFO - Compling Keras model\n",
            "04/23/2022 07:53:23 AM - INFO - Architecture:[32, 128, 32, 32, 32, 32],tanh,adam,3\n"
          ]
        },
        {
          "output_type": "stream",
          "name": "stdout",
          "text": [
            "Test loss: 0.6239445209503174\n",
            "Test accuracy: 0.7799999713897705\n",
            "Epoch 1/3\n",
            "2/2 [==============================] - 1s 276ms/step - loss: 1.0103 - accuracy: 0.5000 - val_loss: 0.7164 - val_accuracy: 0.5000\n",
            "Epoch 2/3\n",
            "2/2 [==============================] - 0s 126ms/step - loss: 0.7587 - accuracy: 0.5400 - val_loss: 0.7503 - val_accuracy: 0.5000\n",
            "Epoch 3/3\n",
            "2/2 [==============================] - 0s 117ms/step - loss: 0.7541 - accuracy: 0.5800 - val_loss: 0.6765 - val_accuracy: 0.5000\n"
          ]
        },
        {
          "output_type": "stream",
          "name": "stderr",
          "text": [
            "\r 50%|█████     | 16/32 [00:27<00:34,  2.18s/it]04/23/2022 07:53:25 AM - INFO - Getting Keras datasets\n",
            "04/23/2022 07:53:25 AM - INFO - Compling Keras model\n",
            "04/23/2022 07:53:25 AM - INFO - Architecture:[16, 64, 128, 128, 32, 32],elu,rmsprop,3\n"
          ]
        },
        {
          "output_type": "stream",
          "name": "stdout",
          "text": [
            "Test loss: 0.6764600276947021\n",
            "Test accuracy: 0.5\n",
            "Epoch 1/3\n",
            "2/2 [==============================] - 1s 235ms/step - loss: 2.2588 - accuracy: 0.6000 - val_loss: 2.3931 - val_accuracy: 0.5000\n",
            "Epoch 2/3\n",
            "2/2 [==============================] - 0s 97ms/step - loss: 4.3838 - accuracy: 0.3600 - val_loss: 0.7442 - val_accuracy: 0.5000\n",
            "Epoch 3/3\n",
            "2/2 [==============================] - 0s 86ms/step - loss: 0.6552 - accuracy: 0.6200 - val_loss: 0.6295 - val_accuracy: 0.7200\n"
          ]
        },
        {
          "output_type": "stream",
          "name": "stderr",
          "text": [
            "\r 53%|█████▎    | 17/32 [00:28<00:30,  2.06s/it]04/23/2022 07:53:27 AM - INFO - Getting Keras datasets\n",
            "04/23/2022 07:53:27 AM - INFO - Compling Keras model\n",
            "04/23/2022 07:53:27 AM - INFO - Architecture:[64, 128, 128, 128, 32, 32],elu,rmsprop,3\n"
          ]
        },
        {
          "output_type": "stream",
          "name": "stdout",
          "text": [
            "Test loss: 0.6294538974761963\n",
            "Test accuracy: 0.7200000286102295\n",
            "Epoch 1/3\n",
            "2/2 [==============================] - 1s 354ms/step - loss: 1.9515 - accuracy: 0.3400 - val_loss: 3.7709 - val_accuracy: 0.5000\n",
            "Epoch 2/3\n",
            "2/2 [==============================] - 0s 207ms/step - loss: 4.1066 - accuracy: 0.6000 - val_loss: 0.7798 - val_accuracy: 0.5000\n",
            "Epoch 3/3\n",
            "2/2 [==============================] - 0s 203ms/step - loss: 1.1693 - accuracy: 0.4200 - val_loss: 0.6785 - val_accuracy: 0.5000\n"
          ]
        },
        {
          "output_type": "stream",
          "name": "stderr",
          "text": [
            "\r 56%|█████▋    | 18/32 [00:31<00:29,  2.14s/it]04/23/2022 07:53:29 AM - INFO - Getting Keras datasets\n",
            "04/23/2022 07:53:29 AM - INFO - Compling Keras model\n",
            "04/23/2022 07:53:29 AM - INFO - Architecture:[16, 128, 64, 16, 32, 16],elu,adam,3\n"
          ]
        },
        {
          "output_type": "stream",
          "name": "stdout",
          "text": [
            "Test loss: 0.6785499453544617\n",
            "Test accuracy: 0.5\n",
            "Epoch 1/3\n",
            "2/2 [==============================] - 1s 255ms/step - loss: 0.7590 - accuracy: 0.5800 - val_loss: 0.6836 - val_accuracy: 0.5400\n",
            "Epoch 2/3\n",
            "2/2 [==============================] - 0s 105ms/step - loss: 1.0638 - accuracy: 0.5200 - val_loss: 0.7225 - val_accuracy: 0.5000\n",
            "Epoch 3/3\n",
            "2/2 [==============================] - 0s 102ms/step - loss: 0.8761 - accuracy: 0.4400 - val_loss: 0.6698 - val_accuracy: 0.5000\n"
          ]
        },
        {
          "output_type": "stream",
          "name": "stderr",
          "text": [
            "\r 59%|█████▉    | 19/32 [00:33<00:29,  2.26s/it]04/23/2022 07:53:32 AM - INFO - Getting Keras datasets\n",
            "04/23/2022 07:53:32 AM - INFO - Compling Keras model\n",
            "04/23/2022 07:53:32 AM - INFO - Architecture:[32, 64, 128, 64, 32, 16],elu,adam,5\n"
          ]
        },
        {
          "output_type": "stream",
          "name": "stdout",
          "text": [
            "Test loss: 0.6697885394096375\n",
            "Test accuracy: 0.5\n",
            "Epoch 1/3\n",
            "2/2 [==============================] - 1s 270ms/step - loss: 1.0206 - accuracy: 0.4600 - val_loss: 0.6825 - val_accuracy: 0.5000\n",
            "Epoch 2/3\n",
            "2/2 [==============================] - 0s 127ms/step - loss: 0.8780 - accuracy: 0.4600 - val_loss: 0.7203 - val_accuracy: 0.5000\n",
            "Epoch 3/3\n",
            "2/2 [==============================] - 0s 108ms/step - loss: 0.7799 - accuracy: 0.4800 - val_loss: 0.6759 - val_accuracy: 0.5000\n"
          ]
        },
        {
          "output_type": "stream",
          "name": "stderr",
          "text": [
            "\r 62%|██████▎   | 20/32 [00:35<00:25,  2.12s/it]04/23/2022 07:53:34 AM - INFO - Getting Keras datasets\n",
            "04/23/2022 07:53:34 AM - INFO - Compling Keras model\n",
            "04/23/2022 07:53:34 AM - INFO - Architecture:[64, 128, 128, 16, 32, 32],elu,adam,3\n"
          ]
        },
        {
          "output_type": "stream",
          "name": "stdout",
          "text": [
            "Test loss: 0.6759136319160461\n",
            "Test accuracy: 0.5\n",
            "Epoch 1/3\n",
            "2/2 [==============================] - 1s 337ms/step - loss: 1.1512 - accuracy: 0.4600 - val_loss: 0.7939 - val_accuracy: 0.5000\n",
            "Epoch 2/3\n",
            "2/2 [==============================] - 0s 194ms/step - loss: 0.6752 - accuracy: 0.6200 - val_loss: 0.6198 - val_accuracy: 0.7800\n",
            "Epoch 3/3\n",
            "2/2 [==============================] - 0s 203ms/step - loss: 0.7155 - accuracy: 0.5600 - val_loss: 0.6290 - val_accuracy: 0.5600\n"
          ]
        },
        {
          "output_type": "stream",
          "name": "stderr",
          "text": [
            "\r 66%|██████▌   | 21/32 [00:37<00:23,  2.10s/it]04/23/2022 07:53:36 AM - INFO - Getting Keras datasets\n",
            "04/23/2022 07:53:36 AM - INFO - Compling Keras model\n",
            "04/23/2022 07:53:36 AM - INFO - Architecture:[32, 128, 32, 32, 32, 32],hard_sigmoid,rmsprop,5\n"
          ]
        },
        {
          "output_type": "stream",
          "name": "stdout",
          "text": [
            "Test loss: 0.6290469169616699\n",
            "Test accuracy: 0.5600000023841858\n",
            "Epoch 1/3\n",
            "2/2 [==============================] - 2s 347ms/step - loss: 0.6904 - accuracy: 0.6200 - val_loss: 0.6935 - val_accuracy: 0.5000\n",
            "Epoch 2/3\n",
            "2/2 [==============================] - 0s 135ms/step - loss: 0.7457 - accuracy: 0.5200 - val_loss: 0.6933 - val_accuracy: 0.5000\n",
            "Epoch 3/3\n",
            "2/2 [==============================] - 0s 134ms/step - loss: 0.6696 - accuracy: 0.5600 - val_loss: 0.6931 - val_accuracy: 0.5000\n"
          ]
        },
        {
          "output_type": "stream",
          "name": "stderr",
          "text": [
            "\r 69%|██████▉   | 22/32 [00:40<00:23,  2.33s/it]04/23/2022 07:53:39 AM - INFO - Getting Keras datasets\n",
            "04/23/2022 07:53:39 AM - INFO - Compling Keras model\n",
            "04/23/2022 07:53:39 AM - INFO - Architecture:[64, 128, 128, 64, 32, 16],elu,adam,3\n"
          ]
        },
        {
          "output_type": "stream",
          "name": "stdout",
          "text": [
            "Test loss: 0.693147599697113\n",
            "Test accuracy: 0.5\n",
            "Epoch 1/3\n",
            "2/2 [==============================] - 1s 350ms/step - loss: 0.8656 - accuracy: 0.4000 - val_loss: 0.7631 - val_accuracy: 0.5000\n",
            "Epoch 2/3\n",
            "2/2 [==============================] - 0s 203ms/step - loss: 0.8439 - accuracy: 0.4800 - val_loss: 0.6645 - val_accuracy: 0.5000\n",
            "Epoch 3/3\n",
            "2/2 [==============================] - 0s 218ms/step - loss: 0.6802 - accuracy: 0.5000 - val_loss: 0.6205 - val_accuracy: 0.7400\n"
          ]
        },
        {
          "output_type": "stream",
          "name": "stderr",
          "text": [
            "\r 72%|███████▏  | 23/32 [00:42<00:20,  2.26s/it]04/23/2022 07:53:41 AM - INFO - Getting Keras datasets\n",
            "04/23/2022 07:53:41 AM - INFO - Compling Keras model\n",
            "04/23/2022 07:53:41 AM - INFO - Architecture:[32, 128, 64, 128, 32, 32],elu,rmsprop,5\n"
          ]
        },
        {
          "output_type": "stream",
          "name": "stdout",
          "text": [
            "Test loss: 0.6205056309700012\n",
            "Test accuracy: 0.7400000095367432\n",
            "Epoch 1/3\n",
            "2/2 [==============================] - 1s 295ms/step - loss: 0.9140 - accuracy: 0.5400 - val_loss: 1.2641 - val_accuracy: 0.5000\n",
            "Epoch 2/3\n",
            "2/2 [==============================] - 0s 146ms/step - loss: 1.2715 - accuracy: 0.6000 - val_loss: 0.9172 - val_accuracy: 0.5000\n",
            "Epoch 3/3\n",
            "2/2 [==============================] - 0s 134ms/step - loss: 1.0185 - accuracy: 0.4800 - val_loss: 0.6352 - val_accuracy: 0.6800\n"
          ]
        },
        {
          "output_type": "stream",
          "name": "stderr",
          "text": [
            "\r 75%|███████▌  | 24/32 [00:45<00:19,  2.38s/it]04/23/2022 07:53:43 AM - INFO - Getting Keras datasets\n",
            "04/23/2022 07:53:43 AM - INFO - Compling Keras model\n",
            "04/23/2022 07:53:43 AM - INFO - Architecture:[64, 128, 32, 64, 32, 16],elu,adam,3\n"
          ]
        },
        {
          "output_type": "stream",
          "name": "stdout",
          "text": [
            "Test loss: 0.6351994872093201\n",
            "Test accuracy: 0.6800000071525574\n",
            "Epoch 1/3\n",
            "2/2 [==============================] - 1s 338ms/step - loss: 0.8023 - accuracy: 0.4000 - val_loss: 0.7052 - val_accuracy: 0.5000\n",
            "Epoch 2/3\n",
            "2/2 [==============================] - 0s 173ms/step - loss: 0.8648 - accuracy: 0.5200 - val_loss: 0.6790 - val_accuracy: 0.5000\n",
            "Epoch 3/3\n",
            "2/2 [==============================] - 0s 175ms/step - loss: 0.7585 - accuracy: 0.6800 - val_loss: 0.6540 - val_accuracy: 0.5000\n"
          ]
        },
        {
          "output_type": "stream",
          "name": "stderr",
          "text": [
            "\r 78%|███████▊  | 25/32 [00:47<00:15,  2.25s/it]04/23/2022 07:53:45 AM - INFO - Getting Keras datasets\n",
            "04/23/2022 07:53:45 AM - INFO - Compling Keras model\n",
            "04/23/2022 07:53:45 AM - INFO - Architecture:[32, 128, 64, 128, 32, 32],linear,rmsprop,5\n"
          ]
        },
        {
          "output_type": "stream",
          "name": "stdout",
          "text": [
            "Test loss: 0.6539808511734009\n",
            "Test accuracy: 0.5\n",
            "Epoch 1/3\n",
            "2/2 [==============================] - 2s 284ms/step - loss: 1.2209 - accuracy: 0.4800 - val_loss: 5.1339 - val_accuracy: 0.5000\n",
            "Epoch 2/3\n",
            "2/2 [==============================] - 0s 128ms/step - loss: 3.8887 - accuracy: 0.5200 - val_loss: 1.5644 - val_accuracy: 0.5000\n",
            "Epoch 3/3\n",
            "2/2 [==============================] - 0s 132ms/step - loss: 1.0712 - accuracy: 0.5400 - val_loss: 0.6554 - val_accuracy: 0.6600\n"
          ]
        },
        {
          "output_type": "stream",
          "name": "stderr",
          "text": [
            "\r 81%|████████▏ | 26/32 [00:50<00:14,  2.48s/it]04/23/2022 07:53:48 AM - INFO - Getting Keras datasets\n",
            "04/23/2022 07:53:48 AM - INFO - Compling Keras model\n",
            "04/23/2022 07:53:48 AM - INFO - Architecture:[32, 128, 128, 64, 32, 16],tanh,adam,5\n"
          ]
        },
        {
          "output_type": "stream",
          "name": "stdout",
          "text": [
            "Test loss: 0.6553784012794495\n",
            "Test accuracy: 0.6600000262260437\n",
            "Epoch 1/3\n",
            "2/2 [==============================] - 1s 307ms/step - loss: 0.7737 - accuracy: 0.4800 - val_loss: 0.7961 - val_accuracy: 0.5000\n",
            "Epoch 2/3\n",
            "2/2 [==============================] - 0s 140ms/step - loss: 1.0127 - accuracy: 0.4200 - val_loss: 0.6731 - val_accuracy: 0.5000\n",
            "Epoch 3/3\n",
            "2/2 [==============================] - 0s 151ms/step - loss: 0.8831 - accuracy: 0.5000 - val_loss: 0.6514 - val_accuracy: 0.8200\n"
          ]
        },
        {
          "output_type": "stream",
          "name": "stderr",
          "text": [
            "\r 84%|████████▍ | 27/32 [00:52<00:12,  2.44s/it]04/23/2022 07:53:51 AM - INFO - Getting Keras datasets\n",
            "04/23/2022 07:53:51 AM - INFO - Compling Keras model\n",
            "04/23/2022 07:53:51 AM - INFO - Architecture:[64, 128, 64, 64, 32, 32],elu,rmsprop,3\n"
          ]
        },
        {
          "output_type": "stream",
          "name": "stdout",
          "text": [
            "Test loss: 0.651447594165802\n",
            "Test accuracy: 0.8199999928474426\n",
            "Epoch 1/3\n",
            "2/2 [==============================] - 1s 337ms/step - loss: 1.5055 - accuracy: 0.4200 - val_loss: 5.4787 - val_accuracy: 0.5000\n",
            "Epoch 2/3\n",
            "2/2 [==============================] - 0s 189ms/step - loss: 3.2834 - accuracy: 0.5200 - val_loss: 0.7056 - val_accuracy: 0.5000\n",
            "Epoch 3/3\n",
            "2/2 [==============================] - 0s 191ms/step - loss: 0.7883 - accuracy: 0.5000 - val_loss: 0.6594 - val_accuracy: 0.5000\n"
          ]
        },
        {
          "output_type": "stream",
          "name": "stderr",
          "text": [
            "\r 88%|████████▊ | 28/32 [00:54<00:09,  2.37s/it]04/23/2022 07:53:53 AM - INFO - Getting Keras datasets\n",
            "04/23/2022 07:53:53 AM - INFO - Compling Keras model\n",
            "04/23/2022 07:53:53 AM - INFO - Architecture:[16, 128, 128, 128, 16, 32],elu,adam,3\n"
          ]
        },
        {
          "output_type": "stream",
          "name": "stdout",
          "text": [
            "Test loss: 0.6594061255455017\n",
            "Test accuracy: 0.5\n",
            "Epoch 1/3\n",
            "2/2 [==============================] - 1s 277ms/step - loss: 0.9535 - accuracy: 0.3600 - val_loss: 0.8149 - val_accuracy: 0.5000\n",
            "Epoch 2/3\n",
            "2/2 [==============================] - 0s 119ms/step - loss: 0.8778 - accuracy: 0.5200 - val_loss: 0.6656 - val_accuracy: 0.5000\n",
            "Epoch 3/3\n",
            "2/2 [==============================] - 0s 128ms/step - loss: 0.6994 - accuracy: 0.5600 - val_loss: 0.6933 - val_accuracy: 0.5000\n"
          ]
        },
        {
          "output_type": "stream",
          "name": "stderr",
          "text": [
            "\r 91%|█████████ | 29/32 [00:56<00:06,  2.16s/it]04/23/2022 07:53:55 AM - INFO - Getting Keras datasets\n",
            "04/23/2022 07:53:55 AM - INFO - Compling Keras model\n",
            "04/23/2022 07:53:55 AM - INFO - Architecture:[32, 128, 128, 64, 32, 32],elu,adam,5\n"
          ]
        },
        {
          "output_type": "stream",
          "name": "stdout",
          "text": [
            "Test loss: 0.693276047706604\n",
            "Test accuracy: 0.5\n",
            "Epoch 1/3\n",
            "2/2 [==============================] - 1s 330ms/step - loss: 1.0283 - accuracy: 0.4600 - val_loss: 0.6689 - val_accuracy: 0.6400\n",
            "Epoch 2/3\n",
            "2/2 [==============================] - 0s 159ms/step - loss: 0.9984 - accuracy: 0.4200 - val_loss: 0.6567 - val_accuracy: 0.7200\n",
            "Epoch 3/3\n",
            "2/2 [==============================] - 0s 165ms/step - loss: 0.7398 - accuracy: 0.5400 - val_loss: 0.6608 - val_accuracy: 0.5200\n"
          ]
        },
        {
          "output_type": "stream",
          "name": "stderr",
          "text": [
            "\r 94%|█████████▍| 30/32 [00:58<00:04,  2.12s/it]04/23/2022 07:53:57 AM - INFO - Getting Keras datasets\n",
            "04/23/2022 07:53:57 AM - INFO - Compling Keras model\n",
            "04/23/2022 07:53:57 AM - INFO - Architecture:[32, 128, 128, 64, 32, 16],elu,adagrad,5\n"
          ]
        },
        {
          "output_type": "stream",
          "name": "stdout",
          "text": [
            "Test loss: 0.6608361601829529\n",
            "Test accuracy: 0.5199999809265137\n",
            "Epoch 1/3\n",
            "2/2 [==============================] - 1s 311ms/step - loss: 0.7350 - accuracy: 0.5000 - val_loss: 0.7099 - val_accuracy: 0.5000\n",
            "Epoch 2/3\n",
            "2/2 [==============================] - 0s 155ms/step - loss: 0.7066 - accuracy: 0.5400 - val_loss: 0.7051 - val_accuracy: 0.5000\n",
            "Epoch 3/3\n",
            "2/2 [==============================] - 0s 154ms/step - loss: 0.7149 - accuracy: 0.5200 - val_loss: 0.6981 - val_accuracy: 0.5000\n"
          ]
        },
        {
          "output_type": "stream",
          "name": "stderr",
          "text": [
            "\r 97%|█████████▋| 31/32 [01:00<00:02,  2.17s/it]04/23/2022 07:53:59 AM - INFO - Getting Keras datasets\n",
            "04/23/2022 07:53:59 AM - INFO - Compling Keras model\n",
            "04/23/2022 07:53:59 AM - INFO - Architecture:[16, 128, 128, 16, 32, 32],tanh,adam,3\n"
          ]
        },
        {
          "output_type": "stream",
          "name": "stdout",
          "text": [
            "Test loss: 0.6980661749839783\n",
            "Test accuracy: 0.5\n",
            "Epoch 1/3\n",
            "2/2 [==============================] - 1s 284ms/step - loss: 0.9567 - accuracy: 0.3800 - val_loss: 1.2718 - val_accuracy: 0.5000\n",
            "Epoch 2/3\n",
            "2/2 [==============================] - 0s 121ms/step - loss: 1.2786 - accuracy: 0.5400 - val_loss: 0.6735 - val_accuracy: 0.5000\n",
            "Epoch 3/3\n",
            "2/2 [==============================] - 0s 135ms/step - loss: 0.9471 - accuracy: 0.5800 - val_loss: 0.7689 - val_accuracy: 0.5000\n"
          ]
        },
        {
          "output_type": "stream",
          "name": "stderr",
          "text": [
            "100%|██████████| 32/32 [01:02<00:00,  1.96s/it]\n",
            "04/23/2022 07:54:01 AM - INFO - Generation average: 61.06%\n",
            "04/23/2022 07:54:01 AM - INFO - --------------------------------------------------------------------------------\n",
            "04/23/2022 07:54:01 AM - INFO - ***Now in generation 7 of 8***\n",
            "04/23/2022 07:54:01 AM - INFO - --------------------------------------------------------------------------------\n",
            "04/23/2022 07:54:01 AM - INFO - {'activation': 'elu', 'nb_layers': 3, 'optimizer': 'adam', 'nb_neurons': [16, 128, 128, 16, 32, 32]}\n",
            "04/23/2022 07:54:01 AM - INFO - Acc: 82.00%\n",
            "04/23/2022 07:54:01 AM - INFO - UniID: 109\n",
            "04/23/2022 07:54:01 AM - INFO - Mom and Dad: 88 103\n",
            "04/23/2022 07:54:01 AM - INFO - Gen: 5\n",
            "04/23/2022 07:54:01 AM - INFO - Hash: 34da56a24f5575b4c615a3d5a1882cc6\n",
            "04/23/2022 07:54:01 AM - INFO - {'activation': 'tanh', 'nb_layers': 5, 'optimizer': 'adam', 'nb_neurons': [32, 128, 128, 64, 32, 16]}\n",
            "04/23/2022 07:54:01 AM - INFO - Acc: 82.00%\n",
            "04/23/2022 07:54:01 AM - INFO - UniID: 155\n",
            "04/23/2022 07:54:01 AM - INFO - Mom and Dad: 127 103\n",
            "04/23/2022 07:54:01 AM - INFO - Gen: 6\n",
            "04/23/2022 07:54:01 AM - INFO - Hash: 8732f7cd8dc59d800616f123ecea454a\n",
            "04/23/2022 07:54:01 AM - INFO - {'activation': 'elu', 'nb_layers': 3, 'optimizer': 'rmsprop', 'nb_neurons': [16, 128, 128, 128, 32, 32]}\n",
            "04/23/2022 07:54:01 AM - INFO - Acc: 80.00%\n",
            "04/23/2022 07:54:01 AM - INFO - UniID: 88\n",
            "04/23/2022 07:54:01 AM - INFO - Mom and Dad: 13 45\n",
            "04/23/2022 07:54:01 AM - INFO - Gen: 4\n",
            "04/23/2022 07:54:01 AM - INFO - Hash: c627de4f905f59973e1f678895f96a32\n",
            "04/23/2022 07:54:01 AM - INFO - {'activation': 'elu', 'nb_layers': 5, 'optimizer': 'adam', 'nb_neurons': [32, 128, 128, 64, 32, 16]}\n",
            "04/23/2022 07:54:01 AM - INFO - Acc: 80.00%\n",
            "04/23/2022 07:54:01 AM - INFO - UniID: 103\n",
            "04/23/2022 07:54:01 AM - INFO - Mom and Dad: 13 45\n",
            "04/23/2022 07:54:01 AM - INFO - Gen: 4\n",
            "04/23/2022 07:54:01 AM - INFO - Hash: 4e7e7b08d413effed579b6f0f2c5ae8a\n",
            "04/23/2022 07:54:01 AM - INFO - {'activation': 'elu', 'nb_layers': 3, 'optimizer': 'adam', 'nb_neurons': [128, 128, 128, 64, 32, 16]}\n",
            "04/23/2022 07:54:01 AM - INFO - Acc: 0.00%\n",
            "04/23/2022 07:54:01 AM - INFO - UniID: 151\n",
            "04/23/2022 07:54:01 AM - INFO - Mom and Dad: 127 103\n",
            "04/23/2022 07:54:01 AM - INFO - Gen: 7\n",
            "04/23/2022 07:54:01 AM - INFO - Hash: be133002594ae2df5b88feb9f7a93dc3\n",
            "04/23/2022 07:54:01 AM - INFO - {'activation': 'elu', 'nb_layers': 2, 'optimizer': 'rmsprop', 'nb_neurons': [64, 128, 64, 128, 32, 32]}\n",
            "04/23/2022 07:54:01 AM - INFO - Acc: 0.00%\n",
            "04/23/2022 07:54:01 AM - INFO - UniID: 127\n",
            "04/23/2022 07:54:01 AM - INFO - Mom and Dad: 88 13\n",
            "04/23/2022 07:54:01 AM - INFO - Gen: 7\n",
            "04/23/2022 07:54:01 AM - INFO - Hash: 2f48d3cf7b350de9eb3b68dd3883b8d0\n",
            "04/23/2022 07:54:01 AM - INFO - {'activation': 'elu', 'nb_layers': 3, 'optimizer': 'adam', 'nb_neurons': [128, 128, 128, 64, 16, 16]}\n",
            "04/23/2022 07:54:01 AM - INFO - Acc: 0.00%\n",
            "04/23/2022 07:54:01 AM - INFO - UniID: 161\n",
            "04/23/2022 07:54:01 AM - INFO - Mom and Dad: 151 155\n",
            "04/23/2022 07:54:01 AM - INFO - Gen: 7\n",
            "04/23/2022 07:54:01 AM - INFO - Hash: f95b464a15e0907e552ee97905c039cd\n",
            "04/23/2022 07:54:01 AM - INFO - {'activation': 'tanh', 'nb_layers': 5, 'optimizer': 'adam', 'nb_neurons': [32, 128, 128, 64, 32, 32]}\n",
            "04/23/2022 07:54:01 AM - INFO - Acc: 0.00%\n",
            "04/23/2022 07:54:01 AM - INFO - UniID: 162\n",
            "04/23/2022 07:54:01 AM - INFO - Mom and Dad: 151 155\n",
            "04/23/2022 07:54:01 AM - INFO - Gen: 7\n",
            "04/23/2022 07:54:01 AM - INFO - Hash: 51a7cb697a7aa917185647f0afaf238d\n",
            "04/23/2022 07:54:01 AM - INFO - {'activation': 'elu', 'nb_layers': 5, 'optimizer': 'adam', 'nb_neurons': [32, 128, 128, 16, 32, 32]}\n",
            "04/23/2022 07:54:01 AM - INFO - Acc: 0.00%\n",
            "04/23/2022 07:54:01 AM - INFO - UniID: 163\n",
            "04/23/2022 07:54:01 AM - INFO - Mom and Dad: 103 109\n",
            "04/23/2022 07:54:01 AM - INFO - Gen: 7\n",
            "04/23/2022 07:54:01 AM - INFO - Hash: 39150382e1124d94c2d309e09da48ad4\n",
            "04/23/2022 07:54:01 AM - INFO - {'activation': 'elu', 'nb_layers': 3, 'optimizer': 'adam', 'nb_neurons': [16, 128, 128, 64, 32, 32]}\n",
            "04/23/2022 07:54:01 AM - INFO - Acc: 0.00%\n",
            "04/23/2022 07:54:01 AM - INFO - UniID: 164\n",
            "04/23/2022 07:54:01 AM - INFO - Mom and Dad: 103 109\n",
            "04/23/2022 07:54:01 AM - INFO - Gen: 7\n",
            "04/23/2022 07:54:01 AM - INFO - Hash: a34862381801f4f09f05ab1afbdcbbc9\n",
            "04/23/2022 07:54:01 AM - INFO - {'activation': 'tanh', 'nb_layers': 3, 'optimizer': 'adam', 'nb_neurons': [16, 128, 128, 64, 32, 32]}\n",
            "04/23/2022 07:54:01 AM - INFO - Acc: 0.00%\n",
            "04/23/2022 07:54:01 AM - INFO - UniID: 165\n",
            "04/23/2022 07:54:01 AM - INFO - Mom and Dad: 155 109\n",
            "04/23/2022 07:54:01 AM - INFO - Gen: 7\n",
            "04/23/2022 07:54:01 AM - INFO - Hash: be3a33aa21fbfc26447e36e4a050fc07\n",
            "04/23/2022 07:54:01 AM - INFO - {'activation': 'elu', 'nb_layers': 3, 'optimizer': 'adam', 'nb_neurons': [32, 128, 128, 64, 32, 16]}\n",
            "04/23/2022 07:54:01 AM - INFO - Acc: 0.00%\n",
            "04/23/2022 07:54:01 AM - INFO - UniID: 166\n",
            "04/23/2022 07:54:01 AM - INFO - Mom and Dad: 155 109\n",
            "04/23/2022 07:54:01 AM - INFO - Gen: 7\n",
            "04/23/2022 07:54:01 AM - INFO - Hash: 6c99580f301f41259c0aaa36f01dfbc3\n",
            "04/23/2022 07:54:01 AM - INFO - {'activation': 'softplus', 'nb_layers': 3, 'optimizer': 'adam', 'nb_neurons': [16, 128, 128, 16, 32, 32]}\n",
            "04/23/2022 07:54:01 AM - INFO - Acc: 0.00%\n",
            "04/23/2022 07:54:01 AM - INFO - UniID: 167\n",
            "04/23/2022 07:54:01 AM - INFO - Mom and Dad: 88 109\n",
            "04/23/2022 07:54:01 AM - INFO - Gen: 7\n",
            "04/23/2022 07:54:01 AM - INFO - Hash: 4255413e6c87d89d35615903c062b9d4\n",
            "04/23/2022 07:54:01 AM - INFO - {'activation': 'elu', 'nb_layers': 5, 'optimizer': 'rmsprop', 'nb_neurons': [16, 128, 128, 128, 32, 32]}\n",
            "04/23/2022 07:54:01 AM - INFO - Acc: 0.00%\n",
            "04/23/2022 07:54:01 AM - INFO - UniID: 168\n",
            "04/23/2022 07:54:01 AM - INFO - Mom and Dad: 88 109\n",
            "04/23/2022 07:54:01 AM - INFO - Gen: 7\n",
            "04/23/2022 07:54:01 AM - INFO - Hash: b88104a4034e6b75ed2a04a0c979ce12\n",
            "04/23/2022 07:54:01 AM - INFO - {'activation': 'elu', 'nb_layers': 3, 'optimizer': 'adam', 'nb_neurons': [16, 128, 16, 16, 32, 32]}\n",
            "04/23/2022 07:54:01 AM - INFO - Acc: 0.00%\n",
            "04/23/2022 07:54:01 AM - INFO - UniID: 169\n",
            "04/23/2022 07:54:01 AM - INFO - Mom and Dad: 151 109\n",
            "04/23/2022 07:54:01 AM - INFO - Gen: 7\n",
            "04/23/2022 07:54:01 AM - INFO - Hash: 987a30e6312ce3c276114a715e5a857c\n",
            "04/23/2022 07:54:01 AM - INFO - {'activation': 'elu', 'nb_layers': 3, 'optimizer': 'adam', 'nb_neurons': [16, 128, 128, 64, 32, 64]}\n",
            "04/23/2022 07:54:01 AM - INFO - Acc: 0.00%\n",
            "04/23/2022 07:54:01 AM - INFO - UniID: 170\n",
            "04/23/2022 07:54:01 AM - INFO - Mom and Dad: 151 109\n",
            "04/23/2022 07:54:01 AM - INFO - Gen: 7\n",
            "04/23/2022 07:54:01 AM - INFO - Hash: 20edb1bda6cba9d8635ad803f9689a32\n",
            "04/23/2022 07:54:01 AM - INFO - {'activation': 'elu', 'nb_layers': 3, 'optimizer': 'adam', 'nb_neurons': [16, 128, 16, 128, 32, 32]}\n",
            "04/23/2022 07:54:01 AM - INFO - Acc: 0.00%\n",
            "04/23/2022 07:54:01 AM - INFO - UniID: 171\n",
            "04/23/2022 07:54:01 AM - INFO - Mom and Dad: 88 109\n",
            "04/23/2022 07:54:01 AM - INFO - Gen: 7\n",
            "04/23/2022 07:54:01 AM - INFO - Hash: 33bf90e720b9ae0afe798bfb55cf8644\n",
            "04/23/2022 07:54:01 AM - INFO - {'activation': 'elu', 'nb_layers': 3, 'optimizer': 'rmsprop', 'nb_neurons': [16, 32, 128, 16, 32, 32]}\n",
            "04/23/2022 07:54:01 AM - INFO - Acc: 0.00%\n",
            "04/23/2022 07:54:01 AM - INFO - UniID: 172\n",
            "04/23/2022 07:54:01 AM - INFO - Mom and Dad: 88 109\n",
            "04/23/2022 07:54:01 AM - INFO - Gen: 7\n",
            "04/23/2022 07:54:01 AM - INFO - Hash: 87433644d8208eff0e8e45f7df05d249\n",
            "04/23/2022 07:54:01 AM - INFO - {'activation': 'tanh', 'nb_layers': 5, 'optimizer': 'adam', 'nb_neurons': [32, 128, 64, 64, 32, 16]}\n",
            "04/23/2022 07:54:01 AM - INFO - Acc: 0.00%\n",
            "04/23/2022 07:54:01 AM - INFO - UniID: 173\n",
            "04/23/2022 07:54:01 AM - INFO - Mom and Dad: 155 103\n",
            "04/23/2022 07:54:01 AM - INFO - Gen: 7\n",
            "04/23/2022 07:54:01 AM - INFO - Hash: 2614a1bb52ae1c089911d85decb0536c\n",
            "04/23/2022 07:54:01 AM - INFO - {'activation': 'elu', 'nb_layers': 5, 'optimizer': 'adam', 'nb_neurons': [128, 128, 128, 64, 32, 16]}\n",
            "04/23/2022 07:54:01 AM - INFO - Acc: 0.00%\n",
            "04/23/2022 07:54:01 AM - INFO - UniID: 174\n",
            "04/23/2022 07:54:01 AM - INFO - Mom and Dad: 155 103\n",
            "04/23/2022 07:54:01 AM - INFO - Gen: 7\n",
            "04/23/2022 07:54:01 AM - INFO - Hash: 423076c1607adaf7ff500211f5efee9d\n",
            "04/23/2022 07:54:01 AM - INFO - {'activation': 'elu', 'nb_layers': 3, 'optimizer': 'adam', 'nb_neurons': [16, 16, 128, 64, 32, 16]}\n",
            "04/23/2022 07:54:01 AM - INFO - Acc: 0.00%\n",
            "04/23/2022 07:54:01 AM - INFO - UniID: 175\n",
            "04/23/2022 07:54:01 AM - INFO - Mom and Dad: 109 155\n",
            "04/23/2022 07:54:01 AM - INFO - Gen: 7\n",
            "04/23/2022 07:54:01 AM - INFO - Hash: 92ba207d71d221e20ee4c6e989578d1b\n",
            "04/23/2022 07:54:01 AM - INFO - {'activation': 'tanh', 'nb_layers': 5, 'optimizer': 'adam', 'nb_neurons': [32, 128, 128, 16, 128, 32]}\n",
            "04/23/2022 07:54:01 AM - INFO - Acc: 0.00%\n",
            "04/23/2022 07:54:01 AM - INFO - UniID: 176\n",
            "04/23/2022 07:54:01 AM - INFO - Mom and Dad: 109 155\n",
            "04/23/2022 07:54:01 AM - INFO - Gen: 7\n",
            "04/23/2022 07:54:01 AM - INFO - Hash: 9222bedf57e6df4d6d7978af4c8cac5b\n"
          ]
        },
        {
          "output_type": "stream",
          "name": "stdout",
          "text": [
            "Test loss: 0.7689171433448792\n",
            "Test accuracy: 0.5\n"
          ]
        },
        {
          "output_type": "stream",
          "name": "stderr",
          "text": [
            "04/23/2022 07:54:01 AM - INFO - {'activation': 'elu', 'nb_layers': 3, 'optimizer': 'adam', 'nb_neurons': [16, 128, 128, 64, 64, 16]}\n",
            "04/23/2022 07:54:01 AM - INFO - Acc: 0.00%\n",
            "04/23/2022 07:54:01 AM - INFO - UniID: 177\n",
            "04/23/2022 07:54:01 AM - INFO - Mom and Dad: 109 155\n",
            "04/23/2022 07:54:01 AM - INFO - Gen: 7\n",
            "04/23/2022 07:54:01 AM - INFO - Hash: aa9d987e11f000702901b3aaffdd270d\n",
            "04/23/2022 07:54:01 AM - INFO - {'activation': 'tanh', 'nb_layers': 5, 'optimizer': 'adam', 'nb_neurons': [32, 128, 128, 32, 32, 32]}\n",
            "04/23/2022 07:54:01 AM - INFO - Acc: 0.00%\n",
            "04/23/2022 07:54:01 AM - INFO - UniID: 178\n",
            "04/23/2022 07:54:01 AM - INFO - Mom and Dad: 109 155\n",
            "04/23/2022 07:54:01 AM - INFO - Gen: 7\n",
            "04/23/2022 07:54:01 AM - INFO - Hash: 15cd904fa1ce7934cb1bd95171e0e567\n",
            "04/23/2022 07:54:01 AM - INFO - {'activation': 'elu', 'nb_layers': 3, 'optimizer': 'adam', 'nb_neurons': [128, 128, 128, 16, 32, 16]}\n",
            "04/23/2022 07:54:01 AM - INFO - Acc: 0.00%\n",
            "04/23/2022 07:54:01 AM - INFO - UniID: 179\n",
            "04/23/2022 07:54:01 AM - INFO - Mom and Dad: 103 151\n",
            "04/23/2022 07:54:01 AM - INFO - Gen: 7\n",
            "04/23/2022 07:54:01 AM - INFO - Hash: 049da27684bae3be4567603f8cd28324\n",
            "04/23/2022 07:54:01 AM - INFO - {'activation': 'elu', 'nb_layers': 4, 'optimizer': 'adam', 'nb_neurons': [32, 128, 128, 64, 32, 16]}\n",
            "04/23/2022 07:54:01 AM - INFO - Acc: 0.00%\n",
            "04/23/2022 07:54:01 AM - INFO - UniID: 180\n",
            "04/23/2022 07:54:01 AM - INFO - Mom and Dad: 103 151\n",
            "04/23/2022 07:54:01 AM - INFO - Gen: 7\n",
            "04/23/2022 07:54:01 AM - INFO - Hash: c91ac52b985dab3cc4333fb6898724f7\n",
            "04/23/2022 07:54:01 AM - INFO - {'activation': 'tanh', 'nb_layers': 5, 'optimizer': 'rmsprop', 'nb_neurons': [32, 128, 128, 64, 32, 16]}\n",
            "04/23/2022 07:54:01 AM - INFO - Acc: 0.00%\n",
            "04/23/2022 07:54:01 AM - INFO - UniID: 181\n",
            "04/23/2022 07:54:01 AM - INFO - Mom and Dad: 155 88\n",
            "04/23/2022 07:54:01 AM - INFO - Gen: 7\n",
            "04/23/2022 07:54:01 AM - INFO - Hash: 6be58cf9b515818d14cfa1bf47395996\n",
            "04/23/2022 07:54:01 AM - INFO - {'activation': 'elu', 'nb_layers': 3, 'optimizer': 'adam', 'nb_neurons': [16, 128, 32, 128, 32, 32]}\n",
            "04/23/2022 07:54:01 AM - INFO - Acc: 0.00%\n",
            "04/23/2022 07:54:01 AM - INFO - UniID: 182\n",
            "04/23/2022 07:54:01 AM - INFO - Mom and Dad: 155 88\n",
            "04/23/2022 07:54:01 AM - INFO - Gen: 7\n",
            "04/23/2022 07:54:01 AM - INFO - Hash: 7164580bffed0e0d33a359d15684dc21\n",
            "04/23/2022 07:54:01 AM - INFO - {'activation': 'elu', 'nb_layers': 4, 'optimizer': 'adam', 'nb_neurons': [32, 128, 128, 64, 128, 16]}\n",
            "04/23/2022 07:54:01 AM - INFO - Acc: 0.00%\n",
            "04/23/2022 07:54:01 AM - INFO - UniID: 183\n",
            "04/23/2022 07:54:01 AM - INFO - Mom and Dad: 151 155\n",
            "04/23/2022 07:54:01 AM - INFO - Gen: 7\n",
            "04/23/2022 07:54:01 AM - INFO - Hash: be01235919e83aa8363d52b8d326dcbe\n",
            "04/23/2022 07:54:01 AM - INFO - {'activation': 'elu', 'nb_layers': 5, 'optimizer': 'adam', 'nb_neurons': [64, 128, 128, 64, 32, 16]}\n",
            "04/23/2022 07:54:01 AM - INFO - Acc: 0.00%\n",
            "04/23/2022 07:54:01 AM - INFO - UniID: 184\n",
            "04/23/2022 07:54:01 AM - INFO - Mom and Dad: 151 155\n",
            "04/23/2022 07:54:01 AM - INFO - Gen: 7\n",
            "04/23/2022 07:54:01 AM - INFO - Hash: 8948e8dfa12d08fc45cb380475ca7b66\n",
            "04/23/2022 07:54:01 AM - INFO - {'activation': 'elu', 'nb_layers': 3, 'optimizer': 'rmsprop', 'nb_neurons': [16, 32, 128, 128, 32, 32]}\n",
            "04/23/2022 07:54:01 AM - INFO - Acc: 0.00%\n",
            "04/23/2022 07:54:01 AM - INFO - UniID: 185\n",
            "04/23/2022 07:54:01 AM - INFO - Mom and Dad: 151 88\n",
            "04/23/2022 07:54:01 AM - INFO - Gen: 7\n",
            "04/23/2022 07:54:01 AM - INFO - Hash: 4adf828748a8b0b61b031b572e7bb51e\n",
            "04/23/2022 07:54:01 AM - INFO - {'activation': 'elu', 'nb_layers': 3, 'optimizer': 'adam', 'nb_neurons': [128, 128, 128, 32, 32, 16]}\n",
            "04/23/2022 07:54:01 AM - INFO - Acc: 0.00%\n",
            "04/23/2022 07:54:01 AM - INFO - UniID: 186\n",
            "04/23/2022 07:54:01 AM - INFO - Mom and Dad: 151 88\n",
            "04/23/2022 07:54:01 AM - INFO - Gen: 7\n",
            "04/23/2022 07:54:01 AM - INFO - Hash: bf388e440e27f49560ff8fda78c9b1b4\n",
            "04/23/2022 07:54:01 AM - INFO - ***train_networks(networks, dataset)***\n",
            "  0%|          | 0/32 [00:00<?, ?it/s]04/23/2022 07:54:01 AM - INFO - Getting Keras datasets\n",
            "04/23/2022 07:54:01 AM - INFO - Compling Keras model\n",
            "04/23/2022 07:54:01 AM - INFO - Architecture:[128, 128, 128, 64, 32, 16],elu,adam,3\n"
          ]
        },
        {
          "output_type": "stream",
          "name": "stdout",
          "text": [
            "Epoch 1/3\n",
            "2/2 [==============================] - 2s 458ms/step - loss: 1.3624 - accuracy: 0.4600 - val_loss: 0.6877 - val_accuracy: 0.5000\n",
            "Epoch 2/3\n",
            "2/2 [==============================] - 1s 318ms/step - loss: 0.8647 - accuracy: 0.4800 - val_loss: 0.7339 - val_accuracy: 0.5000\n",
            "Epoch 3/3\n",
            "2/2 [==============================] - 0s 299ms/step - loss: 0.8299 - accuracy: 0.5200 - val_loss: 0.7032 - val_accuracy: 0.5000\n"
          ]
        },
        {
          "output_type": "stream",
          "name": "stderr",
          "text": [
            "\r 16%|█▌        | 5/32 [00:03<00:20,  1.31it/s]04/23/2022 07:54:05 AM - INFO - Getting Keras datasets\n",
            "04/23/2022 07:54:05 AM - INFO - Compling Keras model\n",
            "04/23/2022 07:54:05 AM - INFO - Architecture:[64, 128, 64, 128, 32, 32],elu,rmsprop,2\n"
          ]
        },
        {
          "output_type": "stream",
          "name": "stdout",
          "text": [
            "Test loss: 0.7031620144844055\n",
            "Test accuracy: 0.5\n",
            "Epoch 1/3\n",
            "2/2 [==============================] - 1s 333ms/step - loss: 3.8690 - accuracy: 0.4200 - val_loss: 6.0228 - val_accuracy: 0.5000\n",
            "Epoch 2/3\n",
            "2/2 [==============================] - 0s 178ms/step - loss: 3.7699 - accuracy: 0.4800 - val_loss: 0.8154 - val_accuracy: 0.5000\n",
            "Epoch 3/3\n",
            "2/2 [==============================] - 0s 177ms/step - loss: 0.8075 - accuracy: 0.6000 - val_loss: 0.7469 - val_accuracy: 0.5000\n"
          ]
        },
        {
          "output_type": "stream",
          "name": "stderr",
          "text": [
            "\r 19%|█▉        | 6/32 [00:06<00:28,  1.10s/it]04/23/2022 07:54:08 AM - INFO - Getting Keras datasets\n",
            "04/23/2022 07:54:08 AM - INFO - Compling Keras model\n",
            "04/23/2022 07:54:08 AM - INFO - Architecture:[128, 128, 128, 64, 16, 16],elu,adam,3\n"
          ]
        },
        {
          "output_type": "stream",
          "name": "stdout",
          "text": [
            "Test loss: 0.7469442486763\n",
            "Test accuracy: 0.5\n",
            "Epoch 1/3\n",
            "2/2 [==============================] - 1s 446ms/step - loss: 1.1445 - accuracy: 0.4800 - val_loss: 0.9236 - val_accuracy: 0.5000\n",
            "Epoch 2/3\n",
            "2/2 [==============================] - 1s 315ms/step - loss: 1.2432 - accuracy: 0.4600 - val_loss: 0.6620 - val_accuracy: 0.8200\n",
            "Epoch 3/3\n",
            "2/2 [==============================] - 1s 303ms/step - loss: 0.7964 - accuracy: 0.4600 - val_loss: 1.0396 - val_accuracy: 0.5000\n"
          ]
        },
        {
          "output_type": "stream",
          "name": "stderr",
          "text": [
            "\r 22%|██▏       | 7/32 [00:09<00:42,  1.68s/it]04/23/2022 07:54:11 AM - INFO - Getting Keras datasets\n",
            "04/23/2022 07:54:11 AM - INFO - Compling Keras model\n",
            "04/23/2022 07:54:11 AM - INFO - Architecture:[32, 128, 128, 64, 32, 32],tanh,adam,5\n"
          ]
        },
        {
          "output_type": "stream",
          "name": "stdout",
          "text": [
            "Test loss: 1.0396201610565186\n",
            "Test accuracy: 0.5\n",
            "Epoch 1/3\n",
            "2/2 [==============================] - 1s 307ms/step - loss: 0.6905 - accuracy: 0.5800 - val_loss: 0.6862 - val_accuracy: 0.5000\n",
            "Epoch 2/3\n",
            "2/2 [==============================] - 0s 160ms/step - loss: 0.6784 - accuracy: 0.6200 - val_loss: 0.6747 - val_accuracy: 0.5000\n",
            "Epoch 3/3\n",
            "2/2 [==============================] - 0s 154ms/step - loss: 0.8298 - accuracy: 0.5200 - val_loss: 0.6760 - val_accuracy: 0.5000\n"
          ]
        },
        {
          "output_type": "stream",
          "name": "stderr",
          "text": [
            "\r 25%|██▌       | 8/32 [00:11<00:44,  1.85s/it]04/23/2022 07:54:13 AM - INFO - Getting Keras datasets\n",
            "04/23/2022 07:54:13 AM - INFO - Compling Keras model\n",
            "04/23/2022 07:54:13 AM - INFO - Architecture:[32, 128, 128, 16, 32, 32],elu,adam,5\n"
          ]
        },
        {
          "output_type": "stream",
          "name": "stdout",
          "text": [
            "Test loss: 0.6760448217391968\n",
            "Test accuracy: 0.5\n",
            "Epoch 1/3\n",
            "2/2 [==============================] - 1s 334ms/step - loss: 0.9103 - accuracy: 0.4600 - val_loss: 0.6919 - val_accuracy: 0.5000\n",
            "Epoch 2/3\n",
            "2/2 [==============================] - 0s 156ms/step - loss: 0.7187 - accuracy: 0.5400 - val_loss: 0.6801 - val_accuracy: 0.5000\n",
            "Epoch 3/3\n",
            "2/2 [==============================] - 0s 156ms/step - loss: 0.8569 - accuracy: 0.4400 - val_loss: 0.6624 - val_accuracy: 0.5000\n"
          ]
        },
        {
          "output_type": "stream",
          "name": "stderr",
          "text": [
            "\r 28%|██▊       | 9/32 [00:14<00:45,  1.98s/it]04/23/2022 07:54:16 AM - INFO - Getting Keras datasets\n",
            "04/23/2022 07:54:16 AM - INFO - Compling Keras model\n",
            "04/23/2022 07:54:16 AM - INFO - Architecture:[16, 128, 128, 64, 32, 32],elu,adam,3\n"
          ]
        },
        {
          "output_type": "stream",
          "name": "stdout",
          "text": [
            "Test loss: 0.6624237298965454\n",
            "Test accuracy: 0.5\n",
            "Epoch 1/3\n",
            "2/2 [==============================] - 1s 267ms/step - loss: 0.7327 - accuracy: 0.5600 - val_loss: 0.7759 - val_accuracy: 0.5000\n",
            "Epoch 2/3\n",
            "2/2 [==============================] - 0s 128ms/step - loss: 0.7414 - accuracy: 0.5200 - val_loss: 0.6339 - val_accuracy: 0.8400\n",
            "Epoch 3/3\n",
            "2/2 [==============================] - 0s 132ms/step - loss: 0.5934 - accuracy: 0.7400 - val_loss: 0.6265 - val_accuracy: 0.6200\n"
          ]
        },
        {
          "output_type": "stream",
          "name": "stderr",
          "text": [
            "\r 31%|███▏      | 10/32 [00:16<00:44,  2.03s/it]04/23/2022 07:54:18 AM - INFO - Getting Keras datasets\n",
            "04/23/2022 07:54:18 AM - INFO - Compling Keras model\n",
            "04/23/2022 07:54:18 AM - INFO - Architecture:[16, 128, 128, 64, 32, 32],tanh,adam,3\n"
          ]
        },
        {
          "output_type": "stream",
          "name": "stdout",
          "text": [
            "Test loss: 0.6265498399734497\n",
            "Test accuracy: 0.6200000047683716\n",
            "Epoch 1/3\n",
            "2/2 [==============================] - 1s 280ms/step - loss: 1.2224 - accuracy: 0.4800 - val_loss: 0.6940 - val_accuracy: 0.5000\n",
            "Epoch 2/3\n",
            "2/2 [==============================] - 0s 136ms/step - loss: 0.8138 - accuracy: 0.5400 - val_loss: 0.6878 - val_accuracy: 0.5000\n",
            "Epoch 3/3\n",
            "2/2 [==============================] - 0s 122ms/step - loss: 0.8050 - accuracy: 0.5800 - val_loss: 0.7304 - val_accuracy: 0.5000\n"
          ]
        },
        {
          "output_type": "stream",
          "name": "stderr",
          "text": [
            "\r 34%|███▍      | 11/32 [00:18<00:40,  1.94s/it]04/23/2022 07:54:20 AM - INFO - Getting Keras datasets\n",
            "04/23/2022 07:54:20 AM - INFO - Compling Keras model\n",
            "04/23/2022 07:54:20 AM - INFO - Architecture:[32, 128, 128, 64, 32, 16],elu,adam,3\n"
          ]
        },
        {
          "output_type": "stream",
          "name": "stdout",
          "text": [
            "Test loss: 0.7303681969642639\n",
            "Test accuracy: 0.5\n",
            "Epoch 1/3\n",
            "2/2 [==============================] - 1s 304ms/step - loss: 0.9028 - accuracy: 0.4600 - val_loss: 0.6924 - val_accuracy: 0.5000\n",
            "Epoch 2/3\n",
            "2/2 [==============================] - 0s 152ms/step - loss: 0.9164 - accuracy: 0.4800 - val_loss: 0.6687 - val_accuracy: 0.5000\n",
            "Epoch 3/3\n",
            "2/2 [==============================] - 0s 146ms/step - loss: 0.7517 - accuracy: 0.5000 - val_loss: 0.6624 - val_accuracy: 0.5000\n"
          ]
        },
        {
          "output_type": "stream",
          "name": "stderr",
          "text": [
            "\r 38%|███▊      | 12/32 [00:20<00:42,  2.10s/it]04/23/2022 07:54:22 AM - INFO - Getting Keras datasets\n",
            "04/23/2022 07:54:22 AM - INFO - Compling Keras model\n",
            "04/23/2022 07:54:22 AM - INFO - Architecture:[16, 128, 128, 16, 32, 32],softplus,adam,3\n"
          ]
        },
        {
          "output_type": "stream",
          "name": "stdout",
          "text": [
            "Test loss: 0.6623582243919373\n",
            "Test accuracy: 0.5\n",
            "Epoch 1/3\n",
            "2/2 [==============================] - 1s 285ms/step - loss: 1.3085 - accuracy: 0.5800 - val_loss: 1.5434 - val_accuracy: 0.5000\n",
            "Epoch 2/3\n",
            "2/2 [==============================] - 0s 144ms/step - loss: 1.4405 - accuracy: 0.4800 - val_loss: 0.7383 - val_accuracy: 0.5000\n",
            "Epoch 3/3\n",
            "2/2 [==============================] - 0s 140ms/step - loss: 0.8348 - accuracy: 0.4800 - val_loss: 0.7547 - val_accuracy: 0.5000\n"
          ]
        },
        {
          "output_type": "stream",
          "name": "stderr",
          "text": [
            "\r 41%|████      | 13/32 [00:22<00:40,  2.13s/it]04/23/2022 07:54:24 AM - INFO - Getting Keras datasets\n",
            "04/23/2022 07:54:24 AM - INFO - Compling Keras model\n",
            "04/23/2022 07:54:24 AM - INFO - Architecture:[16, 128, 128, 128, 32, 32],elu,rmsprop,5\n"
          ]
        },
        {
          "output_type": "stream",
          "name": "stdout",
          "text": [
            "Test loss: 0.7546936273574829\n",
            "Test accuracy: 0.5\n",
            "Epoch 1/3\n",
            "2/2 [==============================] - 1s 309ms/step - loss: 1.2413 - accuracy: 0.4200 - val_loss: 2.2182 - val_accuracy: 0.5000\n",
            "Epoch 2/3\n",
            "2/2 [==============================] - 0s 138ms/step - loss: 1.9990 - accuracy: 0.4600 - val_loss: 0.6965 - val_accuracy: 0.5000\n",
            "Epoch 3/3\n",
            "2/2 [==============================] - 0s 136ms/step - loss: 1.0634 - accuracy: 0.5400 - val_loss: 0.9377 - val_accuracy: 0.5000\n"
          ]
        },
        {
          "output_type": "stream",
          "name": "stderr",
          "text": [
            "\r 44%|████▍     | 14/32 [00:25<00:41,  2.30s/it]04/23/2022 07:54:27 AM - INFO - Getting Keras datasets\n",
            "04/23/2022 07:54:27 AM - INFO - Compling Keras model\n",
            "04/23/2022 07:54:27 AM - INFO - Architecture:[16, 128, 16, 16, 32, 32],elu,adam,3\n"
          ]
        },
        {
          "output_type": "stream",
          "name": "stdout",
          "text": [
            "Test loss: 0.9376680254936218\n",
            "Test accuracy: 0.5\n",
            "Epoch 1/3\n",
            "2/2 [==============================] - 1s 252ms/step - loss: 0.8532 - accuracy: 0.4400 - val_loss: 0.7060 - val_accuracy: 0.5000\n",
            "Epoch 2/3\n",
            "2/2 [==============================] - 0s 97ms/step - loss: 0.7513 - accuracy: 0.4800 - val_loss: 0.6800 - val_accuracy: 0.5200\n",
            "Epoch 3/3\n",
            "2/2 [==============================] - 0s 100ms/step - loss: 0.7085 - accuracy: 0.5400 - val_loss: 0.6731 - val_accuracy: 0.5000\n",
            "Test loss: 0.6731147766113281\n",
            "Test accuracy: 0.5\n"
          ]
        },
        {
          "output_type": "stream",
          "name": "stderr",
          "text": [
            "\r 47%|████▋     | 15/32 [00:27<00:35,  2.07s/it]04/23/2022 07:54:28 AM - INFO - Getting Keras datasets\n",
            "04/23/2022 07:54:28 AM - INFO - Compling Keras model\n",
            "04/23/2022 07:54:28 AM - INFO - Architecture:[16, 128, 128, 64, 32, 64],elu,adam,3\n"
          ]
        },
        {
          "output_type": "stream",
          "name": "stdout",
          "text": [
            "Epoch 1/3\n",
            "2/2 [==============================] - 1s 270ms/step - loss: 1.5643 - accuracy: 0.5600 - val_loss: 1.4492 - val_accuracy: 0.5000\n",
            "Epoch 2/3\n",
            "2/2 [==============================] - 0s 129ms/step - loss: 1.4933 - accuracy: 0.4800 - val_loss: 0.6481 - val_accuracy: 0.5200\n",
            "Epoch 3/3\n",
            "2/2 [==============================] - 0s 126ms/step - loss: 1.0707 - accuracy: 0.5000 - val_loss: 0.7698 - val_accuracy: 0.5000\n"
          ]
        },
        {
          "output_type": "stream",
          "name": "stderr",
          "text": [
            "\r 50%|█████     | 16/32 [00:28<00:31,  1.95s/it]04/23/2022 07:54:30 AM - INFO - Getting Keras datasets\n",
            "04/23/2022 07:54:30 AM - INFO - Compling Keras model\n",
            "04/23/2022 07:54:30 AM - INFO - Architecture:[16, 128, 16, 128, 32, 32],elu,adam,3\n"
          ]
        },
        {
          "output_type": "stream",
          "name": "stdout",
          "text": [
            "Test loss: 0.7698233127593994\n",
            "Test accuracy: 0.5\n",
            "Epoch 1/3\n",
            "2/2 [==============================] - 1s 243ms/step - loss: 1.2576 - accuracy: 0.4600 - val_loss: 0.7137 - val_accuracy: 0.5000\n",
            "Epoch 2/3\n",
            "2/2 [==============================] - 0s 95ms/step - loss: 0.7150 - accuracy: 0.5400 - val_loss: 0.7412 - val_accuracy: 0.5000\n",
            "Epoch 3/3\n",
            "2/2 [==============================] - 0s 100ms/step - loss: 0.8552 - accuracy: 0.5000 - val_loss: 0.6577 - val_accuracy: 0.5800\n"
          ]
        },
        {
          "output_type": "stream",
          "name": "stderr",
          "text": [
            "\r 53%|█████▎    | 17/32 [00:30<00:27,  1.81s/it]04/23/2022 07:54:32 AM - INFO - Getting Keras datasets\n",
            "04/23/2022 07:54:32 AM - INFO - Compling Keras model\n",
            "04/23/2022 07:54:32 AM - INFO - Architecture:[16, 32, 128, 16, 32, 32],elu,rmsprop,3\n"
          ]
        },
        {
          "output_type": "stream",
          "name": "stdout",
          "text": [
            "Test loss: 0.6576808094978333\n",
            "Test accuracy: 0.5799999833106995\n",
            "Epoch 1/3\n",
            "2/2 [==============================] - 1s 230ms/step - loss: 2.0149 - accuracy: 0.4000 - val_loss: 1.5604 - val_accuracy: 0.5000\n",
            "Epoch 2/3\n",
            "2/2 [==============================] - 0s 76ms/step - loss: 1.8828 - accuracy: 0.4000 - val_loss: 0.7379 - val_accuracy: 0.5000\n",
            "Epoch 3/3\n",
            "2/2 [==============================] - 0s 85ms/step - loss: 0.6682 - accuracy: 0.6600 - val_loss: 0.6474 - val_accuracy: 0.5000\n"
          ]
        },
        {
          "output_type": "stream",
          "name": "stderr",
          "text": [
            "\r 56%|█████▋    | 18/32 [00:31<00:24,  1.76s/it]04/23/2022 07:54:33 AM - INFO - Getting Keras datasets\n"
          ]
        },
        {
          "output_type": "stream",
          "name": "stdout",
          "text": [
            "Test loss: 0.6474459767341614\n",
            "Test accuracy: 0.5\n"
          ]
        },
        {
          "output_type": "stream",
          "name": "stderr",
          "text": [
            "04/23/2022 07:54:33 AM - INFO - Compling Keras model\n",
            "04/23/2022 07:54:33 AM - INFO - Architecture:[32, 128, 64, 64, 32, 16],tanh,adam,5\n"
          ]
        },
        {
          "output_type": "stream",
          "name": "stdout",
          "text": [
            "Epoch 1/3\n",
            "2/2 [==============================] - 1s 279ms/step - loss: 0.8416 - accuracy: 0.5000 - val_loss: 0.6899 - val_accuracy: 0.5000\n",
            "Epoch 2/3\n",
            "2/2 [==============================] - 0s 121ms/step - loss: 0.7619 - accuracy: 0.5600 - val_loss: 0.6861 - val_accuracy: 0.6600\n",
            "Epoch 3/3\n",
            "2/2 [==============================] - 0s 135ms/step - loss: 0.9502 - accuracy: 0.4400 - val_loss: 0.7686 - val_accuracy: 0.5000\n"
          ]
        },
        {
          "output_type": "stream",
          "name": "stderr",
          "text": [
            "\r 59%|█████▉    | 19/32 [00:34<00:25,  1.93s/it]04/23/2022 07:54:36 AM - INFO - Getting Keras datasets\n",
            "04/23/2022 07:54:36 AM - INFO - Compling Keras model\n",
            "04/23/2022 07:54:36 AM - INFO - Architecture:[128, 128, 128, 64, 32, 16],elu,adam,5\n"
          ]
        },
        {
          "output_type": "stream",
          "name": "stdout",
          "text": [
            "Test loss: 0.7686190605163574\n",
            "Test accuracy: 0.5\n",
            "Epoch 1/3\n",
            "2/2 [==============================] - 1s 474ms/step - loss: 0.8565 - accuracy: 0.5200 - val_loss: 1.0217 - val_accuracy: 0.5000\n",
            "Epoch 2/3\n",
            "2/2 [==============================] - 1s 320ms/step - loss: 0.9836 - accuracy: 0.5000 - val_loss: 0.6884 - val_accuracy: 0.5600\n",
            "Epoch 3/3\n",
            "2/2 [==============================] - 1s 313ms/step - loss: 0.8344 - accuracy: 0.5200 - val_loss: 0.6852 - val_accuracy: 0.6600\n"
          ]
        },
        {
          "output_type": "stream",
          "name": "stderr",
          "text": [
            "\r 62%|██████▎   | 20/32 [00:37<00:27,  2.32s/it]04/23/2022 07:54:39 AM - INFO - Getting Keras datasets\n",
            "04/23/2022 07:54:39 AM - INFO - Compling Keras model\n",
            "04/23/2022 07:54:39 AM - INFO - Architecture:[16, 16, 128, 64, 32, 16],elu,adam,3\n"
          ]
        },
        {
          "output_type": "stream",
          "name": "stdout",
          "text": [
            "Test loss: 0.6852315664291382\n",
            "Test accuracy: 0.6600000262260437\n",
            "Epoch 1/3\n",
            "2/2 [==============================] - 1s 217ms/step - loss: 1.0083 - accuracy: 0.4000 - val_loss: 0.7198 - val_accuracy: 0.5000\n",
            "Epoch 2/3\n",
            "2/2 [==============================] - 0s 78ms/step - loss: 0.7399 - accuracy: 0.4800 - val_loss: 0.7295 - val_accuracy: 0.5000\n",
            "Epoch 3/3\n",
            "2/2 [==============================] - 0s 66ms/step - loss: 0.7330 - accuracy: 0.5400 - val_loss: 0.6862 - val_accuracy: 0.5000\n"
          ]
        },
        {
          "output_type": "stream",
          "name": "stderr",
          "text": [
            "\r 66%|██████▌   | 21/32 [00:38<00:22,  2.09s/it]04/23/2022 07:54:40 AM - INFO - Getting Keras datasets\n",
            "04/23/2022 07:54:40 AM - INFO - Compling Keras model\n",
            "04/23/2022 07:54:40 AM - INFO - Architecture:[32, 128, 128, 16, 128, 32],tanh,adam,5\n"
          ]
        },
        {
          "output_type": "stream",
          "name": "stdout",
          "text": [
            "Test loss: 0.6861643195152283\n",
            "Test accuracy: 0.5\n",
            "Epoch 1/3\n",
            "2/2 [==============================] - 1s 305ms/step - loss: 0.7204 - accuracy: 0.4800 - val_loss: 0.6848 - val_accuracy: 0.5000\n",
            "Epoch 2/3\n",
            "2/2 [==============================] - 0s 142ms/step - loss: 0.7831 - accuracy: 0.4600 - val_loss: 0.6747 - val_accuracy: 0.7400\n",
            "Epoch 3/3\n",
            "2/2 [==============================] - 0s 140ms/step - loss: 0.8064 - accuracy: 0.5000 - val_loss: 0.6786 - val_accuracy: 0.5000\n"
          ]
        },
        {
          "output_type": "stream",
          "name": "stderr",
          "text": [
            "\r 69%|██████▉   | 22/32 [00:41<00:21,  2.17s/it]04/23/2022 07:54:43 AM - INFO - Getting Keras datasets\n",
            "04/23/2022 07:54:43 AM - INFO - Compling Keras model\n",
            "04/23/2022 07:54:43 AM - INFO - Architecture:[16, 128, 128, 64, 64, 16],elu,adam,3\n"
          ]
        },
        {
          "output_type": "stream",
          "name": "stdout",
          "text": [
            "Test loss: 0.6785668134689331\n",
            "Test accuracy: 0.5\n",
            "Epoch 1/3\n",
            "2/2 [==============================] - 1s 262ms/step - loss: 1.1556 - accuracy: 0.3600 - val_loss: 0.6916 - val_accuracy: 0.5000\n",
            "Epoch 2/3\n",
            "2/2 [==============================] - 0s 122ms/step - loss: 1.1826 - accuracy: 0.4000 - val_loss: 0.8048 - val_accuracy: 0.5000\n",
            "Epoch 3/3\n",
            "2/2 [==============================] - 0s 115ms/step - loss: 0.9462 - accuracy: 0.4800 - val_loss: 0.6738 - val_accuracy: 0.5000\n"
          ]
        },
        {
          "output_type": "stream",
          "name": "stderr",
          "text": [
            "\r 72%|███████▏  | 23/32 [00:43<00:19,  2.17s/it]04/23/2022 07:54:45 AM - INFO - Getting Keras datasets\n",
            "04/23/2022 07:54:45 AM - INFO - Compling Keras model\n",
            "04/23/2022 07:54:45 AM - INFO - Architecture:[32, 128, 128, 32, 32, 32],tanh,adam,5\n"
          ]
        },
        {
          "output_type": "stream",
          "name": "stdout",
          "text": [
            "Test loss: 0.6737960577011108\n",
            "Test accuracy: 0.5\n",
            "Epoch 1/3\n",
            "2/2 [==============================] - 1s 316ms/step - loss: 1.0398 - accuracy: 0.4800 - val_loss: 0.8866 - val_accuracy: 0.5000\n",
            "Epoch 2/3\n",
            "2/2 [==============================] - 0s 150ms/step - loss: 0.8336 - accuracy: 0.5600 - val_loss: 0.7703 - val_accuracy: 0.5000\n",
            "Epoch 3/3\n",
            "2/2 [==============================] - 0s 152ms/step - loss: 0.8936 - accuracy: 0.5200 - val_loss: 0.8882 - val_accuracy: 0.5000\n"
          ]
        },
        {
          "output_type": "stream",
          "name": "stderr",
          "text": [
            "\r 75%|███████▌  | 24/32 [00:45<00:16,  2.11s/it]04/23/2022 07:54:47 AM - INFO - Getting Keras datasets\n",
            "04/23/2022 07:54:47 AM - INFO - Compling Keras model\n",
            "04/23/2022 07:54:47 AM - INFO - Architecture:[128, 128, 128, 16, 32, 16],elu,adam,3\n"
          ]
        },
        {
          "output_type": "stream",
          "name": "stdout",
          "text": [
            "Test loss: 0.8881839513778687\n",
            "Test accuracy: 0.5\n",
            "Epoch 1/3\n",
            "2/2 [==============================] - 1s 455ms/step - loss: 1.3742 - accuracy: 0.4600 - val_loss: 0.8249 - val_accuracy: 0.5000\n",
            "Epoch 2/3\n",
            "2/2 [==============================] - 1s 309ms/step - loss: 0.9975 - accuracy: 0.4800 - val_loss: 0.7015 - val_accuracy: 0.5000\n",
            "Epoch 3/3\n",
            "2/2 [==============================] - 1s 309ms/step - loss: 0.7610 - accuracy: 0.5200 - val_loss: 0.6759 - val_accuracy: 0.5000\n"
          ]
        },
        {
          "output_type": "stream",
          "name": "stderr",
          "text": [
            "\r 78%|███████▊  | 25/32 [00:49<00:17,  2.53s/it]04/23/2022 07:54:50 AM - INFO - Getting Keras datasets\n",
            "04/23/2022 07:54:50 AM - INFO - Compling Keras model\n",
            "04/23/2022 07:54:50 AM - INFO - Architecture:[32, 128, 128, 64, 32, 16],elu,adam,4\n"
          ]
        },
        {
          "output_type": "stream",
          "name": "stdout",
          "text": [
            "Test loss: 0.6759085655212402\n",
            "Test accuracy: 0.5\n",
            "Epoch 1/3\n",
            "2/2 [==============================] - 1s 318ms/step - loss: 1.1243 - accuracy: 0.5200 - val_loss: 0.7048 - val_accuracy: 0.5000\n",
            "Epoch 2/3\n",
            "2/2 [==============================] - 0s 156ms/step - loss: 0.8189 - accuracy: 0.5600 - val_loss: 0.7429 - val_accuracy: 0.5000\n",
            "Epoch 3/3\n",
            "2/2 [==============================] - 0s 162ms/step - loss: 0.9011 - accuracy: 0.4800 - val_loss: 0.6637 - val_accuracy: 0.7000\n"
          ]
        },
        {
          "output_type": "stream",
          "name": "stderr",
          "text": [
            "\r 81%|████████▏ | 26/32 [00:50<00:14,  2.35s/it]04/23/2022 07:54:52 AM - INFO - Getting Keras datasets\n",
            "04/23/2022 07:54:52 AM - INFO - Compling Keras model\n",
            "04/23/2022 07:54:52 AM - INFO - Architecture:[32, 128, 128, 64, 32, 16],tanh,rmsprop,5\n"
          ]
        },
        {
          "output_type": "stream",
          "name": "stdout",
          "text": [
            "Test loss: 0.6636739373207092\n",
            "Test accuracy: 0.699999988079071\n",
            "Epoch 1/3\n",
            "2/2 [==============================] - 2s 707ms/step - loss: 1.1428 - accuracy: 0.4800 - val_loss: 1.6843 - val_accuracy: 0.5000\n",
            "Epoch 2/3\n",
            "2/2 [==============================] - 0s 153ms/step - loss: 1.2560 - accuracy: 0.5200 - val_loss: 0.8531 - val_accuracy: 0.5000\n",
            "Epoch 3/3\n",
            "2/2 [==============================] - 0s 153ms/step - loss: 1.0324 - accuracy: 0.5200 - val_loss: 0.7044 - val_accuracy: 0.5000\n"
          ]
        },
        {
          "output_type": "stream",
          "name": "stderr",
          "text": [
            "\r 84%|████████▍ | 27/32 [00:54<00:14,  2.82s/it]04/23/2022 07:54:56 AM - INFO - Getting Keras datasets\n",
            "04/23/2022 07:54:56 AM - INFO - Compling Keras model\n",
            "04/23/2022 07:54:56 AM - INFO - Architecture:[16, 128, 32, 128, 32, 32],elu,adam,3\n"
          ]
        },
        {
          "output_type": "stream",
          "name": "stdout",
          "text": [
            "Test loss: 0.7043888568878174\n",
            "Test accuracy: 0.5\n",
            "Epoch 1/3\n",
            "2/2 [==============================] - 1s 256ms/step - loss: 0.8228 - accuracy: 0.4000 - val_loss: 0.6553 - val_accuracy: 0.7800\n",
            "Epoch 2/3\n",
            "2/2 [==============================] - 0s 100ms/step - loss: 0.7032 - accuracy: 0.5400 - val_loss: 0.6862 - val_accuracy: 0.5000\n",
            "Epoch 3/3\n",
            "2/2 [==============================] - 0s 104ms/step - loss: 0.6239 - accuracy: 0.7000 - val_loss: 0.6436 - val_accuracy: 0.5400\n"
          ]
        },
        {
          "output_type": "stream",
          "name": "stderr",
          "text": [
            "\r 88%|████████▊ | 28/32 [00:57<00:10,  2.64s/it]04/23/2022 07:54:58 AM - INFO - Getting Keras datasets\n",
            "04/23/2022 07:54:58 AM - INFO - Compling Keras model\n",
            "04/23/2022 07:54:58 AM - INFO - Architecture:[32, 128, 128, 64, 128, 16],elu,adam,4\n"
          ]
        },
        {
          "output_type": "stream",
          "name": "stdout",
          "text": [
            "Test loss: 0.6435672044754028\n",
            "Test accuracy: 0.5400000214576721\n",
            "Epoch 1/3\n",
            "2/2 [==============================] - 1s 332ms/step - loss: 0.8453 - accuracy: 0.3600 - val_loss: 0.7680 - val_accuracy: 0.5000\n",
            "Epoch 2/3\n",
            "2/2 [==============================] - 0s 152ms/step - loss: 1.0924 - accuracy: 0.5800 - val_loss: 0.6744 - val_accuracy: 0.5000\n",
            "Epoch 3/3\n",
            "2/2 [==============================] - 0s 158ms/step - loss: 0.8053 - accuracy: 0.5000 - val_loss: 0.6382 - val_accuracy: 0.5400\n"
          ]
        },
        {
          "output_type": "stream",
          "name": "stderr",
          "text": [
            "\r 91%|█████████ | 29/32 [00:58<00:07,  2.43s/it]04/23/2022 07:55:00 AM - INFO - Getting Keras datasets\n",
            "04/23/2022 07:55:00 AM - INFO - Compling Keras model\n",
            "04/23/2022 07:55:00 AM - INFO - Architecture:[64, 128, 128, 64, 32, 16],elu,adam,5\n"
          ]
        },
        {
          "output_type": "stream",
          "name": "stdout",
          "text": [
            "Test loss: 0.6381999850273132\n",
            "Test accuracy: 0.5400000214576721\n",
            "Epoch 1/3\n",
            "2/2 [==============================] - 1s 374ms/step - loss: 0.8704 - accuracy: 0.5200 - val_loss: 0.8816 - val_accuracy: 0.5000\n",
            "Epoch 2/3\n",
            "2/2 [==============================] - 0s 208ms/step - loss: 1.0245 - accuracy: 0.5200 - val_loss: 0.8628 - val_accuracy: 0.5000\n",
            "Epoch 3/3\n",
            "2/2 [==============================] - 0s 206ms/step - loss: 0.9082 - accuracy: 0.5200 - val_loss: 0.6469 - val_accuracy: 0.7800\n"
          ]
        },
        {
          "output_type": "stream",
          "name": "stderr",
          "text": [
            "\r 94%|█████████▍| 30/32 [01:01<00:04,  2.41s/it]04/23/2022 07:55:03 AM - INFO - Getting Keras datasets\n",
            "04/23/2022 07:55:03 AM - INFO - Compling Keras model\n",
            "04/23/2022 07:55:03 AM - INFO - Architecture:[16, 32, 128, 128, 32, 32],elu,rmsprop,3\n"
          ]
        },
        {
          "output_type": "stream",
          "name": "stdout",
          "text": [
            "Test loss: 0.6469453573226929\n",
            "Test accuracy: 0.7799999713897705\n",
            "Epoch 1/3\n",
            "2/2 [==============================] - 1s 227ms/step - loss: 1.9325 - accuracy: 0.4400 - val_loss: 1.0269 - val_accuracy: 0.5000\n",
            "Epoch 2/3\n",
            "2/2 [==============================] - 0s 72ms/step - loss: 0.9364 - accuracy: 0.5600 - val_loss: 0.6759 - val_accuracy: 0.5000\n",
            "Epoch 3/3\n",
            "2/2 [==============================] - 0s 73ms/step - loss: 0.6144 - accuracy: 0.6800 - val_loss: 0.6292 - val_accuracy: 0.6000\n"
          ]
        },
        {
          "output_type": "stream",
          "name": "stderr",
          "text": [
            "\r 97%|█████████▋| 31/32 [01:03<00:02,  2.22s/it]04/23/2022 07:55:05 AM - INFO - Getting Keras datasets\n",
            "04/23/2022 07:55:05 AM - INFO - Compling Keras model\n",
            "04/23/2022 07:55:05 AM - INFO - Architecture:[128, 128, 128, 32, 32, 16],elu,adam,3\n"
          ]
        },
        {
          "output_type": "stream",
          "name": "stdout",
          "text": [
            "Test loss: 0.6291627287864685\n",
            "Test accuracy: 0.6000000238418579\n",
            "Epoch 1/3\n",
            "2/2 [==============================] - 1s 461ms/step - loss: 0.8777 - accuracy: 0.5000 - val_loss: 1.1594 - val_accuracy: 0.5000\n",
            "Epoch 2/3\n",
            "2/2 [==============================] - 1s 306ms/step - loss: 1.1630 - accuracy: 0.5200 - val_loss: 0.7459 - val_accuracy: 0.5000\n",
            "Epoch 3/3\n",
            "2/2 [==============================] - 1s 304ms/step - loss: 0.8318 - accuracy: 0.5400 - val_loss: 0.7164 - val_accuracy: 0.5000\n"
          ]
        },
        {
          "output_type": "stream",
          "name": "stderr",
          "text": [
            "100%|██████████| 32/32 [01:06<00:00,  2.08s/it]\n",
            "04/23/2022 07:55:08 AM - INFO - Generation average: 57.06%\n",
            "04/23/2022 07:55:08 AM - INFO - --------------------------------------------------------------------------------\n",
            "04/23/2022 07:55:08 AM - INFO - ***Now in generation 8 of 8***\n",
            "04/23/2022 07:55:08 AM - INFO - --------------------------------------------------------------------------------\n",
            "04/23/2022 07:55:08 AM - INFO - {'activation': 'elu', 'nb_layers': 3, 'optimizer': 'adam', 'nb_neurons': [16, 128, 128, 16, 32, 32]}\n",
            "04/23/2022 07:55:08 AM - INFO - Acc: 82.00%\n",
            "04/23/2022 07:55:08 AM - INFO - UniID: 109\n",
            "04/23/2022 07:55:08 AM - INFO - Mom and Dad: 88 103\n",
            "04/23/2022 07:55:08 AM - INFO - Gen: 5\n",
            "04/23/2022 07:55:08 AM - INFO - Hash: 34da56a24f5575b4c615a3d5a1882cc6\n",
            "04/23/2022 07:55:08 AM - INFO - {'activation': 'tanh', 'nb_layers': 5, 'optimizer': 'adam', 'nb_neurons': [32, 128, 128, 64, 32, 16]}\n",
            "04/23/2022 07:55:08 AM - INFO - Acc: 82.00%\n",
            "04/23/2022 07:55:08 AM - INFO - UniID: 155\n",
            "04/23/2022 07:55:08 AM - INFO - Mom and Dad: 127 103\n",
            "04/23/2022 07:55:08 AM - INFO - Gen: 6\n",
            "04/23/2022 07:55:08 AM - INFO - Hash: 8732f7cd8dc59d800616f123ecea454a\n",
            "04/23/2022 07:55:08 AM - INFO - {'activation': 'elu', 'nb_layers': 3, 'optimizer': 'rmsprop', 'nb_neurons': [16, 128, 128, 128, 32, 32]}\n",
            "04/23/2022 07:55:08 AM - INFO - Acc: 80.00%\n",
            "04/23/2022 07:55:08 AM - INFO - UniID: 88\n",
            "04/23/2022 07:55:08 AM - INFO - Mom and Dad: 13 45\n",
            "04/23/2022 07:55:08 AM - INFO - Gen: 4\n",
            "04/23/2022 07:55:08 AM - INFO - Hash: c627de4f905f59973e1f678895f96a32\n",
            "04/23/2022 07:55:08 AM - INFO - {'activation': 'elu', 'nb_layers': 5, 'optimizer': 'adam', 'nb_neurons': [32, 128, 128, 64, 32, 16]}\n",
            "04/23/2022 07:55:08 AM - INFO - Acc: 80.00%\n",
            "04/23/2022 07:55:08 AM - INFO - UniID: 103\n",
            "04/23/2022 07:55:08 AM - INFO - Mom and Dad: 13 45\n",
            "04/23/2022 07:55:08 AM - INFO - Gen: 4\n",
            "04/23/2022 07:55:08 AM - INFO - Hash: 4e7e7b08d413effed579b6f0f2c5ae8a\n",
            "04/23/2022 07:55:08 AM - INFO - {'activation': 'relu', 'nb_layers': 4, 'optimizer': 'adam', 'nb_neurons': [32, 128, 128, 64, 32, 16]}\n",
            "04/23/2022 07:55:08 AM - INFO - Acc: 0.00%\n",
            "04/23/2022 07:55:08 AM - INFO - UniID: 180\n",
            "04/23/2022 07:55:08 AM - INFO - Mom and Dad: 103 151\n",
            "04/23/2022 07:55:08 AM - INFO - Gen: 8\n",
            "04/23/2022 07:55:08 AM - INFO - Hash: 59187b3b7dd2815fb2d83c944b8d10c4\n",
            "04/23/2022 07:55:08 AM - INFO - {'activation': 'elu', 'nb_layers': 3, 'optimizer': 'adam', 'nb_neurons': [16, 128, 128, 128, 64, 32]}\n",
            "04/23/2022 07:55:08 AM - INFO - Acc: 0.00%\n",
            "04/23/2022 07:55:08 AM - INFO - UniID: 171\n",
            "04/23/2022 07:55:08 AM - INFO - Mom and Dad: 88 109\n",
            "04/23/2022 07:55:08 AM - INFO - Gen: 8\n",
            "04/23/2022 07:55:08 AM - INFO - Hash: 365c1afb6bed5352bea3a034f7dd8048\n",
            "04/23/2022 07:55:08 AM - INFO - {'activation': 'elu', 'nb_layers': 4, 'optimizer': 'adam', 'nb_neurons': [32, 128, 16, 64, 128, 16]}\n",
            "04/23/2022 07:55:08 AM - INFO - Acc: 0.00%\n",
            "04/23/2022 07:55:08 AM - INFO - UniID: 183\n",
            "04/23/2022 07:55:08 AM - INFO - Mom and Dad: 151 155\n",
            "04/23/2022 07:55:08 AM - INFO - Gen: 8\n",
            "04/23/2022 07:55:08 AM - INFO - Hash: 91ae9ad74681b460805981dca6fb6b48\n",
            "04/23/2022 07:55:08 AM - INFO - {'activation': 'softplus', 'nb_layers': 3, 'optimizer': 'adam', 'nb_neurons': [128, 128, 128, 64, 32, 16]}\n",
            "04/23/2022 07:55:08 AM - INFO - Acc: 0.00%\n",
            "04/23/2022 07:55:08 AM - INFO - UniID: 151\n",
            "04/23/2022 07:55:08 AM - INFO - Mom and Dad: 127 103\n",
            "04/23/2022 07:55:08 AM - INFO - Gen: 8\n",
            "04/23/2022 07:55:08 AM - INFO - Hash: 3ca8583a6ac9c4a0dd22b9ac0d74048d\n",
            "04/23/2022 07:55:08 AM - INFO - {'activation': 'tanh', 'nb_layers': 5, 'optimizer': 'adam', 'nb_neurons': [32, 128, 64, 64, 32, 128]}\n",
            "04/23/2022 07:55:08 AM - INFO - Acc: 0.00%\n",
            "04/23/2022 07:55:08 AM - INFO - UniID: 173\n",
            "04/23/2022 07:55:08 AM - INFO - Mom and Dad: 155 103\n",
            "04/23/2022 07:55:08 AM - INFO - Gen: 8\n",
            "04/23/2022 07:55:08 AM - INFO - Hash: 509f01ffe60c7dc9905f91374d1e7fbc\n",
            "04/23/2022 07:55:08 AM - INFO - {'activation': 'elu', 'nb_layers': 2, 'optimizer': 'adam', 'nb_neurons': [128, 128, 128, 16, 32, 16]}\n",
            "04/23/2022 07:55:08 AM - INFO - Acc: 0.00%\n",
            "04/23/2022 07:55:08 AM - INFO - UniID: 179\n",
            "04/23/2022 07:55:08 AM - INFO - Mom and Dad: 103 151\n",
            "04/23/2022 07:55:08 AM - INFO - Gen: 8\n",
            "04/23/2022 07:55:08 AM - INFO - Hash: cb721e12eb19072d8bdae2d5ba3033ec\n",
            "04/23/2022 07:55:08 AM - INFO - {'activation': 'tanh', 'nb_layers': 4, 'optimizer': 'adam', 'nb_neurons': [32, 128, 128, 64, 32, 16]}\n",
            "04/23/2022 07:55:08 AM - INFO - Acc: 0.00%\n",
            "04/23/2022 07:55:08 AM - INFO - UniID: 187\n",
            "04/23/2022 07:55:08 AM - INFO - Mom and Dad: 173 151\n",
            "04/23/2022 07:55:08 AM - INFO - Gen: 8\n",
            "04/23/2022 07:55:08 AM - INFO - Hash: 017fb3f6952585ff147af701b6a17d3d\n",
            "04/23/2022 07:55:08 AM - INFO - {'activation': 'softplus', 'nb_layers': 3, 'optimizer': 'adam', 'nb_neurons': [128, 128, 64, 64, 32, 128]}\n",
            "04/23/2022 07:55:08 AM - INFO - Acc: 0.00%\n",
            "04/23/2022 07:55:08 AM - INFO - UniID: 188\n",
            "04/23/2022 07:55:08 AM - INFO - Mom and Dad: 173 151\n",
            "04/23/2022 07:55:08 AM - INFO - Gen: 8\n",
            "04/23/2022 07:55:08 AM - INFO - Hash: 10e4e029ebebc0c6e8a8b8a77e432f56\n",
            "04/23/2022 07:55:08 AM - INFO - {'activation': 'elu', 'nb_layers': 3, 'optimizer': 'adam', 'nb_neurons': [16, 128, 128, 16, 64, 16]}\n",
            "04/23/2022 07:55:08 AM - INFO - Acc: 0.00%\n",
            "04/23/2022 07:55:08 AM - INFO - UniID: 189\n",
            "04/23/2022 07:55:08 AM - INFO - Mom and Dad: 171 151\n",
            "04/23/2022 07:55:08 AM - INFO - Gen: 8\n",
            "04/23/2022 07:55:08 AM - INFO - Hash: 3b8c41745b40fb9bffd649c7421b2f01\n",
            "04/23/2022 07:55:08 AM - INFO - {'activation': 'softplus', 'nb_layers': 3, 'optimizer': 'adam', 'nb_neurons': [128, 128, 128, 16, 32, 32]}\n",
            "04/23/2022 07:55:08 AM - INFO - Acc: 0.00%\n",
            "04/23/2022 07:55:08 AM - INFO - UniID: 190\n",
            "04/23/2022 07:55:08 AM - INFO - Mom and Dad: 171 151\n",
            "04/23/2022 07:55:08 AM - INFO - Gen: 8\n",
            "04/23/2022 07:55:08 AM - INFO - Hash: 1f8b220b08d19b887115ac43f90763a1\n",
            "04/23/2022 07:55:08 AM - INFO - {'activation': 'softplus', 'nb_layers': 3, 'optimizer': 'adam', 'nb_neurons': [128, 128, 16, 128, 64, 32]}\n",
            "04/23/2022 07:55:08 AM - INFO - Acc: 0.00%\n",
            "04/23/2022 07:55:08 AM - INFO - UniID: 191\n",
            "04/23/2022 07:55:08 AM - INFO - Mom and Dad: 151 171\n",
            "04/23/2022 07:55:08 AM - INFO - Gen: 8\n",
            "04/23/2022 07:55:08 AM - INFO - Hash: 70c364e34129ed3a4a3e5395b88b5348\n",
            "04/23/2022 07:55:08 AM - INFO - {'activation': 'elu', 'nb_layers': 3, 'optimizer': 'adamax', 'nb_neurons': [16, 128, 128, 64, 32, 128]}\n",
            "04/23/2022 07:55:08 AM - INFO - Acc: 0.00%\n"
          ]
        },
        {
          "output_type": "stream",
          "name": "stdout",
          "text": [
            "Test loss: 0.7163999676704407\n",
            "Test accuracy: 0.5\n"
          ]
        },
        {
          "output_type": "stream",
          "name": "stderr",
          "text": [
            "04/23/2022 07:55:08 AM - INFO - UniID: 192\n",
            "04/23/2022 07:55:08 AM - INFO - Mom and Dad: 151 171\n",
            "04/23/2022 07:55:08 AM - INFO - Gen: 8\n",
            "04/23/2022 07:55:08 AM - INFO - Hash: eaeb708a084300362de07da258eecaf5\n",
            "04/23/2022 07:55:08 AM - INFO - {'activation': 'elu', 'nb_layers': 3, 'optimizer': 'rmsprop', 'nb_neurons': [16, 128, 128, 128, 64, 32]}\n",
            "04/23/2022 07:55:08 AM - INFO - Acc: 0.00%\n",
            "04/23/2022 07:55:08 AM - INFO - UniID: 193\n",
            "04/23/2022 07:55:08 AM - INFO - Mom and Dad: 171 109\n",
            "04/23/2022 07:55:08 AM - INFO - Gen: 8\n",
            "04/23/2022 07:55:08 AM - INFO - Hash: 04e20c8bf773865b7dbc26feef526830\n",
            "04/23/2022 07:55:08 AM - INFO - {'activation': 'elu', 'nb_layers': 3, 'optimizer': 'adam', 'nb_neurons': [16, 16, 128, 16, 32, 32]}\n",
            "04/23/2022 07:55:08 AM - INFO - Acc: 0.00%\n",
            "04/23/2022 07:55:08 AM - INFO - UniID: 194\n",
            "04/23/2022 07:55:08 AM - INFO - Mom and Dad: 171 109\n",
            "04/23/2022 07:55:08 AM - INFO - Gen: 8\n",
            "04/23/2022 07:55:08 AM - INFO - Hash: 7dd33848cca6b95fcbaaa40437b137ee\n",
            "04/23/2022 07:55:08 AM - INFO - {'activation': 'elu', 'nb_layers': 3, 'optimizer': 'adam', 'nb_neurons': [16, 128, 32, 64, 32, 16]}\n",
            "04/23/2022 07:55:08 AM - INFO - Acc: 0.00%\n",
            "04/23/2022 07:55:08 AM - INFO - UniID: 195\n",
            "04/23/2022 07:55:08 AM - INFO - Mom and Dad: 88 155\n",
            "04/23/2022 07:55:08 AM - INFO - Gen: 8\n",
            "04/23/2022 07:55:08 AM - INFO - Hash: a9184421dbca77a29b5c061f797c82d1\n",
            "04/23/2022 07:55:08 AM - INFO - {'activation': 'tanh', 'nb_layers': 5, 'optimizer': 'rmsprop', 'nb_neurons': [32, 128, 128, 128, 32, 32]}\n",
            "04/23/2022 07:55:08 AM - INFO - Acc: 0.00%\n",
            "04/23/2022 07:55:08 AM - INFO - UniID: 196\n",
            "04/23/2022 07:55:08 AM - INFO - Mom and Dad: 88 155\n",
            "04/23/2022 07:55:08 AM - INFO - Gen: 8\n",
            "04/23/2022 07:55:08 AM - INFO - Hash: 760509a4ad72da6445bdbe3e4827944e\n",
            "04/23/2022 07:55:08 AM - INFO - {'activation': 'elu', 'nb_layers': 5, 'optimizer': 'adam', 'nb_neurons': [16, 128, 128, 64, 32, 16]}\n",
            "04/23/2022 07:55:08 AM - INFO - Acc: 0.00%\n",
            "04/23/2022 07:55:08 AM - INFO - UniID: 197\n",
            "04/23/2022 07:55:08 AM - INFO - Mom and Dad: 103 180\n",
            "04/23/2022 07:55:08 AM - INFO - Gen: 8\n",
            "04/23/2022 07:55:08 AM - INFO - Hash: 70c38e44ad5a1a297c6925cf6e410b90\n",
            "04/23/2022 07:55:08 AM - INFO - {'activation': 'relu', 'nb_layers': 4, 'optimizer': 'sgd', 'nb_neurons': [32, 128, 128, 64, 32, 16]}\n",
            "04/23/2022 07:55:08 AM - INFO - Acc: 0.00%\n",
            "04/23/2022 07:55:08 AM - INFO - UniID: 198\n",
            "04/23/2022 07:55:08 AM - INFO - Mom and Dad: 103 180\n",
            "04/23/2022 07:55:08 AM - INFO - Gen: 8\n",
            "04/23/2022 07:55:08 AM - INFO - Hash: 667f3da9a891c588b0d7833b12c59819\n",
            "04/23/2022 07:55:08 AM - INFO - {'activation': 'elu', 'nb_layers': 3, 'optimizer': 'rmsprop', 'nb_neurons': [64, 64, 128, 128, 32, 32]}\n",
            "04/23/2022 07:55:08 AM - INFO - Acc: 0.00%\n",
            "04/23/2022 07:55:08 AM - INFO - UniID: 199\n",
            "04/23/2022 07:55:08 AM - INFO - Mom and Dad: 88 109\n",
            "04/23/2022 07:55:08 AM - INFO - Gen: 8\n",
            "04/23/2022 07:55:08 AM - INFO - Hash: c7eb4d97d35f2a75af249da4549ca54e\n",
            "04/23/2022 07:55:08 AM - INFO - {'activation': 'elu', 'nb_layers': 3, 'optimizer': 'rmsprop', 'nb_neurons': [16, 128, 128, 16, 128, 32]}\n",
            "04/23/2022 07:55:08 AM - INFO - Acc: 0.00%\n",
            "04/23/2022 07:55:08 AM - INFO - UniID: 200\n",
            "04/23/2022 07:55:08 AM - INFO - Mom and Dad: 88 109\n",
            "04/23/2022 07:55:08 AM - INFO - Gen: 8\n",
            "04/23/2022 07:55:08 AM - INFO - Hash: 3b1070a442a6c870a1d01d21c6568afc\n",
            "04/23/2022 07:55:08 AM - INFO - {'activation': 'elu', 'nb_layers': 4, 'optimizer': 'rmsprop', 'nb_neurons': [32, 128, 16, 64, 128, 16]}\n",
            "04/23/2022 07:55:08 AM - INFO - Acc: 0.00%\n",
            "04/23/2022 07:55:08 AM - INFO - UniID: 201\n",
            "04/23/2022 07:55:08 AM - INFO - Mom and Dad: 183 88\n",
            "04/23/2022 07:55:08 AM - INFO - Gen: 8\n",
            "04/23/2022 07:55:08 AM - INFO - Hash: 8e78b7d38d7a5e5e3f9f67cafe8a8159\n",
            "04/23/2022 07:55:08 AM - INFO - {'activation': 'elu', 'nb_layers': 3, 'optimizer': 'adam', 'nb_neurons': [16, 64, 128, 128, 32, 32]}\n",
            "04/23/2022 07:55:08 AM - INFO - Acc: 0.00%\n",
            "04/23/2022 07:55:08 AM - INFO - UniID: 202\n",
            "04/23/2022 07:55:08 AM - INFO - Mom and Dad: 183 88\n",
            "04/23/2022 07:55:08 AM - INFO - Gen: 8\n",
            "04/23/2022 07:55:08 AM - INFO - Hash: 96bd3197faa818cff5a03f6c43d99254\n",
            "04/23/2022 07:55:08 AM - INFO - {'activation': 'elu', 'nb_layers': 4, 'optimizer': 'adam', 'nb_neurons': [32, 128, 128, 64, 32, 128]}\n",
            "04/23/2022 07:55:08 AM - INFO - Acc: 0.00%\n",
            "04/23/2022 07:55:08 AM - INFO - UniID: 203\n",
            "04/23/2022 07:55:08 AM - INFO - Mom and Dad: 183 103\n",
            "04/23/2022 07:55:08 AM - INFO - Gen: 8\n",
            "04/23/2022 07:55:08 AM - INFO - Hash: 862612fa3e786c28c1985ebc4f8ee201\n",
            "04/23/2022 07:55:08 AM - INFO - {'activation': 'elu', 'nb_layers': 5, 'optimizer': 'adam', 'nb_neurons': [32, 128, 16, 64, 128, 16]}\n",
            "04/23/2022 07:55:08 AM - INFO - Acc: 0.00%\n",
            "04/23/2022 07:55:08 AM - INFO - UniID: 204\n",
            "04/23/2022 07:55:08 AM - INFO - Mom and Dad: 183 103\n",
            "04/23/2022 07:55:08 AM - INFO - Gen: 8\n",
            "04/23/2022 07:55:08 AM - INFO - Hash: f487e51cf047bf336c82f81e194f0440\n",
            "04/23/2022 07:55:08 AM - INFO - {'activation': 'tanh', 'nb_layers': 5, 'optimizer': 'rmsprop', 'nb_neurons': [32, 128, 128, 32, 64, 32]}\n",
            "04/23/2022 07:55:08 AM - INFO - Acc: 0.00%\n",
            "04/23/2022 07:55:08 AM - INFO - UniID: 205\n",
            "04/23/2022 07:55:08 AM - INFO - Mom and Dad: 155 88\n",
            "04/23/2022 07:55:08 AM - INFO - Gen: 8\n",
            "04/23/2022 07:55:08 AM - INFO - Hash: bcc8023c3fae6df9824b193e76b8b068\n",
            "04/23/2022 07:55:08 AM - INFO - {'activation': 'elu', 'nb_layers': 4, 'optimizer': 'adam', 'nb_neurons': [16, 128, 128, 64, 32, 16]}\n",
            "04/23/2022 07:55:08 AM - INFO - Acc: 0.00%\n",
            "04/23/2022 07:55:08 AM - INFO - UniID: 206\n",
            "04/23/2022 07:55:08 AM - INFO - Mom and Dad: 155 88\n",
            "04/23/2022 07:55:08 AM - INFO - Gen: 8\n",
            "04/23/2022 07:55:08 AM - INFO - Hash: 97a61412e27226d40daa0d5c1b6c4a7f\n",
            "04/23/2022 07:55:08 AM - INFO - {'activation': 'relu', 'nb_layers': 4, 'optimizer': 'adam', 'nb_neurons': [32, 128, 128, 128, 64, 32]}\n",
            "04/23/2022 07:55:08 AM - INFO - Acc: 0.00%\n",
            "04/23/2022 07:55:08 AM - INFO - UniID: 207\n",
            "04/23/2022 07:55:08 AM - INFO - Mom and Dad: 180 171\n",
            "04/23/2022 07:55:08 AM - INFO - Gen: 8\n",
            "04/23/2022 07:55:08 AM - INFO - Hash: 0d9328c865cca54e6b0de1f842cc6b2f\n",
            "04/23/2022 07:55:08 AM - INFO - {'activation': 'elu', 'nb_layers': 5, 'optimizer': 'adam', 'nb_neurons': [16, 128, 128, 64, 32, 128]}\n",
            "04/23/2022 07:55:08 AM - INFO - Acc: 0.00%\n",
            "04/23/2022 07:55:08 AM - INFO - UniID: 208\n",
            "04/23/2022 07:55:08 AM - INFO - Mom and Dad: 180 171\n",
            "04/23/2022 07:55:08 AM - INFO - Gen: 8\n",
            "04/23/2022 07:55:08 AM - INFO - Hash: ae9e3553843e8c7b3fd444911fd43304\n",
            "04/23/2022 07:55:08 AM - INFO - ***train_networks(networks, dataset)***\n",
            "  0%|          | 0/32 [00:00<?, ?it/s]04/23/2022 07:55:08 AM - INFO - Getting Keras datasets\n",
            "04/23/2022 07:55:08 AM - INFO - Compling Keras model\n",
            "04/23/2022 07:55:08 AM - INFO - Architecture:[32, 128, 128, 64, 32, 16],relu,adam,4\n"
          ]
        },
        {
          "output_type": "stream",
          "name": "stdout",
          "text": [
            "Epoch 1/3\n",
            "2/2 [==============================] - 2s 440ms/step - loss: 0.6888 - accuracy: 0.5600 - val_loss: 0.6925 - val_accuracy: 0.5000\n",
            "Epoch 2/3\n",
            "2/2 [==============================] - 0s 211ms/step - loss: 0.6902 - accuracy: 0.5400 - val_loss: 0.6895 - val_accuracy: 0.5000\n",
            "Epoch 3/3\n",
            "2/2 [==============================] - 0s 143ms/step - loss: 0.6953 - accuracy: 0.6000 - val_loss: 0.6885 - val_accuracy: 0.5000\n"
          ]
        },
        {
          "output_type": "stream",
          "name": "stderr",
          "text": [
            "\r 16%|█▌        | 5/32 [00:02<00:15,  1.72it/s]04/23/2022 07:55:11 AM - INFO - Getting Keras datasets\n",
            "04/23/2022 07:55:11 AM - INFO - Compling Keras model\n",
            "04/23/2022 07:55:11 AM - INFO - Architecture:[16, 128, 128, 128, 64, 32],elu,adam,3\n"
          ]
        },
        {
          "output_type": "stream",
          "name": "stdout",
          "text": [
            "Test loss: 0.6885409355163574\n",
            "Test accuracy: 0.5\n",
            "Epoch 1/3\n",
            "2/2 [==============================] - 1s 283ms/step - loss: 1.3294 - accuracy: 0.5200 - val_loss: 0.6771 - val_accuracy: 0.5000\n",
            "Epoch 2/3\n",
            "2/2 [==============================] - 0s 123ms/step - loss: 1.1225 - accuracy: 0.5000 - val_loss: 0.9927 - val_accuracy: 0.5000\n",
            "Epoch 3/3\n",
            "2/2 [==============================] - 0s 131ms/step - loss: 0.8695 - accuracy: 0.6000 - val_loss: 0.8989 - val_accuracy: 0.5000\n"
          ]
        },
        {
          "output_type": "stream",
          "name": "stderr",
          "text": [
            "\r 19%|█▉        | 6/32 [00:04<00:21,  1.21it/s]04/23/2022 07:55:13 AM - INFO - Getting Keras datasets\n",
            "04/23/2022 07:55:13 AM - INFO - Compling Keras model\n",
            "04/23/2022 07:55:13 AM - INFO - Architecture:[32, 128, 16, 64, 128, 16],elu,adam,4\n"
          ]
        },
        {
          "output_type": "stream",
          "name": "stdout",
          "text": [
            "Test loss: 0.8989070653915405\n",
            "Test accuracy: 0.5\n",
            "Epoch 1/3\n",
            "2/2 [==============================] - 1s 288ms/step - loss: 0.7126 - accuracy: 0.4800 - val_loss: 0.7170 - val_accuracy: 0.5000\n",
            "Epoch 2/3\n",
            "2/2 [==============================] - 0s 128ms/step - loss: 0.8105 - accuracy: 0.5200 - val_loss: 0.7080 - val_accuracy: 0.5000\n",
            "Epoch 3/3\n",
            "2/2 [==============================] - 0s 134ms/step - loss: 0.7521 - accuracy: 0.5000 - val_loss: 0.7059 - val_accuracy: 0.5000\n"
          ]
        },
        {
          "output_type": "stream",
          "name": "stderr",
          "text": [
            "\r 22%|██▏       | 7/32 [00:06<00:28,  1.15s/it]04/23/2022 07:55:15 AM - INFO - Getting Keras datasets\n",
            "04/23/2022 07:55:15 AM - INFO - Compling Keras model\n",
            "04/23/2022 07:55:15 AM - INFO - Architecture:[128, 128, 128, 64, 32, 16],softplus,adam,3\n"
          ]
        },
        {
          "output_type": "stream",
          "name": "stdout",
          "text": [
            "Test loss: 0.7059303522109985\n",
            "Test accuracy: 0.5\n",
            "Epoch 1/3\n",
            "2/2 [==============================] - 1s 482ms/step - loss: 1.7402 - accuracy: 0.5000 - val_loss: 0.7380 - val_accuracy: 0.5000\n",
            "Epoch 2/3\n",
            "2/2 [==============================] - 1s 350ms/step - loss: 0.9592 - accuracy: 0.4600 - val_loss: 0.6932 - val_accuracy: 0.5000\n",
            "Epoch 3/3\n",
            "2/2 [==============================] - 1s 336ms/step - loss: 0.6909 - accuracy: 0.6200 - val_loss: 0.6932 - val_accuracy: 0.5000\n"
          ]
        },
        {
          "output_type": "stream",
          "name": "stderr",
          "text": [
            "\r 25%|██▌       | 8/32 [00:10<00:42,  1.76s/it]04/23/2022 07:55:19 AM - INFO - Getting Keras datasets\n",
            "04/23/2022 07:55:19 AM - INFO - Compling Keras model\n",
            "04/23/2022 07:55:19 AM - INFO - Architecture:[32, 128, 64, 64, 32, 128],tanh,adam,5\n"
          ]
        },
        {
          "output_type": "stream",
          "name": "stdout",
          "text": [
            "Test loss: 0.6932038068771362\n",
            "Test accuracy: 0.5\n",
            "Epoch 1/3\n",
            "2/2 [==============================] - 1s 310ms/step - loss: 0.7888 - accuracy: 0.5400 - val_loss: 0.6824 - val_accuracy: 0.5000\n",
            "Epoch 2/3\n",
            "2/2 [==============================] - 0s 140ms/step - loss: 0.7710 - accuracy: 0.4200 - val_loss: 0.7195 - val_accuracy: 0.5000\n",
            "Epoch 3/3\n",
            "2/2 [==============================] - 0s 142ms/step - loss: 0.6018 - accuracy: 0.7000 - val_loss: 0.6760 - val_accuracy: 0.5000\n"
          ]
        },
        {
          "output_type": "stream",
          "name": "stderr",
          "text": [
            "\r 28%|██▊       | 9/32 [00:12<00:41,  1.81s/it]04/23/2022 07:55:21 AM - INFO - Getting Keras datasets\n",
            "04/23/2022 07:55:21 AM - INFO - Compling Keras model\n",
            "04/23/2022 07:55:21 AM - INFO - Architecture:[128, 128, 128, 16, 32, 16],elu,adam,2\n"
          ]
        },
        {
          "output_type": "stream",
          "name": "stdout",
          "text": [
            "Test loss: 0.6760215759277344\n",
            "Test accuracy: 0.5\n",
            "Epoch 1/3\n",
            "2/2 [==============================] - 1s 406ms/step - loss: 0.7416 - accuracy: 0.6200 - val_loss: 0.7013 - val_accuracy: 0.5000\n",
            "Epoch 2/3\n",
            "2/2 [==============================] - 0s 279ms/step - loss: 0.7557 - accuracy: 0.6000 - val_loss: 0.8350 - val_accuracy: 0.5000\n",
            "Epoch 3/3\n",
            "2/2 [==============================] - 0s 275ms/step - loss: 0.8631 - accuracy: 0.5400 - val_loss: 0.6175 - val_accuracy: 0.6000\n"
          ]
        },
        {
          "output_type": "stream",
          "name": "stderr",
          "text": [
            "\r 31%|███▏      | 10/32 [00:15<00:49,  2.26s/it]04/23/2022 07:55:24 AM - INFO - Getting Keras datasets\n",
            "04/23/2022 07:55:24 AM - INFO - Compling Keras model\n",
            "04/23/2022 07:55:24 AM - INFO - Architecture:[32, 128, 128, 64, 32, 16],tanh,adam,4\n"
          ]
        },
        {
          "output_type": "stream",
          "name": "stdout",
          "text": [
            "Test loss: 0.6175263524055481\n",
            "Test accuracy: 0.6000000238418579\n",
            "Epoch 1/3\n",
            "2/2 [==============================] - 1s 316ms/step - loss: 1.3633 - accuracy: 0.5000 - val_loss: 0.7514 - val_accuracy: 0.5000\n",
            "Epoch 2/3\n",
            "2/2 [==============================] - 0s 152ms/step - loss: 0.9987 - accuracy: 0.5000 - val_loss: 0.8705 - val_accuracy: 0.5000\n",
            "Epoch 3/3\n",
            "2/2 [==============================] - 0s 156ms/step - loss: 0.9497 - accuracy: 0.4600 - val_loss: 0.6335 - val_accuracy: 0.7400\n"
          ]
        },
        {
          "output_type": "stream",
          "name": "stderr",
          "text": [
            "\r 34%|███▍      | 11/32 [00:17<00:45,  2.16s/it]04/23/2022 07:55:26 AM - INFO - Getting Keras datasets\n",
            "04/23/2022 07:55:26 AM - INFO - Compling Keras model\n",
            "04/23/2022 07:55:26 AM - INFO - Architecture:[128, 128, 64, 64, 32, 128],softplus,adam,3\n"
          ]
        },
        {
          "output_type": "stream",
          "name": "stdout",
          "text": [
            "Test loss: 0.6334673166275024\n",
            "Test accuracy: 0.7400000095367432\n",
            "Epoch 1/3\n",
            "2/2 [==============================] - 1s 484ms/step - loss: 3.7145 - accuracy: 0.4600 - val_loss: 1.0337 - val_accuracy: 0.5000\n",
            "Epoch 2/3\n",
            "2/2 [==============================] - 1s 317ms/step - loss: 1.7295 - accuracy: 0.4200 - val_loss: 1.1278 - val_accuracy: 0.5000\n",
            "Epoch 3/3\n",
            "2/2 [==============================] - 1s 326ms/step - loss: 1.2323 - accuracy: 0.5000 - val_loss: 0.6932 - val_accuracy: 0.5000\n"
          ]
        },
        {
          "output_type": "stream",
          "name": "stderr",
          "text": [
            "\r 38%|███▊      | 12/32 [00:21<00:51,  2.56s/it]04/23/2022 07:55:30 AM - INFO - Getting Keras datasets\n",
            "04/23/2022 07:55:30 AM - INFO - Compling Keras model\n",
            "04/23/2022 07:55:30 AM - INFO - Architecture:[16, 128, 128, 16, 64, 16],elu,adam,3\n"
          ]
        },
        {
          "output_type": "stream",
          "name": "stdout",
          "text": [
            "Test loss: 0.6931548118591309\n",
            "Test accuracy: 0.5\n",
            "Epoch 1/3\n",
            "2/2 [==============================] - 1s 290ms/step - loss: 1.2180 - accuracy: 0.5200 - val_loss: 0.7767 - val_accuracy: 0.5000\n",
            "Epoch 2/3\n",
            "2/2 [==============================] - 0s 123ms/step - loss: 0.9244 - accuracy: 0.5400 - val_loss: 0.6741 - val_accuracy: 0.5000\n",
            "Epoch 3/3\n",
            "2/2 [==============================] - 0s 125ms/step - loss: 0.6914 - accuracy: 0.6200 - val_loss: 0.7375 - val_accuracy: 0.5000\n"
          ]
        },
        {
          "output_type": "stream",
          "name": "stderr",
          "text": [
            "\r 41%|████      | 13/32 [00:22<00:44,  2.32s/it]04/23/2022 07:55:31 AM - INFO - Getting Keras datasets\n",
            "04/23/2022 07:55:31 AM - INFO - Compling Keras model\n",
            "04/23/2022 07:55:31 AM - INFO - Architecture:[128, 128, 128, 16, 32, 32],softplus,adam,3\n"
          ]
        },
        {
          "output_type": "stream",
          "name": "stdout",
          "text": [
            "Test loss: 0.7374846935272217\n",
            "Test accuracy: 0.5\n",
            "Epoch 1/3\n",
            "2/2 [==============================] - 1s 495ms/step - loss: 4.8530 - accuracy: 0.3200 - val_loss: 1.7608 - val_accuracy: 0.5000\n",
            "Epoch 2/3\n",
            "2/2 [==============================] - 1s 343ms/step - loss: 1.3129 - accuracy: 0.4800 - val_loss: 0.6978 - val_accuracy: 0.5000\n",
            "Epoch 3/3\n",
            "2/2 [==============================] - 1s 332ms/step - loss: 0.6989 - accuracy: 0.5800 - val_loss: 0.7074 - val_accuracy: 0.5000\n"
          ]
        },
        {
          "output_type": "stream",
          "name": "stderr",
          "text": [
            "\r 44%|████▍     | 14/32 [00:25<00:44,  2.46s/it]04/23/2022 07:55:34 AM - INFO - Getting Keras datasets\n",
            "04/23/2022 07:55:34 AM - INFO - Compling Keras model\n",
            "04/23/2022 07:55:34 AM - INFO - Architecture:[128, 128, 16, 128, 64, 32],softplus,adam,3\n"
          ]
        },
        {
          "output_type": "stream",
          "name": "stdout",
          "text": [
            "Test loss: 0.707377552986145\n",
            "Test accuracy: 0.5\n",
            "Epoch 1/3\n",
            "2/2 [==============================] - 1s 478ms/step - loss: 1.5473 - accuracy: 0.4800 - val_loss: 0.6943 - val_accuracy: 0.5000\n",
            "Epoch 2/3\n",
            "2/2 [==============================] - 1s 312ms/step - loss: 0.9792 - accuracy: 0.3600 - val_loss: 0.6937 - val_accuracy: 0.5000\n",
            "Epoch 3/3\n",
            "2/2 [==============================] - 1s 319ms/step - loss: 0.8746 - accuracy: 0.4600 - val_loss: 0.6933 - val_accuracy: 0.5000\n"
          ]
        },
        {
          "output_type": "stream",
          "name": "stderr",
          "text": [
            "\r 47%|████▋     | 15/32 [00:29<00:48,  2.88s/it]04/23/2022 07:55:38 AM - INFO - Getting Keras datasets\n",
            "04/23/2022 07:55:38 AM - INFO - Compling Keras model\n",
            "04/23/2022 07:55:38 AM - INFO - Architecture:[16, 128, 128, 64, 32, 128],elu,adamax,3\n"
          ]
        },
        {
          "output_type": "stream",
          "name": "stdout",
          "text": [
            "Test loss: 0.6933468580245972\n",
            "Test accuracy: 0.5\n",
            "Epoch 1/3\n",
            "2/2 [==============================] - 1s 268ms/step - loss: 0.7263 - accuracy: 0.5600 - val_loss: 1.5905 - val_accuracy: 0.5000\n",
            "Epoch 2/3\n",
            "2/2 [==============================] - 0s 130ms/step - loss: 1.0095 - accuracy: 0.5800 - val_loss: 0.6725 - val_accuracy: 0.5000\n",
            "Epoch 3/3\n",
            "2/2 [==============================] - 0s 141ms/step - loss: 0.9589 - accuracy: 0.4800 - val_loss: 0.6337 - val_accuracy: 0.5800\n"
          ]
        },
        {
          "output_type": "stream",
          "name": "stderr",
          "text": [
            "\r 50%|█████     | 16/32 [00:31<00:42,  2.67s/it]04/23/2022 07:55:40 AM - INFO - Getting Keras datasets\n",
            "04/23/2022 07:55:40 AM - INFO - Compling Keras model\n",
            "04/23/2022 07:55:40 AM - INFO - Architecture:[16, 128, 128, 128, 64, 32],elu,rmsprop,3\n"
          ]
        },
        {
          "output_type": "stream",
          "name": "stdout",
          "text": [
            "Test loss: 0.6336978673934937\n",
            "Test accuracy: 0.5799999833106995\n",
            "Epoch 1/3\n",
            "2/2 [==============================] - 1s 283ms/step - loss: 0.9441 - accuracy: 0.5000 - val_loss: 1.7836 - val_accuracy: 0.5000\n",
            "Epoch 2/3\n",
            "2/2 [==============================] - 0s 123ms/step - loss: 2.3085 - accuracy: 0.5200 - val_loss: 1.6578 - val_accuracy: 0.5000\n",
            "Epoch 3/3\n",
            "2/2 [==============================] - 0s 128ms/step - loss: 1.1969 - accuracy: 0.5600 - val_loss: 0.6518 - val_accuracy: 0.5000\n"
          ]
        },
        {
          "output_type": "stream",
          "name": "stderr",
          "text": [
            "\r 53%|█████▎    | 17/32 [00:33<00:36,  2.45s/it]04/23/2022 07:55:42 AM - INFO - Getting Keras datasets\n",
            "04/23/2022 07:55:42 AM - INFO - Compling Keras model\n",
            "04/23/2022 07:55:42 AM - INFO - Architecture:[16, 16, 128, 16, 32, 32],elu,adam,3\n"
          ]
        },
        {
          "output_type": "stream",
          "name": "stdout",
          "text": [
            "Test loss: 0.6518195867538452\n",
            "Test accuracy: 0.5\n",
            "Epoch 1/3\n",
            "2/2 [==============================] - 1s 214ms/step - loss: 0.7019 - accuracy: 0.5800 - val_loss: 0.6690 - val_accuracy: 0.7600\n",
            "Epoch 2/3\n",
            "2/2 [==============================] - 0s 72ms/step - loss: 0.6786 - accuracy: 0.5200 - val_loss: 0.6492 - val_accuracy: 0.6200\n",
            "Epoch 3/3\n",
            "2/2 [==============================] - 0s 74ms/step - loss: 0.6786 - accuracy: 0.6000 - val_loss: 0.6560 - val_accuracy: 0.5000\n",
            "Test loss: 0.6559922099113464\n",
            "Test accuracy: 0.5\n"
          ]
        },
        {
          "output_type": "stream",
          "name": "stderr",
          "text": [
            "\r 56%|█████▋    | 18/32 [00:35<00:29,  2.13s/it]04/23/2022 07:55:43 AM - INFO - Getting Keras datasets\n",
            "04/23/2022 07:55:43 AM - INFO - Compling Keras model\n",
            "04/23/2022 07:55:43 AM - INFO - Architecture:[16, 128, 32, 64, 32, 16],elu,adam,3\n"
          ]
        },
        {
          "output_type": "stream",
          "name": "stdout",
          "text": [
            "Epoch 1/3\n",
            "2/2 [==============================] - 1s 250ms/step - loss: 0.7075 - accuracy: 0.5400 - val_loss: 0.7488 - val_accuracy: 0.5000\n",
            "Epoch 2/3\n",
            "2/2 [==============================] - 0s 96ms/step - loss: 0.7566 - accuracy: 0.6000 - val_loss: 0.6440 - val_accuracy: 0.6600\n",
            "Epoch 3/3\n",
            "2/2 [==============================] - 0s 105ms/step - loss: 0.7218 - accuracy: 0.5600 - val_loss: 0.6233 - val_accuracy: 0.8200\n"
          ]
        },
        {
          "output_type": "stream",
          "name": "stderr",
          "text": [
            "\r 59%|█████▉    | 19/32 [00:36<00:25,  1.97s/it]04/23/2022 07:55:45 AM - INFO - Getting Keras datasets\n",
            "04/23/2022 07:55:45 AM - INFO - Compling Keras model\n",
            "04/23/2022 07:55:45 AM - INFO - Architecture:[32, 128, 128, 128, 32, 32],tanh,rmsprop,5\n"
          ]
        },
        {
          "output_type": "stream",
          "name": "stdout",
          "text": [
            "Test loss: 0.6233048439025879\n",
            "Test accuracy: 0.8199999928474426\n",
            "Epoch 1/3\n",
            "2/2 [==============================] - 1s 336ms/step - loss: 0.8201 - accuracy: 0.5400 - val_loss: 1.8089 - val_accuracy: 0.5000\n",
            "Epoch 2/3\n",
            "2/2 [==============================] - 0s 164ms/step - loss: 1.3144 - accuracy: 0.5000 - val_loss: 0.6958 - val_accuracy: 0.5000\n",
            "Epoch 3/3\n",
            "2/2 [==============================] - 0s 164ms/step - loss: 1.1534 - accuracy: 0.4400 - val_loss: 0.6971 - val_accuracy: 0.5000\n"
          ]
        },
        {
          "output_type": "stream",
          "name": "stderr",
          "text": [
            "\r 62%|██████▎   | 20/32 [00:39<00:26,  2.18s/it]04/23/2022 07:55:48 AM - INFO - Getting Keras datasets\n",
            "04/23/2022 07:55:48 AM - INFO - Compling Keras model\n",
            "04/23/2022 07:55:48 AM - INFO - Architecture:[16, 128, 128, 64, 32, 16],elu,adam,5\n"
          ]
        },
        {
          "output_type": "stream",
          "name": "stdout",
          "text": [
            "Test loss: 0.697075605392456\n",
            "Test accuracy: 0.5\n",
            "Epoch 1/3\n",
            "2/2 [==============================] - 1s 289ms/step - loss: 0.8390 - accuracy: 0.3400 - val_loss: 0.7101 - val_accuracy: 0.5000\n",
            "Epoch 2/3\n",
            "2/2 [==============================] - 0s 128ms/step - loss: 0.7362 - accuracy: 0.6200 - val_loss: 0.6598 - val_accuracy: 0.5000\n",
            "Epoch 3/3\n",
            "2/2 [==============================] - 0s 128ms/step - loss: 0.9511 - accuracy: 0.4400 - val_loss: 0.6350 - val_accuracy: 0.7200\n"
          ]
        },
        {
          "output_type": "stream",
          "name": "stderr",
          "text": [
            "\r 66%|██████▌   | 21/32 [00:41<00:22,  2.09s/it]04/23/2022 07:55:50 AM - INFO - Getting Keras datasets\n",
            "04/23/2022 07:55:50 AM - INFO - Compling Keras model\n",
            "04/23/2022 07:55:50 AM - INFO - Architecture:[32, 128, 128, 64, 32, 16],relu,sgd,4\n"
          ]
        },
        {
          "output_type": "stream",
          "name": "stdout",
          "text": [
            "Test loss: 0.6350096464157104\n",
            "Test accuracy: 0.7200000286102295\n",
            "Epoch 1/3\n",
            "2/2 [==============================] - 1s 302ms/step - loss: 0.6994 - accuracy: 0.4400 - val_loss: 0.6932 - val_accuracy: 0.5000\n",
            "Epoch 2/3\n",
            "2/2 [==============================] - 0s 148ms/step - loss: 0.6896 - accuracy: 0.5400 - val_loss: 0.6932 - val_accuracy: 0.5400\n",
            "Epoch 3/3\n",
            "2/2 [==============================] - 0s 149ms/step - loss: 0.6923 - accuracy: 0.5800 - val_loss: 0.6929 - val_accuracy: 0.5400\n"
          ]
        },
        {
          "output_type": "stream",
          "name": "stderr",
          "text": [
            "\r 69%|██████▉   | 22/32 [00:43<00:21,  2.12s/it]04/23/2022 07:55:52 AM - INFO - Getting Keras datasets\n",
            "04/23/2022 07:55:52 AM - INFO - Compling Keras model\n",
            "04/23/2022 07:55:52 AM - INFO - Architecture:[64, 64, 128, 128, 32, 32],elu,rmsprop,3\n"
          ]
        },
        {
          "output_type": "stream",
          "name": "stdout",
          "text": [
            "Test loss: 0.6929460167884827\n",
            "Test accuracy: 0.5400000214576721\n",
            "Epoch 1/3\n",
            "2/2 [==============================] - 2s 306ms/step - loss: 0.9808 - accuracy: 0.5400 - val_loss: 3.8569 - val_accuracy: 0.5000\n",
            "Epoch 2/3\n",
            "2/2 [==============================] - 0s 166ms/step - loss: 4.5711 - accuracy: 0.4800 - val_loss: 1.2655 - val_accuracy: 0.5000\n",
            "Epoch 3/3\n",
            "2/2 [==============================] - 0s 158ms/step - loss: 1.2935 - accuracy: 0.4600 - val_loss: 0.6731 - val_accuracy: 0.5000\n"
          ]
        },
        {
          "output_type": "stream",
          "name": "stderr",
          "text": [
            "\r 72%|███████▏  | 23/32 [00:46<00:20,  2.32s/it]04/23/2022 07:55:55 AM - INFO - Getting Keras datasets\n",
            "04/23/2022 07:55:55 AM - INFO - Compling Keras model\n",
            "04/23/2022 07:55:55 AM - INFO - Architecture:[16, 128, 128, 16, 128, 32],elu,rmsprop,3\n"
          ]
        },
        {
          "output_type": "stream",
          "name": "stdout",
          "text": [
            "Test loss: 0.6731092929840088\n",
            "Test accuracy: 0.5\n",
            "Epoch 1/3\n",
            "2/2 [==============================] - 1s 278ms/step - loss: 1.3583 - accuracy: 0.4600 - val_loss: 3.1399 - val_accuracy: 0.5000\n",
            "Epoch 2/3\n",
            "2/2 [==============================] - 0s 124ms/step - loss: 3.9288 - accuracy: 0.4000 - val_loss: 2.0506 - val_accuracy: 0.5000\n",
            "Epoch 3/3\n",
            "2/2 [==============================] - 0s 119ms/step - loss: 1.3637 - accuracy: 0.5000 - val_loss: 0.6550 - val_accuracy: 0.6000\n"
          ]
        },
        {
          "output_type": "stream",
          "name": "stderr",
          "text": [
            "\r 75%|███████▌  | 24/32 [00:48<00:17,  2.20s/it]04/23/2022 07:55:57 AM - INFO - Getting Keras datasets\n",
            "04/23/2022 07:55:57 AM - INFO - Compling Keras model\n",
            "04/23/2022 07:55:57 AM - INFO - Architecture:[32, 128, 16, 64, 128, 16],elu,rmsprop,4\n"
          ]
        },
        {
          "output_type": "stream",
          "name": "stdout",
          "text": [
            "Test loss: 0.6549798846244812\n",
            "Test accuracy: 0.6000000238418579\n",
            "Epoch 1/3\n",
            "2/2 [==============================] - 1s 296ms/step - loss: 0.8470 - accuracy: 0.3600 - val_loss: 1.3754 - val_accuracy: 0.5000\n",
            "Epoch 2/3\n",
            "2/2 [==============================] - 0s 141ms/step - loss: 1.1412 - accuracy: 0.5000 - val_loss: 0.6720 - val_accuracy: 0.5000\n",
            "Epoch 3/3\n",
            "2/2 [==============================] - 0s 131ms/step - loss: 0.7047 - accuracy: 0.5000 - val_loss: 0.6599 - val_accuracy: 0.6000\n"
          ]
        },
        {
          "output_type": "stream",
          "name": "stderr",
          "text": [
            "\r 78%|███████▊  | 25/32 [00:50<00:16,  2.30s/it]04/23/2022 07:55:59 AM - INFO - Getting Keras datasets\n",
            "04/23/2022 07:55:59 AM - INFO - Compling Keras model\n",
            "04/23/2022 07:55:59 AM - INFO - Architecture:[16, 64, 128, 128, 32, 32],elu,adam,3\n"
          ]
        },
        {
          "output_type": "stream",
          "name": "stdout",
          "text": [
            "Test loss: 0.6598724126815796\n",
            "Test accuracy: 0.6000000238418579\n",
            "Epoch 1/3\n",
            "2/2 [==============================] - 1s 253ms/step - loss: 0.7201 - accuracy: 0.5400 - val_loss: 0.7133 - val_accuracy: 0.5000\n",
            "Epoch 2/3\n",
            "2/2 [==============================] - 0s 84ms/step - loss: 0.9304 - accuracy: 0.5200 - val_loss: 0.7302 - val_accuracy: 0.5000\n",
            "Epoch 3/3\n",
            "2/2 [==============================] - 0s 88ms/step - loss: 0.6459 - accuracy: 0.6000 - val_loss: 0.6103 - val_accuracy: 0.7800\n"
          ]
        },
        {
          "output_type": "stream",
          "name": "stderr",
          "text": [
            "\r 81%|████████▏ | 26/32 [00:52<00:12,  2.06s/it]04/23/2022 07:56:01 AM - INFO - Getting Keras datasets\n",
            "04/23/2022 07:56:01 AM - INFO - Compling Keras model\n",
            "04/23/2022 07:56:01 AM - INFO - Architecture:[32, 128, 128, 64, 32, 128],elu,adam,4\n"
          ]
        },
        {
          "output_type": "stream",
          "name": "stdout",
          "text": [
            "Test loss: 0.610298216342926\n",
            "Test accuracy: 0.7799999713897705\n",
            "Epoch 1/3\n",
            "2/2 [==============================] - 1s 321ms/step - loss: 1.0363 - accuracy: 0.5000 - val_loss: 0.9732 - val_accuracy: 0.5000\n",
            "Epoch 2/3\n",
            "2/2 [==============================] - 0s 168ms/step - loss: 0.9554 - accuracy: 0.5000 - val_loss: 0.6816 - val_accuracy: 0.5000\n",
            "Epoch 3/3\n",
            "2/2 [==============================] - 0s 152ms/step - loss: 0.6522 - accuracy: 0.6400 - val_loss: 0.6604 - val_accuracy: 0.5200\n"
          ]
        },
        {
          "output_type": "stream",
          "name": "stderr",
          "text": [
            "\r 84%|████████▍ | 27/32 [00:54<00:10,  2.12s/it]04/23/2022 07:56:03 AM - INFO - Getting Keras datasets\n",
            "04/23/2022 07:56:03 AM - INFO - Compling Keras model\n",
            "04/23/2022 07:56:03 AM - INFO - Architecture:[32, 128, 16, 64, 128, 16],elu,adam,5\n"
          ]
        },
        {
          "output_type": "stream",
          "name": "stdout",
          "text": [
            "Test loss: 0.6604142785072327\n",
            "Test accuracy: 0.5199999809265137\n",
            "Epoch 1/3\n",
            "2/2 [==============================] - 1s 305ms/step - loss: 0.7448 - accuracy: 0.3600 - val_loss: 0.6895 - val_accuracy: 0.5400\n",
            "Epoch 2/3\n",
            "2/2 [==============================] - 0s 131ms/step - loss: 0.7317 - accuracy: 0.5800 - val_loss: 0.6964 - val_accuracy: 0.5000\n",
            "Epoch 3/3\n",
            "2/2 [==============================] - 0s 132ms/step - loss: 0.7827 - accuracy: 0.4600 - val_loss: 0.6940 - val_accuracy: 0.5000\n"
          ]
        },
        {
          "output_type": "stream",
          "name": "stderr",
          "text": [
            "\r 88%|████████▊ | 28/32 [00:56<00:08,  2.06s/it]04/23/2022 07:56:05 AM - INFO - Getting Keras datasets\n",
            "04/23/2022 07:56:05 AM - INFO - Compling Keras model\n",
            "04/23/2022 07:56:05 AM - INFO - Architecture:[32, 128, 128, 32, 64, 32],tanh,rmsprop,5\n"
          ]
        },
        {
          "output_type": "stream",
          "name": "stdout",
          "text": [
            "Test loss: 0.6940338015556335\n",
            "Test accuracy: 0.5\n",
            "Epoch 1/3\n",
            "2/2 [==============================] - 1s 322ms/step - loss: 0.7577 - accuracy: 0.5200 - val_loss: 0.9367 - val_accuracy: 0.5000\n",
            "Epoch 2/3\n",
            "2/2 [==============================] - 0s 148ms/step - loss: 1.1231 - accuracy: 0.5000 - val_loss: 0.9528 - val_accuracy: 0.5000\n",
            "Epoch 3/3\n",
            "2/2 [==============================] - 0s 152ms/step - loss: 0.9600 - accuracy: 0.5400 - val_loss: 0.7061 - val_accuracy: 0.5000\n"
          ]
        },
        {
          "output_type": "stream",
          "name": "stderr",
          "text": [
            "\r 91%|█████████ | 29/32 [00:59<00:06,  2.25s/it]04/23/2022 07:56:07 AM - INFO - Getting Keras datasets\n",
            "04/23/2022 07:56:07 AM - INFO - Compling Keras model\n",
            "04/23/2022 07:56:07 AM - INFO - Architecture:[16, 128, 128, 64, 32, 16],elu,adam,4\n"
          ]
        },
        {
          "output_type": "stream",
          "name": "stdout",
          "text": [
            "Test loss: 0.7060810923576355\n",
            "Test accuracy: 0.5\n",
            "Epoch 1/3\n",
            "2/2 [==============================] - 1s 287ms/step - loss: 0.7395 - accuracy: 0.5400 - val_loss: 0.8438 - val_accuracy: 0.5000\n",
            "Epoch 2/3\n",
            "2/2 [==============================] - 0s 144ms/step - loss: 0.8432 - accuracy: 0.4800 - val_loss: 0.6711 - val_accuracy: 0.5000\n",
            "Epoch 3/3\n",
            "2/2 [==============================] - 0s 128ms/step - loss: 0.6591 - accuracy: 0.6200 - val_loss: 0.6604 - val_accuracy: 0.5200\n"
          ]
        },
        {
          "output_type": "stream",
          "name": "stderr",
          "text": [
            "\r 94%|█████████▍| 30/32 [01:01<00:04,  2.23s/it]04/23/2022 07:56:10 AM - INFO - Getting Keras datasets\n",
            "04/23/2022 07:56:10 AM - INFO - Compling Keras model\n",
            "04/23/2022 07:56:10 AM - INFO - Architecture:[32, 128, 128, 128, 64, 32],relu,adam,4\n"
          ]
        },
        {
          "output_type": "stream",
          "name": "stdout",
          "text": [
            "Test loss: 0.6604015827178955\n",
            "Test accuracy: 0.5199999809265137\n",
            "Epoch 1/3\n",
            "2/2 [==============================] - 1s 312ms/step - loss: 0.7303 - accuracy: 0.4200 - val_loss: 0.6917 - val_accuracy: 0.5000\n",
            "Epoch 2/3\n",
            "2/2 [==============================] - 0s 160ms/step - loss: 0.6969 - accuracy: 0.5600 - val_loss: 0.6926 - val_accuracy: 0.5000\n",
            "Epoch 3/3\n",
            "2/2 [==============================] - 0s 157ms/step - loss: 0.6927 - accuracy: 0.5600 - val_loss: 0.6972 - val_accuracy: 0.5000\n"
          ]
        },
        {
          "output_type": "stream",
          "name": "stderr",
          "text": [
            "\r 97%|█████████▋| 31/32 [01:03<00:02,  2.24s/it]04/23/2022 07:56:12 AM - INFO - Getting Keras datasets\n",
            "04/23/2022 07:56:12 AM - INFO - Compling Keras model\n",
            "04/23/2022 07:56:12 AM - INFO - Architecture:[16, 128, 128, 64, 32, 128],elu,adam,5\n"
          ]
        },
        {
          "output_type": "stream",
          "name": "stdout",
          "text": [
            "Test loss: 0.6971975564956665\n",
            "Test accuracy: 0.5\n",
            "Epoch 1/3\n",
            "2/2 [==============================] - 1s 293ms/step - loss: 0.9162 - accuracy: 0.4400 - val_loss: 0.6923 - val_accuracy: 0.5000\n",
            "Epoch 2/3\n",
            "2/2 [==============================] - 0s 135ms/step - loss: 0.7985 - accuracy: 0.3800 - val_loss: 0.7113 - val_accuracy: 0.5000\n",
            "Epoch 3/3\n",
            "2/2 [==============================] - 0s 128ms/step - loss: 0.7399 - accuracy: 0.5000 - val_loss: 0.6857 - val_accuracy: 0.5000\n"
          ]
        },
        {
          "output_type": "stream",
          "name": "stderr",
          "text": [
            "100%|██████████| 32/32 [01:05<00:00,  2.06s/it]\n",
            "04/23/2022 07:56:14 AM - INFO - Generation average: 58.63%\n",
            "04/23/2022 07:56:14 AM - INFO - --------------------------------------------------------------------------------\n",
            "04/23/2022 07:56:14 AM - INFO - --------------------------------------------------------------------------------\n",
            "04/23/2022 07:56:14 AM - INFO - {'activation': 'elu', 'nb_layers': 3, 'optimizer': 'adam', 'nb_neurons': [16, 128, 128, 16, 32, 32]}\n",
            "04/23/2022 07:56:14 AM - INFO - Acc: 82.00%\n",
            "04/23/2022 07:56:14 AM - INFO - UniID: 109\n",
            "04/23/2022 07:56:14 AM - INFO - Mom and Dad: 88 103\n",
            "04/23/2022 07:56:14 AM - INFO - Gen: 5\n",
            "04/23/2022 07:56:14 AM - INFO - Hash: 34da56a24f5575b4c615a3d5a1882cc6\n",
            "04/23/2022 07:56:14 AM - INFO - {'activation': 'tanh', 'nb_layers': 5, 'optimizer': 'adam', 'nb_neurons': [32, 128, 128, 64, 32, 16]}\n",
            "04/23/2022 07:56:14 AM - INFO - Acc: 82.00%\n",
            "04/23/2022 07:56:14 AM - INFO - UniID: 155\n",
            "04/23/2022 07:56:14 AM - INFO - Mom and Dad: 127 103\n",
            "04/23/2022 07:56:14 AM - INFO - Gen: 6\n",
            "04/23/2022 07:56:14 AM - INFO - Hash: 8732f7cd8dc59d800616f123ecea454a\n",
            "04/23/2022 07:56:14 AM - INFO - {'activation': 'elu', 'nb_layers': 3, 'optimizer': 'adam', 'nb_neurons': [16, 128, 32, 64, 32, 16]}\n",
            "04/23/2022 07:56:14 AM - INFO - Acc: 82.00%\n",
            "04/23/2022 07:56:14 AM - INFO - UniID: 195\n",
            "04/23/2022 07:56:14 AM - INFO - Mom and Dad: 88 155\n",
            "04/23/2022 07:56:14 AM - INFO - Gen: 8\n",
            "04/23/2022 07:56:14 AM - INFO - Hash: a9184421dbca77a29b5c061f797c82d1\n",
            "04/23/2022 07:56:14 AM - INFO - {'activation': 'elu', 'nb_layers': 3, 'optimizer': 'rmsprop', 'nb_neurons': [16, 128, 128, 128, 32, 32]}\n",
            "04/23/2022 07:56:14 AM - INFO - Acc: 80.00%\n",
            "04/23/2022 07:56:14 AM - INFO - UniID: 88\n",
            "04/23/2022 07:56:14 AM - INFO - Mom and Dad: 13 45\n",
            "04/23/2022 07:56:14 AM - INFO - Gen: 4\n",
            "04/23/2022 07:56:14 AM - INFO - Hash: c627de4f905f59973e1f678895f96a32\n",
            "04/23/2022 07:56:14 AM - INFO - {'activation': 'elu', 'nb_layers': 5, 'optimizer': 'adam', 'nb_neurons': [32, 128, 128, 64, 32, 16]}\n",
            "04/23/2022 07:56:14 AM - INFO - Acc: 80.00%\n",
            "04/23/2022 07:56:14 AM - INFO - UniID: 103\n",
            "04/23/2022 07:56:14 AM - INFO - Mom and Dad: 13 45\n",
            "04/23/2022 07:56:14 AM - INFO - Gen: 4\n",
            "04/23/2022 07:56:14 AM - INFO - Hash: 4e7e7b08d413effed579b6f0f2c5ae8a\n"
          ]
        },
        {
          "output_type": "stream",
          "name": "stdout",
          "text": [
            "Test loss: 0.6857302188873291\n",
            "Test accuracy: 0.5\n"
          ]
        }
      ]
    },
    {
      "cell_type": "markdown",
      "source": [
        "BELOW"
      ],
      "metadata": {
        "id": "7Ffa_BCB3whS"
      }
    },
    {
      "cell_type": "code",
      "source": [
        "nb_classes, batch_size, input_shape, x_train, x_test, y_train, y_test, epochs=get_images()"
      ],
      "metadata": {
        "id": "lDVhJi5J0oOL"
      },
      "execution_count": null,
      "outputs": []
    },
    {
      "cell_type": "code",
      "source": [
        "# CNN model\n",
        "\n",
        "model = Sequential()\n",
        "model.add(Conv2D(16, kernel_size = (3, 3), activation = 'elu', padding='same', input_shape = input_shape))\n",
        "model.add(Conv2D(128, kernel_size = (3, 3), activation = 'elu'))\n",
        "model.add(Conv2D(128, kernel_size = (3, 3), activation = 'elu'))\n",
        "model.add(MaxPooling2D(pool_size=(2, 2)))\n",
        "model.add(MaxPooling2D(pool_size=(2, 2)))\n",
        "model.add(Dropout(0.2))\n",
        "model.add(Flatten())\n",
        "model.add(Dense(32, activation = 'elu'))\n",
        "model.add(Dropout(0.5))\n",
        "model.add(Dense(2, activation = 'softmax'))\n",
        "model.compile(loss='sparse_categorical_crossentropy',\n",
        "              optimizer='adam',\n",
        "              metrics=['accuracy'])"
      ],
      "metadata": {
        "id": "Fu89Dr_MzLnT"
      },
      "execution_count": null,
      "outputs": []
    },
    {
      "cell_type": "code",
      "source": [
        "model.fit(x_train,y_train,epochs=10)"
      ],
      "metadata": {
        "colab": {
          "base_uri": "https://localhost:8080/"
        },
        "id": "ahxR24OM05f7",
        "outputId": "acf2857f-a3e3-4e23-f412-4d194a1dac42"
      },
      "execution_count": null,
      "outputs": [
        {
          "output_type": "stream",
          "name": "stdout",
          "text": [
            "Epoch 1/10\n",
            "2/2 [==============================] - 0s 20ms/step - loss: 0.8830 - accuracy: 0.5200\n",
            "Epoch 2/10\n",
            "2/2 [==============================] - 0s 20ms/step - loss: 0.6488 - accuracy: 0.6600\n",
            "Epoch 3/10\n",
            "2/2 [==============================] - 0s 19ms/step - loss: 0.7095 - accuracy: 0.5600\n",
            "Epoch 4/10\n",
            "2/2 [==============================] - 0s 19ms/step - loss: 0.4301 - accuracy: 0.8400\n",
            "Epoch 5/10\n",
            "2/2 [==============================] - 0s 20ms/step - loss: 0.4432 - accuracy: 0.7600\n",
            "Epoch 6/10\n",
            "2/2 [==============================] - 0s 20ms/step - loss: 0.3751 - accuracy: 0.8600\n",
            "Epoch 7/10\n",
            "2/2 [==============================] - 0s 17ms/step - loss: 0.3264 - accuracy: 0.8400\n",
            "Epoch 8/10\n",
            "2/2 [==============================] - 0s 19ms/step - loss: 0.2762 - accuracy: 0.8800\n",
            "Epoch 9/10\n",
            "2/2 [==============================] - 0s 17ms/step - loss: 0.2429 - accuracy: 0.9200\n",
            "Epoch 10/10\n",
            "2/2 [==============================] - 0s 19ms/step - loss: 0.2666 - accuracy: 0.9000\n"
          ]
        },
        {
          "output_type": "execute_result",
          "data": {
            "text/plain": [
              "<keras.callbacks.History at 0x7f762e0b6110>"
            ]
          },
          "metadata": {},
          "execution_count": 48
        }
      ]
    },
    {
      "cell_type": "code",
      "source": [
        "import matplotlib.pyplot as plt"
      ],
      "metadata": {
        "id": "_FZHp9001GJS"
      },
      "execution_count": null,
      "outputs": []
    },
    {
      "cell_type": "code",
      "source": [
        "plt.imshow(x_test[10])"
      ],
      "metadata": {
        "colab": {
          "base_uri": "https://localhost:8080/",
          "height": 283
        },
        "id": "LQwPZ0wD1Kyr",
        "outputId": "d993d518-3761-41bc-a53c-7ec8d3d4fe48"
      },
      "execution_count": null,
      "outputs": [
        {
          "output_type": "execute_result",
          "data": {
            "text/plain": [
              "<matplotlib.image.AxesImage at 0x7f762e02f890>"
            ]
          },
          "metadata": {},
          "execution_count": 50
        },
        {
          "output_type": "display_data",
          "data": {
            "text/plain": [
              "<Figure size 432x288 with 1 Axes>"
            ],
            "image/png": "[encoded data removed]"
          },
          "metadata": {
            "needs_background": "light"
          }
        }
      ]
    },
    {
      "cell_type": "code",
      "source": [
        "y_test[10]"
      ],
      "metadata": {
        "colab": {
          "base_uri": "https://localhost:8080/"
        },
        "id": "9-8M5Xo41Qqi",
        "outputId": "92785fd5-e984-4a68-e96f-326a567dcef8"
      },
      "execution_count": null,
      "outputs": [
        {
          "output_type": "execute_result",
          "data": {
            "text/plain": [
              "0"
            ]
          },
          "metadata": {},
          "execution_count": 51
        }
      ]
    },
    {
      "cell_type": "code",
      "source": [
        "model.evaluate(x_test,y_test)[1]"
      ],
      "metadata": {
        "colab": {
          "base_uri": "https://localhost:8080/"
        },
        "id": "SXE_jzU13XYK",
        "outputId": "2833863e-8446-47d0-b8ae-f434b9dc35e2"
      },
      "execution_count": null,
      "outputs": [
        {
          "output_type": "stream",
          "name": "stdout",
          "text": [
            "2/2 [==============================] - 0s 11ms/step - loss: 0.3987 - accuracy: 0.8000\n"
          ]
        },
        {
          "output_type": "execute_result",
          "data": {
            "text/plain": [
              "0.800000011920929"
            ]
          },
          "metadata": {},
          "execution_count": 57
        }
      ]
    },
    {
      "cell_type": "code",
      "source": [
        "model.predict(x_test[10].reshape(1,32,32,3))"
      ],
      "metadata": {
        "colab": {
          "base_uri": "https://localhost:8080/"
        },
        "id": "qVfGvxjR1Dua",
        "outputId": "a3f19eb0-768e-4b2c-c0b3-e0c1539a466d"
      },
      "execution_count": null,
      "outputs": [
        {
          "output_type": "execute_result",
          "data": {
            "text/plain": [
              "array([[0.727493  , 0.27250698]], dtype=float32)"
            ]
          },
          "metadata": {},
          "execution_count": 53
        }
      ]
    },
    {
      "cell_type": "code",
      "source": [
        "np.argmax(model.predict(x_test[10].reshape(1,32,32,3)))"
      ],
      "metadata": {
        "colab": {
          "base_uri": "https://localhost:8080/"
        },
        "id": "SwRAW_Cj3qMa",
        "outputId": "e1b39b77-4ab9-4a4a-fde4-ae48a48af4a8"
      },
      "execution_count": null,
      "outputs": [
        {
          "output_type": "execute_result",
          "data": {
            "text/plain": [
              "0"
            ]
          },
          "metadata": {},
          "execution_count": 54
        }
      ]
    },
    {
      "cell_type": "code",
      "source": [
        "epoc=[3,10,15,20]\n",
        "test_acc=[]\n",
        "for i in range(0,4):\n",
        "  model.fit(x_train,y_train,epochs=epoc[i],verbose=0)\n",
        "  test_acc.append(model.evaluate(x_test,y_test)[1])"
      ],
      "metadata": {
        "colab": {
          "base_uri": "https://localhost:8080/"
        },
        "id": "9hjgvFcy4y8q",
        "outputId": "49e62609-5539-4757-a91b-f885fb7b564b"
      },
      "execution_count": null,
      "outputs": [
        {
          "output_type": "stream",
          "name": "stdout",
          "text": [
            "2/2 [==============================] - 0s 13ms/step - loss: 0.6379 - accuracy: 0.5000\n",
            "2/2 [==============================] - 0s 13ms/step - loss: 0.4264 - accuracy: 0.8400\n",
            "2/2 [==============================] - 0s 10ms/step - loss: 0.3970 - accuracy: 0.8600\n",
            "2/2 [==============================] - 0s 12ms/step - loss: 0.5665 - accuracy: 0.8200\n"
          ]
        }
      ]
    },
    {
      "cell_type": "code",
      "source": [
        "test_acc"
      ],
      "metadata": {
        "colab": {
          "base_uri": "https://localhost:8080/"
        },
        "id": "qnl5eA9y5VoM",
        "outputId": "798049bb-2440-4141-e131-2efef5c5ad04"
      },
      "execution_count": null,
      "outputs": [
        {
          "output_type": "execute_result",
          "data": {
            "text/plain": [
              "[0.5, 0.8399999737739563, 0.8600000143051147, 0.8199999928474426]"
            ]
          },
          "metadata": {},
          "execution_count": 62
        }
      ]
    },
    {
      "cell_type": "code",
      "source": [
        "plt.plot(epoc,test_acc)"
      ],
      "metadata": {
        "colab": {
          "base_uri": "https://localhost:8080/",
          "height": 282
        },
        "id": "RrmSN9SM5dLp",
        "outputId": "2f53f05c-e9f8-4bfa-a709-4f1cb84d6b82"
      },
      "execution_count": null,
      "outputs": [
        {
          "output_type": "execute_result",
          "data": {
            "text/plain": [
              "[<matplotlib.lines.Line2D at 0x7f762dbbdf90>]"
            ]
          },
          "metadata": {},
          "execution_count": 65
        },
        {
          "output_type": "display_data",
          "data": {
            "text/plain": [
              "<Figure size 432x288 with 1 Axes>"
            ],
            "image/png": "[encoded data removed]"
          },
          "metadata": {
            "needs_background": "light"
          }
        }
      ]
    },
    {
      "cell_type": "code",
      "source": [
        "pred=model.predict(x_test)"
      ],
      "metadata": {
        "id": "XYYNkWg65nDJ"
      },
      "execution_count": null,
      "outputs": []
    },
    {
      "cell_type": "code",
      "source": [
        "conf=[]\n",
        "for i in pred:\n",
        "  conf.append(np.argmax(i))"
      ],
      "metadata": {
        "id": "ZtIg7dpc5siB"
      },
      "execution_count": null,
      "outputs": []
    },
    {
      "cell_type": "code",
      "source": [
        "from sklearn.metrics import confusion_matrix\n",
        "confusion=confusion_matrix(y_test,conf)"
      ],
      "metadata": {
        "id": "iIhlhE7N6GVq"
      },
      "execution_count": null,
      "outputs": []
    },
    {
      "cell_type": "code",
      "source": [
        "import seaborn as snNew\n",
        "snNew.heatmap(confusion,annot=True)"
      ],
      "metadata": {
        "colab": {
          "base_uri": "https://localhost:8080/",
          "height": 282
        },
        "id": "9EPEWRVQ6ML8",
        "outputId": "bfa832d7-96c5-4e5b-abc1-e3a95b7be63f"
      },
      "execution_count": null,
      "outputs": [
        {
          "output_type": "execute_result",
          "data": {
            "text/plain": [
              "<matplotlib.axes._subplots.AxesSubplot at 0x7f762aff4310>"
            ]
          },
          "metadata": {},
          "execution_count": 72
        },
        {
          "output_type": "display_data",
          "data": {
            "text/plain": [
              "<Figure size 432x288 with 2 Axes>"
            ],
            "image/png": "[encoded data removed]"
          },
          "metadata": {
            "needs_background": "light"
          }
        }
      ]
    }
  ]
}