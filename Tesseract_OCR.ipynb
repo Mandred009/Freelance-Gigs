{
  "nbformat": 4,
  "nbformat_minor": 0,
  "metadata": {
    "colab": {
      "name": "Tesseract OCR",
      "provenance": [],
      "mount_file_id": "11l59C-bhip_9dHHZQ4SCeyfa9vjvOxkk",
      "authorship_tag": "ABX9TyP5NrT76BLnWBujWfQmP6RI",
      "include_colab_link": true
    },
    "kernelspec": {
      "name": "python3",
      "display_name": "Python 3"
    },
    "language_info": {
      "name": "python"
    }
  },
  "cells": [
    {
      "cell_type": "markdown",
      "metadata": {
        "id": "view-in-github",
        "colab_type": "text"
      },
      "source": [
        "<a href=\"https://colab.research.google.com/github/Mandred009/Mandred009/blob/main/Tesseract_OCR.ipynb\" target=\"_parent\"><img src=\"https://colab.research.google.com/assets/colab-badge.svg\" alt=\"Open In Colab\"/></a>"
      ]
    },
    {
      "cell_type": "code",
      "metadata": {
        "id": "ICamS7Gc_Cb_"
      },
      "source": [
        "%matplotlib inline"
      ],
      "execution_count": 101,
      "outputs": []
    },
    {
      "cell_type": "code",
      "metadata": {
        "id": "ZLNeMRbr_HG4",
        "outputId": "9727168e-b9b4-4eea-da78-94ff44dc7342",
        "colab": {
          "base_uri": "https://localhost:8080/"
        }
      },
      "source": [
        "!pip install tesseract-ocr\n",
        "!pip install pytesseract"
      ],
      "execution_count": 111,
      "outputs": [
        {
          "output_type": "stream",
          "name": "stdout",
          "text": [
            "Collecting tesseract-ocr\n",
            "  Using cached tesseract-ocr-0.0.1.tar.gz (33 kB)\n",
            "Requirement already satisfied: cython in /usr/local/lib/python3.7/dist-packages (from tesseract-ocr) (0.29.27)\n",
            "Building wheels for collected packages: tesseract-ocr\n",
            "  Building wheel for tesseract-ocr (setup.py) ... \u001b[?25lerror\n",
            "\u001b[31m  ERROR: Failed building wheel for tesseract-ocr\u001b[0m\n",
            "\u001b[?25h  Running setup.py clean for tesseract-ocr\n",
            "Failed to build tesseract-ocr\n",
            "Installing collected packages: tesseract-ocr\n",
            "    Running setup.py install for tesseract-ocr ... \u001b[?25l\u001b[?25herror\n",
            "\u001b[31mERROR: Command errored out with exit status 1: /usr/bin/python3 -u -c 'import io, os, sys, setuptools, tokenize; sys.argv[0] = '\"'\"'/tmp/pip-install-jqa4zfpc/tesseract-ocr_2556c64478a24c3bb7c556d198110a55/setup.py'\"'\"'; __file__='\"'\"'/tmp/pip-install-jqa4zfpc/tesseract-ocr_2556c64478a24c3bb7c556d198110a55/setup.py'\"'\"';f = getattr(tokenize, '\"'\"'open'\"'\"', open)(__file__) if os.path.exists(__file__) else io.StringIO('\"'\"'from setuptools import setup; setup()'\"'\"');code = f.read().replace('\"'\"'\\r\\n'\"'\"', '\"'\"'\\n'\"'\"');f.close();exec(compile(code, __file__, '\"'\"'exec'\"'\"'))' install --record /tmp/pip-record-rm2rr43c/install-record.txt --single-version-externally-managed --compile --install-headers /usr/local/include/python3.7/tesseract-ocr Check the logs for full command output.\u001b[0m\n",
            "Requirement already satisfied: pytesseract in /usr/local/lib/python3.7/dist-packages (0.3.8)\n",
            "Requirement already satisfied: Pillow in /usr/local/lib/python3.7/dist-packages (from pytesseract) (7.1.2)\n"
          ]
        }
      ]
    },
    {
      "cell_type": "code",
      "source": [
        "pytesseract.pytesseract.tesseract_cmd = (\n",
        "    r'/usr/bin/tesseract'\n",
        ")"
      ],
      "metadata": {
        "id": "rj8x8XEWXXeq"
      },
      "execution_count": 119,
      "outputs": []
    },
    {
      "cell_type": "code",
      "metadata": {
        "id": "jSXjuUCl_HDW"
      },
      "source": [
        "import pytesseract\n",
        "import shutil\n",
        "import os\n",
        "import random\n",
        "try:\n",
        " from PIL import Image\n",
        "except ImportError:\n",
        " import Image"
      ],
      "execution_count": 112,
      "outputs": []
    },
    {
      "cell_type": "code",
      "metadata": {
        "id": "KBHqTTNf_HBd"
      },
      "source": [
        "import matplotlib.pyplot as plt\n",
        "import cv2"
      ],
      "execution_count": 113,
      "outputs": []
    },
    {
      "cell_type": "code",
      "metadata": {
        "id": "lrYjhcfA_G_3"
      },
      "source": [
        "im = cv2.imread(\"/content/drive/MyDrive/first.png\", cv2.IMREAD_COLOR)"
      ],
      "execution_count": 114,
      "outputs": []
    },
    {
      "cell_type": "code",
      "metadata": {
        "id": "vSb57v3D_G7y",
        "outputId": "a2730f43-b6f5-42b6-b369-48370c622293",
        "colab": {
          "base_uri": "https://localhost:8080/",
          "height": 268
        }
      },
      "source": [
        "im = cv2.bitwise_not(im)\n",
        "plt.imshow(im)\n",
        "plt.show()"
      ],
      "execution_count": 115,
      "outputs": [
        {
          "output_type": "display_data",
          "data": {
            "image/png": "[encoded data removed]",
            "text/plain": [
              "<Figure size 432x288 with 1 Axes>"
            ]
          },
          "metadata": {
            "needs_background": "light"
          }
        }
      ]
    },
    {
      "cell_type": "code",
      "metadata": {
        "id": "qYjHZti3_G5-",
        "outputId": "cd793f5f-04a6-4415-f5f8-938ee4e545ec",
        "colab": {
          "base_uri": "https://localhost:8080/"
        }
      },
      "source": [
        "image_path_in_colab=\"/content/drive/MyDrive/first.png\"\n",
        "extract = pytesseract.image_to_string(Image.open(image_path_in_colab))\n",
        "print(extract)\n",
        "#type(extract)"
      ],
      "execution_count": 120,
      "outputs": [
        {
          "output_type": "stream",
          "name": "stdout",
          "text": [
            "DIA3762\n",
            "DIA 315\n",
            "\n",
            "poe\n",
            "\n",
            " \n",
            "\n",
            " \n",
            "\n",
            " \n",
            "\n",
            "5713\n",
            "\n",
            "2032 —\n",
            "I\n",
            "\n",
            "4382.\n",
            "\n",
            "-\n",
            "\n",
            " \n",
            "\n",
            "3128.\n",
            "\n",
            " \n",
            "\n",
            "[=-01a 1565+\n",
            "\n",
            " \n",
            "\n",
            " \n",
            "\n",
            " \n",
            "\n",
            " \n",
            "\n",
            " \n",
            "\n",
            " \n",
            "\n",
            " \n",
            "\n",
            " \n",
            "\n",
            " \n",
            "\n",
            " \n",
            "\n",
            "6235 |\n",
            "\n",
            "OPPOSITE\n",
            "DIMENSION\n",
            "ARE IDEN\n",
            "\n",
            " \n",
            "\n",
            " \n",
            "\f\n"
          ]
        }
      ]
    },
    {
      "cell_type": "code",
      "metadata": {
        "id": "OlTSesao_G2j",
        "outputId": "fbfa760f-0d34-41e1-ed4d-c84d53afa113",
        "colab": {
          "base_uri": "https://localhost:8080/"
        }
      },
      "source": [
        "extract=''.join(extract)\n",
        "type(extract)"
      ],
      "execution_count": 121,
      "outputs": [
        {
          "output_type": "execute_result",
          "data": {
            "text/plain": [
              "str"
            ]
          },
          "metadata": {},
          "execution_count": 121
        }
      ]
    },
    {
      "cell_type": "code",
      "metadata": {
        "id": "-JKUnZlq-4IG",
        "outputId": "08e8e3f5-b80e-436d-f5f0-6bb8a345d16d",
        "colab": {
          "base_uri": "https://localhost:8080/"
        }
      },
      "source": [
        "extract=extract.split('\\n')\n",
        "\n",
        "extract"
      ],
      "execution_count": 122,
      "outputs": [
        {
          "output_type": "execute_result",
          "data": {
            "text/plain": [
              "['DIA3762',\n",
              " 'DIA 315',\n",
              " '',\n",
              " 'poe',\n",
              " '',\n",
              " ' ',\n",
              " '',\n",
              " ' ',\n",
              " '',\n",
              " ' ',\n",
              " '',\n",
              " '5713',\n",
              " '',\n",
              " '2032 —',\n",
              " 'I',\n",
              " '',\n",
              " '4382.',\n",
              " '',\n",
              " '-',\n",
              " '',\n",
              " ' ',\n",
              " '',\n",
              " '3128.',\n",
              " '',\n",
              " ' ',\n",
              " '',\n",
              " '[=-01a 1565+',\n",
              " '',\n",
              " ' ',\n",
              " '',\n",
              " ' ',\n",
              " '',\n",
              " ' ',\n",
              " '',\n",
              " ' ',\n",
              " '',\n",
              " ' ',\n",
              " '',\n",
              " ' ',\n",
              " '',\n",
              " ' ',\n",
              " '',\n",
              " ' ',\n",
              " '',\n",
              " ' ',\n",
              " '',\n",
              " ' ',\n",
              " '',\n",
              " '6235 |',\n",
              " '',\n",
              " 'OPPOSITE',\n",
              " 'DIMENSION',\n",
              " 'ARE IDEN',\n",
              " '',\n",
              " ' ',\n",
              " '',\n",
              " ' ',\n",
              " '\\x0c']"
            ]
          },
          "metadata": {},
          "execution_count": 122
        }
      ]
    },
    {
      "cell_type": "code",
      "metadata": {
        "id": "92iJKl_OEjs0",
        "outputId": "64beda29-06a9-4ea3-a432-b7ec9e8d5f56",
        "colab": {
          "base_uri": "https://localhost:8080/"
        }
      },
      "source": [
        "l=list()\n",
        "for i in extract:\n",
        "  if i!='' and i!=' ':\n",
        "    l.append(i)\n",
        "l\n"
      ],
      "execution_count": 123,
      "outputs": [
        {
          "output_type": "execute_result",
          "data": {
            "text/plain": [
              "['DIA3762',\n",
              " 'DIA 315',\n",
              " 'poe',\n",
              " '5713',\n",
              " '2032 —',\n",
              " 'I',\n",
              " '4382.',\n",
              " '-',\n",
              " '3128.',\n",
              " '[=-01a 1565+',\n",
              " '6235 |',\n",
              " 'OPPOSITE',\n",
              " 'DIMENSION',\n",
              " 'ARE IDEN',\n",
              " '\\x0c']"
            ]
          },
          "metadata": {},
          "execution_count": 123
        }
      ]
    }
  ]
}