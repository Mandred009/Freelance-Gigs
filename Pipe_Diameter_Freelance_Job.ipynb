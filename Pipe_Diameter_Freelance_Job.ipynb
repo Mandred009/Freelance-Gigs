{
  "nbformat": 4,
  "nbformat_minor": 0,
  "metadata": {
    "colab": {
      "name": "Pipe Diameter Freelance Job",
      "provenance": [],
      "collapsed_sections": [],
      "authorship_tag": "ABX9TyM+43fsTkaGyGKxZMYnJRSW",
      "include_colab_link": true
    },
    "kernelspec": {
      "name": "python3",
      "display_name": "Python 3"
    },
    "language_info": {
      "name": "python"
    }
  },
  "cells": [
    {
      "cell_type": "markdown",
      "metadata": {
        "id": "view-in-github",
        "colab_type": "text"
      },
      "source": [
        "<a href=\"https://colab.research.google.com/github/Mandred009/Mandred009/blob/main/Pipe_Diameter_Freelance_Job.ipynb\" target=\"_parent\"><img src=\"https://colab.research.google.com/assets/colab-badge.svg\" alt=\"Open In Colab\"/></a>"
      ]
    },
    {
      "cell_type": "code",
      "source": [
        "import numpy as np\n",
        "import matplotlib.pyplot as plt"
      ],
      "metadata": {
        "id": "G8UYS3Kemdbp"
      },
      "execution_count": null,
      "outputs": []
    },
    {
      "cell_type": "code",
      "execution_count": null,
      "metadata": {
        "colab": {
          "base_uri": "https://localhost:8080/"
        },
        "id": "IqCUes6ZfNHt",
        "outputId": "95315ed6-0693-4edc-ee8d-451dfe90dd04"
      },
      "outputs": [
        {
          "output_type": "stream",
          "name": "stdout",
          "text": [
            "Enter the total set of values1\n",
            "Enter Values of alpha 5,10\n",
            "Enter Values of beta 7.5,7.5\n",
            "Enter Values of delta 10,10\n",
            "Enter Values of gamma 7.5,12.5\n",
            "[[[5.0, 10.0], [7.5, 7.5], [10.0, 10.0], [7.5, 12.5]]]\n"
          ]
        }
      ],
      "source": [
        "N=int(input('Enter the total set of values'))\n",
        "L=[]\n",
        "for i in range(0,N):\n",
        "  a=input(\"Enter Values of alpha \")\n",
        "  a = list(float(x) for x in a.split(\",\"))\n",
        "  b=input(\"Enter Values of beta \")\n",
        "  b = list(float(x) for x in b.split(\",\"))\n",
        "  d=input(\"Enter Values of delta \")\n",
        "  d = list(float(x) for x in d.split(\",\"))\n",
        "  y=input(\"Enter Values of gamma \")\n",
        "  y = list(float(x) for x in y.split(\",\"))\n",
        "  L.append([a,b,d,y])\n",
        "print(L)"
      ]
    },
    {
      "cell_type": "code",
      "source": [
        "def D1(abdy):\n",
        "   LL,DL=[],[]\n",
        "   x1,y1=abdy[0][0],abdy[0][1]\n",
        "   x2,y2=abdy[1][0],abdy[1][1]\n",
        "   x3,y3=abdy[2][0],abdy[2][1]\n",
        "   A=np.array([[2*x1,2*y1,1],[2*x2,2*y2,1],[2*x3,2*y3,1]])\n",
        "   B=np.array([[-(x1**2)-(y1**2)],[-(x2**2)-(y2**2)],[-(x3**2)-(y3**2)]])\n",
        "   invA=np.linalg.inv(A)\n",
        "   X=np.matmul(invA,B)\n",
        "   g,f,c=X[0],X[1],X[2]\n",
        "   dia=2*((g**2 + f**2 -c)**0.5)\n",
        "   x,y=abdy[3][0],abdy[3][1]\n",
        "   if (x**2 + y**2 + 2*g*x + 2*f*y + c)>=0:\n",
        "     offset=1\n",
        "   else:\n",
        "     offset=-1\n",
        "   return dia,offset,g,f\n",
        "def D2(abdy):\n",
        "  LL,DL=[],[]\n",
        "  x1,y1=abdy[1][0],abdy[1][1]\n",
        "  x2,y2=abdy[2][0],abdy[2][1]\n",
        "  x3,y3=abdy[3][0],abdy[3][1]\n",
        "  A=np.array([[2*x1,2*y1,1],[2*x2,2*y2,1],[2*x3,2*y3,1]])\n",
        "  B=np.array([[-(x1**2)-(y1**2)],[-(x2**2)-(y2**2)],[-(x3**2)-(y3**2)]])\n",
        "  invA=np.linalg.inv(A)\n",
        "  X=np.matmul(invA,B)\n",
        "  g,f,c=X[0],X[1],X[2]\n",
        "  dia=2*((g**2 + f**2 -c)**0.5)\n",
        "  x,y=abdy[0][0],abdy[0][1]\n",
        "  if (x**2 + y**2 + 2*g*x + 2*f*y + c)>=0:\n",
        "    offset=1\n",
        "  else:\n",
        "    offset=-1\n",
        "  return dia,offset,g,f\n",
        "def D3(abdy):\n",
        "  LL,DL=[],[]\n",
        "  x1,y1=abdy[2][0],abdy[2][1]\n",
        "  x2,y2=abdy[3][0],abdy[3][1]\n",
        "  x3,y3=abdy[0][0],abdy[0][1]\n",
        "  A=np.array([[2*x1,2*y1,1],[2*x2,2*y2,1],[2*x3,2*y3,1]])\n",
        "  B=np.array([[-(x1**2)-(y1**2)],[-(x2**2)-(y2**2)],[-(x3**2)-(y3**2)]])\n",
        "  invA=np.linalg.inv(A)\n",
        "  X=np.matmul(invA,B)\n",
        "  g,f,c=X[0],X[1],X[2]\n",
        "  dia=2*((g**2 + f**2 -c)**0.5)\n",
        "  x,y=abdy[1][0],abdy[1][1]\n",
        "  if (x**2 + y**2 + 2*g*x + 2*f*y + c)>=0:\n",
        "    offset=1\n",
        "  else:\n",
        "    offset=-1\n",
        "  return dia,offset,g,f\n",
        "def D4(abdy):\n",
        "  LL,DL=[],[]\n",
        "  x1,y1=abdy[3][0],abdy[3][1]\n",
        "  x2,y2=abdy[0][0],abdy[0][1]\n",
        "  x3,y3=abdy[1][0],abdy[1][1]\n",
        "  A=np.array([[2*x1,2*y1,1],[2*x2,2*y2,1],[2*x3,2*y3,1]])\n",
        "  B=np.array([[-(x1**2)-(y1**2)],[-(x2**2)-(y2**2)],[-(x3**2)-(y3**2)]])\n",
        "  invA=np.linalg.inv(A)\n",
        "  X=np.matmul(invA,B)\n",
        "  g,f,c=X[0],X[1],X[2]\n",
        "  dia=2*((g**2 + f**2 -c)**0.5)\n",
        "  x,y=abdy[2][0],abdy[2][1]\n",
        "  if (x**2 + y**2 + 2*g*x + 2*f*y + c)>=0:\n",
        "    offset=1\n",
        "  else:\n",
        "    offset=-1\n",
        "  return dia,offset,g,f"
      ],
      "metadata": {
        "id": "oNFryOWOlN0h"
      },
      "execution_count": null,
      "outputs": []
    },
    {
      "cell_type": "code",
      "source": [
        "DIA=[]\n",
        "LAM=[]\n",
        "OFF=[]\n",
        "x_center=[]\n",
        "y_center=[]\n",
        "for i in range(0,len(L)):\n",
        "  d1,off1,x1,y1=D1(L[i])[0],D1(L[i])[1],D1(L[i])[2],D1(L[i])[3]\n",
        "  d2,off2,x2,y2=D2(L[i])[0],D2(L[i])[1],D2(L[i])[2],D2(L[i])[3]\n",
        "  d3,off3,x3,y3=D3(L[i])[0],D3(L[i])[1],D3(L[i])[2],D3(L[i])[3]\n",
        "  d4,off4,x4,y4=D4(L[i])[0],D4(L[i])[1],D4(L[i])[2],D4(L[i])[3]\n",
        "  DIA.append(list(d1))\n",
        "  DIA.append(list(d2))\n",
        "  DIA.append(list(d3))\n",
        "  DIA.append(list(d4))\n",
        "  OFF.append(off1)\n",
        "  OFF.append(off2)\n",
        "  OFF.append(off3)\n",
        "  OFF.append(off4)\n",
        "  x_center.append(list(-x1))\n",
        "  x_center.append(list(-x2))\n",
        "  x_center.append(list(-x3))\n",
        "  x_center.append(list(-x4))\n",
        "  y_center.append(list(-y1))\n",
        "  y_center.append(list(-y2))\n",
        "  y_center.append(list(-y3))\n",
        "  y_center.append(list(-y4))\n",
        "  LAM.append(L[i][3])\n",
        "  LAM.append(L[i][0])\n",
        "  LAM.append(L[i][1])\n",
        "  LAM.append(L[i][2])\n",
        "#"
      ],
      "metadata": {
        "id": "VIRAX7tblWU5"
      },
      "execution_count": null,
      "outputs": []
    },
    {
      "cell_type": "code",
      "source": [
        "DIA"
      ],
      "metadata": {
        "colab": {
          "base_uri": "https://localhost:8080/"
        },
        "id": "phSKFQp7HwhZ",
        "outputId": "5c624a94-f404-46ad-896a-ee4533128285"
      },
      "execution_count": null,
      "outputs": [
        {
          "output_type": "execute_result",
          "data": {
            "text/plain": [
              "[[5.0], [5.0], [5.0], [5.0000000000000115]]"
            ]
          },
          "metadata": {},
          "execution_count": 315
        }
      ]
    },
    {
      "cell_type": "code",
      "source": [
        "LAM"
      ],
      "metadata": {
        "colab": {
          "base_uri": "https://localhost:8080/"
        },
        "id": "ZN0XRc7_JWkz",
        "outputId": "3d5726ed-2d72-46f3-84d3-3e7bb99d6456"
      },
      "execution_count": null,
      "outputs": [
        {
          "output_type": "execute_result",
          "data": {
            "text/plain": [
              "[[7.5, 12.5], [5.0, 10.0], [7.5, 7.5], [10.0, 10.0]]"
            ]
          },
          "metadata": {},
          "execution_count": 316
        }
      ]
    },
    {
      "cell_type": "code",
      "source": [
        "OFF"
      ],
      "metadata": {
        "colab": {
          "base_uri": "https://localhost:8080/"
        },
        "id": "rNNavkPgJcGT",
        "outputId": "ca2c31cc-06fc-4381-b643-19433e937ad9"
      },
      "execution_count": null,
      "outputs": [
        {
          "output_type": "execute_result",
          "data": {
            "text/plain": [
              "[1, 1, 1, -1]"
            ]
          },
          "metadata": {},
          "execution_count": 317
        }
      ]
    },
    {
      "cell_type": "code",
      "source": [
        "x_center"
      ],
      "metadata": {
        "colab": {
          "base_uri": "https://localhost:8080/"
        },
        "id": "bEArGZRbNpMa",
        "outputId": "25adc7e0-0c11-4107-cab8-887eba1983f5"
      },
      "execution_count": null,
      "outputs": [
        {
          "output_type": "execute_result",
          "data": {
            "text/plain": [
              "[[7.5], [7.5], [7.5], [7.500000000000002]]"
            ]
          },
          "metadata": {},
          "execution_count": 318
        }
      ]
    },
    {
      "cell_type": "code",
      "source": [
        "y_center"
      ],
      "metadata": {
        "colab": {
          "base_uri": "https://localhost:8080/"
        },
        "id": "oU9z5OciO-ik",
        "outputId": "d6392bfe-fa61-4f42-e340-063a35a5f24c"
      },
      "execution_count": null,
      "outputs": [
        {
          "output_type": "execute_result",
          "data": {
            "text/plain": [
              "[[10.0], [10.0], [10.0], [10.0]]"
            ]
          },
          "metadata": {},
          "execution_count": 319
        }
      ]
    },
    {
      "cell_type": "code",
      "source": [
        "def lamb_dist(x,y,lambd,d):\n",
        "  dist=abs((((x-lambd[0])**2 + (y-lambd[1])**2) ** 0.5) - (d/2))\n",
        "  return dist"
      ],
      "metadata": {
        "id": "P2WWGag2Qw05"
      },
      "execution_count": null,
      "outputs": []
    },
    {
      "cell_type": "code",
      "source": [
        "for i in range(0,len(OFF)):\n",
        "  dis=lamb_dist(x_center[i][0],y_center[i][0],LAM[i],DIA[i][0])\n",
        "  if OFF[i]==1:\n",
        "    DIA[i][0]=DIA[i][0]+dis\n",
        "  else:\n",
        "    DIA[i][0]=DIA[i][0]-dis\n"
      ],
      "metadata": {
        "id": "XWWlXG9zPfea"
      },
      "execution_count": null,
      "outputs": []
    },
    {
      "cell_type": "code",
      "source": [
        "DIA"
      ],
      "metadata": {
        "colab": {
          "base_uri": "https://localhost:8080/"
        },
        "id": "02p5WwFOS-Gq",
        "outputId": "a5b68ba5-ff32-420d-de7d-c2c764c302ba"
      },
      "execution_count": null,
      "outputs": [
        {
          "output_type": "execute_result",
          "data": {
            "text/plain": [
              "[[5.0], [5.0], [5.0], [5.0000000000000036]]"
            ]
          },
          "metadata": {},
          "execution_count": 322
        }
      ]
    },
    {
      "cell_type": "markdown",
      "source": [
        "# Gaussian Distribution"
      ],
      "metadata": {
        "id": "lJtM_k2KVWpw"
      }
    },
    {
      "cell_type": "code",
      "source": [
        "from scipy.stats import norm\n",
        "import statistics"
      ],
      "metadata": {
        "id": "VqbtHF9uZo0Y"
      },
      "execution_count": null,
      "outputs": []
    },
    {
      "cell_type": "code",
      "source": [
        "x_axis=[]\n",
        "for i in range(0,len(DIA)):\n",
        "  x_axis.append(DIA[i][0])"
      ],
      "metadata": {
        "id": "evrBKUIWajTH"
      },
      "execution_count": null,
      "outputs": []
    },
    {
      "cell_type": "code",
      "source": [
        "mu = statistics.mean(x_axis) \n",
        "sigma = statistics.stdev(x_axis)\n",
        "x1 = min(x_axis)\n",
        "x2 = max(x_axis)"
      ],
      "metadata": {
        "id": "X1oghLxAZr_f"
      },
      "execution_count": null,
      "outputs": []
    },
    {
      "cell_type": "code",
      "source": [
        "# calculate the z-transform\n",
        "z1 = ( x1 - mu ) / sigma\n",
        "z2 = ( x2 - mu ) / sigma"
      ],
      "metadata": {
        "id": "KFWt9WtmZ5nf"
      },
      "execution_count": null,
      "outputs": []
    },
    {
      "cell_type": "code",
      "source": [
        "x = np.arange(z1, z2, 0.001) # range of x in spec\n",
        "x_all = np.arange(-10, 10, 0.001) # entire range of x, both in and out of spec\n",
        "# mean = 0, stddev = 1, since Z-transform was calculated\n",
        "y = norm.pdf(x,0,1)\n",
        "y2 = norm.pdf(x_all,0,1)"
      ],
      "metadata": {
        "id": "E6hxCTRLaA4o"
      },
      "execution_count": null,
      "outputs": []
    },
    {
      "cell_type": "code",
      "source": [
        "# build the plot\n",
        "fig, ax = plt.subplots(figsize=(9,6))\n",
        "plt.style.use('fivethirtyeight')\n",
        "ax.plot(x_all,y2)\n",
        "\n",
        "ax.fill_between(x,y,0, alpha=0.3, color='b')\n",
        "ax.fill_between(x_all,y2,0, alpha=0.1)\n",
        "ax.set_xlim([-4,4])\n",
        "ax.set_xlabel('# of Standard Deviations Outside the Mean')\n",
        "ax.set_yticklabels([])\n",
        "ax.set_title('Normal Gaussian Curve')\n",
        "\n",
        "plt.savefig('normal_curve.png', dpi=72, bbox_inches='tight')\n",
        "plt.show()"
      ],
      "metadata": {
        "colab": {
          "base_uri": "https://localhost:8080/",
          "height": 441
        },
        "id": "rZKMd6ADaOaP",
        "outputId": "062d1279-ee38-4b65-e43f-2c1350933897"
      },
      "execution_count": null,
      "outputs": [
        {
          "output_type": "display_data",
          "data": {
            "image/png": "[encoded data removed]",
            "text/plain": [
              "<Figure size 648x432 with 1 Axes>"
            ]
          },
          "metadata": {}
        }
      ]
    },
    {
      "cell_type": "code",
      "source": [
        "sigma"
      ],
      "metadata": {
        "colab": {
          "base_uri": "https://localhost:8080/"
        },
        "id": "XRYR8CXxblJn",
        "outputId": "66856907-b83e-47e5-95ac-782c45e3fa9c"
      },
      "execution_count": null,
      "outputs": [
        {
          "output_type": "execute_result",
          "data": {
            "text/plain": [
              "1.7763568394002505e-15"
            ]
          },
          "metadata": {},
          "execution_count": 329
        }
      ]
    },
    {
      "cell_type": "code",
      "source": [
        "print(mu)"
      ],
      "metadata": {
        "colab": {
          "base_uri": "https://localhost:8080/"
        },
        "id": "4FfT6NxJa40_",
        "outputId": "b4b95376-e8e7-4c25-9ab8-70b98ca95323"
      },
      "execution_count": null,
      "outputs": [
        {
          "output_type": "stream",
          "name": "stdout",
          "text": [
            "5.000000000000001\n"
          ]
        }
      ]
    }
  ]
}