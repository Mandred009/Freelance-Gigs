{
  "nbformat": 4,
  "nbformat_minor": 0,
  "metadata": {
    "colab": {
      "name": "Pipe Diameter Freelance Job",
      "provenance": [],
      "collapsed_sections": [],
      "authorship_tag": "ABX9TyNJvD43HXX3+9fkouz9/xZd",
      "include_colab_link": true
    },
    "kernelspec": {
      "name": "python3",
      "display_name": "Python 3"
    },
    "language_info": {
      "name": "python"
    }
  },
  "cells": [
    {
      "cell_type": "markdown",
      "metadata": {
        "id": "view-in-github",
        "colab_type": "text"
      },
      "source": [
        "<a href=\"https://colab.research.google.com/github/Mandred009/Freelance-Gigs/blob/main/Pipe_Diameter_Freelance_Job.ipynb\" target=\"_parent\"><img src=\"https://colab.research.google.com/assets/colab-badge.svg\" alt=\"Open In Colab\"/></a>"
      ]
    },
    {
      "cell_type": "code",
      "source": [
        "import numpy as np\n",
        "import matplotlib.pyplot as plt"
      ],
      "metadata": {
        "id": "G8UYS3Kemdbp"
      },
      "execution_count": 7,
      "outputs": []
    },
    {
      "cell_type": "code",
      "source": [
        "P=5.2\n",
        "Q=7\n",
        "R=6\n",
        "S=6"
      ],
      "metadata": {
        "id": "-9m30hLuXICr"
      },
      "execution_count": 8,
      "outputs": []
    },
    {
      "cell_type": "code",
      "source": [
        "Le=10\n",
        "B=10"
      ],
      "metadata": {
        "id": "ozejpft8XUbf"
      },
      "execution_count": 9,
      "outputs": []
    },
    {
      "cell_type": "code",
      "execution_count": 10,
      "metadata": {
        "colab": {
          "base_uri": "https://localhost:8080/"
        },
        "id": "IqCUes6ZfNHt",
        "outputId": "bc469e66-ecac-4bb3-eb9a-0dc2f69aa099"
      },
      "outputs": [
        {
          "output_type": "stream",
          "name": "stdout",
          "text": [
            "Enter the total set of values1\n",
            "Enter Values of alpha 5,10\n",
            "Enter Values of beta 7.5,7.5\n",
            "Enter Values of delta 10,10\n",
            "Enter Values of gamma 7.5,12.5\n",
            "[[[5.0, 10.0], [7.5, 7.5], [10.0, 10.0], [7.5, 12.5]]]\n"
          ]
        }
      ],
      "source": [
        "N=int(input('Enter the total set of values'))\n",
        "L=[]\n",
        "for i in range(0,N):\n",
        "  a=input(\"Enter Values of alpha \")\n",
        "  a = list(float(x) for x in a.split(\",\"))\n",
        "  b=input(\"Enter Values of beta \")\n",
        "  b = list(float(x) for x in b.split(\",\"))\n",
        "  d=input(\"Enter Values of delta \")\n",
        "  d = list(float(x) for x in d.split(\",\"))\n",
        "  y=input(\"Enter Values of gamma \")\n",
        "  y = list(float(x) for x in y.split(\",\"))\n",
        "  L.append([a,b,d,y])\n",
        "print(L)"
      ]
    },
    {
      "cell_type": "code",
      "source": [
        "for i in range(0,N):\n",
        "  L[i][0][0]=P\n",
        "  L[i][0][1]=L[i][0][1]\n",
        "  L[i][1][0]=Le-L[i][1][0]\n",
        "  L[i][1][1]=Q\n",
        "  L[i][2][0]=R\n",
        "  L[i][2][1]=B-L[i][2][1]\n",
        "  L[i][3][0]=L[i][3][0]\n",
        "  L[i][3][1]=S\n"
      ],
      "metadata": {
        "id": "N_QsyY5cXkHy"
      },
      "execution_count": 11,
      "outputs": []
    },
    {
      "cell_type": "code",
      "source": [
        "def D1(abdy):\n",
        "   LL,DL=[],[]\n",
        "   x1,y1=abdy[0][0],abdy[0][1]\n",
        "   x2,y2=abdy[1][0],abdy[1][1]\n",
        "   x3,y3=abdy[2][0],abdy[2][1]\n",
        "   A=np.array([[2*x1,2*y1,1],[2*x2,2*y2,1],[2*x3,2*y3,1]])\n",
        "   B=np.array([[-(x1**2)-(y1**2)],[-(x2**2)-(y2**2)],[-(x3**2)-(y3**2)]])\n",
        "   invA=np.linalg.inv(A)\n",
        "   X=np.matmul(invA,B)\n",
        "   g,f,c=X[0],X[1],X[2]\n",
        "   dia=2*((g**2 + f**2 -c)**0.5)\n",
        "   x,y=abdy[3][0],abdy[3][1]\n",
        "   if (x**2 + y**2 + 2*g*x + 2*f*y + c)>=0:\n",
        "     offset=1\n",
        "   else:\n",
        "     offset=-1\n",
        "   return dia,offset,g,f\n",
        "def D2(abdy):\n",
        "  LL,DL=[],[]\n",
        "  x1,y1=abdy[1][0],abdy[1][1]\n",
        "  x2,y2=abdy[2][0],abdy[2][1]\n",
        "  x3,y3=abdy[3][0],abdy[3][1]\n",
        "  A=np.array([[2*x1,2*y1,1],[2*x2,2*y2,1],[2*x3,2*y3,1]])\n",
        "  B=np.array([[-(x1**2)-(y1**2)],[-(x2**2)-(y2**2)],[-(x3**2)-(y3**2)]])\n",
        "  invA=np.linalg.inv(A)\n",
        "  X=np.matmul(invA,B)\n",
        "  g,f,c=X[0],X[1],X[2]\n",
        "  dia=2*((g**2 + f**2 -c)**0.5)\n",
        "  x,y=abdy[0][0],abdy[0][1]\n",
        "  if (x**2 + y**2 + 2*g*x + 2*f*y + c)>=0:\n",
        "    offset=1\n",
        "  else:\n",
        "    offset=-1\n",
        "  return dia,offset,g,f\n",
        "def D3(abdy):\n",
        "  LL,DL=[],[]\n",
        "  x1,y1=abdy[2][0],abdy[2][1]\n",
        "  x2,y2=abdy[3][0],abdy[3][1]\n",
        "  x3,y3=abdy[0][0],abdy[0][1]\n",
        "  A=np.array([[2*x1,2*y1,1],[2*x2,2*y2,1],[2*x3,2*y3,1]])\n",
        "  B=np.array([[-(x1**2)-(y1**2)],[-(x2**2)-(y2**2)],[-(x3**2)-(y3**2)]])\n",
        "  invA=np.linalg.inv(A)\n",
        "  X=np.matmul(invA,B)\n",
        "  g,f,c=X[0],X[1],X[2]\n",
        "  dia=2*((g**2 + f**2 -c)**0.5)\n",
        "  x,y=abdy[1][0],abdy[1][1]\n",
        "  if (x**2 + y**2 + 2*g*x + 2*f*y + c)>=0:\n",
        "    offset=1\n",
        "  else:\n",
        "    offset=-1\n",
        "  return dia,offset,g,f\n",
        "def D4(abdy):\n",
        "  LL,DL=[],[]\n",
        "  x1,y1=abdy[3][0],abdy[3][1]\n",
        "  x2,y2=abdy[0][0],abdy[0][1]\n",
        "  x3,y3=abdy[1][0],abdy[1][1]\n",
        "  A=np.array([[2*x1,2*y1,1],[2*x2,2*y2,1],[2*x3,2*y3,1]])\n",
        "  B=np.array([[-(x1**2)-(y1**2)],[-(x2**2)-(y2**2)],[-(x3**2)-(y3**2)]])\n",
        "  invA=np.linalg.inv(A)\n",
        "  X=np.matmul(invA,B)\n",
        "  g,f,c=X[0],X[1],X[2]\n",
        "  dia=2*((g**2 + f**2 -c)**0.5)\n",
        "  x,y=abdy[2][0],abdy[2][1]\n",
        "  if (x**2 + y**2 + 2*g*x + 2*f*y + c)>=0:\n",
        "    offset=1\n",
        "  else:\n",
        "    offset=-1\n",
        "  return dia,offset,g,f"
      ],
      "metadata": {
        "id": "oNFryOWOlN0h"
      },
      "execution_count": 12,
      "outputs": []
    },
    {
      "cell_type": "code",
      "source": [
        "DIA=[]\n",
        "LAM=[]\n",
        "OFF=[]\n",
        "x_center=[]\n",
        "y_center=[]\n",
        "for i in range(0,len(L)):\n",
        "  d1,off1,x1,y1=D1(L[i])[0],D1(L[i])[1],D1(L[i])[2],D1(L[i])[3]\n",
        "  d2,off2,x2,y2=D2(L[i])[0],D2(L[i])[1],D2(L[i])[2],D2(L[i])[3]\n",
        "  d3,off3,x3,y3=D3(L[i])[0],D3(L[i])[1],D3(L[i])[2],D3(L[i])[3]\n",
        "  d4,off4,x4,y4=D4(L[i])[0],D4(L[i])[1],D4(L[i])[2],D4(L[i])[3]\n",
        "  DIA.append(list(d1))\n",
        "  DIA.append(list(d2))\n",
        "  DIA.append(list(d3))\n",
        "  DIA.append(list(d4))\n",
        "  OFF.append(off1)\n",
        "  OFF.append(off2)\n",
        "  OFF.append(off3)\n",
        "  OFF.append(off4)\n",
        "  x_center.append(list(-x1))\n",
        "  x_center.append(list(-x2))\n",
        "  x_center.append(list(-x3))\n",
        "  x_center.append(list(-x4))\n",
        "  y_center.append(list(-y1))\n",
        "  y_center.append(list(-y2))\n",
        "  y_center.append(list(-y3))\n",
        "  y_center.append(list(-y4))\n",
        "  LAM.append(L[i][3])\n",
        "  LAM.append(L[i][0])\n",
        "  LAM.append(L[i][1])\n",
        "  LAM.append(L[i][2])\n",
        "#"
      ],
      "metadata": {
        "id": "VIRAX7tblWU5"
      },
      "execution_count": 13,
      "outputs": []
    },
    {
      "cell_type": "code",
      "source": [
        "DIA"
      ],
      "metadata": {
        "colab": {
          "base_uri": "https://localhost:8080/"
        },
        "id": "phSKFQp7HwhZ",
        "outputId": "197b44ed-1760-4c75-b6f5-38abb7983ce4"
      },
      "execution_count": 14,
      "outputs": [
        {
          "output_type": "execute_result",
          "data": {
            "text/plain": [
              "[[10.778332383981853],\n",
              " [7.8351061823621],\n",
              " [14.458514479537811],\n",
              " [5.364901843437171]]"
            ]
          },
          "metadata": {},
          "execution_count": 14
        }
      ]
    },
    {
      "cell_type": "code",
      "source": [
        "LAM"
      ],
      "metadata": {
        "colab": {
          "base_uri": "https://localhost:8080/"
        },
        "id": "ZN0XRc7_JWkz",
        "outputId": "5db2cf0a-5d14-40c5-9f15-11b0ef188450"
      },
      "execution_count": 15,
      "outputs": [
        {
          "output_type": "execute_result",
          "data": {
            "text/plain": [
              "[[7.5, 6], [5.2, 10.0], [2.5, 7], [6, 0.0]]"
            ]
          },
          "metadata": {},
          "execution_count": 15
        }
      ]
    },
    {
      "cell_type": "code",
      "source": [
        "OFF"
      ],
      "metadata": {
        "colab": {
          "base_uri": "https://localhost:8080/"
        },
        "id": "rNNavkPgJcGT",
        "outputId": "bd0e343e-7faf-42d3-db8a-eca00894327a"
      },
      "execution_count": 16,
      "outputs": [
        {
          "output_type": "execute_result",
          "data": {
            "text/plain": [
              "[-1, 1, -1, 1]"
            ]
          },
          "metadata": {},
          "execution_count": 16
        }
      ]
    },
    {
      "cell_type": "code",
      "source": [
        "x_center"
      ],
      "metadata": {
        "colab": {
          "base_uri": "https://localhost:8080/"
        },
        "id": "bEArGZRbNpMa",
        "outputId": "b421ba7f-b642-43f3-e698-f8c68849b637"
      },
      "execution_count": 17,
      "outputs": [
        {
          "output_type": "execute_result",
          "data": {
            "text/plain": [
              "[[7.564285714285717],\n",
              " [4.416666666666666],\n",
              " [0.41060606060606375],\n",
              " [5.163559322033899]]"
            ]
          },
          "metadata": {},
          "execution_count": 17
        }
      ]
    },
    {
      "cell_type": "code",
      "source": [
        "y_center"
      ],
      "metadata": {
        "colab": {
          "base_uri": "https://localhost:8080/"
        },
        "id": "oU9z5OciO-ik",
        "outputId": "461334c8-2fa4-48fa-cfe6-11e0e979d53b"
      },
      "execution_count": 18,
      "outputs": [
        {
          "output_type": "execute_result",
          "data": {
            "text/plain": [
              "[[5.157142857142858],\n",
              " [3.5833333333333335],\n",
              " [4.584848484848484],\n",
              " [7.3177966101694905]]"
            ]
          },
          "metadata": {},
          "execution_count": 18
        }
      ]
    },
    {
      "cell_type": "code",
      "source": [
        "def lamb_dist(x,y,lambd,d):\n",
        "  dist=abs((((x-lambd[0])**2 + (y-lambd[1])**2) ** 0.5) - (d/2))\n",
        "  return dist"
      ],
      "metadata": {
        "id": "P2WWGag2Qw05"
      },
      "execution_count": 19,
      "outputs": []
    },
    {
      "cell_type": "code",
      "source": [
        "for i in range(0,len(OFF)):\n",
        "  dis=lamb_dist(x_center[i][0],y_center[i][0],LAM[i],DIA[i][0])\n",
        "  if OFF[i]==1:\n",
        "    DIA[i][0]=DIA[i][0]+dis\n",
        "  else:\n",
        "    DIA[i][0]=DIA[i][0]-dis\n"
      ],
      "metadata": {
        "id": "XWWlXG9zPfea"
      },
      "execution_count": 20,
      "outputs": []
    },
    {
      "cell_type": "code",
      "source": [
        "DIA"
      ],
      "metadata": {
        "colab": {
          "base_uri": "https://localhost:8080/"
        },
        "id": "02p5WwFOS-Gq",
        "outputId": "4c7daca7-7a66-4866-8771-3e30964b7004"
      },
      "execution_count": 21,
      "outputs": [
        {
          "output_type": "execute_result",
          "data": {
            "text/plain": [
              "[[6.234471353649442],\n",
              " [10.381856783166924],\n",
              " [10.422770019626656],\n",
              " [10.04789593444962]]"
            ]
          },
          "metadata": {},
          "execution_count": 21
        }
      ]
    },
    {
      "cell_type": "markdown",
      "source": [
        "# Gaussian Distribution"
      ],
      "metadata": {
        "id": "lJtM_k2KVWpw"
      }
    },
    {
      "cell_type": "code",
      "source": [
        "from scipy.stats import norm\n",
        "import statistics"
      ],
      "metadata": {
        "id": "VqbtHF9uZo0Y"
      },
      "execution_count": 22,
      "outputs": []
    },
    {
      "cell_type": "code",
      "source": [
        "x_axis=[]\n",
        "for i in range(0,len(DIA)):\n",
        "  x_axis.append(DIA[i][0])"
      ],
      "metadata": {
        "id": "evrBKUIWajTH"
      },
      "execution_count": 23,
      "outputs": []
    },
    {
      "cell_type": "code",
      "source": [
        "mu = statistics.mean(x_axis) \n",
        "sigma = statistics.stdev(x_axis)\n",
        "x1 = min(x_axis)\n",
        "x2 = max(x_axis)"
      ],
      "metadata": {
        "id": "X1oghLxAZr_f"
      },
      "execution_count": 24,
      "outputs": []
    },
    {
      "cell_type": "code",
      "source": [
        "# calculate the z-transform\n",
        "z1 = ( x1 - mu ) / sigma\n",
        "z2 = ( x2 - mu ) / sigma"
      ],
      "metadata": {
        "id": "KFWt9WtmZ5nf"
      },
      "execution_count": 25,
      "outputs": []
    },
    {
      "cell_type": "code",
      "source": [
        "x = np.arange(z1, z2, 0.001) # range of x in spec\n",
        "x_all = np.arange(-10, 10, 0.001) # entire range of x, both in and out of spec\n",
        "# mean = 0, stddev = 1, since Z-transform was calculated\n",
        "y = norm.pdf(x,0,1)\n",
        "y2 = norm.pdf(x_all,0,1)"
      ],
      "metadata": {
        "id": "E6hxCTRLaA4o"
      },
      "execution_count": 26,
      "outputs": []
    },
    {
      "cell_type": "code",
      "source": [
        "# build the plot\n",
        "fig, ax = plt.subplots(figsize=(9,6))\n",
        "plt.style.use('fivethirtyeight')\n",
        "ax.plot(x_all,y2)\n",
        "\n",
        "ax.fill_between(x,y,0, alpha=0.3, color='b')\n",
        "ax.fill_between(x_all,y2,0, alpha=0.1)\n",
        "ax.set_xlim([-4,4])\n",
        "ax.set_xlabel('# of Standard Deviations Outside the Mean')\n",
        "ax.set_yticklabels([])\n",
        "ax.set_title('Normal Gaussian Curve')\n",
        "\n",
        "plt.savefig('normal_curve.png', dpi=72, bbox_inches='tight')\n",
        "plt.show()"
      ],
      "metadata": {
        "colab": {
          "base_uri": "https://localhost:8080/",
          "height": 409
        },
        "id": "rZKMd6ADaOaP",
        "outputId": "bc354424-f883-4db8-bf06-bcb8cdd4b0d7"
      },
      "execution_count": 27,
      "outputs": [
        {
          "output_type": "display_data",
          "data": {
            "image/png": "[encoded data removed]",
            "text/plain": [
              "<Figure size 648x432 with 1 Axes>"
            ]
          },
          "metadata": {
            "needs_background": "light"
          }
        }
      ]
    },
    {
      "cell_type": "code",
      "source": [
        "sigma"
      ],
      "metadata": {
        "colab": {
          "base_uri": "https://localhost:8080/"
        },
        "id": "XRYR8CXxblJn",
        "outputId": "08cfabe8-9c1e-406f-db3f-62d5fbe44d7a"
      },
      "execution_count": 28,
      "outputs": [
        {
          "output_type": "execute_result",
          "data": {
            "text/plain": [
              "2.0318011912869807"
            ]
          },
          "metadata": {},
          "execution_count": 28
        }
      ]
    },
    {
      "cell_type": "code",
      "source": [
        "print(mu)"
      ],
      "metadata": {
        "colab": {
          "base_uri": "https://localhost:8080/"
        },
        "id": "4FfT6NxJa40_",
        "outputId": "0a96ccdf-208f-4021-be8d-cb5aa2b49e76"
      },
      "execution_count": 29,
      "outputs": [
        {
          "output_type": "stream",
          "name": "stdout",
          "text": [
            "9.271748522723161\n"
          ]
        }
      ]
    }
  ]
}