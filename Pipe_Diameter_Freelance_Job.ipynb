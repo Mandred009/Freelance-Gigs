{
  "nbformat": 4,
  "nbformat_minor": 0,
  "metadata": {
    "colab": {
      "name": "Pipe Diameter Freelance Job",
      "provenance": [],
      "collapsed_sections": [],
      "authorship_tag": "ABX9TyM39aXyRc9QWW+lgiLooXx/",
      "include_colab_link": true
    },
    "kernelspec": {
      "name": "python3",
      "display_name": "Python 3"
    },
    "language_info": {
      "name": "python"
    }
  },
  "cells": [
    {
      "cell_type": "markdown",
      "metadata": {
        "id": "view-in-github",
        "colab_type": "text"
      },
      "source": [
        "<a href=\"https://colab.research.google.com/github/Mandred009/Mandred009/blob/main/Pipe_Diameter_Freelance_Job.ipynb\" target=\"_parent\"><img src=\"https://colab.research.google.com/assets/colab-badge.svg\" alt=\"Open In Colab\"/></a>"
      ]
    },
    {
      "cell_type": "code",
      "source": [
        "import numpy as np\n",
        "import matplotlib.pyplot as plt"
      ],
      "metadata": {
        "id": "G8UYS3Kemdbp"
      },
      "execution_count": 265,
      "outputs": []
    },
    {
      "cell_type": "code",
      "execution_count": 266,
      "metadata": {
        "colab": {
          "base_uri": "https://localhost:8080/"
        },
        "id": "IqCUes6ZfNHt",
        "outputId": "092675e0-c4dc-4bd8-9642-7f1e4954beb0"
      },
      "outputs": [
        {
          "output_type": "stream",
          "name": "stdout",
          "text": [
            "Enter the total set of values1\n",
            "Enter Values of alpha 2000,974\n",
            "Enter Values of beta 3020,2000\n",
            "Enter Values of delta 2000,3034\n",
            "Enter Values of gamma 960,2000\n",
            "[[[2000, 974], [3020, 2000], [2000, 3034], [960, 2000]]]\n"
          ]
        }
      ],
      "source": [
        "N=int(input('Enter the total set of values'))\n",
        "L=[]\n",
        "for i in range(0,N):\n",
        "  a=input(\"Enter Values of alpha \")\n",
        "  a = list(int(x) for x in a.split(\",\"))\n",
        "  b=input(\"Enter Values of beta \")\n",
        "  b = list(int(x) for x in b.split(\",\"))\n",
        "  d=input(\"Enter Values of delta \")\n",
        "  d = list(int(x) for x in d.split(\",\"))\n",
        "  y=input(\"Enter Values of gamma \")\n",
        "  y = list(int(x) for x in y.split(\",\"))\n",
        "  L.append([a,b,d,y])\n",
        "print(L)"
      ]
    },
    {
      "cell_type": "code",
      "source": [
        "def D1(abdy):\n",
        "   LL,DL=[],[]\n",
        "   x1,y1=abdy[0][0],abdy[0][1]\n",
        "   x2,y2=abdy[1][0],abdy[1][1]\n",
        "   x3,y3=abdy[2][0],abdy[2][1]\n",
        "   A=np.array([[2*x1,2*y1,1],[2*x2,2*y2,1],[2*x3,2*y3,1]])\n",
        "   B=np.array([[-(x1**2)-(y1**2)],[-(x2**2)-(y2**2)],[-(x3**2)-(y3**2)]])\n",
        "   invA=np.linalg.inv(A)\n",
        "   X=np.matmul(invA,B)\n",
        "   g,f,c=X[0],X[1],X[2]\n",
        "   dia=2*((g**2 + f**2 -c)**0.5)\n",
        "   x,y=abdy[3][0],abdy[3][1]\n",
        "   if (x**2 + y**2 + 2*g*x + 2*f*y + c)>=0:\n",
        "     offset=1\n",
        "   else:\n",
        "     offset=-1\n",
        "   return dia,offset,g,f\n",
        "def D2(abdy):\n",
        "  LL,DL=[],[]\n",
        "  x1,y1=abdy[1][0],abdy[1][1]\n",
        "  x2,y2=abdy[2][0],abdy[2][1]\n",
        "  x3,y3=abdy[3][0],abdy[3][1]\n",
        "  A=np.array([[2*x1,2*y1,1],[2*x2,2*y2,1],[2*x3,2*y3,1]])\n",
        "  B=np.array([[-(x1**2)-(y1**2)],[-(x2**2)-(y2**2)],[-(x3**2)-(y3**2)]])\n",
        "  invA=np.linalg.inv(A)\n",
        "  X=np.matmul(invA,B)\n",
        "  g,f,c=X[0],X[1],X[2]\n",
        "  dia=2*((g**2 + f**2 -c)**0.5)\n",
        "  x,y=abdy[0][0],abdy[0][1]\n",
        "  if (x**2 + y**2 + 2*g*x + 2*f*y + c)>=0:\n",
        "    offset=1\n",
        "  else:\n",
        "    offset=-1\n",
        "  return dia,offset,g,f\n",
        "def D3(abdy):\n",
        "  LL,DL=[],[]\n",
        "  x1,y1=abdy[2][0],abdy[2][1]\n",
        "  x2,y2=abdy[3][0],abdy[3][1]\n",
        "  x3,y3=abdy[0][0],abdy[0][1]\n",
        "  A=np.array([[2*x1,2*y1,1],[2*x2,2*y2,1],[2*x3,2*y3,1]])\n",
        "  B=np.array([[-(x1**2)-(y1**2)],[-(x2**2)-(y2**2)],[-(x3**2)-(y3**2)]])\n",
        "  invA=np.linalg.inv(A)\n",
        "  X=np.matmul(invA,B)\n",
        "  g,f,c=X[0],X[1],X[2]\n",
        "  dia=2*((g**2 + f**2 -c)**0.5)\n",
        "  x,y=abdy[1][0],abdy[1][1]\n",
        "  if (x**2 + y**2 + 2*g*x + 2*f*y + c)>=0:\n",
        "    offset=1\n",
        "  else:\n",
        "    offset=-1\n",
        "  return dia,offset,g,f\n",
        "def D4(abdy):\n",
        "  LL,DL=[],[]\n",
        "  x1,y1=abdy[3][0],abdy[3][1]\n",
        "  x2,y2=abdy[0][0],abdy[0][1]\n",
        "  x3,y3=abdy[1][0],abdy[1][1]\n",
        "  A=np.array([[2*x1,2*y1,1],[2*x2,2*y2,1],[2*x3,2*y3,1]])\n",
        "  B=np.array([[-(x1**2)-(y1**2)],[-(x2**2)-(y2**2)],[-(x3**2)-(y3**2)]])\n",
        "  invA=np.linalg.inv(A)\n",
        "  X=np.matmul(invA,B)\n",
        "  g,f,c=X[0],X[1],X[2]\n",
        "  dia=2*((g**2 + f**2 -c)**0.5)\n",
        "  x,y=abdy[2][0],abdy[2][1]\n",
        "  if (x**2 + y**2 + 2*g*x + 2*f*y + c)>=0:\n",
        "    offset=1\n",
        "  else:\n",
        "    offset=-1\n",
        "  return dia,offset,g,f"
      ],
      "metadata": {
        "id": "oNFryOWOlN0h"
      },
      "execution_count": 288,
      "outputs": []
    },
    {
      "cell_type": "code",
      "source": [
        "DIA=[]\n",
        "LAM=[]\n",
        "OFF=[]\n",
        "x_center=[]\n",
        "y_center=[]\n",
        "for i in range(0,len(L)):\n",
        "  d1,off1,x1,y1=D1(L[i])[0],D1(L[i])[1],D1(L[i])[2],D1(L[i])[3]\n",
        "  d2,off2,x2,y2=D2(L[i])[0],D2(L[i])[1],D2(L[i])[2],D2(L[i])[3]\n",
        "  d3,off3,x3,y3=D3(L[i])[0],D3(L[i])[1],D3(L[i])[2],D3(L[i])[3]\n",
        "  d4,off4,x4,y4=D4(L[i])[0],D4(L[i])[1],D4(L[i])[2],D4(L[i])[3]\n",
        "  DIA.append(list(d1))\n",
        "  DIA.append(list(d2))\n",
        "  DIA.append(list(d3))\n",
        "  DIA.append(list(d4))\n",
        "  OFF.append(off1)\n",
        "  OFF.append(off2)\n",
        "  OFF.append(off3)\n",
        "  OFF.append(off4)\n",
        "  x_center.append(list(-x1))\n",
        "  x_center.append(list(-x2))\n",
        "  x_center.append(list(-x3))\n",
        "  x_center.append(list(-x4))\n",
        "  y_center.append(list(-y1))\n",
        "  y_center.append(list(-y2))\n",
        "  y_center.append(list(-y3))\n",
        "  y_center.append(list(-y4))\n",
        "  LAM.append(L[i][3])\n",
        "  LAM.append(L[i][0])\n",
        "  LAM.append(L[i][1])\n",
        "  LAM.append(L[i][2])\n",
        "#"
      ],
      "metadata": {
        "id": "VIRAX7tblWU5"
      },
      "execution_count": 289,
      "outputs": []
    },
    {
      "cell_type": "code",
      "source": [
        "DIA"
      ],
      "metadata": {
        "colab": {
          "base_uri": "https://localhost:8080/"
        },
        "id": "phSKFQp7HwhZ",
        "outputId": "b7fc9997-04b3-4a99-ae5e-a5d7d425cb52"
      },
      "execution_count": 290,
      "outputs": [
        {
          "output_type": "execute_result",
          "data": {
            "text/plain": [
              "[[2060.0978862422107],\n",
              " [2060.0158510084802],\n",
              " [2060.0963025437527],\n",
              " [2060.0152176043243]]"
            ]
          },
          "metadata": {},
          "execution_count": 290
        }
      ]
    },
    {
      "cell_type": "code",
      "source": [
        "LAM"
      ],
      "metadata": {
        "colab": {
          "base_uri": "https://localhost:8080/"
        },
        "id": "ZN0XRc7_JWkz",
        "outputId": "ececec0f-76c0-442d-994f-b891b2fda271"
      },
      "execution_count": 291,
      "outputs": [
        {
          "output_type": "execute_result",
          "data": {
            "text/plain": [
              "[[960, 2000], [2000, 974], [3020, 2000], [2000, 3034]]"
            ]
          },
          "metadata": {},
          "execution_count": 291
        }
      ]
    },
    {
      "cell_type": "code",
      "source": [
        "OFF"
      ],
      "metadata": {
        "colab": {
          "base_uri": "https://localhost:8080/"
        },
        "id": "rNNavkPgJcGT",
        "outputId": "427e3fc4-0d69-4f0c-8d8d-59550e76d0fa"
      },
      "execution_count": 292,
      "outputs": [
        {
          "output_type": "execute_result",
          "data": {
            "text/plain": [
              "[-1, 1, -1, 1]"
            ]
          },
          "metadata": {},
          "execution_count": 292
        }
      ]
    },
    {
      "cell_type": "code",
      "source": [
        "x_center"
      ],
      "metadata": {
        "colab": {
          "base_uri": "https://localhost:8080/"
        },
        "id": "bEArGZRbNpMa",
        "outputId": "190752ee-e734-4309-bd82-b98edb6a7dfd"
      },
      "execution_count": 293,
      "outputs": [
        {
          "output_type": "execute_result",
          "data": {
            "text/plain": [
              "[[1989.9588235294113],\n",
              " [1990.0000000000005],\n",
              " [1990.0403846153845],\n",
              " [1990.0000000000007]]"
            ]
          },
          "metadata": {},
          "execution_count": 293
        }
      ]
    },
    {
      "cell_type": "code",
      "source": [
        "y_center"
      ],
      "metadata": {
        "colab": {
          "base_uri": "https://localhost:8080/"
        },
        "id": "oU9z5OciO-ik",
        "outputId": "4edbd0e7-0a9f-4ed7-d1f3-bf5d9192e19c"
      },
      "execution_count": 294,
      "outputs": [
        {
          "output_type": "execute_result",
          "data": {
            "text/plain": [
              "[[2003.9999999999993],\n",
              " [2004.040618955512],\n",
              " [2003.9999999999998],\n",
              " [2003.9590643274844]]"
            ]
          },
          "metadata": {},
          "execution_count": 294
        }
      ]
    },
    {
      "cell_type": "code",
      "source": [
        "def lamb_dist(x,y,lambd,d):\n",
        "  dist=abs((((x-lambd[0])**2 + (y-lambd[1])**2) ** 0.5) - (d/2))\n",
        "  return dist"
      ],
      "metadata": {
        "id": "P2WWGag2Qw05"
      },
      "execution_count": 295,
      "outputs": []
    },
    {
      "cell_type": "code",
      "source": [
        "for i in range(0,len(OFF)):\n",
        "  dis=lamb_dist(x_center[i][0],y_center[i][0],LAM[i],DIA[i][0])\n",
        "  if OFF[i]==1:\n",
        "    DIA[i][0]=DIA[i][0]+dis\n",
        "  else:\n",
        "    DIA[i][0]=DIA[i][0]-dis\n"
      ],
      "metadata": {
        "id": "XWWlXG9zPfea"
      },
      "execution_count": 296,
      "outputs": []
    },
    {
      "cell_type": "code",
      "source": [
        "DIA"
      ],
      "metadata": {
        "colab": {
          "base_uri": "https://localhost:8080/"
        },
        "id": "02p5WwFOS-Gq",
        "outputId": "5bc0d74a-5c43-4ab8-e270-a20a433fac01"
      },
      "execution_count": 297,
      "outputs": [
        {
          "output_type": "execute_result",
          "data": {
            "text/plain": [
              "[[2060.0155339220346],\n",
              " [2060.097085091047],\n",
              " [2060.0155339220382],\n",
              " [2060.097085091048]]"
            ]
          },
          "metadata": {},
          "execution_count": 297
        }
      ]
    },
    {
      "cell_type": "markdown",
      "source": [
        "# Gaussian Distribution"
      ],
      "metadata": {
        "id": "lJtM_k2KVWpw"
      }
    },
    {
      "cell_type": "code",
      "source": [
        "from scipy.stats import norm\n",
        "import statistics"
      ],
      "metadata": {
        "id": "VqbtHF9uZo0Y"
      },
      "execution_count": 298,
      "outputs": []
    },
    {
      "cell_type": "code",
      "source": [
        "x_axis=[]\n",
        "for i in range(0,len(DIA)):\n",
        "  x_axis.append(DIA[i][0])"
      ],
      "metadata": {
        "id": "evrBKUIWajTH"
      },
      "execution_count": 299,
      "outputs": []
    },
    {
      "cell_type": "code",
      "source": [
        "mu = statistics.mean(x_axis) \n",
        "sigma = statistics.stdev(x_axis)\n",
        "x1 = min(x_axis)\n",
        "x2 = max(x_axis)"
      ],
      "metadata": {
        "id": "X1oghLxAZr_f"
      },
      "execution_count": 300,
      "outputs": []
    },
    {
      "cell_type": "code",
      "source": [
        "# calculate the z-transform\n",
        "z1 = ( x1 - mu ) / sigma\n",
        "z2 = ( x2 - mu ) / sigma"
      ],
      "metadata": {
        "id": "KFWt9WtmZ5nf"
      },
      "execution_count": 301,
      "outputs": []
    },
    {
      "cell_type": "code",
      "source": [
        "x = np.arange(z1, z2, 0.001) # range of x in spec\n",
        "x_all = np.arange(-10, 10, 0.001) # entire range of x, both in and out of spec\n",
        "# mean = 0, stddev = 1, since Z-transform was calculated\n",
        "y = norm.pdf(x,0,1)\n",
        "y2 = norm.pdf(x_all,0,1)"
      ],
      "metadata": {
        "id": "E6hxCTRLaA4o"
      },
      "execution_count": 302,
      "outputs": []
    },
    {
      "cell_type": "code",
      "source": [
        "# build the plot\n",
        "fig, ax = plt.subplots(figsize=(9,6))\n",
        "plt.style.use('fivethirtyeight')\n",
        "ax.plot(x_all,y2)\n",
        "\n",
        "ax.fill_between(x,y,0, alpha=0.3, color='b')\n",
        "ax.fill_between(x_all,y2,0, alpha=0.1)\n",
        "ax.set_xlim([-4,4])\n",
        "ax.set_xlabel('# of Standard Deviations Outside the Mean')\n",
        "ax.set_yticklabels([])\n",
        "ax.set_title('Normal Gaussian Curve')\n",
        "\n",
        "plt.savefig('normal_curve.png', dpi=72, bbox_inches='tight')\n",
        "plt.show()"
      ],
      "metadata": {
        "colab": {
          "base_uri": "https://localhost:8080/",
          "height": 441
        },
        "id": "rZKMd6ADaOaP",
        "outputId": "4545183b-e9d8-4327-d212-a5dd40b17bbb"
      },
      "execution_count": 303,
      "outputs": [
        {
          "output_type": "display_data",
          "data": {
            "image/png": "[encoded data removed]",
            "text/plain": [
              "<Figure size 648x432 with 1 Axes>"
            ]
          },
          "metadata": {}
        }
      ]
    },
    {
      "cell_type": "code",
      "source": [
        "sigma"
      ],
      "metadata": {
        "colab": {
          "base_uri": "https://localhost:8080/"
        },
        "id": "XRYR8CXxblJn",
        "outputId": "8c4d9dae-1e1e-4cfe-e347-d8a902917ed4"
      },
      "execution_count": 304,
      "outputs": [
        {
          "output_type": "execute_result",
          "data": {
            "text/plain": [
              "0.04708358938132388"
            ]
          },
          "metadata": {},
          "execution_count": 304
        }
      ]
    },
    {
      "cell_type": "code",
      "source": [
        "print(mu)"
      ],
      "metadata": {
        "colab": {
          "base_uri": "https://localhost:8080/"
        },
        "id": "4FfT6NxJa40_",
        "outputId": "a82dbe46-75d1-4525-c791-8dce5c3bfddc"
      },
      "execution_count": 305,
      "outputs": [
        {
          "output_type": "stream",
          "name": "stdout",
          "text": [
            "2060.0563095065418\n"
          ]
        }
      ]
    }
  ]
}