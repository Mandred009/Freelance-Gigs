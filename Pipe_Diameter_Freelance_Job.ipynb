{
  "nbformat": 4,
  "nbformat_minor": 0,
  "metadata": {
    "colab": {
      "name": "Pipe Diameter Freelance Job",
      "provenance": [],
      "collapsed_sections": [],
      "authorship_tag": "ABX9TyMUAroadoJCfLVBAIm7kywK",
      "include_colab_link": true
    },
    "kernelspec": {
      "name": "python3",
      "display_name": "Python 3"
    },
    "language_info": {
      "name": "python"
    }
  },
  "cells": [
    {
      "cell_type": "markdown",
      "metadata": {
        "id": "view-in-github",
        "colab_type": "text"
      },
      "source": [
        "<a href=\"https://colab.research.google.com/github/Mandred009/Freelance-Gigs/blob/main/Pipe_Diameter_Freelance_Job.ipynb\" target=\"_parent\"><img src=\"https://colab.research.google.com/assets/colab-badge.svg\" alt=\"Open In Colab\"/></a>"
      ]
    },
    {
      "cell_type": "code",
      "source": [
        "import numpy as np\n",
        "import matplotlib.pyplot as plt"
      ],
      "metadata": {
        "id": "G8UYS3Kemdbp"
      },
      "execution_count": 21,
      "outputs": []
    },
    {
      "cell_type": "code",
      "source": [
        "P=5.2\n",
        "Q=7\n",
        "R=6\n",
        "S=6"
      ],
      "metadata": {
        "id": "-9m30hLuXICr"
      },
      "execution_count": 22,
      "outputs": []
    },
    {
      "cell_type": "code",
      "source": [
        "Le=10\n",
        "B=10"
      ],
      "metadata": {
        "id": "ozejpft8XUbf"
      },
      "execution_count": 23,
      "outputs": []
    },
    {
      "cell_type": "code",
      "execution_count": 24,
      "metadata": {
        "colab": {
          "base_uri": "https://localhost:8080/"
        },
        "id": "IqCUes6ZfNHt",
        "outputId": "0103080c-5461-4db7-faf4-c267eb03d63c"
      },
      "outputs": [
        {
          "output_type": "stream",
          "name": "stdout",
          "text": [
            "Enter the total set of values1\n",
            "Enter Values of alpha 2,0\n",
            "Enter Values of beta 3,0\n",
            "Enter Values of delta 4,0\n",
            "Enter Values of gamma 5,0\n",
            "[[[2.0, 0.0], [3.0, 0.0], [4.0, 0.0], [5.0, 0.0]]]\n"
          ]
        }
      ],
      "source": [
        "N=int(input('Enter the total set of values'))\n",
        "L=[]\n",
        "for i in range(0,N):\n",
        "  a=input(\"Enter Values of alpha \")\n",
        "  a = list(float(x) for x in a.split(\",\"))\n",
        "  b=input(\"Enter Values of beta \")\n",
        "  b = list(float(x) for x in b.split(\",\"))\n",
        "  d=input(\"Enter Values of delta \")\n",
        "  d = list(float(x) for x in d.split(\",\"))\n",
        "  y=input(\"Enter Values of gamma \")\n",
        "  y = list(float(x) for x in y.split(\",\"))\n",
        "  L.append([a,b,d,y])\n",
        "print(L)"
      ]
    },
    {
      "cell_type": "code",
      "source": [
        "for i in range(0,N):\n",
        "  L[i][0][1]=L[i][0][0]\n",
        "  L[i][0][0]=P\n",
        "  L[i][1][0]=Le-L[i][1][0]\n",
        "  L[i][1][1]=Q\n",
        "  L[i][2][1]=B-L[i][2][0]\n",
        "  L[i][2][0]=R\n",
        "  L[i][3][0]=L[i][3][0]\n",
        "  L[i][3][1]=S\n"
      ],
      "metadata": {
        "id": "N_QsyY5cXkHy"
      },
      "execution_count": 25,
      "outputs": []
    },
    {
      "cell_type": "code",
      "source": [
        "L"
      ],
      "metadata": {
        "colab": {
          "base_uri": "https://localhost:8080/"
        },
        "id": "kv9t_OE3DsIt",
        "outputId": "56d7b9d8-14ce-4b0a-900b-2aa2e2fc3bf8"
      },
      "execution_count": 44,
      "outputs": [
        {
          "output_type": "execute_result",
          "data": {
            "text/plain": [
              "[[[5.2, 2.0], [7.0, 7], [6, 6.0], [5.0, 6]]]"
            ]
          },
          "metadata": {},
          "execution_count": 44
        }
      ]
    },
    {
      "cell_type": "code",
      "source": [
        "def D1(abdy):\n",
        "   LL,DL=[],[]\n",
        "   x1,y1=abdy[0][0],abdy[0][1]\n",
        "   x2,y2=abdy[1][0],abdy[1][1]\n",
        "   x3,y3=abdy[2][0],abdy[2][1]\n",
        "   A=np.array([[2*x1,2*y1,1],[2*x2,2*y2,1],[2*x3,2*y3,1]])\n",
        "   B=np.array([[-(x1**2)-(y1**2)],[-(x2**2)-(y2**2)],[-(x3**2)-(y3**2)]])\n",
        "   invA=np.linalg.inv(A)\n",
        "   X=np.matmul(invA,B)\n",
        "   g,f,c=X[0],X[1],X[2]\n",
        "   dia=2*((g**2 + f**2 -c)**0.5)\n",
        "   x,y=abdy[3][0],abdy[3][1]\n",
        "   if (x**2 + y**2 + 2*g*x + 2*f*y + c)>=0:\n",
        "     offset=1\n",
        "   else:\n",
        "     offset=-1\n",
        "   return dia,offset,g,f\n",
        "def D2(abdy):\n",
        "  LL,DL=[],[]\n",
        "  x1,y1=abdy[1][0],abdy[1][1]\n",
        "  x2,y2=abdy[2][0],abdy[2][1]\n",
        "  x3,y3=abdy[3][0],abdy[3][1]\n",
        "  A=np.array([[2*x1,2*y1,1],[2*x2,2*y2,1],[2*x3,2*y3,1]])\n",
        "  B=np.array([[-(x1**2)-(y1**2)],[-(x2**2)-(y2**2)],[-(x3**2)-(y3**2)]])\n",
        "  invA=np.linalg.inv(A)\n",
        "  X=np.matmul(invA,B)\n",
        "  g,f,c=X[0],X[1],X[2]\n",
        "  dia=2*((g**2 + f**2 -c)**0.5)\n",
        "  x,y=abdy[0][0],abdy[0][1]\n",
        "  if (x**2 + y**2 + 2*g*x + 2*f*y + c)>=0:\n",
        "    offset=1\n",
        "  else:\n",
        "    offset=-1\n",
        "  return dia,offset,g,f\n",
        "def D3(abdy):\n",
        "  LL,DL=[],[]\n",
        "  x1,y1=abdy[2][0],abdy[2][1]\n",
        "  x2,y2=abdy[3][0],abdy[3][1]\n",
        "  x3,y3=abdy[0][0],abdy[0][1]\n",
        "  A=np.array([[2*x1,2*y1,1],[2*x2,2*y2,1],[2*x3,2*y3,1]])\n",
        "  B=np.array([[-(x1**2)-(y1**2)],[-(x2**2)-(y2**2)],[-(x3**2)-(y3**2)]])\n",
        "  invA=np.linalg.inv(A)\n",
        "  X=np.matmul(invA,B)\n",
        "  g,f,c=X[0],X[1],X[2]\n",
        "  dia=2*((g**2 + f**2 -c)**0.5)\n",
        "  x,y=abdy[1][0],abdy[1][1]\n",
        "  if (x**2 + y**2 + 2*g*x + 2*f*y + c)>=0:\n",
        "    offset=1\n",
        "  else:\n",
        "    offset=-1\n",
        "  return dia,offset,g,f\n",
        "def D4(abdy):\n",
        "  LL,DL=[],[]\n",
        "  x1,y1=abdy[3][0],abdy[3][1]\n",
        "  x2,y2=abdy[0][0],abdy[0][1]\n",
        "  x3,y3=abdy[1][0],abdy[1][1]\n",
        "  A=np.array([[2*x1,2*y1,1],[2*x2,2*y2,1],[2*x3,2*y3,1]])\n",
        "  B=np.array([[-(x1**2)-(y1**2)],[-(x2**2)-(y2**2)],[-(x3**2)-(y3**2)]])\n",
        "  invA=np.linalg.inv(A)\n",
        "  X=np.matmul(invA,B)\n",
        "  g,f,c=X[0],X[1],X[2]\n",
        "  dia=2*((g**2 + f**2 -c)**0.5)\n",
        "  x,y=abdy[2][0],abdy[2][1]\n",
        "  if (x**2 + y**2 + 2*g*x + 2*f*y + c)>=0:\n",
        "    offset=1\n",
        "  else:\n",
        "    offset=-1\n",
        "  return dia,offset,g,f"
      ],
      "metadata": {
        "id": "oNFryOWOlN0h"
      },
      "execution_count": 26,
      "outputs": []
    },
    {
      "cell_type": "code",
      "source": [
        "DIA=[]\n",
        "LAM=[]\n",
        "OFF=[]\n",
        "x_center=[]\n",
        "y_center=[]\n",
        "for i in range(0,len(L)):\n",
        "  d1,off1,x1,y1=D1(L[i])[0],D1(L[i])[1],D1(L[i])[2],D1(L[i])[3]\n",
        "  d2,off2,x2,y2=D2(L[i])[0],D2(L[i])[1],D2(L[i])[2],D2(L[i])[3]\n",
        "  d3,off3,x3,y3=D3(L[i])[0],D3(L[i])[1],D3(L[i])[2],D3(L[i])[3]\n",
        "  d4,off4,x4,y4=D4(L[i])[0],D4(L[i])[1],D4(L[i])[2],D4(L[i])[3]\n",
        "  DIA.append(list(d1))\n",
        "  DIA.append(list(d2))\n",
        "  DIA.append(list(d3))\n",
        "  DIA.append(list(d4))\n",
        "  OFF.append(off1)\n",
        "  OFF.append(off2)\n",
        "  OFF.append(off3)\n",
        "  OFF.append(off4)\n",
        "  x_center.append(list(-x1))\n",
        "  x_center.append(list(-x2))\n",
        "  x_center.append(list(-x3))\n",
        "  x_center.append(list(-x4))\n",
        "  y_center.append(list(-y1))\n",
        "  y_center.append(list(-y2))\n",
        "  y_center.append(list(-y3))\n",
        "  y_center.append(list(-y4))\n",
        "  LAM.append(L[i][3])\n",
        "  LAM.append(L[i][0])\n",
        "  LAM.append(L[i][1])\n",
        "  LAM.append(L[i][2])\n",
        "#"
      ],
      "metadata": {
        "id": "VIRAX7tblWU5"
      },
      "execution_count": 27,
      "outputs": []
    },
    {
      "cell_type": "code",
      "source": [
        "DIA"
      ],
      "metadata": {
        "colab": {
          "base_uri": "https://localhost:8080/"
        },
        "id": "phSKFQp7HwhZ",
        "outputId": "adb0ff31-e58b-46b1-afcb-c8fd7483571e"
      },
      "execution_count": 28,
      "outputs": [
        {
          "output_type": "execute_result",
          "data": {
            "text/plain": [
              "[[9.5801878895979],\n",
              " [3.1622776601682805],\n",
              " [4.084311447478055],\n",
              " [5.803709659008436]]"
            ]
          },
          "metadata": {},
          "execution_count": 28
        }
      ]
    },
    {
      "cell_type": "code",
      "source": [
        "LAM"
      ],
      "metadata": {
        "colab": {
          "base_uri": "https://localhost:8080/"
        },
        "id": "ZN0XRc7_JWkz",
        "outputId": "1329349a-8e31-43c0-d8d8-601be0d2da97"
      },
      "execution_count": 29,
      "outputs": [
        {
          "output_type": "execute_result",
          "data": {
            "text/plain": [
              "[[5.0, 6], [5.2, 2.0], [7.0, 7], [6, 6.0]]"
            ]
          },
          "metadata": {},
          "execution_count": 29
        }
      ]
    },
    {
      "cell_type": "code",
      "source": [
        "OFF"
      ],
      "metadata": {
        "colab": {
          "base_uri": "https://localhost:8080/"
        },
        "id": "rNNavkPgJcGT",
        "outputId": "f46c6ae0-84cc-4a23-a23c-b37530cf2145"
      },
      "execution_count": 30,
      "outputs": [
        {
          "output_type": "execute_result",
          "data": {
            "text/plain": [
              "[1, 1, 1, -1]"
            ]
          },
          "metadata": {},
          "execution_count": 30
        }
      ]
    },
    {
      "cell_type": "code",
      "source": [
        "x_center"
      ],
      "metadata": {
        "colab": {
          "base_uri": "https://localhost:8080/"
        },
        "id": "bEArGZRbNpMa",
        "outputId": "edf7229d-07d2-4e86-a735-c5b19c08e53d"
      },
      "execution_count": 31,
      "outputs": [
        {
          "output_type": "execute_result",
          "data": {
            "text/plain": [
              "[[9.849999999999973], [5.5], [5.499999999999997], [7.197560975609754]]"
            ]
          },
          "metadata": {},
          "execution_count": 31
        }
      ]
    },
    {
      "cell_type": "code",
      "source": [
        "y_center"
      ],
      "metadata": {
        "colab": {
          "base_uri": "https://localhost:8080/"
        },
        "id": "oU9z5OciO-ik",
        "outputId": "d2329c32-2f0e-4b70-e63e-5c5e09a8f858"
      },
      "execution_count": 32,
      "outputs": [
        {
          "output_type": "execute_result",
          "data": {
            "text/plain": [
              "[[3.1500000000000057],\n",
              " [7.499999999999986],\n",
              " [4.020000000000001],\n",
              " [4.104878048780489]]"
            ]
          },
          "metadata": {},
          "execution_count": 32
        }
      ]
    },
    {
      "cell_type": "code",
      "source": [
        "def lamb_dist(x,y,lambd,d):\n",
        "  dist=abs((((x-lambd[0])**2 + (y-lambd[1])**2) ** 0.5) - (d/2))\n",
        "  return dist"
      ],
      "metadata": {
        "id": "P2WWGag2Qw05"
      },
      "execution_count": 33,
      "outputs": []
    },
    {
      "cell_type": "code",
      "source": [
        "for i in range(0,len(OFF)):\n",
        "  dis=lamb_dist(x_center[i][0],y_center[i][0],LAM[i],DIA[i][0])\n",
        "  if OFF[i]==1:\n",
        "    DIA[i][0]=DIA[i][0]+dis\n",
        "  else:\n",
        "    DIA[i][0]=DIA[i][0]-dis\n"
      ],
      "metadata": {
        "id": "XWWlXG9zPfea"
      },
      "execution_count": 34,
      "outputs": []
    },
    {
      "cell_type": "code",
      "source": [
        "DIA"
      ],
      "metadata": {
        "colab": {
          "base_uri": "https://localhost:8080/"
        },
        "id": "02p5WwFOS-Gq",
        "outputId": "24f8a2a4-f935-4567-86b9-f190bfa5a614"
      },
      "execution_count": 35,
      "outputs": [
        {
          "output_type": "execute_result",
          "data": {
            "text/plain": [
              "[[10.41548282024567],\n",
              " [7.089314571652291],\n",
              " [5.3783811357878],\n",
              " [5.143648642569423]]"
            ]
          },
          "metadata": {},
          "execution_count": 35
        }
      ]
    },
    {
      "cell_type": "markdown",
      "source": [
        "# Gaussian Distribution"
      ],
      "metadata": {
        "id": "lJtM_k2KVWpw"
      }
    },
    {
      "cell_type": "code",
      "source": [
        "from scipy.stats import norm\n",
        "import statistics"
      ],
      "metadata": {
        "id": "VqbtHF9uZo0Y"
      },
      "execution_count": 36,
      "outputs": []
    },
    {
      "cell_type": "code",
      "source": [
        "x_axis=[]\n",
        "for i in range(0,len(DIA)):\n",
        "  x_axis.append(DIA[i][0])"
      ],
      "metadata": {
        "id": "evrBKUIWajTH"
      },
      "execution_count": 37,
      "outputs": []
    },
    {
      "cell_type": "code",
      "source": [
        "mu = statistics.mean(x_axis) \n",
        "sigma = statistics.stdev(x_axis)\n",
        "x1 = min(x_axis)\n",
        "x2 = max(x_axis)"
      ],
      "metadata": {
        "id": "X1oghLxAZr_f"
      },
      "execution_count": 38,
      "outputs": []
    },
    {
      "cell_type": "code",
      "source": [
        "# calculate the z-transform\n",
        "z1 = ( x1 - mu ) / sigma\n",
        "z2 = ( x2 - mu ) / sigma"
      ],
      "metadata": {
        "id": "KFWt9WtmZ5nf"
      },
      "execution_count": 39,
      "outputs": []
    },
    {
      "cell_type": "code",
      "source": [
        "x = np.arange(z1, z2, 0.001) # range of x in spec\n",
        "x_all = np.arange(-10, 10, 0.001) # entire range of x, both in and out of spec\n",
        "# mean = 0, stddev = 1, since Z-transform was calculated\n",
        "y = norm.pdf(x,0,1)\n",
        "y2 = norm.pdf(x_all,0,1)"
      ],
      "metadata": {
        "id": "E6hxCTRLaA4o"
      },
      "execution_count": 40,
      "outputs": []
    },
    {
      "cell_type": "code",
      "source": [
        "# build the plot\n",
        "fig, ax = plt.subplots(figsize=(9,6))\n",
        "plt.style.use('fivethirtyeight')\n",
        "ax.plot(x_all,y2)\n",
        "\n",
        "ax.fill_between(x,y,0, alpha=0.3, color='b')\n",
        "ax.fill_between(x_all,y2,0, alpha=0.1)\n",
        "ax.set_xlim([-4,4])\n",
        "ax.set_xlabel('# of Standard Deviations Outside the Mean')\n",
        "ax.set_yticklabels([])\n",
        "ax.set_title('Normal Gaussian Curve')\n",
        "\n",
        "plt.savefig('normal_curve.png', dpi=72, bbox_inches='tight')\n",
        "plt.show()"
      ],
      "metadata": {
        "colab": {
          "base_uri": "https://localhost:8080/",
          "height": 409
        },
        "id": "rZKMd6ADaOaP",
        "outputId": "39e2930e-c603-454a-d012-de93449002d5"
      },
      "execution_count": 41,
      "outputs": [
        {
          "output_type": "display_data",
          "data": {
            "image/png": "[encoded data removed]",
            "text/plain": [
              "<Figure size 648x432 with 1 Axes>"
            ]
          },
          "metadata": {
            "needs_background": "light"
          }
        }
      ]
    },
    {
      "cell_type": "code",
      "source": [
        "sigma"
      ],
      "metadata": {
        "colab": {
          "base_uri": "https://localhost:8080/"
        },
        "id": "XRYR8CXxblJn",
        "outputId": "f347c826-d50e-4a67-d037-8bf398e4d3ec"
      },
      "execution_count": 42,
      "outputs": [
        {
          "output_type": "execute_result",
          "data": {
            "text/plain": [
              "2.432351959650027"
            ]
          },
          "metadata": {},
          "execution_count": 42
        }
      ]
    },
    {
      "cell_type": "code",
      "source": [
        "print(mu)"
      ],
      "metadata": {
        "colab": {
          "base_uri": "https://localhost:8080/"
        },
        "id": "4FfT6NxJa40_",
        "outputId": "8791e990-7162-4ebf-8f51-fe9704d0a61d"
      },
      "execution_count": 43,
      "outputs": [
        {
          "output_type": "stream",
          "name": "stdout",
          "text": [
            "7.006706792563795\n"
          ]
        }
      ]
    }
  ]
}